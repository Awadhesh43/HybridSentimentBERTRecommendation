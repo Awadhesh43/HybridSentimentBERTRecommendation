{
 "cells": [
  {
   "cell_type": "markdown",
   "metadata": {
    "id": "NnLYrMbl0ON_"
   },
   "source": [
    "# HYBRID RECOMMENDATION SYSTEM USING BERT AND NEURAL NETWORKS FOR E-COMMERCE"
   ]
  },
  {
   "cell_type": "code",
   "execution_count": null,
   "metadata": {
    "id": "OTlSQhNP0OOE"
   },
   "outputs": [],
   "source": [
    "# Import python libraries\n",
    "import os\n",
    "import numpy as np\n",
    "from numpy import *\n",
    "import pandas as pd\n",
    "import re\n",
    "import datetime as dt\n",
    "# Import Visualization libraries\n",
    "import seaborn as sns\n",
    "import matplotlib.pyplot as plt\n",
    "# Import scikit learn libraries\n",
    "from sklearn import metrics\n",
    "from sklearn.preprocessing import MinMaxScaler, StandardScaler\n",
    "from sklearn.model_selection import train_test_split\n",
    "# Import Cosine and Adjusted Cosine similarity\n",
    "from sklearn.metrics.pairwise import pairwise_distances\n",
    "from sklearn.metrics.pairwise import cosine_similarity\n",
    "import tensorflow as tf\n",
    "# Import pickle to save and load the model\n",
    "import pickle\n",
    "# Ignore warnings\n",
    "import warnings\n",
    "warnings.filterwarnings(\"ignore\")"
   ]
  },
  {
   "cell_type": "markdown",
   "metadata": {
    "id": "RN4ttRtQ0OOG"
   },
   "source": [
    "### Data Sourcing"
   ]
  },
  {
   "cell_type": "markdown",
   "metadata": {
    "id": "MWxl6kxm0OOH"
   },
   "source": [
    "Load the data from the input file"
   ]
  },
  {
   "cell_type": "code",
   "execution_count": null,
   "metadata": {
    "id": "MGEomjNe0OOH"
   },
   "outputs": [],
   "source": [
    "DATA_DIRECTORY = \"/data-direcrtory-path/\"\n",
    "dataFileName = DATA_DIRECTORY + \"Amazon_Fashion.jsonl\"\n",
    "df = pd.read_json(dataFileName, lines=True)"
   ]
  },
  {
   "cell_type": "markdown",
   "metadata": {
    "id": "ajX_I07V0OOH"
   },
   "source": [
    "Print shape and first 5 rows"
   ]
  },
  {
   "cell_type": "code",
   "execution_count": null,
   "metadata": {
    "colab": {
     "base_uri": "https://localhost:8080/",
     "height": 661
    },
    "executionInfo": {
     "elapsed": 63,
     "status": "ok",
     "timestamp": 1735045643789,
     "user": {
      "displayName": "Awadhesh Kumar",
      "userId": "09062678670688019649"
     },
     "user_tz": -330
    },
    "id": "fRYut7V_0OOI",
    "outputId": "4800447e-28b1-4770-ec23-e254b05a58dc"
   },
   "outputs": [
    {
     "name": "stdout",
     "output_type": "stream",
     "text": [
      "(2500939, 10)\n"
     ]
    },
    {
     "data": {
      "application/vnd.google.colaboratory.intrinsic+json": {
       "type": "dataframe",
       "variable_name": "df"
      },
      "text/html": [
       "\n",
       "  <div id=\"df-bd03e0c2-cc24-457b-ae78-c2cad87e71c6\" class=\"colab-df-container\">\n",
       "    <div>\n",
       "<style scoped>\n",
       "    .dataframe tbody tr th:only-of-type {\n",
       "        vertical-align: middle;\n",
       "    }\n",
       "\n",
       "    .dataframe tbody tr th {\n",
       "        vertical-align: top;\n",
       "    }\n",
       "\n",
       "    .dataframe thead th {\n",
       "        text-align: right;\n",
       "    }\n",
       "</style>\n",
       "<table border=\"1\" class=\"dataframe\">\n",
       "  <thead>\n",
       "    <tr style=\"text-align: right;\">\n",
       "      <th></th>\n",
       "      <th>rating</th>\n",
       "      <th>title</th>\n",
       "      <th>text</th>\n",
       "      <th>images</th>\n",
       "      <th>asin</th>\n",
       "      <th>parent_asin</th>\n",
       "      <th>user_id</th>\n",
       "      <th>timestamp</th>\n",
       "      <th>helpful_vote</th>\n",
       "      <th>verified_purchase</th>\n",
       "    </tr>\n",
       "  </thead>\n",
       "  <tbody>\n",
       "    <tr>\n",
       "      <th>0</th>\n",
       "      <td>5</td>\n",
       "      <td>Pretty locket</td>\n",
       "      <td>I think this locket is really pretty. The insi...</td>\n",
       "      <td>[]</td>\n",
       "      <td>B00LOPVX74</td>\n",
       "      <td>B00LOPVX74</td>\n",
       "      <td>AGBFYI2DDIKXC5Y4FARTYDTQBMFQ</td>\n",
       "      <td>2020-01-09 00:06:34.489</td>\n",
       "      <td>3</td>\n",
       "      <td>True</td>\n",
       "    </tr>\n",
       "    <tr>\n",
       "      <th>1</th>\n",
       "      <td>5</td>\n",
       "      <td>A</td>\n",
       "      <td>Great</td>\n",
       "      <td>[]</td>\n",
       "      <td>B07B4JXK8D</td>\n",
       "      <td>B07B4JXK8D</td>\n",
       "      <td>AFQLNQNQYFWQZPJQZS6V3NZU4QBQ</td>\n",
       "      <td>2020-12-20 01:04:06.701</td>\n",
       "      <td>0</td>\n",
       "      <td>True</td>\n",
       "    </tr>\n",
       "    <tr>\n",
       "      <th>2</th>\n",
       "      <td>2</td>\n",
       "      <td>Two Stars</td>\n",
       "      <td>One of the stones fell out within the first 2 ...</td>\n",
       "      <td>[]</td>\n",
       "      <td>B007ZSEQ4Q</td>\n",
       "      <td>B007ZSEQ4Q</td>\n",
       "      <td>AHITBJSS7KYUBVZPX7M2WJCOIVKQ</td>\n",
       "      <td>2015-05-23 01:33:48.000</td>\n",
       "      <td>3</td>\n",
       "      <td>True</td>\n",
       "    </tr>\n",
       "    <tr>\n",
       "      <th>3</th>\n",
       "      <td>1</td>\n",
       "      <td>Won’t buy again</td>\n",
       "      <td>Crappy socks. Money wasted. Bought to wear wit...</td>\n",
       "      <td>[]</td>\n",
       "      <td>B07F2BTFS9</td>\n",
       "      <td>B07F2BTFS9</td>\n",
       "      <td>AFVNEEPDEIH5SPUN5BWC6NKL3WNQ</td>\n",
       "      <td>2018-12-31 20:57:27.095</td>\n",
       "      <td>2</td>\n",
       "      <td>True</td>\n",
       "    </tr>\n",
       "    <tr>\n",
       "      <th>4</th>\n",
       "      <td>5</td>\n",
       "      <td>I LOVE these glasses</td>\n",
       "      <td>I LOVE these glasses!  They fit perfectly over...</td>\n",
       "      <td>[]</td>\n",
       "      <td>B00PKRFU4O</td>\n",
       "      <td>B00XESJTDE</td>\n",
       "      <td>AHSPLDNW5OOUK2PLH7GXLACFBZNQ</td>\n",
       "      <td>2015-08-13 14:29:26.000</td>\n",
       "      <td>0</td>\n",
       "      <td>True</td>\n",
       "    </tr>\n",
       "  </tbody>\n",
       "</table>\n",
       "</div>\n",
       "    <div class=\"colab-df-buttons\">\n",
       "\n",
       "  <div class=\"colab-df-container\">\n",
       "    <button class=\"colab-df-convert\" onclick=\"convertToInteractive('df-bd03e0c2-cc24-457b-ae78-c2cad87e71c6')\"\n",
       "            title=\"Convert this dataframe to an interactive table.\"\n",
       "            style=\"display:none;\">\n",
       "\n",
       "  <svg xmlns=\"http://www.w3.org/2000/svg\" height=\"24px\" viewBox=\"0 -960 960 960\">\n",
       "    <path d=\"M120-120v-720h720v720H120Zm60-500h600v-160H180v160Zm220 220h160v-160H400v160Zm0 220h160v-160H400v160ZM180-400h160v-160H180v160Zm440 0h160v-160H620v160ZM180-180h160v-160H180v160Zm440 0h160v-160H620v160Z\"/>\n",
       "  </svg>\n",
       "    </button>\n",
       "\n",
       "  <style>\n",
       "    .colab-df-container {\n",
       "      display:flex;\n",
       "      gap: 12px;\n",
       "    }\n",
       "\n",
       "    .colab-df-convert {\n",
       "      background-color: #E8F0FE;\n",
       "      border: none;\n",
       "      border-radius: 50%;\n",
       "      cursor: pointer;\n",
       "      display: none;\n",
       "      fill: #1967D2;\n",
       "      height: 32px;\n",
       "      padding: 0 0 0 0;\n",
       "      width: 32px;\n",
       "    }\n",
       "\n",
       "    .colab-df-convert:hover {\n",
       "      background-color: #E2EBFA;\n",
       "      box-shadow: 0px 1px 2px rgba(60, 64, 67, 0.3), 0px 1px 3px 1px rgba(60, 64, 67, 0.15);\n",
       "      fill: #174EA6;\n",
       "    }\n",
       "\n",
       "    .colab-df-buttons div {\n",
       "      margin-bottom: 4px;\n",
       "    }\n",
       "\n",
       "    [theme=dark] .colab-df-convert {\n",
       "      background-color: #3B4455;\n",
       "      fill: #D2E3FC;\n",
       "    }\n",
       "\n",
       "    [theme=dark] .colab-df-convert:hover {\n",
       "      background-color: #434B5C;\n",
       "      box-shadow: 0px 1px 3px 1px rgba(0, 0, 0, 0.15);\n",
       "      filter: drop-shadow(0px 1px 2px rgba(0, 0, 0, 0.3));\n",
       "      fill: #FFFFFF;\n",
       "    }\n",
       "  </style>\n",
       "\n",
       "    <script>\n",
       "      const buttonEl =\n",
       "        document.querySelector('#df-bd03e0c2-cc24-457b-ae78-c2cad87e71c6 button.colab-df-convert');\n",
       "      buttonEl.style.display =\n",
       "        google.colab.kernel.accessAllowed ? 'block' : 'none';\n",
       "\n",
       "      async function convertToInteractive(key) {\n",
       "        const element = document.querySelector('#df-bd03e0c2-cc24-457b-ae78-c2cad87e71c6');\n",
       "        const dataTable =\n",
       "          await google.colab.kernel.invokeFunction('convertToInteractive',\n",
       "                                                    [key], {});\n",
       "        if (!dataTable) return;\n",
       "\n",
       "        const docLinkHtml = 'Like what you see? Visit the ' +\n",
       "          '<a target=\"_blank\" href=https://colab.research.google.com/notebooks/data_table.ipynb>data table notebook</a>'\n",
       "          + ' to learn more about interactive tables.';\n",
       "        element.innerHTML = '';\n",
       "        dataTable['output_type'] = 'display_data';\n",
       "        await google.colab.output.renderOutput(dataTable, element);\n",
       "        const docLink = document.createElement('div');\n",
       "        docLink.innerHTML = docLinkHtml;\n",
       "        element.appendChild(docLink);\n",
       "      }\n",
       "    </script>\n",
       "  </div>\n",
       "\n",
       "\n",
       "<div id=\"df-a0e87866-59eb-4076-9599-f220a33d84af\">\n",
       "  <button class=\"colab-df-quickchart\" onclick=\"quickchart('df-a0e87866-59eb-4076-9599-f220a33d84af')\"\n",
       "            title=\"Suggest charts\"\n",
       "            style=\"display:none;\">\n",
       "\n",
       "<svg xmlns=\"http://www.w3.org/2000/svg\" height=\"24px\"viewBox=\"0 0 24 24\"\n",
       "     width=\"24px\">\n",
       "    <g>\n",
       "        <path d=\"M19 3H5c-1.1 0-2 .9-2 2v14c0 1.1.9 2 2 2h14c1.1 0 2-.9 2-2V5c0-1.1-.9-2-2-2zM9 17H7v-7h2v7zm4 0h-2V7h2v10zm4 0h-2v-4h2v4z\"/>\n",
       "    </g>\n",
       "</svg>\n",
       "  </button>\n",
       "\n",
       "<style>\n",
       "  .colab-df-quickchart {\n",
       "      --bg-color: #E8F0FE;\n",
       "      --fill-color: #1967D2;\n",
       "      --hover-bg-color: #E2EBFA;\n",
       "      --hover-fill-color: #174EA6;\n",
       "      --disabled-fill-color: #AAA;\n",
       "      --disabled-bg-color: #DDD;\n",
       "  }\n",
       "\n",
       "  [theme=dark] .colab-df-quickchart {\n",
       "      --bg-color: #3B4455;\n",
       "      --fill-color: #D2E3FC;\n",
       "      --hover-bg-color: #434B5C;\n",
       "      --hover-fill-color: #FFFFFF;\n",
       "      --disabled-bg-color: #3B4455;\n",
       "      --disabled-fill-color: #666;\n",
       "  }\n",
       "\n",
       "  .colab-df-quickchart {\n",
       "    background-color: var(--bg-color);\n",
       "    border: none;\n",
       "    border-radius: 50%;\n",
       "    cursor: pointer;\n",
       "    display: none;\n",
       "    fill: var(--fill-color);\n",
       "    height: 32px;\n",
       "    padding: 0;\n",
       "    width: 32px;\n",
       "  }\n",
       "\n",
       "  .colab-df-quickchart:hover {\n",
       "    background-color: var(--hover-bg-color);\n",
       "    box-shadow: 0 1px 2px rgba(60, 64, 67, 0.3), 0 1px 3px 1px rgba(60, 64, 67, 0.15);\n",
       "    fill: var(--button-hover-fill-color);\n",
       "  }\n",
       "\n",
       "  .colab-df-quickchart-complete:disabled,\n",
       "  .colab-df-quickchart-complete:disabled:hover {\n",
       "    background-color: var(--disabled-bg-color);\n",
       "    fill: var(--disabled-fill-color);\n",
       "    box-shadow: none;\n",
       "  }\n",
       "\n",
       "  .colab-df-spinner {\n",
       "    border: 2px solid var(--fill-color);\n",
       "    border-color: transparent;\n",
       "    border-bottom-color: var(--fill-color);\n",
       "    animation:\n",
       "      spin 1s steps(1) infinite;\n",
       "  }\n",
       "\n",
       "  @keyframes spin {\n",
       "    0% {\n",
       "      border-color: transparent;\n",
       "      border-bottom-color: var(--fill-color);\n",
       "      border-left-color: var(--fill-color);\n",
       "    }\n",
       "    20% {\n",
       "      border-color: transparent;\n",
       "      border-left-color: var(--fill-color);\n",
       "      border-top-color: var(--fill-color);\n",
       "    }\n",
       "    30% {\n",
       "      border-color: transparent;\n",
       "      border-left-color: var(--fill-color);\n",
       "      border-top-color: var(--fill-color);\n",
       "      border-right-color: var(--fill-color);\n",
       "    }\n",
       "    40% {\n",
       "      border-color: transparent;\n",
       "      border-right-color: var(--fill-color);\n",
       "      border-top-color: var(--fill-color);\n",
       "    }\n",
       "    60% {\n",
       "      border-color: transparent;\n",
       "      border-right-color: var(--fill-color);\n",
       "    }\n",
       "    80% {\n",
       "      border-color: transparent;\n",
       "      border-right-color: var(--fill-color);\n",
       "      border-bottom-color: var(--fill-color);\n",
       "    }\n",
       "    90% {\n",
       "      border-color: transparent;\n",
       "      border-bottom-color: var(--fill-color);\n",
       "    }\n",
       "  }\n",
       "</style>\n",
       "\n",
       "  <script>\n",
       "    async function quickchart(key) {\n",
       "      const quickchartButtonEl =\n",
       "        document.querySelector('#' + key + ' button');\n",
       "      quickchartButtonEl.disabled = true;  // To prevent multiple clicks.\n",
       "      quickchartButtonEl.classList.add('colab-df-spinner');\n",
       "      try {\n",
       "        const charts = await google.colab.kernel.invokeFunction(\n",
       "            'suggestCharts', [key], {});\n",
       "      } catch (error) {\n",
       "        console.error('Error during call to suggestCharts:', error);\n",
       "      }\n",
       "      quickchartButtonEl.classList.remove('colab-df-spinner');\n",
       "      quickchartButtonEl.classList.add('colab-df-quickchart-complete');\n",
       "    }\n",
       "    (() => {\n",
       "      let quickchartButtonEl =\n",
       "        document.querySelector('#df-a0e87866-59eb-4076-9599-f220a33d84af button');\n",
       "      quickchartButtonEl.style.display =\n",
       "        google.colab.kernel.accessAllowed ? 'block' : 'none';\n",
       "    })();\n",
       "  </script>\n",
       "</div>\n",
       "\n",
       "    </div>\n",
       "  </div>\n"
      ],
      "text/plain": [
       "   rating                 title  \\\n",
       "0       5         Pretty locket   \n",
       "1       5                     A   \n",
       "2       2             Two Stars   \n",
       "3       1       Won’t buy again   \n",
       "4       5  I LOVE these glasses   \n",
       "\n",
       "                                                text images        asin  \\\n",
       "0  I think this locket is really pretty. The insi...     []  B00LOPVX74   \n",
       "1                                              Great     []  B07B4JXK8D   \n",
       "2  One of the stones fell out within the first 2 ...     []  B007ZSEQ4Q   \n",
       "3  Crappy socks. Money wasted. Bought to wear wit...     []  B07F2BTFS9   \n",
       "4  I LOVE these glasses!  They fit perfectly over...     []  B00PKRFU4O   \n",
       "\n",
       "  parent_asin                       user_id               timestamp  \\\n",
       "0  B00LOPVX74  AGBFYI2DDIKXC5Y4FARTYDTQBMFQ 2020-01-09 00:06:34.489   \n",
       "1  B07B4JXK8D  AFQLNQNQYFWQZPJQZS6V3NZU4QBQ 2020-12-20 01:04:06.701   \n",
       "2  B007ZSEQ4Q  AHITBJSS7KYUBVZPX7M2WJCOIVKQ 2015-05-23 01:33:48.000   \n",
       "3  B07F2BTFS9  AFVNEEPDEIH5SPUN5BWC6NKL3WNQ 2018-12-31 20:57:27.095   \n",
       "4  B00XESJTDE  AHSPLDNW5OOUK2PLH7GXLACFBZNQ 2015-08-13 14:29:26.000   \n",
       "\n",
       "   helpful_vote  verified_purchase  \n",
       "0             3               True  \n",
       "1             0               True  \n",
       "2             3               True  \n",
       "3             2               True  \n",
       "4             0               True  "
      ]
     },
     "execution_count": 4,
     "metadata": {},
     "output_type": "execute_result"
    }
   ],
   "source": [
    "print(df.shape)\n",
    "df.head()"
   ]
  },
  {
   "cell_type": "code",
   "execution_count": null,
   "metadata": {
    "colab": {
     "base_uri": "https://localhost:8080/"
    },
    "executionInfo": {
     "elapsed": 55,
     "status": "ok",
     "timestamp": 1735045643790,
     "user": {
      "displayName": "Awadhesh Kumar",
      "userId": "09062678670688019649"
     },
     "user_tz": -330
    },
    "id": "q7EzPOfx8UVY",
    "outputId": "b25cf265-d239-4420-f22a-232862a86155"
   },
   "outputs": [
    {
     "name": "stdout",
     "output_type": "stream",
     "text": [
      "<class 'pandas.core.frame.DataFrame'>\n",
      "RangeIndex: 2500939 entries, 0 to 2500938\n",
      "Data columns (total 10 columns):\n",
      " #   Column             Dtype         \n",
      "---  ------             -----         \n",
      " 0   rating             int64         \n",
      " 1   title              object        \n",
      " 2   text               object        \n",
      " 3   images             object        \n",
      " 4   asin               object        \n",
      " 5   parent_asin        object        \n",
      " 6   user_id            object        \n",
      " 7   timestamp          datetime64[ns]\n",
      " 8   helpful_vote       int64         \n",
      " 9   verified_purchase  bool          \n",
      "dtypes: bool(1), datetime64[ns](1), int64(2), object(6)\n",
      "memory usage: 174.1+ MB\n"
     ]
    }
   ],
   "source": [
    "df.info()"
   ]
  },
  {
   "cell_type": "markdown",
   "metadata": {
    "id": "sBGiGZQm0OOI"
   },
   "source": [
    "### Exploratory Data Analysis"
   ]
  },
  {
   "cell_type": "markdown",
   "metadata": {
    "id": "5AmitZrM0OOI"
   },
   "source": [
    "- Start with Handling Null values"
   ]
  },
  {
   "cell_type": "code",
   "execution_count": null,
   "metadata": {
    "id": "qN02VOK60OOJ"
   },
   "outputs": [],
   "source": [
    "def MissingData(df):\n",
    "    # summing up the missing values (column-wise) and displaying fraction of NaNs\n",
    "    null_count = df[df.columns[df.isna().any()]].isna().sum().sort_values(ascending=False)\n",
    "    null_percentage = (\n",
    "        df[df.columns[df.isna().any()]].isna().sum() * 100 / df.shape[0]\n",
    "    ).sort_values(ascending=False)\n",
    "    null_data = pd.concat([null_count, null_percentage], axis=1, keys=[\"Count\", \"Percentage\"])\n",
    "    return null_data"
   ]
  },
  {
   "cell_type": "code",
   "execution_count": null,
   "metadata": {
    "colab": {
     "base_uri": "https://localhost:8080/",
     "height": 53
    },
    "executionInfo": {
     "elapsed": 1565,
     "status": "ok",
     "timestamp": 1735045645305,
     "user": {
      "displayName": "Awadhesh Kumar",
      "userId": "09062678670688019649"
     },
     "user_tz": -330
    },
    "id": "uzkrJw050OOJ",
    "outputId": "dd20f334-cf04-425e-d302-204de3d2f2c7"
   },
   "outputs": [
    {
     "data": {
      "application/vnd.google.colaboratory.intrinsic+json": {
       "summary": "{\n  \"name\": \"MissingData(df)\",\n  \"rows\": 0,\n  \"fields\": [\n    {\n      \"column\": \"Count\",\n      \"properties\": {\n        \"dtype\": \"number\",\n        \"std\": null,\n        \"min\": null,\n        \"max\": null,\n        \"num_unique_values\": 0,\n        \"samples\": [],\n        \"semantic_type\": \"\",\n        \"description\": \"\"\n      }\n    },\n    {\n      \"column\": \"Percentage\",\n      \"properties\": {\n        \"dtype\": \"number\",\n        \"std\": null,\n        \"min\": null,\n        \"max\": null,\n        \"num_unique_values\": 0,\n        \"samples\": [],\n        \"semantic_type\": \"\",\n        \"description\": \"\"\n      }\n    }\n  ]\n}",
       "type": "dataframe"
      },
      "text/html": [
       "\n",
       "  <div id=\"df-2c67dfcc-9daf-4401-bcb3-64f63b241761\" class=\"colab-df-container\">\n",
       "    <div>\n",
       "<style scoped>\n",
       "    .dataframe tbody tr th:only-of-type {\n",
       "        vertical-align: middle;\n",
       "    }\n",
       "\n",
       "    .dataframe tbody tr th {\n",
       "        vertical-align: top;\n",
       "    }\n",
       "\n",
       "    .dataframe thead th {\n",
       "        text-align: right;\n",
       "    }\n",
       "</style>\n",
       "<table border=\"1\" class=\"dataframe\">\n",
       "  <thead>\n",
       "    <tr style=\"text-align: right;\">\n",
       "      <th></th>\n",
       "      <th>Count</th>\n",
       "      <th>Percentage</th>\n",
       "    </tr>\n",
       "  </thead>\n",
       "  <tbody>\n",
       "  </tbody>\n",
       "</table>\n",
       "</div>\n",
       "    <div class=\"colab-df-buttons\">\n",
       "\n",
       "  <div class=\"colab-df-container\">\n",
       "    <button class=\"colab-df-convert\" onclick=\"convertToInteractive('df-2c67dfcc-9daf-4401-bcb3-64f63b241761')\"\n",
       "            title=\"Convert this dataframe to an interactive table.\"\n",
       "            style=\"display:none;\">\n",
       "\n",
       "  <svg xmlns=\"http://www.w3.org/2000/svg\" height=\"24px\" viewBox=\"0 -960 960 960\">\n",
       "    <path d=\"M120-120v-720h720v720H120Zm60-500h600v-160H180v160Zm220 220h160v-160H400v160Zm0 220h160v-160H400v160ZM180-400h160v-160H180v160Zm440 0h160v-160H620v160ZM180-180h160v-160H180v160Zm440 0h160v-160H620v160Z\"/>\n",
       "  </svg>\n",
       "    </button>\n",
       "\n",
       "  <style>\n",
       "    .colab-df-container {\n",
       "      display:flex;\n",
       "      gap: 12px;\n",
       "    }\n",
       "\n",
       "    .colab-df-convert {\n",
       "      background-color: #E8F0FE;\n",
       "      border: none;\n",
       "      border-radius: 50%;\n",
       "      cursor: pointer;\n",
       "      display: none;\n",
       "      fill: #1967D2;\n",
       "      height: 32px;\n",
       "      padding: 0 0 0 0;\n",
       "      width: 32px;\n",
       "    }\n",
       "\n",
       "    .colab-df-convert:hover {\n",
       "      background-color: #E2EBFA;\n",
       "      box-shadow: 0px 1px 2px rgba(60, 64, 67, 0.3), 0px 1px 3px 1px rgba(60, 64, 67, 0.15);\n",
       "      fill: #174EA6;\n",
       "    }\n",
       "\n",
       "    .colab-df-buttons div {\n",
       "      margin-bottom: 4px;\n",
       "    }\n",
       "\n",
       "    [theme=dark] .colab-df-convert {\n",
       "      background-color: #3B4455;\n",
       "      fill: #D2E3FC;\n",
       "    }\n",
       "\n",
       "    [theme=dark] .colab-df-convert:hover {\n",
       "      background-color: #434B5C;\n",
       "      box-shadow: 0px 1px 3px 1px rgba(0, 0, 0, 0.15);\n",
       "      filter: drop-shadow(0px 1px 2px rgba(0, 0, 0, 0.3));\n",
       "      fill: #FFFFFF;\n",
       "    }\n",
       "  </style>\n",
       "\n",
       "    <script>\n",
       "      const buttonEl =\n",
       "        document.querySelector('#df-2c67dfcc-9daf-4401-bcb3-64f63b241761 button.colab-df-convert');\n",
       "      buttonEl.style.display =\n",
       "        google.colab.kernel.accessAllowed ? 'block' : 'none';\n",
       "\n",
       "      async function convertToInteractive(key) {\n",
       "        const element = document.querySelector('#df-2c67dfcc-9daf-4401-bcb3-64f63b241761');\n",
       "        const dataTable =\n",
       "          await google.colab.kernel.invokeFunction('convertToInteractive',\n",
       "                                                    [key], {});\n",
       "        if (!dataTable) return;\n",
       "\n",
       "        const docLinkHtml = 'Like what you see? Visit the ' +\n",
       "          '<a target=\"_blank\" href=https://colab.research.google.com/notebooks/data_table.ipynb>data table notebook</a>'\n",
       "          + ' to learn more about interactive tables.';\n",
       "        element.innerHTML = '';\n",
       "        dataTable['output_type'] = 'display_data';\n",
       "        await google.colab.output.renderOutput(dataTable, element);\n",
       "        const docLink = document.createElement('div');\n",
       "        docLink.innerHTML = docLinkHtml;\n",
       "        element.appendChild(docLink);\n",
       "      }\n",
       "    </script>\n",
       "  </div>\n",
       "\n",
       "\n",
       "    </div>\n",
       "  </div>\n"
      ],
      "text/plain": [
       "Empty DataFrame\n",
       "Columns: [Count, Percentage]\n",
       "Index: []"
      ]
     },
     "execution_count": 7,
     "metadata": {},
     "output_type": "execute_result"
    }
   ],
   "source": [
    "MissingData(df)"
   ]
  },
  {
   "cell_type": "markdown",
   "metadata": {
    "id": "ybSJJvM10OOJ"
   },
   "source": [
    "No Missing values"
   ]
  },
  {
   "cell_type": "markdown",
   "metadata": {
    "id": "qOXhyuXT8UVZ"
   },
   "source": [
    "Check column images and drop as it will not be used for recommendation model building"
   ]
  },
  {
   "cell_type": "code",
   "execution_count": null,
   "metadata": {
    "id": "YrlXNqlD8UVZ"
   },
   "outputs": [],
   "source": [
    "df.drop(columns=[\"images\"], axis=1, inplace=True)"
   ]
  },
  {
   "cell_type": "markdown",
   "metadata": {
    "id": "6ED7p1QR8UVa"
   },
   "source": [
    "- Checking for duplicate rows"
   ]
  },
  {
   "cell_type": "code",
   "execution_count": null,
   "metadata": {
    "colab": {
     "base_uri": "https://localhost:8080/"
    },
    "executionInfo": {
     "elapsed": 7295,
     "status": "ok",
     "timestamp": 1735045652596,
     "user": {
      "displayName": "Awadhesh Kumar",
      "userId": "09062678670688019649"
     },
     "user_tz": -330
    },
    "id": "q7OfhJh08UVa",
    "outputId": "2e356313-d95c-445e-c147-73d47a717932"
   },
   "outputs": [
    {
     "name": "stdout",
     "output_type": "stream",
     "text": [
      "Duplicate records count 25244\n"
     ]
    }
   ],
   "source": [
    "# Checking for duplicate rows in the dataset\n",
    "duplicate_count = df[df.duplicated() == True].shape[0]\n",
    "print(\"Duplicate records count\", duplicate_count)"
   ]
  },
  {
   "cell_type": "markdown",
   "metadata": {
    "id": "BnOJOAf68UVa"
   },
   "source": [
    "There are 25244 duplicate purchase data records, so these will be filtered as this will impact the further inference and model building"
   ]
  },
  {
   "cell_type": "code",
   "execution_count": null,
   "metadata": {
    "id": "dlJKkqfM8UVa"
   },
   "outputs": [],
   "source": [
    "df.drop_duplicates(inplace = True)"
   ]
  },
  {
   "cell_type": "code",
   "execution_count": null,
   "metadata": {
    "colab": {
     "base_uri": "https://localhost:8080/"
    },
    "executionInfo": {
     "elapsed": 2098,
     "status": "ok",
     "timestamp": 1735045662690,
     "user": {
      "displayName": "Awadhesh Kumar",
      "userId": "09062678670688019649"
     },
     "user_tz": -330
    },
    "id": "8sQrxVBR8UVa",
    "outputId": "99bcfcc2-e3f1-4644-84fa-de3d91503673"
   },
   "outputs": [
    {
     "name": "stdout",
     "output_type": "stream",
     "text": [
      "Dataset shape: (2475695, 9) Users count: 2035490 Items count: 825869\n"
     ]
    }
   ],
   "source": [
    "def print_user_items_count(data: pd.DataFrame):\n",
    "    print(\"Dataset shape:\", data.shape, \"Users count:\", data.user_id.nunique(), \"Items count:\", data.parent_asin.nunique())\n",
    "\n",
    "print_user_items_count(df)"
   ]
  },
  {
   "cell_type": "markdown",
   "metadata": {
    "id": "vu_k5aU80OOM"
   },
   "source": [
    "##### Analyze the verified purchase feature"
   ]
  },
  {
   "cell_type": "code",
   "execution_count": null,
   "metadata": {
    "colab": {
     "base_uri": "https://localhost:8080/",
     "height": 178
    },
    "executionInfo": {
     "elapsed": 30,
     "status": "ok",
     "timestamp": 1735045662690,
     "user": {
      "displayName": "Awadhesh Kumar",
      "userId": "09062678670688019649"
     },
     "user_tz": -330
    },
    "id": "eAn7FrCk0OOM",
    "outputId": "3a6bef9c-822b-47ae-f593-33450d76d46c"
   },
   "outputs": [
    {
     "data": {
      "text/html": [
       "<div>\n",
       "<style scoped>\n",
       "    .dataframe tbody tr th:only-of-type {\n",
       "        vertical-align: middle;\n",
       "    }\n",
       "\n",
       "    .dataframe tbody tr th {\n",
       "        vertical-align: top;\n",
       "    }\n",
       "\n",
       "    .dataframe thead th {\n",
       "        text-align: right;\n",
       "    }\n",
       "</style>\n",
       "<table border=\"1\" class=\"dataframe\">\n",
       "  <thead>\n",
       "    <tr style=\"text-align: right;\">\n",
       "      <th></th>\n",
       "      <th>proportion</th>\n",
       "    </tr>\n",
       "    <tr>\n",
       "      <th>verified_purchase</th>\n",
       "      <th></th>\n",
       "    </tr>\n",
       "  </thead>\n",
       "  <tbody>\n",
       "    <tr>\n",
       "      <th>True</th>\n",
       "      <td>0.934717</td>\n",
       "    </tr>\n",
       "    <tr>\n",
       "      <th>False</th>\n",
       "      <td>0.065283</td>\n",
       "    </tr>\n",
       "  </tbody>\n",
       "</table>\n",
       "</div><br><label><b>dtype:</b> float64</label>"
      ],
      "text/plain": [
       "verified_purchase\n",
       "True     0.934717\n",
       "False    0.065283\n",
       "Name: proportion, dtype: float64"
      ]
     },
     "execution_count": 12,
     "metadata": {},
     "output_type": "execute_result"
    }
   ],
   "source": [
    "df.verified_purchase.value_counts(normalize=True)"
   ]
  },
  {
   "cell_type": "markdown",
   "metadata": {
    "id": "TjR0jS6O8UVb"
   },
   "source": [
    "Approximately 93.5% users items interactions are verified purchase and some 6.5% users have unverified purchase"
   ]
  },
  {
   "cell_type": "code",
   "execution_count": null,
   "metadata": {
    "colab": {
     "base_uri": "https://localhost:8080/",
     "height": 465
    },
    "executionInfo": {
     "elapsed": 3621,
     "status": "ok",
     "timestamp": 1735045666283,
     "user": {
      "displayName": "Awadhesh Kumar",
      "userId": "09062678670688019649"
     },
     "user_tz": -330
    },
    "id": "mgSmIIAY8UVb",
    "outputId": "58ecf397-0b27-4f35-9267-023dd68c44e6"
   },
   "outputs": [
    {
     "data": {
      "image/png": "[encoded data removed]",
      "text/plain": [
       "<Figure size 640x480 with 1 Axes>"
      ]
     },
     "metadata": {},
     "output_type": "display_data"
    }
   ],
   "source": [
    "# Visualize using count plot\n",
    "sns.countplot(x=\"verified_purchase\", data=df, palette=\"Set2\")\n",
    "plt.xlabel(\"Verified Purchase\")\n",
    "plt.ylabel(\"Percentage\")\n",
    "plt.show()"
   ]
  },
  {
   "cell_type": "markdown",
   "metadata": {
    "id": "120d6dsX8Mxc"
   },
   "source": [
    "We can see user verified purchase are way higher than unverified purchase"
   ]
  },
  {
   "cell_type": "code",
   "execution_count": null,
   "metadata": {
    "colab": {
     "base_uri": "https://localhost:8080/",
     "height": 178
    },
    "executionInfo": {
     "elapsed": 30,
     "status": "ok",
     "timestamp": 1735045666284,
     "user": {
      "displayName": "Awadhesh Kumar",
      "userId": "09062678670688019649"
     },
     "user_tz": -330
    },
    "id": "wNbrXyhR8UVb",
    "outputId": "5645ef84-33be-4bbb-b2c9-3610339342a6"
   },
   "outputs": [
    {
     "data": {
      "text/html": [
       "<div>\n",
       "<style scoped>\n",
       "    .dataframe tbody tr th:only-of-type {\n",
       "        vertical-align: middle;\n",
       "    }\n",
       "\n",
       "    .dataframe tbody tr th {\n",
       "        vertical-align: top;\n",
       "    }\n",
       "\n",
       "    .dataframe thead th {\n",
       "        text-align: right;\n",
       "    }\n",
       "</style>\n",
       "<table border=\"1\" class=\"dataframe\">\n",
       "  <thead>\n",
       "    <tr style=\"text-align: right;\">\n",
       "      <th></th>\n",
       "      <th>proportion</th>\n",
       "    </tr>\n",
       "    <tr>\n",
       "      <th>verified_purchase</th>\n",
       "      <th></th>\n",
       "    </tr>\n",
       "  </thead>\n",
       "  <tbody>\n",
       "    <tr>\n",
       "      <th>1</th>\n",
       "      <td>0.934717</td>\n",
       "    </tr>\n",
       "    <tr>\n",
       "      <th>0</th>\n",
       "      <td>0.065283</td>\n",
       "    </tr>\n",
       "  </tbody>\n",
       "</table>\n",
       "</div><br><label><b>dtype:</b> float64</label>"
      ],
      "text/plain": [
       "verified_purchase\n",
       "1    0.934717\n",
       "0    0.065283\n",
       "Name: proportion, dtype: float64"
      ]
     },
     "execution_count": 14,
     "metadata": {},
     "output_type": "execute_result"
    }
   ],
   "source": [
    "# Map the categorical verified_purchase to numerical 1 or 0 for Classification Model\n",
    "df[\"verified_purchase\"] = df[\"verified_purchase\"].map({True: 1, False: 0})\n",
    "# get the value count of verified_purchase column\n",
    "df[\"verified_purchase\"].value_counts(normalize=True)"
   ]
  },
  {
   "cell_type": "markdown",
   "metadata": {
    "id": "ksxm6-VS8UVb"
   },
   "source": [
    "##### Analyze the Rating feature"
   ]
  },
  {
   "cell_type": "code",
   "execution_count": null,
   "metadata": {
    "colab": {
     "base_uri": "https://localhost:8080/",
     "height": 272
    },
    "executionInfo": {
     "elapsed": 29,
     "status": "ok",
     "timestamp": 1735045666284,
     "user": {
      "displayName": "Awadhesh Kumar",
      "userId": "09062678670688019649"
     },
     "user_tz": -330
    },
    "id": "9TDFpCv39yzT",
    "outputId": "02378b44-7146-4d08-c3ed-a9da55f4303e"
   },
   "outputs": [
    {
     "data": {
      "text/html": [
       "<div>\n",
       "<style scoped>\n",
       "    .dataframe tbody tr th:only-of-type {\n",
       "        vertical-align: middle;\n",
       "    }\n",
       "\n",
       "    .dataframe tbody tr th {\n",
       "        vertical-align: top;\n",
       "    }\n",
       "\n",
       "    .dataframe thead th {\n",
       "        text-align: right;\n",
       "    }\n",
       "</style>\n",
       "<table border=\"1\" class=\"dataframe\">\n",
       "  <thead>\n",
       "    <tr style=\"text-align: right;\">\n",
       "      <th></th>\n",
       "      <th>proportion</th>\n",
       "    </tr>\n",
       "    <tr>\n",
       "      <th>rating</th>\n",
       "      <th></th>\n",
       "    </tr>\n",
       "  </thead>\n",
       "  <tbody>\n",
       "    <tr>\n",
       "      <th>5</th>\n",
       "      <td>0.570299</td>\n",
       "    </tr>\n",
       "    <tr>\n",
       "      <th>4</th>\n",
       "      <td>0.140945</td>\n",
       "    </tr>\n",
       "    <tr>\n",
       "      <th>1</th>\n",
       "      <td>0.121194</td>\n",
       "    </tr>\n",
       "    <tr>\n",
       "      <th>3</th>\n",
       "      <td>0.098215</td>\n",
       "    </tr>\n",
       "    <tr>\n",
       "      <th>2</th>\n",
       "      <td>0.069347</td>\n",
       "    </tr>\n",
       "  </tbody>\n",
       "</table>\n",
       "</div><br><label><b>dtype:</b> float64</label>"
      ],
      "text/plain": [
       "rating\n",
       "5    0.570299\n",
       "4    0.140945\n",
       "1    0.121194\n",
       "3    0.098215\n",
       "2    0.069347\n",
       "Name: proportion, dtype: float64"
      ]
     },
     "execution_count": 15,
     "metadata": {},
     "output_type": "execute_result"
    }
   ],
   "source": [
    "df[\"rating\"].value_counts(normalize=True)"
   ]
  },
  {
   "cell_type": "markdown",
   "metadata": {
    "id": "81XhEU8xNUUo"
   },
   "source": [
    "Approximately 81% of reviews have rating of 3 and above. 57% of the reviews have rating of 5. 14% have rating of 4 and 10% have rating of 3"
   ]
  },
  {
   "cell_type": "code",
   "execution_count": null,
   "metadata": {
    "colab": {
     "base_uri": "https://localhost:8080/",
     "height": 465
    },
    "executionInfo": {
     "elapsed": 4730,
     "status": "ok",
     "timestamp": 1735045670986,
     "user": {
      "displayName": "Awadhesh Kumar",
      "userId": "09062678670688019649"
     },
     "user_tz": -330
    },
    "id": "bSNLyD500OOU",
    "outputId": "ff1a7549-8622-4a0b-d508-bbbe0373c5b9"
   },
   "outputs": [
    {
     "data": {
      "image/png": "[encoded data removed]",
      "text/plain": [
       "<Figure size 640x480 with 1 Axes>"
      ]
     },
     "metadata": {},
     "output_type": "display_data"
    }
   ],
   "source": [
    "# visualize the rating.\n",
    "sns.countplot(x=\"rating\", data=df, palette=\"Set2\")\n",
    "plt.xlabel(\"Rating\")\n",
    "plt.ylabel(\"Percentage\")\n",
    "plt.show()"
   ]
  },
  {
   "cell_type": "code",
   "execution_count": null,
   "metadata": {
    "colab": {
     "base_uri": "https://localhost:8080/",
     "height": 467
    },
    "executionInfo": {
     "elapsed": 3749,
     "status": "ok",
     "timestamp": 1735045674731,
     "user": {
      "displayName": "Awadhesh Kumar",
      "userId": "09062678670688019649"
     },
     "user_tz": -330
    },
    "id": "ARp3WOir8UVc",
    "outputId": "35d0ee89-5142-4e5c-a64d-ef109901777e"
   },
   "outputs": [
    {
     "data": {
      "text/plain": [
       "<Axes: xlabel='rating'>"
      ]
     },
     "execution_count": 17,
     "metadata": {},
     "output_type": "execute_result"
    },
    {
     "data": {
      "image/png": "[encoded data removed]",
      "text/plain": [
       "<Figure size 640x480 with 1 Axes>"
      ]
     },
     "metadata": {},
     "output_type": "display_data"
    }
   ],
   "source": [
    "plt.rcdefaults()\n",
    "sns.boxplot(x=\"rating\", data=df, palette=\"Set2\")"
   ]
  },
  {
   "cell_type": "markdown",
   "metadata": {
    "id": "-o3K8MVk8UVc"
   },
   "source": [
    "Most of the rating ranges from 3 to 5. So this will be used for data filtraion with minimum rating of 3."
   ]
  },
  {
   "cell_type": "markdown",
   "metadata": {
    "id": "0zr9SdRU7MEM"
   },
   "source": [
    "##### Analyze the Rating and verified purchase for correlation analysis"
   ]
  },
  {
   "cell_type": "markdown",
   "metadata": {
    "id": "Ki9VTZSu0OOV"
   },
   "source": [
    "Check the ratings for positive sentiment records"
   ]
  },
  {
   "cell_type": "code",
   "execution_count": null,
   "metadata": {
    "colab": {
     "base_uri": "https://localhost:8080/",
     "height": 272
    },
    "executionInfo": {
     "elapsed": 380,
     "status": "ok",
     "timestamp": 1735045675087,
     "user": {
      "displayName": "Awadhesh Kumar",
      "userId": "09062678670688019649"
     },
     "user_tz": -330
    },
    "id": "ULs0_hst0OOV",
    "outputId": "09a02eab-6a9b-4de7-92c4-c78f038d6a6c"
   },
   "outputs": [
    {
     "data": {
      "text/html": [
       "<div>\n",
       "<style scoped>\n",
       "    .dataframe tbody tr th:only-of-type {\n",
       "        vertical-align: middle;\n",
       "    }\n",
       "\n",
       "    .dataframe tbody tr th {\n",
       "        vertical-align: top;\n",
       "    }\n",
       "\n",
       "    .dataframe thead th {\n",
       "        text-align: right;\n",
       "    }\n",
       "</style>\n",
       "<table border=\"1\" class=\"dataframe\">\n",
       "  <thead>\n",
       "    <tr style=\"text-align: right;\">\n",
       "      <th></th>\n",
       "      <th>proportion</th>\n",
       "    </tr>\n",
       "    <tr>\n",
       "      <th>rating</th>\n",
       "      <th></th>\n",
       "    </tr>\n",
       "  </thead>\n",
       "  <tbody>\n",
       "    <tr>\n",
       "      <th>5</th>\n",
       "      <td>0.572208</td>\n",
       "    </tr>\n",
       "    <tr>\n",
       "      <th>4</th>\n",
       "      <td>0.138855</td>\n",
       "    </tr>\n",
       "    <tr>\n",
       "      <th>1</th>\n",
       "      <td>0.121539</td>\n",
       "    </tr>\n",
       "    <tr>\n",
       "      <th>3</th>\n",
       "      <td>0.097832</td>\n",
       "    </tr>\n",
       "    <tr>\n",
       "      <th>2</th>\n",
       "      <td>0.069566</td>\n",
       "    </tr>\n",
       "  </tbody>\n",
       "</table>\n",
       "</div><br><label><b>dtype:</b> float64</label>"
      ],
      "text/plain": [
       "rating\n",
       "5    0.572208\n",
       "4    0.138855\n",
       "1    0.121539\n",
       "3    0.097832\n",
       "2    0.069566\n",
       "Name: proportion, dtype: float64"
      ]
     },
     "execution_count": 18,
     "metadata": {},
     "output_type": "execute_result"
    }
   ],
   "source": [
    "df[df[\"verified_purchase\"] == 1][\"rating\"].value_counts(normalize=True)"
   ]
  },
  {
   "cell_type": "markdown",
   "metadata": {
    "id": "MpqnmvZc0OOV"
   },
   "source": [
    "Check the ratings and verified_purchase correlation"
   ]
  },
  {
   "cell_type": "code",
   "execution_count": null,
   "metadata": {
    "colab": {
     "base_uri": "https://localhost:8080/",
     "height": 465
    },
    "executionInfo": {
     "elapsed": 4608,
     "status": "ok",
     "timestamp": 1735045679671,
     "user": {
      "displayName": "Awadhesh Kumar",
      "userId": "09062678670688019649"
     },
     "user_tz": -330
    },
    "id": "HuU3iTs6PjyR",
    "outputId": "0b2a69e6-d5b2-4231-d8a9-c2dbb2e091f0"
   },
   "outputs": [
    {
     "data": {
      "image/png": "[encoded data removed]",
      "text/plain": [
       "<Figure size 640x480 with 1 Axes>"
      ]
     },
     "metadata": {},
     "output_type": "display_data"
    }
   ],
   "source": [
    "plt.rcdefaults()\n",
    "sns.countplot(x=\"rating\", data=df, hue='verified_purchase', palette='Set2')\n",
    "plt.xlabel(\"Rating And Verified Purchase\")\n",
    "plt.ylabel(\"Percentage\")\n",
    "plt.show()"
   ]
  },
  {
   "cell_type": "markdown",
   "metadata": {
    "id": "6RwOlRJE8UVh"
   },
   "source": [
    "##### Analyze Helpful Vote feature\n"
   ]
  },
  {
   "cell_type": "code",
   "execution_count": null,
   "metadata": {
    "colab": {
     "base_uri": "https://localhost:8080/",
     "height": 335
    },
    "executionInfo": {
     "elapsed": 30,
     "status": "ok",
     "timestamp": 1735045679671,
     "user": {
      "displayName": "Awadhesh Kumar",
      "userId": "09062678670688019649"
     },
     "user_tz": -330
    },
    "id": "I4r7TmIC8UVh",
    "outputId": "9644c901-c18c-434e-f3c3-4d2715b2df4d"
   },
   "outputs": [
    {
     "data": {
      "text/html": [
       "<div>\n",
       "<style scoped>\n",
       "    .dataframe tbody tr th:only-of-type {\n",
       "        vertical-align: middle;\n",
       "    }\n",
       "\n",
       "    .dataframe tbody tr th {\n",
       "        vertical-align: top;\n",
       "    }\n",
       "\n",
       "    .dataframe thead th {\n",
       "        text-align: right;\n",
       "    }\n",
       "</style>\n",
       "<table border=\"1\" class=\"dataframe\">\n",
       "  <thead>\n",
       "    <tr style=\"text-align: right;\">\n",
       "      <th></th>\n",
       "      <th>helpful_vote</th>\n",
       "    </tr>\n",
       "  </thead>\n",
       "  <tbody>\n",
       "    <tr>\n",
       "      <th>count</th>\n",
       "      <td>2.475695e+06</td>\n",
       "    </tr>\n",
       "    <tr>\n",
       "      <th>mean</th>\n",
       "      <td>5.662022e-01</td>\n",
       "    </tr>\n",
       "    <tr>\n",
       "      <th>std</th>\n",
       "      <td>3.785516e+00</td>\n",
       "    </tr>\n",
       "    <tr>\n",
       "      <th>min</th>\n",
       "      <td>0.000000e+00</td>\n",
       "    </tr>\n",
       "    <tr>\n",
       "      <th>25%</th>\n",
       "      <td>0.000000e+00</td>\n",
       "    </tr>\n",
       "    <tr>\n",
       "      <th>50%</th>\n",
       "      <td>0.000000e+00</td>\n",
       "    </tr>\n",
       "    <tr>\n",
       "      <th>75%</th>\n",
       "      <td>0.000000e+00</td>\n",
       "    </tr>\n",
       "    <tr>\n",
       "      <th>max</th>\n",
       "      <td>9.540000e+02</td>\n",
       "    </tr>\n",
       "  </tbody>\n",
       "</table>\n",
       "</div><br><label><b>dtype:</b> float64</label>"
      ],
      "text/plain": [
       "count    2.475695e+06\n",
       "mean     5.662022e-01\n",
       "std      3.785516e+00\n",
       "min      0.000000e+00\n",
       "25%      0.000000e+00\n",
       "50%      0.000000e+00\n",
       "75%      0.000000e+00\n",
       "max      9.540000e+02\n",
       "Name: helpful_vote, dtype: float64"
      ]
     },
     "execution_count": 20,
     "metadata": {},
     "output_type": "execute_result"
    }
   ],
   "source": [
    "df.helpful_vote.describe()"
   ]
  },
  {
   "cell_type": "code",
   "execution_count": null,
   "metadata": {
    "colab": {
     "base_uri": "https://localhost:8080/",
     "height": 489
    },
    "executionInfo": {
     "elapsed": 29,
     "status": "ok",
     "timestamp": 1735045679671,
     "user": {
      "displayName": "Awadhesh Kumar",
      "userId": "09062678670688019649"
     },
     "user_tz": -330
    },
    "id": "5cSBk_S08UVh",
    "outputId": "3e51d8da-9a6b-4e99-fd93-756a46a9574f"
   },
   "outputs": [
    {
     "data": {
      "text/html": [
       "<div>\n",
       "<style scoped>\n",
       "    .dataframe tbody tr th:only-of-type {\n",
       "        vertical-align: middle;\n",
       "    }\n",
       "\n",
       "    .dataframe tbody tr th {\n",
       "        vertical-align: top;\n",
       "    }\n",
       "\n",
       "    .dataframe thead th {\n",
       "        text-align: right;\n",
       "    }\n",
       "</style>\n",
       "<table border=\"1\" class=\"dataframe\">\n",
       "  <thead>\n",
       "    <tr style=\"text-align: right;\">\n",
       "      <th></th>\n",
       "      <th>proportion</th>\n",
       "    </tr>\n",
       "    <tr>\n",
       "      <th>helpful_vote</th>\n",
       "      <th></th>\n",
       "    </tr>\n",
       "  </thead>\n",
       "  <tbody>\n",
       "    <tr>\n",
       "      <th>0</th>\n",
       "      <td>8.021129e-01</td>\n",
       "    </tr>\n",
       "    <tr>\n",
       "      <th>1</th>\n",
       "      <td>1.154940e-01</td>\n",
       "    </tr>\n",
       "    <tr>\n",
       "      <th>2</th>\n",
       "      <td>3.485203e-02</td>\n",
       "    </tr>\n",
       "    <tr>\n",
       "      <th>3</th>\n",
       "      <td>1.564571e-02</td>\n",
       "    </tr>\n",
       "    <tr>\n",
       "      <th>4</th>\n",
       "      <td>8.523667e-03</td>\n",
       "    </tr>\n",
       "    <tr>\n",
       "      <th>...</th>\n",
       "      <td>...</td>\n",
       "    </tr>\n",
       "    <tr>\n",
       "      <th>323</th>\n",
       "      <td>4.039270e-07</td>\n",
       "    </tr>\n",
       "    <tr>\n",
       "      <th>213</th>\n",
       "      <td>4.039270e-07</td>\n",
       "    </tr>\n",
       "    <tr>\n",
       "      <th>394</th>\n",
       "      <td>4.039270e-07</td>\n",
       "    </tr>\n",
       "    <tr>\n",
       "      <th>399</th>\n",
       "      <td>4.039270e-07</td>\n",
       "    </tr>\n",
       "    <tr>\n",
       "      <th>135</th>\n",
       "      <td>4.039270e-07</td>\n",
       "    </tr>\n",
       "  </tbody>\n",
       "</table>\n",
       "<p>269 rows × 1 columns</p>\n",
       "</div><br><label><b>dtype:</b> float64</label>"
      ],
      "text/plain": [
       "helpful_vote\n",
       "0      8.021129e-01\n",
       "1      1.154940e-01\n",
       "2      3.485203e-02\n",
       "3      1.564571e-02\n",
       "4      8.523667e-03\n",
       "           ...     \n",
       "323    4.039270e-07\n",
       "213    4.039270e-07\n",
       "394    4.039270e-07\n",
       "399    4.039270e-07\n",
       "135    4.039270e-07\n",
       "Name: proportion, Length: 269, dtype: float64"
      ]
     },
     "execution_count": 21,
     "metadata": {},
     "output_type": "execute_result"
    }
   ],
   "source": [
    "df.helpful_vote.value_counts(normalize=True)"
   ]
  },
  {
   "cell_type": "code",
   "execution_count": null,
   "metadata": {
    "colab": {
     "base_uri": "https://localhost:8080/",
     "height": 468
    },
    "executionInfo": {
     "elapsed": 4975,
     "status": "ok",
     "timestamp": 1735045684618,
     "user": {
      "displayName": "Awadhesh Kumar",
      "userId": "09062678670688019649"
     },
     "user_tz": -330
    },
    "id": "dw7ZL8VX8UVh",
    "outputId": "92b7885e-b3f2-4405-fe3f-0bc7436b4cdb"
   },
   "outputs": [
    {
     "data": {
      "text/plain": [
       "<Axes: xlabel='helpful_vote'>"
      ]
     },
     "execution_count": 22,
     "metadata": {},
     "output_type": "execute_result"
    },
    {
     "data": {
      "image/png": "[encoded data removed]",
      "text/plain": [
       "<Figure size 640x480 with 1 Axes>"
      ]
     },
     "metadata": {},
     "output_type": "display_data"
    }
   ],
   "source": [
    "sns.boxplot(x=\"helpful_vote\", data=df, palette=\"Set2\")"
   ]
  },
  {
   "cell_type": "code",
   "execution_count": null,
   "metadata": {
    "colab": {
     "base_uri": "https://localhost:8080/",
     "height": 303
    },
    "executionInfo": {
     "elapsed": 32,
     "status": "ok",
     "timestamp": 1735045684619,
     "user": {
      "displayName": "Awadhesh Kumar",
      "userId": "09062678670688019649"
     },
     "user_tz": -330
    },
    "id": "e_3iV2fp8UVh",
    "outputId": "f281e590-a7be-47b0-a956-d3a483e3a822"
   },
   "outputs": [
    {
     "data": {
      "text/html": [
       "<div>\n",
       "<style scoped>\n",
       "    .dataframe tbody tr th:only-of-type {\n",
       "        vertical-align: middle;\n",
       "    }\n",
       "\n",
       "    .dataframe tbody tr th {\n",
       "        vertical-align: top;\n",
       "    }\n",
       "\n",
       "    .dataframe thead th {\n",
       "        text-align: right;\n",
       "    }\n",
       "</style>\n",
       "<table border=\"1\" class=\"dataframe\">\n",
       "  <thead>\n",
       "    <tr style=\"text-align: right;\">\n",
       "      <th></th>\n",
       "      <th>helpful_vote</th>\n",
       "    </tr>\n",
       "  </thead>\n",
       "  <tbody>\n",
       "    <tr>\n",
       "      <th>0.5000</th>\n",
       "      <td>0.000</td>\n",
       "    </tr>\n",
       "    <tr>\n",
       "      <th>0.7000</th>\n",
       "      <td>0.000</td>\n",
       "    </tr>\n",
       "    <tr>\n",
       "      <th>0.9000</th>\n",
       "      <td>1.000</td>\n",
       "    </tr>\n",
       "    <tr>\n",
       "      <th>0.9500</th>\n",
       "      <td>2.000</td>\n",
       "    </tr>\n",
       "    <tr>\n",
       "      <th>0.9900</th>\n",
       "      <td>9.000</td>\n",
       "    </tr>\n",
       "    <tr>\n",
       "      <th>0.9950</th>\n",
       "      <td>14.000</td>\n",
       "    </tr>\n",
       "    <tr>\n",
       "      <th>0.9995</th>\n",
       "      <td>57.153</td>\n",
       "    </tr>\n",
       "  </tbody>\n",
       "</table>\n",
       "</div><br><label><b>dtype:</b> float64</label>"
      ],
      "text/plain": [
       "0.5000     0.000\n",
       "0.7000     0.000\n",
       "0.9000     1.000\n",
       "0.9500     2.000\n",
       "0.9900     9.000\n",
       "0.9950    14.000\n",
       "0.9995    57.153\n",
       "Name: helpful_vote, dtype: float64"
      ]
     },
     "execution_count": 23,
     "metadata": {},
     "output_type": "execute_result"
    }
   ],
   "source": [
    "#print the quantile (0.5, 0.7, 0.9, 0.95 and 0.99) of balance variable\n",
    "df.helpful_vote.quantile([0.5,0.7, 0.9, 0.95, 0.99, 0.995, 0.9995])"
   ]
  },
  {
   "cell_type": "code",
   "execution_count": null,
   "metadata": {
    "colab": {
     "base_uri": "https://localhost:8080/",
     "height": 178
    },
    "executionInfo": {
     "elapsed": 955,
     "status": "ok",
     "timestamp": 1735045685544,
     "user": {
      "displayName": "Awadhesh Kumar",
      "userId": "09062678670688019649"
     },
     "user_tz": -330
    },
    "id": "1_AfCFri2aEV",
    "outputId": "8b2439e6-40dd-4ff7-a42c-24ace76dc121"
   },
   "outputs": [
    {
     "data": {
      "text/html": [
       "<div>\n",
       "<style scoped>\n",
       "    .dataframe tbody tr th:only-of-type {\n",
       "        vertical-align: middle;\n",
       "    }\n",
       "\n",
       "    .dataframe tbody tr th {\n",
       "        vertical-align: top;\n",
       "    }\n",
       "\n",
       "    .dataframe thead th {\n",
       "        text-align: right;\n",
       "    }\n",
       "</style>\n",
       "<table border=\"1\" class=\"dataframe\">\n",
       "  <thead>\n",
       "    <tr style=\"text-align: right;\">\n",
       "      <th></th>\n",
       "      <th>proportion</th>\n",
       "    </tr>\n",
       "    <tr>\n",
       "      <th>helpful_vote_Rel</th>\n",
       "      <th></th>\n",
       "    </tr>\n",
       "  </thead>\n",
       "  <tbody>\n",
       "    <tr>\n",
       "      <th>0</th>\n",
       "      <td>0.802113</td>\n",
       "    </tr>\n",
       "    <tr>\n",
       "      <th>1</th>\n",
       "      <td>0.197887</td>\n",
       "    </tr>\n",
       "  </tbody>\n",
       "</table>\n",
       "</div><br><label><b>dtype:</b> float64</label>"
      ],
      "text/plain": [
       "helpful_vote_Rel\n",
       "0    0.802113\n",
       "1    0.197887\n",
       "Name: proportion, dtype: float64"
      ]
     },
     "execution_count": 24,
     "metadata": {},
     "output_type": "execute_result"
    }
   ],
   "source": [
    "df[\"helpful_vote_Rel\"] = df.helpful_vote.apply(lambda x: 1 if x >= 1 else 0)\n",
    "df.helpful_vote_Rel.value_counts(normalize=True)"
   ]
  },
  {
   "cell_type": "code",
   "execution_count": null,
   "metadata": {
    "colab": {
     "base_uri": "https://localhost:8080/",
     "height": 428
    },
    "executionInfo": {
     "elapsed": 30,
     "status": "ok",
     "timestamp": 1735045685544,
     "user": {
      "displayName": "Awadhesh Kumar",
      "userId": "09062678670688019649"
     },
     "user_tz": -330
    },
    "id": "CDg6KXrw2dFM",
    "outputId": "9c6b8a6a-c4ad-455e-c56e-3adef695370a"
   },
   "outputs": [
    {
     "data": {
      "image/png": "[encoded data removed]",
      "text/plain": [
       "<Figure size 640x480 with 1 Axes>"
      ]
     },
     "metadata": {},
     "output_type": "display_data"
    }
   ],
   "source": [
    "sns.set_style(\"whitegrid\")\n",
    "plt.pie(df[\"helpful_vote_Rel\"].value_counts(normalize=True), labels=['No Vote', 'Atleast 1 vote'], autopct=\"%1.1f%%\")\n",
    "plt.title(\"Helpful Vote Distribution\")\n",
    "plt.show()"
   ]
  },
  {
   "cell_type": "markdown",
   "metadata": {
    "id": "NNkeDy0E26KU"
   },
   "source": [
    "As we see that almost 80% of the purchase data either doesn't have any helpful votes."
   ]
  },
  {
   "cell_type": "code",
   "execution_count": null,
   "metadata": {
    "colab": {
     "base_uri": "https://localhost:8080/",
     "height": 366
    },
    "executionInfo": {
     "elapsed": 29,
     "status": "ok",
     "timestamp": 1735045685544,
     "user": {
      "displayName": "Awadhesh Kumar",
      "userId": "09062678670688019649"
     },
     "user_tz": -330
    },
    "id": "a7qxDk8c8UVh",
    "outputId": "441d6e36-20be-4750-82ef-385f4b595d6c"
   },
   "outputs": [
    {
     "data": {
      "text/html": [
       "<div>\n",
       "<style scoped>\n",
       "    .dataframe tbody tr th:only-of-type {\n",
       "        vertical-align: middle;\n",
       "    }\n",
       "\n",
       "    .dataframe tbody tr th {\n",
       "        vertical-align: top;\n",
       "    }\n",
       "\n",
       "    .dataframe thead th {\n",
       "        text-align: right;\n",
       "    }\n",
       "</style>\n",
       "<table border=\"1\" class=\"dataframe\">\n",
       "  <thead>\n",
       "    <tr style=\"text-align: right;\">\n",
       "      <th></th>\n",
       "      <th>proportion</th>\n",
       "    </tr>\n",
       "    <tr>\n",
       "      <th>helpful_vote_range</th>\n",
       "      <th></th>\n",
       "    </tr>\n",
       "  </thead>\n",
       "  <tbody>\n",
       "    <tr>\n",
       "      <th>&lt;5</th>\n",
       "      <td>0.908744</td>\n",
       "    </tr>\n",
       "    <tr>\n",
       "      <th>5-10</th>\n",
       "      <td>0.052902</td>\n",
       "    </tr>\n",
       "    <tr>\n",
       "      <th>10-20</th>\n",
       "      <td>0.024470</td>\n",
       "    </tr>\n",
       "    <tr>\n",
       "      <th>20-50</th>\n",
       "      <td>0.010767</td>\n",
       "    </tr>\n",
       "    <tr>\n",
       "      <th>50-100</th>\n",
       "      <td>0.002225</td>\n",
       "    </tr>\n",
       "    <tr>\n",
       "      <th>100-200</th>\n",
       "      <td>0.000676</td>\n",
       "    </tr>\n",
       "    <tr>\n",
       "      <th>200-500</th>\n",
       "      <td>0.000190</td>\n",
       "    </tr>\n",
       "    <tr>\n",
       "      <th>500+</th>\n",
       "      <td>0.000027</td>\n",
       "    </tr>\n",
       "  </tbody>\n",
       "</table>\n",
       "</div><br><label><b>dtype:</b> float64</label>"
      ],
      "text/plain": [
       "helpful_vote_range\n",
       "<5         0.908744\n",
       "5-10       0.052902\n",
       "10-20      0.024470\n",
       "20-50      0.010767\n",
       "50-100     0.002225\n",
       "100-200    0.000676\n",
       "200-500    0.000190\n",
       "500+       0.000027\n",
       "Name: proportion, dtype: float64"
      ]
     },
     "execution_count": 26,
     "metadata": {},
     "output_type": "execute_result"
    }
   ],
   "source": [
    "#create the buckets of <5, 5-10, 10-20, 20-50, 50-100, 100-200, 200-500, 500+ column.\n",
    "df['helpful_vote_range'] = pd.cut(df.helpful_vote, [0, 5, 10, 20, 50, 100, 200, 500, 9999],\n",
    "            labels=[\"<5\", \"5-10\", \"10-20\", \"20-50\", \"50-100\", \"100-200\", \"200-500\", \"500+\"])\n",
    "df.helpful_vote_range.value_counts(normalize=True)"
   ]
  },
  {
   "cell_type": "code",
   "execution_count": null,
   "metadata": {
    "colab": {
     "base_uri": "https://localhost:8080/",
     "height": 330
    },
    "executionInfo": {
     "elapsed": 488,
     "status": "ok",
     "timestamp": 1735045686005,
     "user": {
      "displayName": "Awadhesh Kumar",
      "userId": "09062678670688019649"
     },
     "user_tz": -330
    },
    "id": "M1EyeeLK8UVi",
    "outputId": "fb0f124a-2b74-430c-879c-e5d22ed9f257"
   },
   "outputs": [
    {
     "data": {
      "image/png": "[encoded data removed]",
      "text/plain": [
       "<Figure size 1000x400 with 1 Axes>"
      ]
     },
     "metadata": {},
     "output_type": "display_data"
    }
   ],
   "source": [
    "plt.figure(figsize=[10, 4])\n",
    "df.helpful_vote_range.value_counts(normalize=True).plot.bar()\n",
    "plt.xlabel(\"Helpful Votes Count\")\n",
    "plt.ylabel(\"Percentage\")\n",
    "plt.show()"
   ]
  },
  {
   "cell_type": "markdown",
   "metadata": {
    "id": "wcpIlGfA1fVJ"
   },
   "source": [
    " Among the rest 20%, approximately 90% of then have less than or equal to 5 votes. Hence this feature doesn't hold any significance for building the recommendation model."
   ]
  },
  {
   "cell_type": "markdown",
   "metadata": {
    "id": "I-kaLdns8UVi"
   },
   "source": [
    "##### Analyze Timestamp feature"
   ]
  },
  {
   "cell_type": "markdown",
   "metadata": {
    "id": "68uObBmD8UVi"
   },
   "source": [
    "Convert the timestamp to days count from the last purchase date"
   ]
  },
  {
   "cell_type": "code",
   "execution_count": null,
   "metadata": {
    "colab": {
     "base_uri": "https://localhost:8080/"
    },
    "executionInfo": {
     "elapsed": 26,
     "status": "ok",
     "timestamp": 1735045686005,
     "user": {
      "displayName": "Awadhesh Kumar",
      "userId": "09062678670688019649"
     },
     "user_tz": -330
    },
    "id": "LinIO3OL8UVi",
    "outputId": "83c873a7-3ffc-4079-aace-687d9d745f2e"
   },
   "outputs": [
    {
     "name": "stdout",
     "output_type": "stream",
     "text": [
      "Most Frequent Purchase date - 2023-09-11 03:24:38.515000\n",
      "Most Historic Purchase date - 2002-05-07 01:51:28\n"
     ]
    }
   ],
   "source": [
    "print(\"Most Frequent Purchase date -\", df['timestamp'].max())\n",
    "print(\"Most Historic Purchase date -\", df['timestamp'].min())"
   ]
  },
  {
   "cell_type": "code",
   "execution_count": null,
   "metadata": {
    "id": "6yspOmU_XGwg"
   },
   "outputs": [],
   "source": [
    "df['time_seconds'] = df.timestamp.apply(lambda x: int(x.timestamp()))"
   ]
  },
  {
   "cell_type": "code",
   "execution_count": null,
   "metadata": {
    "id": "ZjkGFzK18UVj"
   },
   "outputs": [],
   "source": [
    "#Calculate the past no of days from the current date to determine the purchase frequencey in days\n",
    "# User's last purchase\n",
    "df['timestamp_freqLast'] = (df['timestamp'].max() - df['timestamp']).dt.total_seconds()"
   ]
  },
  {
   "cell_type": "code",
   "execution_count": null,
   "metadata": {
    "id": "2uAXsy538UVk"
   },
   "outputs": [],
   "source": [
    "df['timestamp_freqDays'] = np.ceil(df['timestamp_freqLast']/(60*60*24))\n",
    "df['timestamp_freqDays'] = df['timestamp_freqDays'].apply(lambda x : 1 if x == 0.0 else x)\n",
    "df['timestamp_freqDays'] = np.round(df['timestamp_freqDays'])"
   ]
  },
  {
   "cell_type": "markdown",
   "metadata": {
    "id": "gOS4ii9D8UVk"
   },
   "source": [
    "Users purchasing count in weeks/months interval. 1 month, 2-3 months, 3-6 months, 6-9 months, 6-12 months, 12-15 months, 15-18 months, 18-21 months, 21-24 months, 2-2.5years, more than 2.5 years with an interval of 6 months"
   ]
  },
  {
   "cell_type": "code",
   "execution_count": null,
   "metadata": {
    "colab": {
     "base_uri": "https://localhost:8080/",
     "height": 993
    },
    "executionInfo": {
     "elapsed": 38,
     "status": "ok",
     "timestamp": 1735045696811,
     "user": {
      "displayName": "Awadhesh Kumar",
      "userId": "09062678670688019649"
     },
     "user_tz": -330
    },
    "id": "azD0uv8P8UVk",
    "outputId": "a303dfc9-96bd-470e-e062-5cb5a4512f14"
   },
   "outputs": [
    {
     "data": {
      "text/html": [
       "<div>\n",
       "<style scoped>\n",
       "    .dataframe tbody tr th:only-of-type {\n",
       "        vertical-align: middle;\n",
       "    }\n",
       "\n",
       "    .dataframe tbody tr th {\n",
       "        vertical-align: top;\n",
       "    }\n",
       "\n",
       "    .dataframe thead th {\n",
       "        text-align: right;\n",
       "    }\n",
       "</style>\n",
       "<table border=\"1\" class=\"dataframe\">\n",
       "  <thead>\n",
       "    <tr style=\"text-align: right;\">\n",
       "      <th></th>\n",
       "      <th>count</th>\n",
       "    </tr>\n",
       "    <tr>\n",
       "      <th>purchase_freq</th>\n",
       "      <th></th>\n",
       "    </tr>\n",
       "  </thead>\n",
       "  <tbody>\n",
       "    <tr>\n",
       "      <th>6.5-7 years</th>\n",
       "      <td>744797</td>\n",
       "    </tr>\n",
       "    <tr>\n",
       "      <th>3.5-4 years</th>\n",
       "      <td>207661</td>\n",
       "    </tr>\n",
       "    <tr>\n",
       "      <th>4-4.5 years</th>\n",
       "      <td>200466</td>\n",
       "    </tr>\n",
       "    <tr>\n",
       "      <th>5-5.5 years</th>\n",
       "      <td>185679</td>\n",
       "    </tr>\n",
       "    <tr>\n",
       "      <th>5.5-6 years</th>\n",
       "      <td>177466</td>\n",
       "    </tr>\n",
       "    <tr>\n",
       "      <th>6-6.5 years</th>\n",
       "      <td>173054</td>\n",
       "    </tr>\n",
       "    <tr>\n",
       "      <th>2.5-3 years</th>\n",
       "      <td>169350</td>\n",
       "    </tr>\n",
       "    <tr>\n",
       "      <th>2-2.5 years</th>\n",
       "      <td>157470</td>\n",
       "    </tr>\n",
       "    <tr>\n",
       "      <th>3-3.5 years</th>\n",
       "      <td>124851</td>\n",
       "    </tr>\n",
       "    <tr>\n",
       "      <th>21-24 months</th>\n",
       "      <td>57441</td>\n",
       "    </tr>\n",
       "    <tr>\n",
       "      <th>18-21 months</th>\n",
       "      <td>53455</td>\n",
       "    </tr>\n",
       "    <tr>\n",
       "      <th>15-18 months</th>\n",
       "      <td>41927</td>\n",
       "    </tr>\n",
       "    <tr>\n",
       "      <th>6-12 months</th>\n",
       "      <td>39044</td>\n",
       "    </tr>\n",
       "    <tr>\n",
       "      <th>12-15 months</th>\n",
       "      <td>39009</td>\n",
       "    </tr>\n",
       "    <tr>\n",
       "      <th>6-9 months</th>\n",
       "      <td>30086</td>\n",
       "    </tr>\n",
       "    <tr>\n",
       "      <th>7-7.5 years</th>\n",
       "      <td>19904</td>\n",
       "    </tr>\n",
       "    <tr>\n",
       "      <th>7.5-8 years</th>\n",
       "      <td>13722</td>\n",
       "    </tr>\n",
       "    <tr>\n",
       "      <th>3-6 months</th>\n",
       "      <td>10731</td>\n",
       "    </tr>\n",
       "    <tr>\n",
       "      <th>8-8.5 years</th>\n",
       "      <td>9696</td>\n",
       "    </tr>\n",
       "    <tr>\n",
       "      <th>8.5-9 years</th>\n",
       "      <td>6691</td>\n",
       "    </tr>\n",
       "    <tr>\n",
       "      <th>11.5+ years</th>\n",
       "      <td>3924</td>\n",
       "    </tr>\n",
       "    <tr>\n",
       "      <th>9-9.5 years</th>\n",
       "      <td>2052</td>\n",
       "    </tr>\n",
       "    <tr>\n",
       "      <th>9.5-10 years</th>\n",
       "      <td>1950</td>\n",
       "    </tr>\n",
       "    <tr>\n",
       "      <th>1-3 months</th>\n",
       "      <td>1816</td>\n",
       "    </tr>\n",
       "    <tr>\n",
       "      <th>10-10.5 years</th>\n",
       "      <td>1168</td>\n",
       "    </tr>\n",
       "    <tr>\n",
       "      <th>10.5-11 years</th>\n",
       "      <td>1087</td>\n",
       "    </tr>\n",
       "    <tr>\n",
       "      <th>11-11.5 years</th>\n",
       "      <td>819</td>\n",
       "    </tr>\n",
       "    <tr>\n",
       "      <th>&lt;1 month</th>\n",
       "      <td>379</td>\n",
       "    </tr>\n",
       "  </tbody>\n",
       "</table>\n",
       "</div><br><label><b>dtype:</b> int64</label>"
      ],
      "text/plain": [
       "purchase_freq\n",
       "6.5-7 years      744797\n",
       "3.5-4 years      207661\n",
       "4-4.5 years      200466\n",
       "5-5.5 years      185679\n",
       "5.5-6 years      177466\n",
       "6-6.5 years      173054\n",
       "2.5-3 years      169350\n",
       "2-2.5 years      157470\n",
       "3-3.5 years      124851\n",
       "21-24 months      57441\n",
       "18-21 months      53455\n",
       "15-18 months      41927\n",
       "6-12 months       39044\n",
       "12-15 months      39009\n",
       "6-9 months        30086\n",
       "7-7.5 years       19904\n",
       "7.5-8 years       13722\n",
       "3-6 months        10731\n",
       "8-8.5 years        9696\n",
       "8.5-9 years        6691\n",
       "11.5+ years        3924\n",
       "9-9.5 years        2052\n",
       "9.5-10 years       1950\n",
       "1-3 months         1816\n",
       "10-10.5 years      1168\n",
       "10.5-11 years      1087\n",
       "11-11.5 years       819\n",
       "<1 month            379\n",
       "Name: count, dtype: int64"
      ]
     },
     "execution_count": 32,
     "metadata": {},
     "output_type": "execute_result"
    }
   ],
   "source": [
    "#create the buckets of <1 month, 1-3 months, 3-6 months, 6-9 months, 9-12 months, 12-15 months,\n",
    "# 15-18 months, 18-21 months, 21-24 months, 2-2.5years, more than 2.5 years with an interval of 6 months\n",
    "# from timestamp column.\n",
    "df['purchase_freq'] = pd.cut(df.timestamp_freqDays, [0, 30, 90, 180, 272, 365, 450, 540, 630, 720,\n",
    "                                    900, 1080, 1260, 1440, 1620, 1800, 1980, 2160, 3340, 3520, 3700,\n",
    "                                    3880, 4060, 4240, 4420, 4600, 4780, 4960, 9999],\n",
    "        labels=[\"<1 month\", \"1-3 months\", \"3-6 months\", \"6-9 months\", \"6-12 months\",\n",
    "            \"12-15 months\", \"15-18 months\", \"18-21 months\", \"21-24 months\", \"2-2.5 years\", \"2.5-3 years\",\n",
    "            \"3-3.5 years\", \"3.5-4 years\", \"4-4.5 years\", \"5-5.5 years\", \"5.5-6 years\", \"6-6.5 years\",\n",
    "            \"6.5-7 years\", \"7-7.5 years\", \"7.5-8 years\", \"8-8.5 years\", \"8.5-9 years\", \"9-9.5 years\",\n",
    "            \"9.5-10 years\", \"10-10.5 years\", \"10.5-11 years\", \"11-11.5 years\", \"11.5+ years\"])\n",
    "df.purchase_freq.value_counts()"
   ]
  },
  {
   "cell_type": "code",
   "execution_count": null,
   "metadata": {
    "colab": {
     "base_uri": "https://localhost:8080/",
     "height": 356
    },
    "executionInfo": {
     "elapsed": 687,
     "status": "ok",
     "timestamp": 1735045697463,
     "user": {
      "displayName": "Awadhesh Kumar",
      "userId": "09062678670688019649"
     },
     "user_tz": -330
    },
    "id": "03QcOfDe8UVk",
    "outputId": "97afc99d-e05c-466d-d511-aa5dd3077c97"
   },
   "outputs": [
    {
     "data": {
      "image/png": "[encoded data removed]",
      "text/plain": [
       "<Figure size 1000x400 with 1 Axes>"
      ]
     },
     "metadata": {},
     "output_type": "display_data"
    }
   ],
   "source": [
    "plt.rcdefaults()\n",
    "plt.figure(figsize=[10, 4])\n",
    "df.purchase_freq.value_counts(normalize=True).plot.bar()\n",
    "plt.xlabel(\"Item Purchases in Timeframe\")\n",
    "plt.ylabel(\"Percentage\")\n",
    "plt.show()"
   ]
  },
  {
   "cell_type": "markdown",
   "metadata": {
    "id": "dU0FfYBQ8UVk"
   },
   "source": [
    "User Item purchase distribution across month"
   ]
  },
  {
   "cell_type": "code",
   "execution_count": null,
   "metadata": {
    "id": "YSithRk78UVk"
   },
   "outputs": [],
   "source": [
    "df['purchase_month'] = df.timestamp.apply(lambda x : x.month)"
   ]
  },
  {
   "cell_type": "code",
   "execution_count": null,
   "metadata": {
    "id": "Tt6K0nr58UVl"
   },
   "outputs": [],
   "source": [
    "months_map = {1: \"Jan\", 2: \"Feb\", 3: \"Mar\", 4: \"Apr\", 5: \"May\", 6: \"Jun\",\n",
    "              7: \"Jul\", 8: \"Aug\", 9: \"Sep\", 10: \"Oct\", 11: \"Nov\", 12: \"Dec\"}"
   ]
  },
  {
   "cell_type": "code",
   "execution_count": null,
   "metadata": {
    "id": "GOYw_TPM8UVl"
   },
   "outputs": [],
   "source": [
    "df.purchase_month = df.purchase_month.map(months_map)"
   ]
  },
  {
   "cell_type": "code",
   "execution_count": null,
   "metadata": {
    "colab": {
     "base_uri": "https://localhost:8080/",
     "height": 491
    },
    "executionInfo": {
     "elapsed": 32,
     "status": "ok",
     "timestamp": 1735045703060,
     "user": {
      "displayName": "Awadhesh Kumar",
      "userId": "09062678670688019649"
     },
     "user_tz": -330
    },
    "id": "5B4SODzPBe4g",
    "outputId": "5cc03e66-a9e3-40a8-f71d-70aece58d028"
   },
   "outputs": [
    {
     "data": {
      "text/html": [
       "<div>\n",
       "<style scoped>\n",
       "    .dataframe tbody tr th:only-of-type {\n",
       "        vertical-align: middle;\n",
       "    }\n",
       "\n",
       "    .dataframe tbody tr th {\n",
       "        vertical-align: top;\n",
       "    }\n",
       "\n",
       "    .dataframe thead th {\n",
       "        text-align: right;\n",
       "    }\n",
       "</style>\n",
       "<table border=\"1\" class=\"dataframe\">\n",
       "  <thead>\n",
       "    <tr style=\"text-align: right;\">\n",
       "      <th></th>\n",
       "      <th>proportion</th>\n",
       "    </tr>\n",
       "    <tr>\n",
       "      <th>purchase_month</th>\n",
       "      <th></th>\n",
       "    </tr>\n",
       "  </thead>\n",
       "  <tbody>\n",
       "    <tr>\n",
       "      <th>Jan</th>\n",
       "      <td>0.102408</td>\n",
       "    </tr>\n",
       "    <tr>\n",
       "      <th>Dec</th>\n",
       "      <td>0.098877</td>\n",
       "    </tr>\n",
       "    <tr>\n",
       "      <th>Jul</th>\n",
       "      <td>0.088751</td>\n",
       "    </tr>\n",
       "    <tr>\n",
       "      <th>Aug</th>\n",
       "      <td>0.086529</td>\n",
       "    </tr>\n",
       "    <tr>\n",
       "      <th>Mar</th>\n",
       "      <td>0.083500</td>\n",
       "    </tr>\n",
       "    <tr>\n",
       "      <th>Jun</th>\n",
       "      <td>0.080892</td>\n",
       "    </tr>\n",
       "    <tr>\n",
       "      <th>Oct</th>\n",
       "      <td>0.080295</td>\n",
       "    </tr>\n",
       "    <tr>\n",
       "      <th>Feb</th>\n",
       "      <td>0.079400</td>\n",
       "    </tr>\n",
       "    <tr>\n",
       "      <th>May</th>\n",
       "      <td>0.077035</td>\n",
       "    </tr>\n",
       "    <tr>\n",
       "      <th>Nov</th>\n",
       "      <td>0.074895</td>\n",
       "    </tr>\n",
       "    <tr>\n",
       "      <th>Apr</th>\n",
       "      <td>0.074007</td>\n",
       "    </tr>\n",
       "    <tr>\n",
       "      <th>Sep</th>\n",
       "      <td>0.073410</td>\n",
       "    </tr>\n",
       "  </tbody>\n",
       "</table>\n",
       "</div><br><label><b>dtype:</b> float64</label>"
      ],
      "text/plain": [
       "purchase_month\n",
       "Jan    0.102408\n",
       "Dec    0.098877\n",
       "Jul    0.088751\n",
       "Aug    0.086529\n",
       "Mar    0.083500\n",
       "Jun    0.080892\n",
       "Oct    0.080295\n",
       "Feb    0.079400\n",
       "May    0.077035\n",
       "Nov    0.074895\n",
       "Apr    0.074007\n",
       "Sep    0.073410\n",
       "Name: proportion, dtype: float64"
      ]
     },
     "execution_count": 37,
     "metadata": {},
     "output_type": "execute_result"
    }
   ],
   "source": [
    "df.purchase_month.value_counts(normalize=True)"
   ]
  },
  {
   "cell_type": "code",
   "execution_count": null,
   "metadata": {
    "colab": {
     "base_uri": "https://localhost:8080/",
     "height": 358
    },
    "executionInfo": {
     "elapsed": 666,
     "status": "ok",
     "timestamp": 1735045703695,
     "user": {
      "displayName": "Awadhesh Kumar",
      "userId": "09062678670688019649"
     },
     "user_tz": -330
    },
    "id": "y5-n3mJQ8UVl",
    "outputId": "38ac9cda-4335-4d7e-fb6c-a493345f1eb8"
   },
   "outputs": [
    {
     "data": {
      "image/png": "[encoded data removed]",
      "text/plain": [
       "<Figure size 1200x600 with 1 Axes>"
      ]
     },
     "metadata": {},
     "output_type": "display_data"
    }
   ],
   "source": [
    "plt.figure(figsize=[12, 6])\n",
    "df.purchase_month.value_counts(normalize=True).plot.bar()\n",
    "plt.xlabel(\"Month wise Purchase\")\n",
    "plt.ylabel(\"Percentage\")\n",
    "plt.show()"
   ]
  },
  {
   "cell_type": "markdown",
   "metadata": {
    "id": "ssMrDan78UVl"
   },
   "source": [
    "The purchases across the months have been consistent with an average weightage, 7.5% of total purchasings in every month. This is almost equally distributed. Among these, January, December and July are being the top 3 months with maximum purchasings and this shows some seasonality, considering winter and summer peak months."
   ]
  },
  {
   "cell_type": "code",
   "execution_count": null,
   "metadata": {
    "id": "b76vvKztXGwi"
   },
   "outputs": [],
   "source": [
    "df['purchase_year'] = df.timestamp.apply(lambda x : x.year)"
   ]
  },
  {
   "cell_type": "code",
   "execution_count": null,
   "metadata": {
    "colab": {
     "base_uri": "https://localhost:8080/",
     "height": 805
    },
    "executionInfo": {
     "elapsed": 43,
     "status": "ok",
     "timestamp": 1735045709648,
     "user": {
      "displayName": "Awadhesh Kumar",
      "userId": "09062678670688019649"
     },
     "user_tz": -330
    },
    "id": "ekiSyn6EXGwi",
    "outputId": "f8fbde8e-2a4b-4009-c010-1c9a86bc0e1d"
   },
   "outputs": [
    {
     "data": {
      "text/html": [
       "<div>\n",
       "<style scoped>\n",
       "    .dataframe tbody tr th:only-of-type {\n",
       "        vertical-align: middle;\n",
       "    }\n",
       "\n",
       "    .dataframe tbody tr th {\n",
       "        vertical-align: top;\n",
       "    }\n",
       "\n",
       "    .dataframe thead th {\n",
       "        text-align: right;\n",
       "    }\n",
       "</style>\n",
       "<table border=\"1\" class=\"dataframe\">\n",
       "  <thead>\n",
       "    <tr style=\"text-align: right;\">\n",
       "      <th></th>\n",
       "      <th>proportion</th>\n",
       "    </tr>\n",
       "    <tr>\n",
       "      <th>purchase_year</th>\n",
       "      <th></th>\n",
       "    </tr>\n",
       "  </thead>\n",
       "  <tbody>\n",
       "    <tr>\n",
       "      <th>2019</th>\n",
       "      <td>0.164820</td>\n",
       "    </tr>\n",
       "    <tr>\n",
       "      <th>2017</th>\n",
       "      <td>0.148668</td>\n",
       "    </tr>\n",
       "    <tr>\n",
       "      <th>2018</th>\n",
       "      <td>0.147839</td>\n",
       "    </tr>\n",
       "    <tr>\n",
       "      <th>2020</th>\n",
       "      <td>0.124891</td>\n",
       "    </tr>\n",
       "    <tr>\n",
       "      <th>2021</th>\n",
       "      <td>0.123844</td>\n",
       "    </tr>\n",
       "    <tr>\n",
       "      <th>2016</th>\n",
       "      <td>0.115389</td>\n",
       "    </tr>\n",
       "    <tr>\n",
       "      <th>2022</th>\n",
       "      <td>0.069596</td>\n",
       "    </tr>\n",
       "    <tr>\n",
       "      <th>2015</th>\n",
       "      <td>0.051195</td>\n",
       "    </tr>\n",
       "    <tr>\n",
       "      <th>2014</th>\n",
       "      <td>0.023832</td>\n",
       "    </tr>\n",
       "    <tr>\n",
       "      <th>2023</th>\n",
       "      <td>0.014362</td>\n",
       "    </tr>\n",
       "    <tr>\n",
       "      <th>2013</th>\n",
       "      <td>0.009170</td>\n",
       "    </tr>\n",
       "    <tr>\n",
       "      <th>2012</th>\n",
       "      <td>0.002959</td>\n",
       "    </tr>\n",
       "    <tr>\n",
       "      <th>2011</th>\n",
       "      <td>0.001198</td>\n",
       "    </tr>\n",
       "    <tr>\n",
       "      <th>2010</th>\n",
       "      <td>0.000748</td>\n",
       "    </tr>\n",
       "    <tr>\n",
       "      <th>2009</th>\n",
       "      <td>0.000565</td>\n",
       "    </tr>\n",
       "    <tr>\n",
       "      <th>2008</th>\n",
       "      <td>0.000469</td>\n",
       "    </tr>\n",
       "    <tr>\n",
       "      <th>2007</th>\n",
       "      <td>0.000345</td>\n",
       "    </tr>\n",
       "    <tr>\n",
       "      <th>2006</th>\n",
       "      <td>0.000061</td>\n",
       "    </tr>\n",
       "    <tr>\n",
       "      <th>2005</th>\n",
       "      <td>0.000028</td>\n",
       "    </tr>\n",
       "    <tr>\n",
       "      <th>2004</th>\n",
       "      <td>0.000014</td>\n",
       "    </tr>\n",
       "    <tr>\n",
       "      <th>2003</th>\n",
       "      <td>0.000004</td>\n",
       "    </tr>\n",
       "    <tr>\n",
       "      <th>2002</th>\n",
       "      <td>0.000002</td>\n",
       "    </tr>\n",
       "  </tbody>\n",
       "</table>\n",
       "</div><br><label><b>dtype:</b> float64</label>"
      ],
      "text/plain": [
       "purchase_year\n",
       "2019    0.164820\n",
       "2017    0.148668\n",
       "2018    0.147839\n",
       "2020    0.124891\n",
       "2021    0.123844\n",
       "2016    0.115389\n",
       "2022    0.069596\n",
       "2015    0.051195\n",
       "2014    0.023832\n",
       "2023    0.014362\n",
       "2013    0.009170\n",
       "2012    0.002959\n",
       "2011    0.001198\n",
       "2010    0.000748\n",
       "2009    0.000565\n",
       "2008    0.000469\n",
       "2007    0.000345\n",
       "2006    0.000061\n",
       "2005    0.000028\n",
       "2004    0.000014\n",
       "2003    0.000004\n",
       "2002    0.000002\n",
       "Name: proportion, dtype: float64"
      ]
     },
     "execution_count": 40,
     "metadata": {},
     "output_type": "execute_result"
    }
   ],
   "source": [
    "df.purchase_year.value_counts(normalize=True)"
   ]
  },
  {
   "cell_type": "code",
   "execution_count": null,
   "metadata": {
    "colab": {
     "base_uri": "https://localhost:8080/",
     "height": 583
    },
    "executionInfo": {
     "elapsed": 41,
     "status": "ok",
     "timestamp": 1735045709648,
     "user": {
      "displayName": "Awadhesh Kumar",
      "userId": "09062678670688019649"
     },
     "user_tz": -330
    },
    "id": "AvnqT3yLXGwi",
    "outputId": "1508cb6a-a278-43e2-84a1-42ee94f6c427"
   },
   "outputs": [
    {
     "data": {
      "image/png": "[encoded data removed]",
      "text/plain": [
       "<Figure size 1200x600 with 1 Axes>"
      ]
     },
     "metadata": {},
     "output_type": "display_data"
    }
   ],
   "source": [
    "plt.figure(figsize=[12, 6])\n",
    "df.purchase_year.value_counts(normalize=True).plot.bar()\n",
    "plt.xlabel(\"Year wise user item purchasing records\")\n",
    "plt.ylabel(\"Percentage\")\n",
    "plt.show()"
   ]
  },
  {
   "cell_type": "code",
   "execution_count": null,
   "metadata": {
    "colab": {
     "base_uri": "https://localhost:8080/",
     "height": 805
    },
    "executionInfo": {
     "elapsed": 40,
     "status": "ok",
     "timestamp": 1735045709649,
     "user": {
      "displayName": "Awadhesh Kumar",
      "userId": "09062678670688019649"
     },
     "user_tz": -330
    },
    "id": "zyUuxwszXGwi",
    "outputId": "882b6d59-b55f-41cb-a57a-689693266a09"
   },
   "outputs": [
    {
     "data": {
      "text/html": [
       "<div>\n",
       "<style scoped>\n",
       "    .dataframe tbody tr th:only-of-type {\n",
       "        vertical-align: middle;\n",
       "    }\n",
       "\n",
       "    .dataframe tbody tr th {\n",
       "        vertical-align: top;\n",
       "    }\n",
       "\n",
       "    .dataframe thead th {\n",
       "        text-align: right;\n",
       "    }\n",
       "</style>\n",
       "<table border=\"1\" class=\"dataframe\">\n",
       "  <thead>\n",
       "    <tr style=\"text-align: right;\">\n",
       "      <th></th>\n",
       "      <th>user_id</th>\n",
       "    </tr>\n",
       "    <tr>\n",
       "      <th>purchase_year</th>\n",
       "      <th></th>\n",
       "    </tr>\n",
       "  </thead>\n",
       "  <tbody>\n",
       "    <tr>\n",
       "      <th>2002</th>\n",
       "      <td>6</td>\n",
       "    </tr>\n",
       "    <tr>\n",
       "      <th>2003</th>\n",
       "      <td>10</td>\n",
       "    </tr>\n",
       "    <tr>\n",
       "      <th>2004</th>\n",
       "      <td>34</td>\n",
       "    </tr>\n",
       "    <tr>\n",
       "      <th>2005</th>\n",
       "      <td>69</td>\n",
       "    </tr>\n",
       "    <tr>\n",
       "      <th>2006</th>\n",
       "      <td>152</td>\n",
       "    </tr>\n",
       "    <tr>\n",
       "      <th>2007</th>\n",
       "      <td>855</td>\n",
       "    </tr>\n",
       "    <tr>\n",
       "      <th>2008</th>\n",
       "      <td>1162</td>\n",
       "    </tr>\n",
       "    <tr>\n",
       "      <th>2009</th>\n",
       "      <td>1400</td>\n",
       "    </tr>\n",
       "    <tr>\n",
       "      <th>2010</th>\n",
       "      <td>1852</td>\n",
       "    </tr>\n",
       "    <tr>\n",
       "      <th>2011</th>\n",
       "      <td>2965</td>\n",
       "    </tr>\n",
       "    <tr>\n",
       "      <th>2012</th>\n",
       "      <td>7326</td>\n",
       "    </tr>\n",
       "    <tr>\n",
       "      <th>2013</th>\n",
       "      <td>22703</td>\n",
       "    </tr>\n",
       "    <tr>\n",
       "      <th>2014</th>\n",
       "      <td>59001</td>\n",
       "    </tr>\n",
       "    <tr>\n",
       "      <th>2015</th>\n",
       "      <td>126743</td>\n",
       "    </tr>\n",
       "    <tr>\n",
       "      <th>2016</th>\n",
       "      <td>285667</td>\n",
       "    </tr>\n",
       "    <tr>\n",
       "      <th>2017</th>\n",
       "      <td>368056</td>\n",
       "    </tr>\n",
       "    <tr>\n",
       "      <th>2018</th>\n",
       "      <td>366004</td>\n",
       "    </tr>\n",
       "    <tr>\n",
       "      <th>2019</th>\n",
       "      <td>408044</td>\n",
       "    </tr>\n",
       "    <tr>\n",
       "      <th>2020</th>\n",
       "      <td>309192</td>\n",
       "    </tr>\n",
       "    <tr>\n",
       "      <th>2021</th>\n",
       "      <td>306600</td>\n",
       "    </tr>\n",
       "    <tr>\n",
       "      <th>2022</th>\n",
       "      <td>172299</td>\n",
       "    </tr>\n",
       "    <tr>\n",
       "      <th>2023</th>\n",
       "      <td>35555</td>\n",
       "    </tr>\n",
       "  </tbody>\n",
       "</table>\n",
       "</div><br><label><b>dtype:</b> int64</label>"
      ],
      "text/plain": [
       "purchase_year\n",
       "2002         6\n",
       "2003        10\n",
       "2004        34\n",
       "2005        69\n",
       "2006       152\n",
       "2007       855\n",
       "2008      1162\n",
       "2009      1400\n",
       "2010      1852\n",
       "2011      2965\n",
       "2012      7326\n",
       "2013     22703\n",
       "2014     59001\n",
       "2015    126743\n",
       "2016    285667\n",
       "2017    368056\n",
       "2018    366004\n",
       "2019    408044\n",
       "2020    309192\n",
       "2021    306600\n",
       "2022    172299\n",
       "2023     35555\n",
       "Name: user_id, dtype: int64"
      ]
     },
     "execution_count": 42,
     "metadata": {},
     "output_type": "execute_result"
    }
   ],
   "source": [
    "df.groupby(by=\"purchase_year\")['user_id'].count()"
   ]
  },
  {
   "cell_type": "code",
   "execution_count": null,
   "metadata": {
    "colab": {
     "base_uri": "https://localhost:8080/",
     "height": 805
    },
    "executionInfo": {
     "elapsed": 1627,
     "status": "ok",
     "timestamp": 1735045711237,
     "user": {
      "displayName": "Awadhesh Kumar",
      "userId": "09062678670688019649"
     },
     "user_tz": -330
    },
    "id": "K-WL_3XIXGwi",
    "outputId": "11650438-7d73-44f3-e42f-a6fcdb526198"
   },
   "outputs": [
    {
     "data": {
      "text/html": [
       "<div>\n",
       "<style scoped>\n",
       "    .dataframe tbody tr th:only-of-type {\n",
       "        vertical-align: middle;\n",
       "    }\n",
       "\n",
       "    .dataframe tbody tr th {\n",
       "        vertical-align: top;\n",
       "    }\n",
       "\n",
       "    .dataframe thead th {\n",
       "        text-align: right;\n",
       "    }\n",
       "</style>\n",
       "<table border=\"1\" class=\"dataframe\">\n",
       "  <thead>\n",
       "    <tr style=\"text-align: right;\">\n",
       "      <th></th>\n",
       "      <th>user_id</th>\n",
       "    </tr>\n",
       "    <tr>\n",
       "      <th>purchase_year</th>\n",
       "      <th></th>\n",
       "    </tr>\n",
       "  </thead>\n",
       "  <tbody>\n",
       "    <tr>\n",
       "      <th>2002</th>\n",
       "      <td>6</td>\n",
       "    </tr>\n",
       "    <tr>\n",
       "      <th>2003</th>\n",
       "      <td>10</td>\n",
       "    </tr>\n",
       "    <tr>\n",
       "      <th>2004</th>\n",
       "      <td>34</td>\n",
       "    </tr>\n",
       "    <tr>\n",
       "      <th>2005</th>\n",
       "      <td>67</td>\n",
       "    </tr>\n",
       "    <tr>\n",
       "      <th>2006</th>\n",
       "      <td>149</td>\n",
       "    </tr>\n",
       "    <tr>\n",
       "      <th>2007</th>\n",
       "      <td>829</td>\n",
       "    </tr>\n",
       "    <tr>\n",
       "      <th>2008</th>\n",
       "      <td>1122</td>\n",
       "    </tr>\n",
       "    <tr>\n",
       "      <th>2009</th>\n",
       "      <td>1348</td>\n",
       "    </tr>\n",
       "    <tr>\n",
       "      <th>2010</th>\n",
       "      <td>1810</td>\n",
       "    </tr>\n",
       "    <tr>\n",
       "      <th>2011</th>\n",
       "      <td>2908</td>\n",
       "    </tr>\n",
       "    <tr>\n",
       "      <th>2012</th>\n",
       "      <td>7114</td>\n",
       "    </tr>\n",
       "    <tr>\n",
       "      <th>2013</th>\n",
       "      <td>21820</td>\n",
       "    </tr>\n",
       "    <tr>\n",
       "      <th>2014</th>\n",
       "      <td>55534</td>\n",
       "    </tr>\n",
       "    <tr>\n",
       "      <th>2015</th>\n",
       "      <td>116837</td>\n",
       "    </tr>\n",
       "    <tr>\n",
       "      <th>2016</th>\n",
       "      <td>252931</td>\n",
       "    </tr>\n",
       "    <tr>\n",
       "      <th>2017</th>\n",
       "      <td>327495</td>\n",
       "    </tr>\n",
       "    <tr>\n",
       "      <th>2018</th>\n",
       "      <td>330909</td>\n",
       "    </tr>\n",
       "    <tr>\n",
       "      <th>2019</th>\n",
       "      <td>368893</td>\n",
       "    </tr>\n",
       "    <tr>\n",
       "      <th>2020</th>\n",
       "      <td>286833</td>\n",
       "    </tr>\n",
       "    <tr>\n",
       "      <th>2021</th>\n",
       "      <td>284697</td>\n",
       "    </tr>\n",
       "    <tr>\n",
       "      <th>2022</th>\n",
       "      <td>160692</td>\n",
       "    </tr>\n",
       "    <tr>\n",
       "      <th>2023</th>\n",
       "      <td>34251</td>\n",
       "    </tr>\n",
       "  </tbody>\n",
       "</table>\n",
       "</div><br><label><b>dtype:</b> int64</label>"
      ],
      "text/plain": [
       "purchase_year\n",
       "2002         6\n",
       "2003        10\n",
       "2004        34\n",
       "2005        67\n",
       "2006       149\n",
       "2007       829\n",
       "2008      1122\n",
       "2009      1348\n",
       "2010      1810\n",
       "2011      2908\n",
       "2012      7114\n",
       "2013     21820\n",
       "2014     55534\n",
       "2015    116837\n",
       "2016    252931\n",
       "2017    327495\n",
       "2018    330909\n",
       "2019    368893\n",
       "2020    286833\n",
       "2021    284697\n",
       "2022    160692\n",
       "2023     34251\n",
       "Name: user_id, dtype: int64"
      ]
     },
     "execution_count": 43,
     "metadata": {},
     "output_type": "execute_result"
    }
   ],
   "source": [
    "df.groupby(by=\"purchase_year\")['user_id'].nunique()"
   ]
  },
  {
   "cell_type": "code",
   "execution_count": null,
   "metadata": {
    "colab": {
     "base_uri": "https://localhost:8080/",
     "height": 805
    },
    "executionInfo": {
     "elapsed": 42,
     "status": "ok",
     "timestamp": 1735045711237,
     "user": {
      "displayName": "Awadhesh Kumar",
      "userId": "09062678670688019649"
     },
     "user_tz": -330
    },
    "id": "nZDfVQuYXGwi",
    "outputId": "23567275-9117-412a-e93a-a88b9c82e5a6"
   },
   "outputs": [
    {
     "data": {
      "text/html": [
       "<div>\n",
       "<style scoped>\n",
       "    .dataframe tbody tr th:only-of-type {\n",
       "        vertical-align: middle;\n",
       "    }\n",
       "\n",
       "    .dataframe tbody tr th {\n",
       "        vertical-align: top;\n",
       "    }\n",
       "\n",
       "    .dataframe thead th {\n",
       "        text-align: right;\n",
       "    }\n",
       "</style>\n",
       "<table border=\"1\" class=\"dataframe\">\n",
       "  <thead>\n",
       "    <tr style=\"text-align: right;\">\n",
       "      <th></th>\n",
       "      <th>parent_asin</th>\n",
       "    </tr>\n",
       "    <tr>\n",
       "      <th>purchase_year</th>\n",
       "      <th></th>\n",
       "    </tr>\n",
       "  </thead>\n",
       "  <tbody>\n",
       "    <tr>\n",
       "      <th>2002</th>\n",
       "      <td>6</td>\n",
       "    </tr>\n",
       "    <tr>\n",
       "      <th>2003</th>\n",
       "      <td>10</td>\n",
       "    </tr>\n",
       "    <tr>\n",
       "      <th>2004</th>\n",
       "      <td>34</td>\n",
       "    </tr>\n",
       "    <tr>\n",
       "      <th>2005</th>\n",
       "      <td>69</td>\n",
       "    </tr>\n",
       "    <tr>\n",
       "      <th>2006</th>\n",
       "      <td>152</td>\n",
       "    </tr>\n",
       "    <tr>\n",
       "      <th>2007</th>\n",
       "      <td>855</td>\n",
       "    </tr>\n",
       "    <tr>\n",
       "      <th>2008</th>\n",
       "      <td>1162</td>\n",
       "    </tr>\n",
       "    <tr>\n",
       "      <th>2009</th>\n",
       "      <td>1400</td>\n",
       "    </tr>\n",
       "    <tr>\n",
       "      <th>2010</th>\n",
       "      <td>1852</td>\n",
       "    </tr>\n",
       "    <tr>\n",
       "      <th>2011</th>\n",
       "      <td>2965</td>\n",
       "    </tr>\n",
       "    <tr>\n",
       "      <th>2012</th>\n",
       "      <td>7326</td>\n",
       "    </tr>\n",
       "    <tr>\n",
       "      <th>2013</th>\n",
       "      <td>22703</td>\n",
       "    </tr>\n",
       "    <tr>\n",
       "      <th>2014</th>\n",
       "      <td>59001</td>\n",
       "    </tr>\n",
       "    <tr>\n",
       "      <th>2015</th>\n",
       "      <td>126743</td>\n",
       "    </tr>\n",
       "    <tr>\n",
       "      <th>2016</th>\n",
       "      <td>285667</td>\n",
       "    </tr>\n",
       "    <tr>\n",
       "      <th>2017</th>\n",
       "      <td>368056</td>\n",
       "    </tr>\n",
       "    <tr>\n",
       "      <th>2018</th>\n",
       "      <td>366004</td>\n",
       "    </tr>\n",
       "    <tr>\n",
       "      <th>2019</th>\n",
       "      <td>408044</td>\n",
       "    </tr>\n",
       "    <tr>\n",
       "      <th>2020</th>\n",
       "      <td>309192</td>\n",
       "    </tr>\n",
       "    <tr>\n",
       "      <th>2021</th>\n",
       "      <td>306600</td>\n",
       "    </tr>\n",
       "    <tr>\n",
       "      <th>2022</th>\n",
       "      <td>172299</td>\n",
       "    </tr>\n",
       "    <tr>\n",
       "      <th>2023</th>\n",
       "      <td>35555</td>\n",
       "    </tr>\n",
       "  </tbody>\n",
       "</table>\n",
       "</div><br><label><b>dtype:</b> int64</label>"
      ],
      "text/plain": [
       "purchase_year\n",
       "2002         6\n",
       "2003        10\n",
       "2004        34\n",
       "2005        69\n",
       "2006       152\n",
       "2007       855\n",
       "2008      1162\n",
       "2009      1400\n",
       "2010      1852\n",
       "2011      2965\n",
       "2012      7326\n",
       "2013     22703\n",
       "2014     59001\n",
       "2015    126743\n",
       "2016    285667\n",
       "2017    368056\n",
       "2018    366004\n",
       "2019    408044\n",
       "2020    309192\n",
       "2021    306600\n",
       "2022    172299\n",
       "2023     35555\n",
       "Name: parent_asin, dtype: int64"
      ]
     },
     "execution_count": 44,
     "metadata": {},
     "output_type": "execute_result"
    }
   ],
   "source": [
    "df.groupby(by=\"purchase_year\")['parent_asin'].count()"
   ]
  },
  {
   "cell_type": "code",
   "execution_count": null,
   "metadata": {
    "colab": {
     "base_uri": "https://localhost:8080/",
     "height": 805
    },
    "executionInfo": {
     "elapsed": 1271,
     "status": "ok",
     "timestamp": 1735045712467,
     "user": {
      "displayName": "Awadhesh Kumar",
      "userId": "09062678670688019649"
     },
     "user_tz": -330
    },
    "id": "ospM07O7XGwj",
    "outputId": "7c6bb190-4343-4d4e-cac4-39f3c27be24a"
   },
   "outputs": [
    {
     "data": {
      "text/html": [
       "<div>\n",
       "<style scoped>\n",
       "    .dataframe tbody tr th:only-of-type {\n",
       "        vertical-align: middle;\n",
       "    }\n",
       "\n",
       "    .dataframe tbody tr th {\n",
       "        vertical-align: top;\n",
       "    }\n",
       "\n",
       "    .dataframe thead th {\n",
       "        text-align: right;\n",
       "    }\n",
       "</style>\n",
       "<table border=\"1\" class=\"dataframe\">\n",
       "  <thead>\n",
       "    <tr style=\"text-align: right;\">\n",
       "      <th></th>\n",
       "      <th>parent_asin</th>\n",
       "    </tr>\n",
       "    <tr>\n",
       "      <th>purchase_year</th>\n",
       "      <th></th>\n",
       "    </tr>\n",
       "  </thead>\n",
       "  <tbody>\n",
       "    <tr>\n",
       "      <th>2002</th>\n",
       "      <td>5</td>\n",
       "    </tr>\n",
       "    <tr>\n",
       "      <th>2003</th>\n",
       "      <td>10</td>\n",
       "    </tr>\n",
       "    <tr>\n",
       "      <th>2004</th>\n",
       "      <td>26</td>\n",
       "    </tr>\n",
       "    <tr>\n",
       "      <th>2005</th>\n",
       "      <td>60</td>\n",
       "    </tr>\n",
       "    <tr>\n",
       "      <th>2006</th>\n",
       "      <td>119</td>\n",
       "    </tr>\n",
       "    <tr>\n",
       "      <th>2007</th>\n",
       "      <td>668</td>\n",
       "    </tr>\n",
       "    <tr>\n",
       "      <th>2008</th>\n",
       "      <td>807</td>\n",
       "    </tr>\n",
       "    <tr>\n",
       "      <th>2009</th>\n",
       "      <td>1039</td>\n",
       "    </tr>\n",
       "    <tr>\n",
       "      <th>2010</th>\n",
       "      <td>1406</td>\n",
       "    </tr>\n",
       "    <tr>\n",
       "      <th>2011</th>\n",
       "      <td>2121</td>\n",
       "    </tr>\n",
       "    <tr>\n",
       "      <th>2012</th>\n",
       "      <td>4065</td>\n",
       "    </tr>\n",
       "    <tr>\n",
       "      <th>2013</th>\n",
       "      <td>9343</td>\n",
       "    </tr>\n",
       "    <tr>\n",
       "      <th>2014</th>\n",
       "      <td>21194</td>\n",
       "    </tr>\n",
       "    <tr>\n",
       "      <th>2015</th>\n",
       "      <td>44108</td>\n",
       "    </tr>\n",
       "    <tr>\n",
       "      <th>2016</th>\n",
       "      <td>102689</td>\n",
       "    </tr>\n",
       "    <tr>\n",
       "      <th>2017</th>\n",
       "      <td>147550</td>\n",
       "    </tr>\n",
       "    <tr>\n",
       "      <th>2018</th>\n",
       "      <td>167875</td>\n",
       "    </tr>\n",
       "    <tr>\n",
       "      <th>2019</th>\n",
       "      <td>201530</td>\n",
       "    </tr>\n",
       "    <tr>\n",
       "      <th>2020</th>\n",
       "      <td>164429</td>\n",
       "    </tr>\n",
       "    <tr>\n",
       "      <th>2021</th>\n",
       "      <td>168679</td>\n",
       "    </tr>\n",
       "    <tr>\n",
       "      <th>2022</th>\n",
       "      <td>91962</td>\n",
       "    </tr>\n",
       "    <tr>\n",
       "      <th>2023</th>\n",
       "      <td>16406</td>\n",
       "    </tr>\n",
       "  </tbody>\n",
       "</table>\n",
       "</div><br><label><b>dtype:</b> int64</label>"
      ],
      "text/plain": [
       "purchase_year\n",
       "2002         5\n",
       "2003        10\n",
       "2004        26\n",
       "2005        60\n",
       "2006       119\n",
       "2007       668\n",
       "2008       807\n",
       "2009      1039\n",
       "2010      1406\n",
       "2011      2121\n",
       "2012      4065\n",
       "2013      9343\n",
       "2014     21194\n",
       "2015     44108\n",
       "2016    102689\n",
       "2017    147550\n",
       "2018    167875\n",
       "2019    201530\n",
       "2020    164429\n",
       "2021    168679\n",
       "2022     91962\n",
       "2023     16406\n",
       "Name: parent_asin, dtype: int64"
      ]
     },
     "execution_count": 45,
     "metadata": {},
     "output_type": "execute_result"
    }
   ],
   "source": [
    "df.groupby(by=\"purchase_year\")['parent_asin'].nunique()"
   ]
  },
  {
   "cell_type": "markdown",
   "metadata": {
    "id": "AySSNm2FXGwj"
   },
   "source": [
    "We see that both users and items, earlier than past 10 years (2013) are less and both have grown with almost same rate which clearly indicates the high sparisty in data."
   ]
  },
  {
   "cell_type": "markdown",
   "metadata": {
    "id": "bN-H5RFt07mi"
   },
   "source": [
    "### Data Preparation"
   ]
  },
  {
   "cell_type": "code",
   "execution_count": null,
   "metadata": {
    "colab": {
     "base_uri": "https://localhost:8080/"
    },
    "executionInfo": {
     "elapsed": 2008,
     "status": "ok",
     "timestamp": 1735045714465,
     "user": {
      "displayName": "Awadhesh Kumar",
      "userId": "09062678670688019649"
     },
     "user_tz": -330
    },
    "id": "lklSHnBXNGiG",
    "outputId": "7f240562-8f9d-40c1-9c30-e5c8191efab4"
   },
   "outputs": [
    {
     "name": "stdout",
     "output_type": "stream",
     "text": [
      "Start Data Filtration\n",
      "Dataset shape: (2475695, 17) Users count: 2035490 Items count: 825869\n"
     ]
    }
   ],
   "source": [
    "print(\"Start Data Filtration\")\n",
    "print_user_items_count(df)"
   ]
  },
  {
   "cell_type": "markdown",
   "metadata": {
    "id": "7Redhjm17Ima"
   },
   "source": [
    "Filter the data with verified purchase as False"
   ]
  },
  {
   "cell_type": "code",
   "execution_count": null,
   "metadata": {
    "colab": {
     "base_uri": "https://localhost:8080/"
    },
    "executionInfo": {
     "elapsed": 15,
     "status": "ok",
     "timestamp": 1735045714465,
     "user": {
      "displayName": "Awadhesh Kumar",
      "userId": "09062678670688019649"
     },
     "user_tz": -330
    },
    "id": "Oz9UTfIe7Imb",
    "outputId": "c617ba0c-310a-4756-edbd-433226682c03"
   },
   "outputs": [
    {
     "data": {
      "text/plain": [
       "(161622, 17)"
      ]
     },
     "execution_count": 47,
     "metadata": {},
     "output_type": "execute_result"
    }
   ],
   "source": [
    "df[df.verified_purchase == False].shape"
   ]
  },
  {
   "cell_type": "code",
   "execution_count": null,
   "metadata": {
    "id": "sPSQc-E67Imb"
   },
   "outputs": [],
   "source": [
    "df = df[~(df.verified_purchase == False)]"
   ]
  },
  {
   "cell_type": "code",
   "execution_count": null,
   "metadata": {
    "colab": {
     "base_uri": "https://localhost:8080/"
    },
    "executionInfo": {
     "elapsed": 2171,
     "status": "ok",
     "timestamp": 1735045717015,
     "user": {
      "displayName": "Awadhesh Kumar",
      "userId": "09062678670688019649"
     },
     "user_tz": -330
    },
    "id": "NnUpk8tR7Imc",
    "outputId": "3d5165ba-94c7-4e45-f338-8f83389a3c70"
   },
   "outputs": [
    {
     "name": "stdout",
     "output_type": "stream",
     "text": [
      "After filtering with verified_purchase = True\n",
      "Dataset shape: (2314073, 17) Users count: 1937340 Items count: 776976\n"
     ]
    }
   ],
   "source": [
    "print(\"After filtering with verified_purchase = True\")\n",
    "print_user_items_count(df)"
   ]
  },
  {
   "cell_type": "markdown",
   "metadata": {
    "id": "rQcPat-t07ms"
   },
   "source": [
    "Filter the data with rating less than 3 as these will not be potential items for next purchasings"
   ]
  },
  {
   "cell_type": "code",
   "execution_count": null,
   "metadata": {
    "id": "n4VjWOxA07ms"
   },
   "outputs": [],
   "source": [
    "MIN_RATING = 3\n",
    "df = df[~(df.rating < MIN_RATING)]"
   ]
  },
  {
   "cell_type": "code",
   "execution_count": null,
   "metadata": {
    "colab": {
     "base_uri": "https://localhost:8080/"
    },
    "executionInfo": {
     "elapsed": 1504,
     "status": "ok",
     "timestamp": 1735045719236,
     "user": {
      "displayName": "Awadhesh Kumar",
      "userId": "09062678670688019649"
     },
     "user_tz": -330
    },
    "id": "EL_sseRm07ms",
    "outputId": "332d9a9a-c4c1-48d0-f5e9-df7ae7c5343f"
   },
   "outputs": [
    {
     "name": "stdout",
     "output_type": "stream",
     "text": [
      "After filtering with min rating of 3\n",
      "Dataset shape: (1871843, 17) Users count: 1590637 Items count: 660679\n"
     ]
    }
   ],
   "source": [
    "print(\"After filtering with min rating of 3\")\n",
    "print_user_items_count(df)"
   ]
  },
  {
   "cell_type": "markdown",
   "metadata": {
    "id": "FF20_kjt68pw"
   },
   "source": [
    "Drop extra columns"
   ]
  },
  {
   "cell_type": "code",
   "execution_count": null,
   "metadata": {
    "id": "v2vh56ER07mt"
   },
   "outputs": [],
   "source": [
    "df.drop(columns=['timestamp', 'timestamp_freqLast', 'timestamp_freqDays', 'asin', 'purchase_month',\n",
    "                 'purchase_freq', 'purchase_year', 'helpful_vote_range', 'helpful_vote_Rel'], axis=1, inplace=True)"
   ]
  },
  {
   "cell_type": "markdown",
   "metadata": {
    "id": "evRLYQ2hXGwl"
   },
   "source": [
    "#### Data Transformation"
   ]
  },
  {
   "cell_type": "code",
   "execution_count": null,
   "metadata": {
    "colab": {
     "base_uri": "https://localhost:8080/"
    },
    "executionInfo": {
     "elapsed": 1720,
     "status": "ok",
     "timestamp": 1735045777705,
     "user": {
      "displayName": "Awadhesh Kumar",
      "userId": "09062678670688019649"
     },
     "user_tz": -330
    },
    "id": "IgQkU-c1XGwl",
    "outputId": "e91d20dd-4e67-49d5-8e93-df958458e802"
   },
   "outputs": [
    {
     "name": "stdout",
     "output_type": "stream",
     "text": [
      "Filtered Users and Items for the Sentiment task model\n",
      "Dataset shape: (1871843, 8) Users count: 1590637 Items count: 660679\n"
     ]
    }
   ],
   "source": [
    "print(\"Filtered Users and Items for the Sentiment task model\")\n",
    "print_user_items_count(df)"
   ]
  },
  {
   "cell_type": "markdown",
   "metadata": {
    "id": "WA5tWQz4XGwl"
   },
   "source": [
    "##### Define sentiment label column\n",
    "This will be used to capture user sentiment. 1=Positive, 0=Negative"
   ]
  },
  {
   "cell_type": "code",
   "execution_count": null,
   "metadata": {
    "colab": {
     "base_uri": "https://localhost:8080/",
     "height": 241
    },
    "executionInfo": {
     "elapsed": 417,
     "status": "ok",
     "timestamp": 1735045783122,
     "user": {
      "displayName": "Awadhesh Kumar",
      "userId": "09062678670688019649"
     },
     "user_tz": -330
    },
    "id": "XLO1xOfIXGwm",
    "outputId": "98105e55-fb0b-43ed-97b2-354311dfbfda"
   },
   "outputs": [
    {
     "data": {
      "text/html": [
       "<div>\n",
       "<style scoped>\n",
       "    .dataframe tbody tr th:only-of-type {\n",
       "        vertical-align: middle;\n",
       "    }\n",
       "\n",
       "    .dataframe tbody tr th {\n",
       "        vertical-align: top;\n",
       "    }\n",
       "\n",
       "    .dataframe thead th {\n",
       "        text-align: right;\n",
       "    }\n",
       "</style>\n",
       "<table border=\"1\" class=\"dataframe\">\n",
       "  <thead>\n",
       "    <tr style=\"text-align: right;\">\n",
       "      <th></th>\n",
       "      <th>text</th>\n",
       "    </tr>\n",
       "  </thead>\n",
       "  <tbody>\n",
       "    <tr>\n",
       "      <th>0</th>\n",
       "      <td>I think this locket is really pretty. The insi...</td>\n",
       "    </tr>\n",
       "    <tr>\n",
       "      <th>1</th>\n",
       "      <td>Great</td>\n",
       "    </tr>\n",
       "    <tr>\n",
       "      <th>4</th>\n",
       "      <td>I LOVE these glasses!  They fit perfectly over...</td>\n",
       "    </tr>\n",
       "    <tr>\n",
       "      <th>5</th>\n",
       "      <td>Works OK for adults and is not at all kid frie...</td>\n",
       "    </tr>\n",
       "    <tr>\n",
       "      <th>6</th>\n",
       "      <td>Great fit</td>\n",
       "    </tr>\n",
       "  </tbody>\n",
       "</table>\n",
       "</div><br><label><b>dtype:</b> object</label>"
      ],
      "text/plain": [
       "0    I think this locket is really pretty. The insi...\n",
       "1                                                Great\n",
       "4    I LOVE these glasses!  They fit perfectly over...\n",
       "5    Works OK for adults and is not at all kid frie...\n",
       "6                                            Great fit\n",
       "Name: text, dtype: object"
      ]
     },
     "execution_count": 55,
     "metadata": {},
     "output_type": "execute_result"
    }
   ],
   "source": [
    "df.text[:5]"
   ]
  },
  {
   "cell_type": "markdown",
   "metadata": {
    "id": "-IIGFsolXGwm"
   },
   "source": [
    "Standardise the text for processing"
   ]
  },
  {
   "cell_type": "code",
   "execution_count": null,
   "metadata": {
    "id": "5ZSd8bhVXGwm"
   },
   "outputs": [],
   "source": [
    "def text_standardization(input):\n",
    "    punctuations = r\"\"\"!\"#$%&'()*+,-/:;<=>?@[\\]^_`{|}~\"\"\"\n",
    "    lowercase = tf.strings.lower(input)\n",
    "    stripped_html = tf.strings.regex_replace(lowercase, '<br />', ' ')\n",
    "    text = tf.strings.regex_replace(stripped_html, '[%s]' % re.escape(punctuations), '')\n",
    "    text = str(text)[12:-26][:500] # consider text max 500 words\n",
    "    return text.strip()"
   ]
  },
  {
   "cell_type": "code",
   "execution_count": null,
   "metadata": {
    "id": "4nNwFGWGXGwm"
   },
   "outputs": [],
   "source": [
    "df['text'] = df.text.apply(lambda x : text_standardization(x))"
   ]
  },
  {
   "cell_type": "code",
   "execution_count": null,
   "metadata": {
    "id": "5fFKpNYYXGwm"
   },
   "outputs": [],
   "source": [
    "df.reset_index(drop=True, inplace=True)"
   ]
  },
  {
   "cell_type": "code",
   "execution_count": null,
   "metadata": {
    "id": "RsCQsusJXGwm"
   },
   "outputs": [],
   "source": [
    "df.head()"
   ]
  },
  {
   "cell_type": "markdown",
   "metadata": {
    "id": "RkjMu3R9XGwm"
   },
   "source": [
    "##### Sentiment Labeling based on review text"
   ]
  },
  {
   "cell_type": "code",
   "execution_count": null,
   "metadata": {
    "id": "aCfLZrvLXGwm"
   },
   "outputs": [],
   "source": [
    "print(\"Sentiment Label task modeling\", len(list(df['text'][:5])), \"\\n\", df['text'][:5])"
   ]
  },
  {
   "cell_type": "code",
   "execution_count": null,
   "metadata": {
    "id": "Wr2DbQB-XGwn"
   },
   "outputs": [],
   "source": [
    "from sentiment_classification import SentimentClassification\n",
    "#import SentimentClassification"
   ]
  },
  {
   "cell_type": "code",
   "execution_count": null,
   "metadata": {
    "id": "y1XJTmEOXGwn"
   },
   "outputs": [],
   "source": [
    "sentimentClassifier = SentimentClassification()"
   ]
  },
  {
   "cell_type": "code",
   "execution_count": null,
   "metadata": {
    "id": "XxaUuMGBXGwn"
   },
   "outputs": [],
   "source": [
    "BATCH_SIZE = 8\n",
    "sentiment_labels = sentimentClassifier.get_sentiment_labels(df, \"text\", BATCH_SIZE)"
   ]
  },
  {
   "cell_type": "code",
   "execution_count": null,
   "metadata": {
    "id": "Mg5P0iA_XGwn"
   },
   "outputs": [],
   "source": [
    "sentiment_labels[:10]"
   ]
  },
  {
   "cell_type": "code",
   "execution_count": null,
   "metadata": {
    "id": "8esVXRTKXGwn"
   },
   "outputs": [],
   "source": [
    "sentiment_labels = pd.DataFrame(sentiment_labels)\n",
    "sentiment_labels.columns = [\"sentiment_label\"]\n",
    "sentiment_labels.head()"
   ]
  },
  {
   "cell_type": "code",
   "execution_count": null,
   "metadata": {
    "id": "CD2bdpODXGwn"
   },
   "outputs": [],
   "source": [
    "df = pd.concat([df, sentiment_labels], axis = 1)\n",
    "df.head()"
   ]
  },
  {
   "cell_type": "code",
   "execution_count": null,
   "metadata": {
    "id": "Fpp-1p85XGwn"
   },
   "outputs": [],
   "source": [
    "df.sentiment_label.value_counts(normalize=True)"
   ]
  },
  {
   "cell_type": "markdown",
   "metadata": {
    "id": "NqqyLN9FXGwo"
   },
   "source": [
    "Filter the records with negative sentiments, i.e sentiment_label as 0"
   ]
  },
  {
   "cell_type": "code",
   "execution_count": null,
   "metadata": {
    "id": "TGFFHkYDXGwo"
   },
   "outputs": [],
   "source": [
    "df = df[~(df.sentiment_label == 0)]\n",
    "df.reset_index(drop=True, inplace=True)"
   ]
  },
  {
   "cell_type": "code",
   "execution_count": null,
   "metadata": {
    "id": "62RtRat6XGwo"
   },
   "outputs": [],
   "source": [
    "print(\"Filtering with positive sentiment labelled data\")\n",
    "print_user_items_count(df)"
   ]
  },
  {
   "cell_type": "markdown",
   "metadata": {
    "id": "8jVOog6r1CNS"
   },
   "source": [
    "Arrange the user items data in a sequential manner based on timestamp in chronological order of purchase. For a user the recent item purchase will be in the last of the item sequence."
   ]
  },
  {
   "cell_type": "code",
   "execution_count": null,
   "metadata": {
    "id": "8vS5vbxP8UVl"
   },
   "outputs": [],
   "source": [
    "print(\"Start Data transformation for Recommendation Model\")\n",
    "df = df.sort_values('time_seconds')\n",
    "df.head()"
   ]
  },
  {
   "cell_type": "markdown",
   "metadata": {
    "id": "MORaMeWZ8UVm"
   },
   "source": [
    "##### Filter the users which have atleast 5 historical items data"
   ]
  },
  {
   "cell_type": "code",
   "execution_count": null,
   "metadata": {
    "id": "ZTyEsCEf8UVm"
   },
   "outputs": [],
   "source": [
    "# Grouping the data by users to create item sequences for CBF model\n",
    "df_user_items_count = pd.DataFrame(df.groupby(\"user_id\")[\"parent_asin\"].count())\n",
    "df_user_items_count.columns = [\"items_count\"]\n",
    "print(\"Max Items rated by an user\", df_user_items_count.items_count.max())\n",
    "print(\"Min Items rated by an user\", df_user_items_count.items_count.min())\n",
    "df_user_items_count[df_user_items_count.items_count == df_user_items_count.items_count.max()]"
   ]
  },
  {
   "cell_type": "code",
   "execution_count": null,
   "metadata": {
    "id": "fevoKq65XGwo"
   },
   "outputs": [],
   "source": [
    "df_user_items_count.items_count.describe()"
   ]
  },
  {
   "cell_type": "code",
   "execution_count": null,
   "metadata": {
    "id": "O0O93nNH8UVm"
   },
   "outputs": [],
   "source": [
    "MIN_NO_OF_ITEMS = 3\n",
    "user_items_count = df_user_items_count[df_user_items_count.items_count >= MIN_NO_OF_ITEMS]\n",
    "user_items_count = user_items_count.reset_index()\n",
    "user_items_count"
   ]
  },
  {
   "cell_type": "code",
   "execution_count": null,
   "metadata": {
    "id": "vazKTn5P8UVm"
   },
   "outputs": [],
   "source": [
    "user_items_count.items_count.sum()"
   ]
  },
  {
   "cell_type": "code",
   "execution_count": null,
   "metadata": {
    "id": "QRf3AFFs8UVm"
   },
   "outputs": [],
   "source": [
    "users = np.array(user_items_count.user_id)\n",
    "user_items_count = None\n",
    "df_user_items = df[df.user_id.isin(users)].sort_values([\"user_id\", \"time_seconds\"], ascending=[True, False])[[\"user_id\", \"rating\", \"parent_asin\", \"time_seconds\"]]\n",
    "df_user_items.head()"
   ]
  },
  {
   "cell_type": "code",
   "execution_count": null,
   "metadata": {
    "id": "jj3p4qQr8UVm"
   },
   "outputs": [],
   "source": [
    "print(\"Filtering the users which have atleast 5 historical items data\")\n",
    "print_user_items_count(df_user_items)"
   ]
  },
  {
   "cell_type": "code",
   "execution_count": null,
   "metadata": {
    "id": "yGVP5jVl8UVm"
   },
   "outputs": [],
   "source": [
    "# Importing application modules\n",
    "from tokenization.simple_tokenizer import *"
   ]
  },
  {
   "cell_type": "code",
   "execution_count": null,
   "metadata": {
    "id": "R0XnVR9rXGwp"
   },
   "outputs": [],
   "source": [
    "MODE_USER_ITEM='user_item'\n",
    "MODE_ITEM_USER='item_user'"
   ]
  },
  {
   "cell_type": "code",
   "execution_count": null,
   "metadata": {
    "id": "Wuk9HdoBXGwp"
   },
   "outputs": [],
   "source": [
    "def createTokenizedFile(data, filename, mode, ncf=False):\n",
    "    print(\"Creating tokeinzed file for mode:\", mode, \"Filename:\", filename)\n",
    "    user_tokenizer = SimpleTokenizer()\n",
    "    item_tokenizer = SimpleTokenizer()\n",
    "    with open(filename, \"wb\") as file:\n",
    "        if mode == MODE_USER_ITEM:\n",
    "            for rec in data.itertuples():\n",
    "                user_token = user_tokenizer.tokenize(rec.user_id)\n",
    "                item_token = item_tokenizer.tokenize(rec.parent_asin)\n",
    "                if ncf:\n",
    "                    user_item_token = str(user_token) + \"::\" + str(item_token) + \"::\" + str(rec.rating) + \"::\" + str(rec.time_seconds)\n",
    "                else:\n",
    "                    user_item_token = str(user_token) + \" \" + str(item_token)\n",
    "                #if (user_token < 5):\n",
    "                    #print(user_item_token)\n",
    "                line = user_item_token + os.linesep\n",
    "                line = bytes(line, \"utf-8\")\n",
    "                file.write(line)\n",
    "        elif mode == MODE_ITEM_USER:\n",
    "            for rec in data.itertuples():\n",
    "                item_token = item_tokenizer.tokenize(rec.parent_asin)\n",
    "                user_token = user_tokenizer.tokenize(rec.user_id)\n",
    "                if ncf:\n",
    "                    item_user_token = str(item_token) + \"::\" + str(user_token) + \"::\" + str(rec.rating) + \"::\" + str(rec.time_seconds)\n",
    "                else:\n",
    "                    item_user_token = str(item_token) + \" \" + str(user_token)\n",
    "                #if (item_token < 5):\n",
    "                    #print(item_user_token)\n",
    "                line = item_user_token + os.linesep\n",
    "                line = bytes(line, \"utf-8\")\n",
    "                file.write(line)\n",
    "        else:\n",
    "            print(\"Invalid mode, it should be either 'user_item' or 'item_user'\")\n",
    "        file.close()"
   ]
  },
  {
   "cell_type": "code",
   "execution_count": null,
   "metadata": {
    "id": "518Atcu2XGwq"
   },
   "outputs": [],
   "source": [
    "createTokenizedFile(data=df_user_items, filename='user_item.txt', mode=MODE_USER_ITEM)"
   ]
  },
  {
   "cell_type": "markdown",
   "metadata": {
    "id": "B2pCRcnM8UVn"
   },
   "source": [
    "##### Filter Items which have been rated by atleast 20 users"
   ]
  },
  {
   "cell_type": "code",
   "execution_count": null,
   "metadata": {
    "id": "xR5HVqmwXGwq"
   },
   "outputs": [],
   "source": [
    "df_items_user_count = pd.DataFrame(df.groupby(\"parent_asin\")[\"user_id\"].count())\n",
    "df_items_user_count.columns = [\"user_count\"]\n",
    "print(\"Item rated by Max Users\", df_items_user_count.user_count.max())\n",
    "print(\"Item rated by Min Users\", df_items_user_count.user_count.min())\n",
    "df_items_user_count[df_items_user_count.user_count == df_items_user_count.user_count.max()]"
   ]
  },
  {
   "cell_type": "code",
   "execution_count": null,
   "metadata": {
    "id": "5L10lw7EXGwq"
   },
   "outputs": [],
   "source": [
    "df_items_user_count.user_count.describe()"
   ]
  },
  {
   "cell_type": "code",
   "execution_count": null,
   "metadata": {
    "id": "-g0u4yFIXGwq"
   },
   "outputs": [],
   "source": [
    "df_items_user_count.user_count.quantile([0.5,0.7, 0.9, 0.95, 0.99, 0.995, 0.9995, 0.9999, 1])"
   ]
  },
  {
   "cell_type": "code",
   "execution_count": null,
   "metadata": {
    "id": "2Dm4oxIvXGwq"
   },
   "outputs": [],
   "source": [
    "df_items_user_count[df_items_user_count.user_count >= 100].count()"
   ]
  },
  {
   "cell_type": "markdown",
   "metadata": {
    "id": "Rc7Jwu4XXGwr"
   },
   "source": [
    "Grouping the data by items to create user sequences for CF model"
   ]
  },
  {
   "cell_type": "code",
   "execution_count": null,
   "metadata": {
    "id": "upRX6Bj4XGwr"
   },
   "outputs": [],
   "source": [
    "df_item_rank = pd.DataFrame(df.groupby('parent_asin')['time_seconds'].rank(method='first', ascending=False))\n",
    "# Creating the rank column for taking N recent sequence\n",
    "df_item_rank.columns = ['rank']\n",
    "df_item_rank.shape"
   ]
  },
  {
   "cell_type": "code",
   "execution_count": null,
   "metadata": {
    "id": "WoOmscLCXGwr"
   },
   "outputs": [],
   "source": [
    "df_item_users = pd.merge(df, df_item_rank, left_index=True, right_index=True)\n",
    "df_item_users.head()"
   ]
  },
  {
   "cell_type": "markdown",
   "metadata": {
    "id": "JaYHE4-EXGws"
   },
   "source": [
    "To make the model not overfit with large user sequence we take recent user sequence of 100"
   ]
  },
  {
   "cell_type": "code",
   "execution_count": null,
   "metadata": {
    "id": "CBXy7iWqXGws"
   },
   "outputs": [],
   "source": [
    "MIN_NO_OF_USERS = 20\n",
    "MAX_NO_OF_USERS = 100\n",
    "items_user_count = df_items_user_count[(df_items_user_count.user_count >= MIN_NO_OF_USERS)]\n",
    "items_user_count = items_user_count.reset_index()\n",
    "items_user_count"
   ]
  },
  {
   "cell_type": "code",
   "execution_count": null,
   "metadata": {
    "id": "JKGeLtxNXGws"
   },
   "outputs": [],
   "source": [
    "items_user_count.user_count.sum()"
   ]
  },
  {
   "cell_type": "code",
   "execution_count": null,
   "metadata": {
    "id": "7wXkEIhWXGws"
   },
   "outputs": [],
   "source": [
    "items = np.array(items_user_count.parent_asin)\n",
    "df_item_users = df_item_users[df_item_users.parent_asin.isin(items) & (df_item_users['rank'] <= MAX_NO_OF_USERS)].sort_values([\"parent_asin\", \"time_seconds\"])[[\"user_id\", \"rating\", \"parent_asin\", \"time_seconds\", \"rank\"]]\n",
    "df_item_users.head()"
   ]
  },
  {
   "cell_type": "code",
   "execution_count": null,
   "metadata": {
    "id": "4XCPhWwi8UVo"
   },
   "outputs": [],
   "source": [
    "print(\"Filtering Items which have been rated by atleast\", MIN_NO_OF_USERS, \"users\")\n",
    "print_user_items_count(df_item_users)"
   ]
  },
  {
   "cell_type": "code",
   "execution_count": null,
   "metadata": {
    "id": "bDVj1ofx8UVo"
   },
   "outputs": [],
   "source": [
    "createTokenizedFile(data=df_item_users, filename='item_user.txt', mode=MODE_ITEM_USER)"
   ]
  },
  {
   "cell_type": "code",
   "execution_count": null,
   "metadata": {
    "id": "7knuONAmXGwt"
   },
   "outputs": [],
   "source": [
    "final_user_items = pd.concat([df_user_items, df_item_users], axis=0)"
   ]
  },
  {
   "cell_type": "code",
   "execution_count": null,
   "metadata": {
    "id": "BtY0D3IKXGwt"
   },
   "outputs": [],
   "source": [
    "print(\"After combining item-based and user-based data\")\n",
    "print_user_items_count(final_user_items)"
   ]
  },
  {
   "cell_type": "code",
   "execution_count": null,
   "metadata": {
    "id": "SYmIoBR2XGwt"
   },
   "outputs": [],
   "source": [
    "# Removing duplicate rows if present in the dataset\n",
    "duplicate_count = final_user_items[final_user_items.duplicated() == True].shape[0]\n",
    "if duplicate_count > 0:\n",
    "    print(\"Duplicate records count\", duplicate_count)\n",
    "    final_user_items.drop_duplicates(inplace=True)\n",
    "    print(\"After dropping duplicate data\")\n",
    "    print_user_items_count(final_user_items)"
   ]
  },
  {
   "cell_type": "markdown",
   "metadata": {
    "id": "lkhNa7mt0OOo"
   },
   "source": [
    "### Model Building: Recommendation Model\n",
    "\n",
    "We will build User-Item and Item-Item collaborative filtering recommendation system and compare their results<br>\n",
    "\n",
    "- User-Item: Find similar users first and then recommend products to users which would have been rated high by the similar group of users<br>\n",
    "- Item-Item: Find similar items based on ratings and use that to recommend the top rated products to users"
   ]
  },
  {
   "cell_type": "markdown",
   "metadata": {
    "id": "J18WLm7u0OOo"
   },
   "source": [
    "Build the dataset needed for Recommendation Engine<br>\n",
    "Earlier we had kept the dataset df intact for classification and recommendation"
   ]
  },
  {
   "cell_type": "code",
   "execution_count": null,
   "metadata": {
    "id": "4Z3fy5bz0OOo"
   },
   "outputs": [],
   "source": [
    "# Verify df has no missing data\n",
    "print(\"Start Model Building\")\n",
    "\n",
    "df = final_user_items.copy()\n",
    "df.reset_index(drop=True, inplace=True)\n",
    "\n",
    "MissingData(df)\n",
    "\n",
    "df_recommendation = df[[\"user_id\", \"rating\", \"parent_asin\"]]\n",
    "print(df_recommendation.shape)\n",
    "\n",
    "df_recommendation.head(5)"
   ]
  },
  {
   "cell_type": "markdown",
   "metadata": {
    "id": "eAbrUvRD0OOo"
   },
   "source": [
    "Split the recommendation dataset into train and test"
   ]
  },
  {
   "cell_type": "code",
   "execution_count": null,
   "metadata": {
    "id": "HfzdFfmCO11g"
   },
   "outputs": [],
   "source": [
    "print(\"Train test data split ratio 80:20\")"
   ]
  },
  {
   "cell_type": "code",
   "execution_count": null,
   "metadata": {
    "id": "cMOhvmVU0OOp"
   },
   "outputs": [],
   "source": [
    "train, test = train_test_split(df_recommendation, test_size=0.20, random_state=42)"
   ]
  },
  {
   "cell_type": "code",
   "execution_count": null,
   "metadata": {
    "id": "YlyJkQUWXGwv"
   },
   "outputs": [],
   "source": [
    "df_recommendation"
   ]
  },
  {
   "cell_type": "markdown",
   "metadata": {
    "id": "_6J0-BB60OOp"
   },
   "source": [
    "Name columns for the recommendation dataset"
   ]
  },
  {
   "cell_type": "code",
   "execution_count": null,
   "metadata": {
    "id": "wYPwMHol0OOp"
   },
   "outputs": [],
   "source": [
    "product_column = \"parent_asin\"\n",
    "user_column = \"user_id\"\n",
    "value_column = \"rating\""
   ]
  },
  {
   "cell_type": "markdown",
   "metadata": {
    "id": "n6BgQBWH0OOp"
   },
   "source": [
    "Create pivot dataset in matrix format with columns as product IDs and rows as user names so we get a view of whch user has rated which product and what value"
   ]
  },
  {
   "cell_type": "code",
   "execution_count": null,
   "metadata": {
    "id": "olLyBIdB0OOp"
   },
   "outputs": [],
   "source": [
    "df_user_recommendation_pivot = pd.pivot_table(\n",
    "    train, index=user_column, columns=product_column, values=value_column\n",
    ").fillna(0)\n",
    "df_user_recommendation_pivot.head(10)"
   ]
  },
  {
   "cell_type": "code",
   "execution_count": null,
   "metadata": {
    "id": "Z3upGcC58UVt"
   },
   "outputs": [],
   "source": [
    "df_user_recommendation_pivot.shape"
   ]
  },
  {
   "cell_type": "markdown",
   "metadata": {
    "id": "b_1ZINGw0OOp"
   },
   "source": [
    "##### Dummy train dataset"
   ]
  },
  {
   "cell_type": "markdown",
   "metadata": {
    "id": "hEfveCz_0OOp"
   },
   "source": [
    "We will create dummy train and dummy test dataset to mark the products already rated by the user so that they dont come up during prediction or evaluation\n"
   ]
  },
  {
   "cell_type": "code",
   "execution_count": null,
   "metadata": {
    "id": "izIc37Io0OOq"
   },
   "outputs": [],
   "source": [
    "# Copy the train dataset into dummy_train\n",
    "dummy_train = train.copy()\n",
    "# The products not rated by a user is marked as 1 for prediction. this matrix form now has 1 and 0 with 1 as products not rated by the user\n",
    "dummy_train[value_column] = dummy_train[value_column].apply(lambda x: 0 if x >= 1 else 1)\n",
    "# Pivot the train ratings' dataset into matrix format in which columns are product names and the rows are user names.\n",
    "dummy_train = pd.pivot_table(\n",
    "    dummy_train, index=user_column, columns=product_column, values=value_column\n",
    ").fillna(1)\n",
    "dummy_train.head(10)"
   ]
  },
  {
   "cell_type": "markdown",
   "metadata": {
    "id": "oCHVLHN10OOr"
   },
   "source": [
    "Adjusted cosine similarity measure will be used now to capture similarities between different users.\n",
    "\n",
    "Adjusted cosine similarity is a modified version of vector-based similarity where we incorporate the fact that different users have different ratings schemes. In other words, some users might rate items highly in general, and others might give items lower ratings as a preference. To handle this nature from rating given by user, we subtract average ratings for each user from each user's rating for different products."
   ]
  },
  {
   "cell_type": "code",
   "execution_count": null,
   "metadata": {
    "id": "tV1vJvJG0OOr"
   },
   "outputs": [],
   "source": [
    "df_user_recommendation_pivot.index.nunique()\n",
    "# using cosine_similarity function to compute the distance.\n",
    "user_correlation = cosine_similarity(df_user_recommendation_pivot)\n",
    "user_correlation[np.isnan(user_correlation)] = 0\n",
    "print(user_correlation)\n",
    "print(user_correlation.shape)"
   ]
  },
  {
   "cell_type": "markdown",
   "metadata": {
    "id": "RKROSJn60OOs"
   },
   "source": [
    "##### User-Based Recommendation Model"
   ]
  },
  {
   "cell_type": "markdown",
   "metadata": {
    "id": "AxebdewI0OOs"
   },
   "source": [
    "User - User similarity predicition with the use of above correlation matrix. no correlation value of 0<br>\n",
    "Making negative correlations to 0"
   ]
  },
  {
   "cell_type": "code",
   "execution_count": null,
   "metadata": {
    "id": "u8bz9r8K0OOs"
   },
   "outputs": [],
   "source": [
    "user_correlation[user_correlation < 0] = 0"
   ]
  },
  {
   "cell_type": "code",
   "execution_count": null,
   "metadata": {
    "id": "xM6oVnlg0OOs"
   },
   "outputs": [],
   "source": [
    "# taking a dot product of User correlation matrix and the pivot matrix\n",
    "user_predicted_ratings = np.dot(user_correlation, df_user_recommendation_pivot.fillna(0))\n",
    "user_predicted_ratings"
   ]
  },
  {
   "cell_type": "markdown",
   "metadata": {
    "id": "7z7oO5GI0OOt"
   },
   "source": [
    "Multiply the predicted ratings with dummy matrix as we dont want the products which are already rated"
   ]
  },
  {
   "cell_type": "code",
   "execution_count": null,
   "metadata": {
    "id": "J6xC9zZ-0OOt"
   },
   "outputs": [],
   "source": [
    "user_final_rating = np.multiply(user_predicted_ratings, dummy_train)\n",
    "user_final_rating.head()"
   ]
  },
  {
   "cell_type": "markdown",
   "metadata": {
    "id": "ofuwcy2V0OOt"
   },
   "source": [
    "Top 20 recommendations for a sample user"
   ]
  },
  {
   "cell_type": "code",
   "execution_count": null,
   "metadata": {
    "id": "KnB9Kkj40OOt"
   },
   "outputs": [],
   "source": [
    "user_input = df_recommendation[\"user_id\"][5]\n",
    "recommendations = user_final_rating.loc[user_input].sort_values(ascending=False)[0:20]"
   ]
  },
  {
   "cell_type": "markdown",
   "metadata": {
    "id": "cUxXCiQn0OOu"
   },
   "source": [
    "Show the top 20 recommended products - product id, name and similarity_score"
   ]
  },
  {
   "cell_type": "code",
   "execution_count": null,
   "metadata": {
    "id": "cYMgmNIC0OOu"
   },
   "outputs": [],
   "source": [
    "final_recommendations = pd.DataFrame(\n",
    "    {\"product_id\": recommendations.index, \"similarity_score\": recommendations}\n",
    ")\n",
    "final_recommendations.reset_index(drop=True)\n",
    "pd.merge(final_recommendations, train, on=\"parent_asin\")[\n",
    "    [\"parent_asin\", \"similarity_score\"]\n",
    "].drop_duplicates()"
   ]
  },
  {
   "cell_type": "markdown",
   "metadata": {
    "id": "pc4nNlSc0OOu"
   },
   "source": [
    "Since prediction is now done, we will move to evaluation for User-User Collborative<br>\n",
    "Find out the common users of test and train dataset."
   ]
  },
  {
   "cell_type": "code",
   "execution_count": null,
   "metadata": {
    "id": "IezZP57h0OOu"
   },
   "outputs": [],
   "source": [
    "common = test[test.user_id.isin(train.user_id)]\n",
    "common.shape\n",
    "# Convert into the user-product matrix.\n",
    "common_user_based_matrix = pd.pivot_table(\n",
    "    common, index=user_column, columns=product_column, values=value_column\n",
    ")\n",
    "common_user_based_matrix.head()\n",
    "# Convert the user_correlation matrix into dataframe.\n",
    "user_correlation_df = pd.DataFrame(user_correlation)\n",
    "user_correlation_df.head()\n",
    "user_correlation_df[user_column] = df_user_recommendation_pivot.index\n",
    "user_correlation_df.set_index(user_column, inplace=True)\n",
    "user_correlation_df.head()"
   ]
  },
  {
   "cell_type": "markdown",
   "metadata": {
    "id": "r0hbyaEz0OOu"
   },
   "source": [
    "Get the list of users from the common dataset from train and test"
   ]
  },
  {
   "cell_type": "code",
   "execution_count": null,
   "metadata": {
    "id": "G_KKoaSh0OOu"
   },
   "outputs": [],
   "source": [
    "list_name = common.user_id.tolist()"
   ]
  },
  {
   "cell_type": "markdown",
   "metadata": {
    "id": "DtB78NDs0OOu"
   },
   "source": [
    "Create a user correlation matrix with the list of common users in train and test by aligning the pivot matrix index"
   ]
  },
  {
   "cell_type": "code",
   "execution_count": null,
   "metadata": {
    "id": "1BlKMro40OOu"
   },
   "outputs": [],
   "source": [
    "user_correlation_df.columns = df_user_recommendation_pivot.index.tolist()\n",
    "user_correlation_df_1 = user_correlation_df[user_correlation_df.index.isin(list_name)]\n",
    "user_correlation_df_1.shape\n",
    "# create user correlation matrix 2 with a transpose of matrix 1 with the list of common users\n",
    "user_correlation_df_2 = user_correlation_df_1.T[user_correlation_df_1.T.index.isin(list_name)]\n",
    "# create user correlation matrix 2 with a transpose of matrix 2\n",
    "user_correlation_df_3 = user_correlation_df_2.T\n",
    "# Mark the correlattion value with 0 for the negative correlations\n",
    "user_correlation_df_3[user_correlation_df_3 < 0] = 0\n",
    "# get the recommendations by doing a dot product of correlations and ratings\n",
    "common_user_predicted_ratings = np.dot(user_correlation_df_3, common_user_based_matrix.fillna(0))\n",
    "common_user_predicted_ratings"
   ]
  },
  {
   "cell_type": "markdown",
   "metadata": {
    "id": "Ns-cSYtJ0OOv"
   },
   "source": [
    "Create a dummy test dataset with the common users and create a pivot matrix of the same"
   ]
  },
  {
   "cell_type": "code",
   "execution_count": null,
   "metadata": {
    "id": "hRx_rQlQ0OOv"
   },
   "outputs": [],
   "source": [
    "dummy_recommendation_test = common.copy()\n",
    "dummy_recommendation_test[value_column] = dummy_recommendation_test[value_column].apply(\n",
    "    lambda x: 1 if x >= 1 else 0\n",
    ")\n",
    "dummy_recommendation_test = pd.pivot_table(\n",
    "    dummy_recommendation_test, index=user_column, columns=product_column, values=value_column\n",
    ").fillna(0)\n",
    "dummy_recommendation_test.shape\n",
    "# print both the matrix which has users and the evaluation test recommendations\n",
    "common_user_based_matrix.head()\n",
    "dummy_recommendation_test.head()\n",
    "# get the final evaluation for the products not rated by the users in the test set\n",
    "common_user_predicted_ratings = np.multiply(\n",
    "    common_user_predicted_ratings, dummy_recommendation_test\n",
    ")\n",
    "print(common_user_predicted_ratings.head())"
   ]
  },
  {
   "cell_type": "markdown",
   "metadata": {
    "id": "MiZPv0AI0OOv"
   },
   "source": [
    "Calculate RMSE from the user-user evaluation"
   ]
  },
  {
   "cell_type": "code",
   "execution_count": null,
   "metadata": {
    "id": "Lb7FLN7N0OOv"
   },
   "outputs": [],
   "source": [
    "X = common_user_predicted_ratings.copy()\n",
    "X = X[X > 0]\n",
    "scaler = MinMaxScaler(feature_range=(1, 5))\n",
    "scaler.fit(X)\n",
    "y = (scaler.transform(X))\n",
    "common_ = pd.pivot_table(common, index=user_column, columns=product_column, values=value_column)\n",
    "#Finding total non-NaN value\n",
    "total_non_nan = np.count_nonzero(~np.isnan(y))\n",
    "user_rmse = (sum(sum((common_ - y) ** 2)) / total_non_nan) ** 0.5\n",
    "# print the final RMSE\n",
    "print(\"User-based RMSE\", user_rmse)"
   ]
  },
  {
   "cell_type": "markdown",
   "metadata": {
    "id": "kPoWgkGA0OOv"
   },
   "source": [
    "##### Item-Based Recommendation Model"
   ]
  },
  {
   "cell_type": "code",
   "execution_count": null,
   "metadata": {
    "id": "Id43J_LP0OOv"
   },
   "outputs": [],
   "source": [
    "# Item-Item Based Recommendation\n",
    "df_item_recommendation_pivot = pd.pivot_table(\n",
    "    train, index=product_column, columns=user_column, values=value_column\n",
    ")\n",
    "df_item_recommendation_pivot.head()"
   ]
  },
  {
   "cell_type": "code",
   "execution_count": null,
   "metadata": {
    "id": "bodFsP0g0OOw"
   },
   "outputs": [],
   "source": [
    "mean = np.nanmean(df_item_recommendation_pivot, axis=1)\n",
    "df_subtracted = (df_item_recommendation_pivot.T - mean).T\n",
    "df_subtracted.head()"
   ]
  },
  {
   "cell_type": "markdown",
   "metadata": {
    "id": "-aq-bFm-0OOx"
   },
   "source": [
    "Create Item similarity matrix using cosine similarity"
   ]
  },
  {
   "cell_type": "code",
   "execution_count": null,
   "metadata": {
    "id": "4JuRDa4d0OOy"
   },
   "outputs": [],
   "source": [
    "item_correlation = 1 - pairwise_distances(df_subtracted.fillna(0), metric=\"cosine\")\n",
    "item_correlation[np.isnan(item_correlation)] = 0"
   ]
  },
  {
   "cell_type": "code",
   "execution_count": null,
   "metadata": {
    "id": "U5rMC_gx0OOy"
   },
   "outputs": [],
   "source": [
    "item_correlation[item_correlation < 0] = 0\n",
    "item_correlation"
   ]
  },
  {
   "cell_type": "markdown",
   "metadata": {
    "id": "TUobpStI0OOy"
   },
   "source": [
    "Prediction Item-Item recommendation"
   ]
  },
  {
   "cell_type": "code",
   "execution_count": null,
   "metadata": {
    "id": "zXP-u7rG0OOz"
   },
   "outputs": [],
   "source": [
    "item_predicted_ratings = np.dot((df_item_recommendation_pivot.fillna(0).T), item_correlation)\n",
    "item_predicted_ratings\n",
    "# filtering for the products not rated by the users\n",
    "item_final_rating = np.multiply(item_predicted_ratings, dummy_train)\n",
    "item_final_rating.head()"
   ]
  },
  {
   "cell_type": "markdown",
   "metadata": {
    "id": "rlyFWGua0OOz"
   },
   "source": [
    "Top 20 recommendations for a sample user"
   ]
  },
  {
   "cell_type": "code",
   "execution_count": null,
   "metadata": {
    "id": "lRJwqw-j8UVy"
   },
   "outputs": [],
   "source": [
    "user_input = df_recommendation[\"user_id\"][5]\n",
    "item_recommendations = item_final_rating.loc[user_input].sort_values(ascending=False)[0:20]"
   ]
  },
  {
   "cell_type": "code",
   "execution_count": null,
   "metadata": {
    "id": "PGkIO43Z0OO0"
   },
   "outputs": [],
   "source": [
    "# Show the top 20 recommended products - product id, name and similarity_score\n",
    "item_final_recommendations = pd.DataFrame(\n",
    "    {\"product_id\": item_recommendations.index, \"similarity_score\": item_recommendations}\n",
    ")\n",
    "item_final_recommendations.reset_index(drop=True)\n",
    "pd.merge(item_final_recommendations, train, on=\"parent_asin\")[\n",
    "    [\"parent_asin\", \"similarity_score\"]\n",
    "].drop_duplicates()"
   ]
  },
  {
   "cell_type": "markdown",
   "metadata": {
    "id": "AkwPdXmA0OO1"
   },
   "source": [
    "Now the prediction is done, let's do the evaluation for item - item recommendation"
   ]
  },
  {
   "cell_type": "code",
   "execution_count": null,
   "metadata": {
    "id": "yI5d_Cmc0OO1"
   },
   "outputs": [],
   "source": [
    "common = test[test.parent_asin.isin(train.parent_asin)]\n",
    "print(common.shape)\n",
    "common.head(5)"
   ]
  },
  {
   "cell_type": "code",
   "execution_count": null,
   "metadata": {
    "id": "HNwD4W690OO1"
   },
   "outputs": [],
   "source": [
    "common_item_based_matrix = common.pivot_table(\n",
    "    index=product_column, columns=user_column, values=value_column\n",
    ")"
   ]
  },
  {
   "cell_type": "code",
   "execution_count": null,
   "metadata": {
    "id": "I6WSgWj70OO1"
   },
   "outputs": [],
   "source": [
    "item_correlation_df = pd.DataFrame(item_correlation)\n",
    "item_correlation_df.head(1)"
   ]
  },
  {
   "cell_type": "code",
   "execution_count": null,
   "metadata": {
    "id": "cJOQQ3990OO2"
   },
   "outputs": [],
   "source": [
    "item_correlation_df[product_column] = df_subtracted.index\n",
    "item_correlation_df.set_index(product_column, inplace=True)\n",
    "item_correlation_df.head()"
   ]
  },
  {
   "cell_type": "code",
   "execution_count": null,
   "metadata": {
    "id": "2J3BwbEz0OO2"
   },
   "outputs": [],
   "source": [
    "list_name = common.parent_asin.tolist()\n",
    "item_correlation_df.columns = df_subtracted.index.tolist()\n",
    "# create a user correlation matrix with the list of common users in train and test by aligning the pivot matrix index\n",
    "item_correlation_df_1 = item_correlation_df[item_correlation_df.index.isin(list_name)]\n",
    "item_correlation_df_2 = item_correlation_df_1.T[item_correlation_df_1.T.index.isin(list_name)]\n",
    "# create correlations 3 with transpose of 2\n",
    "item_correlation_df_3 = item_correlation_df_2.T\n",
    "df_subtracted"
   ]
  },
  {
   "cell_type": "markdown",
   "metadata": {
    "id": "_GeAET4b0OO2"
   },
   "source": [
    "Mark the correlation value with 0 for the negative correlations"
   ]
  },
  {
   "cell_type": "code",
   "execution_count": null,
   "metadata": {
    "id": "PPJvaO_e0OO2"
   },
   "outputs": [],
   "source": [
    "item_correlation_df_3[item_correlation_df_3 < 0] = 0\n",
    "# get the recommendations by doing a dot product of correlations and ratings\n",
    "common_item_predicted_ratings = np.dot(item_correlation_df_3, common_item_based_matrix.fillna(0))\n",
    "print(common_item_predicted_ratings)"
   ]
  },
  {
   "cell_type": "markdown",
   "metadata": {
    "id": "qjNLlfGG0OO2"
   },
   "source": [
    "Create a dummy test dataset with the common users and create a pivot matrix of the same"
   ]
  },
  {
   "cell_type": "code",
   "execution_count": null,
   "metadata": {
    "id": "QZ0Hkvxk0OO2"
   },
   "outputs": [],
   "source": [
    "dummy_test = common.copy()\n",
    "dummy_test[value_column] = dummy_test[value_column].apply(lambda x: 1 if x >= 1 else 0)\n",
    "dummy_test = pd.pivot_table(\n",
    "    dummy_test, index=product_column, columns=user_column, values=value_column\n",
    ").fillna(0)\n",
    "# get the final evaluation for the products not rated by the users in the test set\n",
    "common_item_predicted_ratings = np.multiply(common_item_predicted_ratings, dummy_test)\n",
    "common_ = pd.pivot_table(common, index=product_column, columns=user_column, values=value_column)"
   ]
  },
  {
   "cell_type": "markdown",
   "metadata": {
    "id": "zAuJkCfn0OO6"
   },
   "source": [
    "Calculate RMSE from the item-item evaluation"
   ]
  },
  {
   "cell_type": "code",
   "execution_count": null,
   "metadata": {
    "id": "kyCoI1180OO7"
   },
   "outputs": [],
   "source": [
    "X = common_item_predicted_ratings.copy()\n",
    "X = X[X > 0]\n",
    "scaler = MinMaxScaler(feature_range=(1, 5))\n",
    "scaler.fit(X)\n",
    "y = (scaler.transform(X))\n",
    "# Finding total non-NaN value\n",
    "total_non_nan = np.count_nonzero(~np.isnan(y))\n",
    "item_rmse = (sum(sum((common_ - y) ** 2)) / total_non_nan) ** 0.5\n",
    "# print the final rmse value\n",
    "print(\"Item-based RMSE\", item_rmse)"
   ]
  },
  {
   "cell_type": "markdown",
   "metadata": {
    "id": "s2Wf_j9H0OO7"
   },
   "source": [
    "##### Recommendation Model selection"
   ]
  },
  {
   "cell_type": "code",
   "execution_count": null,
   "metadata": {
    "id": "GCqfA6FM0OO8"
   },
   "outputs": [],
   "source": [
    "recommendation_results = pd.DataFrame({\"Recommendation Method\": ['User-Based', 'Item-Based'],\n",
    "              \"Evaluation Metric(RMSE)\" : [user_rmse, item_rmse]})\n",
    "print(recommendation_results)"
   ]
  },
  {
   "cell_type": "markdown",
   "metadata": {
    "id": "bD0QCrsQ0OO8"
   },
   "source": [
    "RMSE for User-User based recommendation method is almost equal to Item-Item, hence we will use both the User based and Item based collaborative filtering for building the Hybrid Recommendation model."
   ]
  },
  {
   "cell_type": "markdown",
   "metadata": {
    "id": "Z8X7bvyX8UV1"
   },
   "source": [
    "Saving the model"
   ]
  },
  {
   "cell_type": "code",
   "execution_count": null,
   "metadata": {
    "id": "1MJ_Qnw68UV1"
   },
   "outputs": [],
   "source": [
    "# Pickle saved files directory\n",
    "ML_MODELS_DIRECTORY = \"model_files/\""
   ]
  },
  {
   "cell_type": "code",
   "execution_count": null,
   "metadata": {
    "id": "7rQHY6u-8UV1"
   },
   "outputs": [],
   "source": [
    "def save_model(model, filename):\n",
    "    file_path = ML_MODELS_DIRECTORY + filename\n",
    "    pickle.dump(model, open(file_path, \"wb\"))\n",
    "    print(\"Recommendation model saved,\", file_path)"
   ]
  },
  {
   "cell_type": "code",
   "execution_count": null,
   "metadata": {
    "id": "WfeCof8l0OO8"
   },
   "outputs": [],
   "source": [
    "# save the final user-user based collaborative recommendation model\n",
    "RECOMMENDATION_MODEL = \"user-based-recommendation-model.pkl\"\n",
    "save_model(user_final_rating, RECOMMENDATION_MODEL)"
   ]
  },
  {
   "cell_type": "code",
   "execution_count": null,
   "metadata": {
    "id": "d_SV33bWeOpH"
   },
   "outputs": [],
   "source": [
    "# save the final item-item based collaborative recommendation model\n",
    "RECOMMENDATION_MODEL = \"item-based-recommendation-model.pkl\"\n",
    "save_model(item_final_rating, RECOMMENDATION_MODEL)"
   ]
  },
  {
   "cell_type": "code",
   "execution_count": null,
   "metadata": {
    "id": "-ddF0kh48UV1"
   },
   "outputs": [],
   "source": [
    "print(\"Hybrid Recommendation Model with Sentiment Analysis completed\")"
   ]
  },
  {
   "cell_type": "markdown",
   "metadata": {
    "id": "wHGg6Zs0XGw6"
   },
   "source": [
    "### Hybrid BERT4Rec Model Training"
   ]
  },
  {
   "cell_type": "markdown",
   "metadata": {
    "id": "msuGOIFAXGw6"
   },
   "source": [
    "For the CF and CBF component BERT4Rec model training please refer to the below details:\n",
    "\n",
    "- CF (User based filtering)<br>\n",
    "    Input file:     \"item_user.txt\"<br>\n",
    "    mode:   user-based<br>\n",
    "    Output file:  \"user_ncf_data.txt\"  \n",
    "\n",
    "- CBF (Item based filtering)<br>\n",
    "    Input file:     \"user_item.txt\"<br>\n",
    "    mode:   \"item-based\"<br>\n",
    "    Output file:    \"item_ncf_data.txt\"\n",
    "\n",
    "Note: Please refer to the README.md file for BERT4RecModel folder for the commands to execute the model with parameters and hyperparameters"
   ]
  },
  {
   "cell_type": "markdown",
   "metadata": {
    "id": "EfV8OIMaXGw6"
   },
   "source": [
    "#### Combine CF and CBF BERT model results"
   ]
  },
  {
   "cell_type": "code",
   "execution_count": null,
   "metadata": {
    "id": "pRBNFG9aXGw7"
   },
   "outputs": [],
   "source": [
    "ncf_data_dir = \"NCF/data/\"\n",
    "\n",
    "item_ncf_datafile = ncf_data_dir + \"item_ncf_data.txt\"\n",
    "df_item_ncf = pd.read_csv(item_ncf_datafile, sep='::', header=None, names=['user_id', 'item_id', 'similarity_score'])\n",
    "print(\"item ncf data shape\", df_item_ncf.shape)\n",
    "\n",
    "user_ncf_datafile = ncf_data_dir + \"user_ncf_data.txt\"\n",
    "df_user_ncf = pd.read_csv(user_ncf_datafile, sep='::', header=None, names=['item_id', 'user_id', 'similarity_score'])\n",
    "print(\"user ncf data shape\", df_user_ncf.shape)"
   ]
  },
  {
   "cell_type": "code",
   "execution_count": null,
   "metadata": {
    "id": "YNanvMtMXGw7"
   },
   "outputs": [],
   "source": [
    "df_item_ncf.head()"
   ]
  },
  {
   "cell_type": "code",
   "execution_count": null,
   "metadata": {
    "id": "PALSU1eIXGw7"
   },
   "outputs": [],
   "source": [
    "df_user_ncf.head()"
   ]
  },
  {
   "cell_type": "code",
   "execution_count": null,
   "metadata": {
    "id": "B1GjsH2UXGw7"
   },
   "outputs": [],
   "source": [
    "df_user_item_ncf= pd.concat([df_item_ncf, df_user_ncf], axis=0)\n",
    "df_user_item_ncf.reset_index(drop=True, inplace=True)\n",
    "df_user_item_ncf.head(), df_user_item_ncf.tail()"
   ]
  },
  {
   "cell_type": "code",
   "execution_count": null,
   "metadata": {
    "id": "_Dfl_eH5XGw7"
   },
   "outputs": [],
   "source": [
    "print(\"Prob min\", df_user_item_ncf.similarity_score.min())\n",
    "print(\"Prob max\", df_user_item_ncf.similarity_score.max())"
   ]
  },
  {
   "cell_type": "markdown",
   "metadata": {
    "id": "sv_VLb0MXGw8"
   },
   "source": [
    "Normalizing the score w.r.t max rating, this is considered as a global bias to handle non positive scores"
   ]
  },
  {
   "cell_type": "code",
   "execution_count": null,
   "metadata": {
    "id": "iYbHLoFQXGw8"
   },
   "outputs": [],
   "source": [
    "df_user_item_ncf[\"similarity_score\"] = np.round((df_user_item_ncf[\"similarity_score\"] + 2*5), 5)\n",
    "df_user_item_ncf"
   ]
  },
  {
   "cell_type": "code",
   "execution_count": null,
   "metadata": {
    "id": "4ax0xwm8XGw8"
   },
   "outputs": [],
   "source": [
    "print(\"Users count\", df_user_item_ncf.user_id.nunique())\n",
    "print(\"Items count\", df_user_item_ncf.item_id.nunique())"
   ]
  },
  {
   "cell_type": "code",
   "execution_count": null,
   "metadata": {
    "id": "dTpkLJeksbJf"
   },
   "outputs": [],
   "source": [
    "df_ncf_user_item_count = pd.DataFrame(df_user_item_ncf.groupby(\"user_id\")[\"item_id\"].count())\n",
    "df_ncf_user_item_count.columns=[\"item_count\"]\n",
    "df_ncf_user_item_count.reset_index(inplace=True)\n",
    "df_ncf_user_item_count"
   ]
  },
  {
   "cell_type": "code",
   "execution_count": null,
   "metadata": {
    "id": "Xd7cWAJm3s4G"
   },
   "outputs": [],
   "source": [
    "print(df_ncf_user_item_count[df_ncf_user_item_count.item_count == 1].count())\n",
    "df_ncf_user_item_count = df_ncf_user_item_count[~(df_ncf_user_item_count.item_count == 1)]"
   ]
  },
  {
   "cell_type": "code",
   "execution_count": null,
   "metadata": {
    "id": "mqYEJfO67aUp"
   },
   "outputs": [],
   "source": [
    "df_user_item_ncf = df_user_item_ncf[df_user_item_ncf.user_id.isin(df_ncf_user_item_count.user_id)]"
   ]
  },
  {
   "cell_type": "code",
   "execution_count": null,
   "metadata": {
    "id": "mkQXNDuDXGw8"
   },
   "outputs": [],
   "source": [
    "fashion_ncf_data_file = ncf_data_dir + \"fashion_ncf_data.txt\""
   ]
  },
  {
   "cell_type": "code",
   "execution_count": null,
   "metadata": {
    "id": "78fw85V79lWp"
   },
   "outputs": [],
   "source": [
    "print(\"Users count\", df_user_item_ncf.user_id.nunique())\n",
    "print(\"Items count\", df_user_item_ncf.item_id.nunique())"
   ]
  },
  {
   "cell_type": "code",
   "execution_count": null,
   "metadata": {
    "id": "7vzQga-NXGw8"
   },
   "outputs": [],
   "source": [
    "with open(fashion_ncf_data_file, 'w') as f:\n",
    "    for record in df_user_item_ncf.itertuples():\n",
    "        f.write(\"%s::%s::%s\\n\" % (record.user_id, record.item_id, record.similarity_score))\n",
    "    f.close()"
   ]
  },
  {
   "cell_type": "markdown",
   "metadata": {
    "id": "JEG0NUQFXGw9"
   },
   "source": [
    "The NCF input file (fashion_ncf_data.txt) generated above will be passed to the NCF model for final predictions.\n",
    "\n",
    "Please refer to the NCF folder README.md file for the execution of the NCF model"
   ]
  }
 ],
 "metadata": {
  "accelerator": "TPU",
  "colab": {
   "collapsed_sections": [
    "lkhNa7mt0OOo"
   ],
   "gpuType": "V28",
   "machine_shape": "hm",
   "provenance": [
    {
     "file_id": "1PKw9bJ--A_vBOemKbScgrFG3Re_2nwcV",
     "timestamp": 1707835445852
    }
   ]
  },
  "kernelspec": {
   "display_name": "Python 3",
   "name": "python3"
  },
  "language_info": {
   "codemirror_mode": {
    "name": "ipython",
    "version": 3
   },
   "file_extension": ".py",
   "mimetype": "text/x-python",
   "name": "python",
   "nbconvert_exporter": "python",
   "pygments_lexer": "ipython3",
   "version": "3.11.2"
  }
 },
 "nbformat": 4,
 "nbformat_minor": 0
}
