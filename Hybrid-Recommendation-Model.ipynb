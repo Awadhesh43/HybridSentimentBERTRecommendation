{
 "cells": [
  {
   "cell_type": "markdown",
   "metadata": {
    "id": "NnLYrMbl0ON_"
   },
   "source": [
    "# Hybrid Recommendation System"
   ]
  },
  {
   "cell_type": "code",
   "execution_count": 1,
   "metadata": {
    "id": "OTlSQhNP0OOE"
   },
   "outputs": [],
   "source": [
    "# Import python libraries\n",
    "import os\n",
    "import numpy as np\n",
    "from numpy import *\n",
    "import pandas as pd\n",
    "import re\n",
    "import datetime as dt\n",
    "# Import Visualization libraries\n",
    "import seaborn as sns\n",
    "import matplotlib.pyplot as plt\n",
    "# Import scikit learn libraries\n",
    "from sklearn import metrics\n",
    "from sklearn.preprocessing import MinMaxScaler\n",
    "from sklearn.model_selection import train_test_split\n",
    "# Import Cosine and Adjusted Cosine similarity\n",
    "from sklearn.metrics.pairwise import pairwise_distances\n",
    "from sklearn.metrics.pairwise import cosine_similarity\n",
    "# Import pickle to save and load the model\n",
    "import pickle\n",
    "# Ignore warnings\n",
    "import warnings\n",
    "warnings.filterwarnings(\"ignore\")"
   ]
  },
  {
   "cell_type": "markdown",
   "metadata": {
    "id": "RN4ttRtQ0OOG"
   },
   "source": [
    "### Data Sourcing"
   ]
  },
  {
   "cell_type": "code",
   "execution_count": 2,
   "metadata": {
    "id": "6i0Jp6qW5vUg"
   },
   "outputs": [],
   "source": [
    "#DATA_DIRECTORY = \"/content/drive/MyDrive/UpGrad-LJMU/AmazonDataset/\"\n",
    "DATA_DIRECTORY = \"data/\""
   ]
  },
  {
   "cell_type": "markdown",
   "metadata": {
    "id": "MWxl6kxm0OOH"
   },
   "source": [
    "Load the data from the input file"
   ]
  },
  {
   "cell_type": "code",
   "execution_count": 3,
   "metadata": {
    "id": "MGEomjNe0OOH"
   },
   "outputs": [],
   "source": [
    "dataFileName = DATA_DIRECTORY + \"Amazon_Fashion_5L.jsonl\"\n",
    "df = pd.read_json(dataFileName)"
   ]
  },
  {
   "cell_type": "markdown",
   "metadata": {
    "id": "ajX_I07V0OOH"
   },
   "source": [
    "Print shape and first 5 rows"
   ]
  },
  {
   "cell_type": "code",
   "execution_count": 4,
   "metadata": {
    "id": "fRYut7V_0OOI"
   },
   "outputs": [
    {
     "name": "stdout",
     "output_type": "stream",
     "text": [
      "(500000, 10)\n"
     ]
    },
    {
     "data": {
      "text/html": [
       "<div>\n",
       "<style scoped>\n",
       "    .dataframe tbody tr th:only-of-type {\n",
       "        vertical-align: middle;\n",
       "    }\n",
       "\n",
       "    .dataframe tbody tr th {\n",
       "        vertical-align: top;\n",
       "    }\n",
       "\n",
       "    .dataframe thead th {\n",
       "        text-align: right;\n",
       "    }\n",
       "</style>\n",
       "<table border=\"1\" class=\"dataframe\">\n",
       "  <thead>\n",
       "    <tr style=\"text-align: right;\">\n",
       "      <th></th>\n",
       "      <th>rating</th>\n",
       "      <th>title</th>\n",
       "      <th>text</th>\n",
       "      <th>images</th>\n",
       "      <th>asin</th>\n",
       "      <th>parent_asin</th>\n",
       "      <th>user_id</th>\n",
       "      <th>timestamp</th>\n",
       "      <th>helpful_vote</th>\n",
       "      <th>verified_purchase</th>\n",
       "    </tr>\n",
       "  </thead>\n",
       "  <tbody>\n",
       "    <tr>\n",
       "      <th>0</th>\n",
       "      <td>5</td>\n",
       "      <td>Pretty locket</td>\n",
       "      <td>I think this locket is really pretty. The insi...</td>\n",
       "      <td>[]</td>\n",
       "      <td>B00LOPVX74</td>\n",
       "      <td>B00LOPVX74</td>\n",
       "      <td>AGBFYI2DDIKXC5Y4FARTYDTQBMFQ</td>\n",
       "      <td>2020-01-09 00:06:34.489</td>\n",
       "      <td>3</td>\n",
       "      <td>True</td>\n",
       "    </tr>\n",
       "    <tr>\n",
       "      <th>1</th>\n",
       "      <td>5</td>\n",
       "      <td>A</td>\n",
       "      <td>Great</td>\n",
       "      <td>[]</td>\n",
       "      <td>B07B4JXK8D</td>\n",
       "      <td>B07B4JXK8D</td>\n",
       "      <td>AFQLNQNQYFWQZPJQZS6V3NZU4QBQ</td>\n",
       "      <td>2020-12-20 01:04:06.701</td>\n",
       "      <td>0</td>\n",
       "      <td>True</td>\n",
       "    </tr>\n",
       "    <tr>\n",
       "      <th>2</th>\n",
       "      <td>2</td>\n",
       "      <td>Two Stars</td>\n",
       "      <td>One of the stones fell out within the first 2 ...</td>\n",
       "      <td>[]</td>\n",
       "      <td>B007ZSEQ4Q</td>\n",
       "      <td>B007ZSEQ4Q</td>\n",
       "      <td>AHITBJSS7KYUBVZPX7M2WJCOIVKQ</td>\n",
       "      <td>2015-05-23 01:33:48.000</td>\n",
       "      <td>3</td>\n",
       "      <td>True</td>\n",
       "    </tr>\n",
       "    <tr>\n",
       "      <th>3</th>\n",
       "      <td>1</td>\n",
       "      <td>Won’t buy again</td>\n",
       "      <td>Crappy socks. Money wasted. Bought to wear wit...</td>\n",
       "      <td>[]</td>\n",
       "      <td>B07F2BTFS9</td>\n",
       "      <td>B07F2BTFS9</td>\n",
       "      <td>AFVNEEPDEIH5SPUN5BWC6NKL3WNQ</td>\n",
       "      <td>2018-12-31 20:57:27.095</td>\n",
       "      <td>2</td>\n",
       "      <td>True</td>\n",
       "    </tr>\n",
       "    <tr>\n",
       "      <th>4</th>\n",
       "      <td>5</td>\n",
       "      <td>I LOVE these glasses</td>\n",
       "      <td>I LOVE these glasses!  They fit perfectly over...</td>\n",
       "      <td>[]</td>\n",
       "      <td>B00PKRFU4O</td>\n",
       "      <td>B00XESJTDE</td>\n",
       "      <td>AHSPLDNW5OOUK2PLH7GXLACFBZNQ</td>\n",
       "      <td>2015-08-13 14:29:26.000</td>\n",
       "      <td>0</td>\n",
       "      <td>True</td>\n",
       "    </tr>\n",
       "  </tbody>\n",
       "</table>\n",
       "</div>"
      ],
      "text/plain": [
       "   rating                 title  \\\n",
       "0       5         Pretty locket   \n",
       "1       5                     A   \n",
       "2       2             Two Stars   \n",
       "3       1       Won’t buy again   \n",
       "4       5  I LOVE these glasses   \n",
       "\n",
       "                                                text images        asin  \\\n",
       "0  I think this locket is really pretty. The insi...     []  B00LOPVX74   \n",
       "1                                              Great     []  B07B4JXK8D   \n",
       "2  One of the stones fell out within the first 2 ...     []  B007ZSEQ4Q   \n",
       "3  Crappy socks. Money wasted. Bought to wear wit...     []  B07F2BTFS9   \n",
       "4  I LOVE these glasses!  They fit perfectly over...     []  B00PKRFU4O   \n",
       "\n",
       "  parent_asin                       user_id               timestamp  \\\n",
       "0  B00LOPVX74  AGBFYI2DDIKXC5Y4FARTYDTQBMFQ 2020-01-09 00:06:34.489   \n",
       "1  B07B4JXK8D  AFQLNQNQYFWQZPJQZS6V3NZU4QBQ 2020-12-20 01:04:06.701   \n",
       "2  B007ZSEQ4Q  AHITBJSS7KYUBVZPX7M2WJCOIVKQ 2015-05-23 01:33:48.000   \n",
       "3  B07F2BTFS9  AFVNEEPDEIH5SPUN5BWC6NKL3WNQ 2018-12-31 20:57:27.095   \n",
       "4  B00XESJTDE  AHSPLDNW5OOUK2PLH7GXLACFBZNQ 2015-08-13 14:29:26.000   \n",
       "\n",
       "   helpful_vote  verified_purchase  \n",
       "0             3               True  \n",
       "1             0               True  \n",
       "2             3               True  \n",
       "3             2               True  \n",
       "4             0               True  "
      ]
     },
     "execution_count": 4,
     "metadata": {},
     "output_type": "execute_result"
    }
   ],
   "source": [
    "print(df.shape)\n",
    "df.head()"
   ]
  },
  {
   "cell_type": "code",
   "execution_count": 5,
   "metadata": {
    "id": "q7EzPOfx8UVY"
   },
   "outputs": [
    {
     "name": "stdout",
     "output_type": "stream",
     "text": [
      "<class 'pandas.core.frame.DataFrame'>\n",
      "Index: 500000 entries, 0 to 499999\n",
      "Data columns (total 10 columns):\n",
      " #   Column             Non-Null Count   Dtype         \n",
      "---  ------             --------------   -----         \n",
      " 0   rating             500000 non-null  int64         \n",
      " 1   title              500000 non-null  object        \n",
      " 2   text               500000 non-null  object        \n",
      " 3   images             500000 non-null  object        \n",
      " 4   asin               500000 non-null  object        \n",
      " 5   parent_asin        500000 non-null  object        \n",
      " 6   user_id            500000 non-null  object        \n",
      " 7   timestamp          500000 non-null  datetime64[ns]\n",
      " 8   helpful_vote       500000 non-null  int64         \n",
      " 9   verified_purchase  500000 non-null  bool          \n",
      "dtypes: bool(1), datetime64[ns](1), int64(2), object(6)\n",
      "memory usage: 38.6+ MB\n"
     ]
    }
   ],
   "source": [
    "df.info()"
   ]
  },
  {
   "cell_type": "markdown",
   "metadata": {
    "id": "sBGiGZQm0OOI"
   },
   "source": [
    "### Exploratory Data Analysis"
   ]
  },
  {
   "cell_type": "markdown",
   "metadata": {
    "id": "5AmitZrM0OOI"
   },
   "source": [
    "- Start with Handling Null values"
   ]
  },
  {
   "cell_type": "code",
   "execution_count": 6,
   "metadata": {
    "id": "qN02VOK60OOJ"
   },
   "outputs": [],
   "source": [
    "def MissingData(df):\n",
    "    # summing up the missing values (column-wise) and displaying fraction of NaNs\n",
    "    null_count = df[df.columns[df.isna().any()]].isna().sum().sort_values(ascending=False)\n",
    "    null_percentage = (\n",
    "        df[df.columns[df.isna().any()]].isna().sum() * 100 / df.shape[0]\n",
    "    ).sort_values(ascending=False)\n",
    "    null_data = pd.concat([null_count, null_percentage], axis=1, keys=[\"Count\", \"Percentage\"])\n",
    "    return null_data"
   ]
  },
  {
   "cell_type": "code",
   "execution_count": 7,
   "metadata": {
    "id": "uzkrJw050OOJ"
   },
   "outputs": [
    {
     "data": {
      "text/html": [
       "<div>\n",
       "<style scoped>\n",
       "    .dataframe tbody tr th:only-of-type {\n",
       "        vertical-align: middle;\n",
       "    }\n",
       "\n",
       "    .dataframe tbody tr th {\n",
       "        vertical-align: top;\n",
       "    }\n",
       "\n",
       "    .dataframe thead th {\n",
       "        text-align: right;\n",
       "    }\n",
       "</style>\n",
       "<table border=\"1\" class=\"dataframe\">\n",
       "  <thead>\n",
       "    <tr style=\"text-align: right;\">\n",
       "      <th></th>\n",
       "      <th>Count</th>\n",
       "      <th>Percentage</th>\n",
       "    </tr>\n",
       "  </thead>\n",
       "  <tbody>\n",
       "  </tbody>\n",
       "</table>\n",
       "</div>"
      ],
      "text/plain": [
       "Empty DataFrame\n",
       "Columns: [Count, Percentage]\n",
       "Index: []"
      ]
     },
     "execution_count": 7,
     "metadata": {},
     "output_type": "execute_result"
    }
   ],
   "source": [
    "MissingData(df)"
   ]
  },
  {
   "cell_type": "markdown",
   "metadata": {
    "id": "ybSJJvM10OOJ"
   },
   "source": [
    "No Missing values"
   ]
  },
  {
   "cell_type": "markdown",
   "metadata": {
    "id": "qOXhyuXT8UVZ"
   },
   "source": [
    "Check column images and drop as it will not be used for recommendation model building"
   ]
  },
  {
   "cell_type": "code",
   "execution_count": 8,
   "metadata": {
    "id": "YrlXNqlD8UVZ"
   },
   "outputs": [],
   "source": [
    "df.drop(columns=[\"images\"], axis=1, inplace=True)"
   ]
  },
  {
   "cell_type": "markdown",
   "metadata": {
    "id": "6ED7p1QR8UVa"
   },
   "source": [
    "- Checking for duplicate rows"
   ]
  },
  {
   "cell_type": "code",
   "execution_count": 9,
   "metadata": {
    "id": "q7OfhJh08UVa"
   },
   "outputs": [
    {
     "name": "stdout",
     "output_type": "stream",
     "text": [
      "Duplicate records count 1776\n"
     ]
    }
   ],
   "source": [
    "# Checking for duplicate rows in the dataset\n",
    "duplicate_count = df[df.duplicated() == True].shape[0]\n",
    "print(\"Duplicate records count\", duplicate_count)"
   ]
  },
  {
   "cell_type": "markdown",
   "metadata": {
    "id": "BnOJOAf68UVa"
   },
   "source": [
    "There are 25244 duplicate purchase data records, so these will be filtered as this will impact the further inference and model building"
   ]
  },
  {
   "cell_type": "code",
   "execution_count": 10,
   "metadata": {
    "id": "dlJKkqfM8UVa"
   },
   "outputs": [],
   "source": [
    "df.drop_duplicates(inplace = True)"
   ]
  },
  {
   "cell_type": "code",
   "execution_count": 11,
   "metadata": {
    "id": "8sQrxVBR8UVa"
   },
   "outputs": [
    {
     "name": "stdout",
     "output_type": "stream",
     "text": [
      "Dataset shape: (498224, 9) Users count: 342412 Items count: 289229\n"
     ]
    }
   ],
   "source": [
    "def print_user_items_count(data: pd.DataFrame):\n",
    "    print(\"Dataset shape:\", data.shape, \"Users count:\", data.user_id.nunique(), \"Items count:\", data.parent_asin.nunique())\n",
    "\n",
    "print_user_items_count(df)"
   ]
  },
  {
   "cell_type": "markdown",
   "metadata": {
    "id": "vu_k5aU80OOM"
   },
   "source": [
    "##### Analyze the verified purchase feature"
   ]
  },
  {
   "cell_type": "code",
   "execution_count": 12,
   "metadata": {
    "id": "eAn7FrCk0OOM"
   },
   "outputs": [
    {
     "data": {
      "text/plain": [
       "verified_purchase\n",
       "True     0.911419\n",
       "False    0.088581\n",
       "Name: proportion, dtype: float64"
      ]
     },
     "execution_count": 12,
     "metadata": {},
     "output_type": "execute_result"
    }
   ],
   "source": [
    "df.verified_purchase.value_counts(normalize=True)"
   ]
  },
  {
   "cell_type": "markdown",
   "metadata": {
    "id": "TjR0jS6O8UVb"
   },
   "source": [
    "Approximately 93.5% users items interactions are verified purchase and some 6.5% users have unverified purchase"
   ]
  },
  {
   "cell_type": "code",
   "execution_count": 13,
   "metadata": {
    "id": "mgSmIIAY8UVb"
   },
   "outputs": [
    {
     "data": {
      "image/png": "[encoded data removed]",
      "text/plain": [
       "<Figure size 640x480 with 1 Axes>"
      ]
     },
     "metadata": {},
     "output_type": "display_data"
    }
   ],
   "source": [
    "# Visualize using count plot\n",
    "sns.countplot(x=\"verified_purchase\", data=df, palette=\"Set2\")\n",
    "plt.xlabel(\"Verified Purchase\")\n",
    "plt.ylabel(\"Percentage\")\n",
    "plt.show()"
   ]
  },
  {
   "cell_type": "markdown",
   "metadata": {
    "id": "120d6dsX8Mxc"
   },
   "source": [
    "We can see user verified purchase are way higher than unverified purchase"
   ]
  },
  {
   "cell_type": "code",
   "execution_count": 14,
   "metadata": {
    "id": "wNbrXyhR8UVb"
   },
   "outputs": [
    {
     "data": {
      "text/plain": [
       "verified_purchase\n",
       "1    0.911419\n",
       "0    0.088581\n",
       "Name: proportion, dtype: float64"
      ]
     },
     "execution_count": 14,
     "metadata": {},
     "output_type": "execute_result"
    }
   ],
   "source": [
    "# Map the categorical verified_purchase to numerical 1 or 0 for Classification Model\n",
    "df[\"verified_purchase\"] = df[\"verified_purchase\"].map({True: 1, False: 0})\n",
    "# get the value count of verified_purchase column\n",
    "df[\"verified_purchase\"].value_counts(normalize=True)"
   ]
  },
  {
   "cell_type": "markdown",
   "metadata": {
    "id": "ksxm6-VS8UVb"
   },
   "source": [
    "##### Analyze the Rating feature"
   ]
  },
  {
   "cell_type": "code",
   "execution_count": 15,
   "metadata": {
    "id": "9TDFpCv39yzT"
   },
   "outputs": [
    {
     "data": {
      "text/plain": [
       "rating\n",
       "5    0.576658\n",
       "4    0.153881\n",
       "3    0.105416\n",
       "1    0.096491\n",
       "2    0.067554\n",
       "Name: proportion, dtype: float64"
      ]
     },
     "execution_count": 15,
     "metadata": {},
     "output_type": "execute_result"
    }
   ],
   "source": [
    "df[\"rating\"].value_counts(normalize=True)"
   ]
  },
  {
   "cell_type": "markdown",
   "metadata": {
    "id": "81XhEU8xNUUo"
   },
   "source": [
    "Approximately 81% of reviews have rating of 3 and above. 57% of the reviews have rating of 5. 14% have rating of 4 and 10% have rating of 3"
   ]
  },
  {
   "cell_type": "code",
   "execution_count": 16,
   "metadata": {
    "id": "bSNLyD500OOU"
   },
   "outputs": [
    {
     "data": {
      "image/png": "[encoded data removed]",
      "text/plain": [
       "<Figure size 640x480 with 1 Axes>"
      ]
     },
     "metadata": {},
     "output_type": "display_data"
    }
   ],
   "source": [
    "# visualize the rating.\n",
    "sns.countplot(x=\"rating\", data=df, palette=\"Set2\")\n",
    "plt.xlabel(\"Rating\")\n",
    "plt.ylabel(\"Percentage\")\n",
    "plt.show()"
   ]
  },
  {
   "cell_type": "code",
   "execution_count": 17,
   "metadata": {
    "id": "ARp3WOir8UVc"
   },
   "outputs": [
    {
     "data": {
      "text/plain": [
       "<AxesSubplot: xlabel='rating'>"
      ]
     },
     "execution_count": 17,
     "metadata": {},
     "output_type": "execute_result"
    },
    {
     "data": {
      "image/png": "[encoded data removed]",
      "text/plain": [
       "<Figure size 640x480 with 1 Axes>"
      ]
     },
     "metadata": {},
     "output_type": "display_data"
    }
   ],
   "source": [
    "plt.rcdefaults()\n",
    "sns.boxplot(x=\"rating\", data=df, palette=\"Set2\")"
   ]
  },
  {
   "cell_type": "markdown",
   "metadata": {
    "id": "-o3K8MVk8UVc"
   },
   "source": [
    "Most of the rating ranges from 3 to 5. So this will be used for data filtraion with minimum rating of 3."
   ]
  },
  {
   "cell_type": "markdown",
   "metadata": {
    "id": "0zr9SdRU7MEM"
   },
   "source": [
    "##### Analyze the Rating and verified purchase for correlation analysis"
   ]
  },
  {
   "cell_type": "markdown",
   "metadata": {
    "id": "Ki9VTZSu0OOV"
   },
   "source": [
    "Check the ratings for positive sentiment records"
   ]
  },
  {
   "cell_type": "code",
   "execution_count": 18,
   "metadata": {
    "id": "ULs0_hst0OOV"
   },
   "outputs": [
    {
     "data": {
      "text/plain": [
       "rating\n",
       "5    0.580236\n",
       "4    0.148488\n",
       "3    0.104583\n",
       "1    0.098328\n",
       "2    0.068365\n",
       "Name: proportion, dtype: float64"
      ]
     },
     "execution_count": 18,
     "metadata": {},
     "output_type": "execute_result"
    }
   ],
   "source": [
    "df[df[\"verified_purchase\"] == 1][\"rating\"].value_counts(normalize=True)"
   ]
  },
  {
   "cell_type": "markdown",
   "metadata": {
    "id": "MpqnmvZc0OOV"
   },
   "source": [
    "Check the ratings and verified_purchase correlation"
   ]
  },
  {
   "cell_type": "code",
   "execution_count": 19,
   "metadata": {
    "id": "HuU3iTs6PjyR"
   },
   "outputs": [
    {
     "data": {
      "image/png": "[encoded data removed]",
      "text/plain": [
       "<Figure size 640x480 with 1 Axes>"
      ]
     },
     "metadata": {},
     "output_type": "display_data"
    }
   ],
   "source": [
    "plt.rcdefaults()\n",
    "sns.countplot(x=\"rating\", data=df, hue='verified_purchase', palette='Set2')\n",
    "plt.xlabel(\"Rating And Verified Purchase\")\n",
    "plt.ylabel(\"Percentage\")\n",
    "plt.show()"
   ]
  },
  {
   "cell_type": "markdown",
   "metadata": {
    "id": "6RwOlRJE8UVh"
   },
   "source": [
    "##### Analyze Helpful Vote feature\n"
   ]
  },
  {
   "cell_type": "code",
   "execution_count": 20,
   "metadata": {
    "id": "I4r7TmIC8UVh"
   },
   "outputs": [
    {
     "data": {
      "text/plain": [
       "count    498224.000000\n",
       "mean          0.617748\n",
       "std           3.606217\n",
       "min           0.000000\n",
       "25%           0.000000\n",
       "50%           0.000000\n",
       "75%           0.000000\n",
       "max         578.000000\n",
       "Name: helpful_vote, dtype: float64"
      ]
     },
     "execution_count": 20,
     "metadata": {},
     "output_type": "execute_result"
    }
   ],
   "source": [
    "df.helpful_vote.describe()"
   ]
  },
  {
   "cell_type": "code",
   "execution_count": 21,
   "metadata": {
    "id": "5cSBk_S08UVh"
   },
   "outputs": [
    {
     "data": {
      "text/plain": [
       "helpful_vote\n",
       "0      0.789422\n",
       "1      0.119840\n",
       "2      0.037459\n",
       "3      0.017404\n",
       "4      0.009482\n",
       "         ...   \n",
       "120    0.000002\n",
       "210    0.000002\n",
       "243    0.000002\n",
       "138    0.000002\n",
       "143    0.000002\n",
       "Name: proportion, Length: 162, dtype: float64"
      ]
     },
     "execution_count": 21,
     "metadata": {},
     "output_type": "execute_result"
    }
   ],
   "source": [
    "df.helpful_vote.value_counts(normalize=True)"
   ]
  },
  {
   "cell_type": "code",
   "execution_count": 22,
   "metadata": {
    "id": "dw7ZL8VX8UVh"
   },
   "outputs": [
    {
     "data": {
      "text/plain": [
       "<AxesSubplot: xlabel='helpful_vote'>"
      ]
     },
     "execution_count": 22,
     "metadata": {},
     "output_type": "execute_result"
    },
    {
     "data": {
      "image/png": "[encoded data removed]",
      "text/plain": [
       "<Figure size 640x480 with 1 Axes>"
      ]
     },
     "metadata": {},
     "output_type": "display_data"
    }
   ],
   "source": [
    "sns.boxplot(x=\"helpful_vote\", data=df, palette=\"Set2\")"
   ]
  },
  {
   "cell_type": "code",
   "execution_count": 23,
   "metadata": {
    "id": "e_3iV2fp8UVh"
   },
   "outputs": [
    {
     "data": {
      "text/plain": [
       "0.5000     0.0\n",
       "0.7000     0.0\n",
       "0.9000     1.0\n",
       "0.9500     3.0\n",
       "0.9900     9.0\n",
       "0.9950    15.0\n",
       "0.9995    61.0\n",
       "Name: helpful_vote, dtype: float64"
      ]
     },
     "execution_count": 23,
     "metadata": {},
     "output_type": "execute_result"
    }
   ],
   "source": [
    "#print the quantile (0.5, 0.7, 0.9, 0.95 and 0.99) of balance variable\n",
    "df.helpful_vote.quantile([0.5,0.7, 0.9, 0.95, 0.99, 0.995, 0.9995])"
   ]
  },
  {
   "cell_type": "code",
   "execution_count": 24,
   "metadata": {
    "id": "1_AfCFri2aEV"
   },
   "outputs": [
    {
     "data": {
      "text/plain": [
       "helpful_vote_Rel\n",
       "0    0.789422\n",
       "1    0.210578\n",
       "Name: proportion, dtype: float64"
      ]
     },
     "execution_count": 24,
     "metadata": {},
     "output_type": "execute_result"
    }
   ],
   "source": [
    "df[\"helpful_vote_Rel\"] = df.helpful_vote.apply(lambda x: 1 if x >= 1 else 0)\n",
    "df.helpful_vote_Rel.value_counts(normalize=True)"
   ]
  },
  {
   "cell_type": "code",
   "execution_count": 25,
   "metadata": {
    "id": "CDg6KXrw2dFM"
   },
   "outputs": [
    {
     "data": {
      "image/png": "[encoded data removed]",
      "text/plain": [
       "<Figure size 640x480 with 1 Axes>"
      ]
     },
     "metadata": {},
     "output_type": "display_data"
    }
   ],
   "source": [
    "sns.set_style(\"whitegrid\")\n",
    "plt.pie(df[\"helpful_vote_Rel\"].value_counts(normalize=True), labels=['No Vote', 'Atleast 1 vote'], autopct=\"%1.1f%%\")\n",
    "plt.title(\"Helpful Vote Distribution\")\n",
    "plt.show()"
   ]
  },
  {
   "cell_type": "markdown",
   "metadata": {
    "id": "NNkeDy0E26KU"
   },
   "source": [
    "As we see that almost 80% of the purchase data either doesn't have any helpful votes."
   ]
  },
  {
   "cell_type": "code",
   "execution_count": 26,
   "metadata": {
    "id": "a7qxDk8c8UVh"
   },
   "outputs": [
    {
     "data": {
      "text/plain": [
       "helpful_vote_range\n",
       "<5         0.903322\n",
       "5-10       0.055750\n",
       "10-20      0.026278\n",
       "20-50      0.011485\n",
       "50-100     0.002364\n",
       "100-200    0.000629\n",
       "200-500    0.000162\n",
       "500+       0.000010\n",
       "Name: proportion, dtype: float64"
      ]
     },
     "execution_count": 26,
     "metadata": {},
     "output_type": "execute_result"
    }
   ],
   "source": [
    "#create the buckets of <5, 5-10, 10-20, 20-50, 50-100, 100-200, 200-500, 500+ column.\n",
    "df['helpful_vote_range'] = pd.cut(df.helpful_vote, [0, 5, 10, 20, 50, 100, 200, 500, 9999],\n",
    "            labels=[\"<5\", \"5-10\", \"10-20\", \"20-50\", \"50-100\", \"100-200\", \"200-500\", \"500+\"])\n",
    "df.helpful_vote_range.value_counts(normalize=True)"
   ]
  },
  {
   "cell_type": "code",
   "execution_count": 27,
   "metadata": {
    "id": "M1EyeeLK8UVi"
   },
   "outputs": [
    {
     "data": {
      "image/png": "[encoded data removed]",
      "text/plain": [
       "<Figure size 1000x400 with 1 Axes>"
      ]
     },
     "metadata": {},
     "output_type": "display_data"
    }
   ],
   "source": [
    "plt.figure(figsize=[10, 4])\n",
    "df.helpful_vote_range.value_counts(normalize=True).plot.bar()\n",
    "plt.xlabel(\"Helpful Votes Count\")\n",
    "plt.ylabel(\"Percentage\")\n",
    "plt.show()"
   ]
  },
  {
   "cell_type": "markdown",
   "metadata": {
    "id": "wcpIlGfA1fVJ"
   },
   "source": [
    " Among the rest 20%, approximately 90% of then have less than or equal to 5 votes. Hence this feature doesn't hold any significance for building the recommendation model."
   ]
  },
  {
   "cell_type": "markdown",
   "metadata": {
    "id": "I-kaLdns8UVi"
   },
   "source": [
    "##### Analyze Timestamp feature"
   ]
  },
  {
   "cell_type": "markdown",
   "metadata": {
    "id": "68uObBmD8UVi"
   },
   "source": [
    "Convert the timestamp to days count from the last purchase date"
   ]
  },
  {
   "cell_type": "code",
   "execution_count": 28,
   "metadata": {
    "id": "LinIO3OL8UVi"
   },
   "outputs": [
    {
     "name": "stdout",
     "output_type": "stream",
     "text": [
      "Most Frequent Purchase date - 2023-03-29 03:03:15.139000\n",
      "Most Historic Purchase date - 2002-10-05 07:53:31\n"
     ]
    }
   ],
   "source": [
    "print(\"Most Frequent Purchase date -\", df['timestamp'].max())\n",
    "print(\"Most Historic Purchase date -\", df['timestamp'].min())"
   ]
  },
  {
   "cell_type": "code",
   "execution_count": 29,
   "metadata": {},
   "outputs": [],
   "source": [
    "df['time_seconds'] = df.timestamp.apply(lambda x: int(x.timestamp()))"
   ]
  },
  {
   "cell_type": "code",
   "execution_count": 30,
   "metadata": {
    "id": "ZjkGFzK18UVj"
   },
   "outputs": [],
   "source": [
    "#Calculate the past no of days from the current date to determine the purchase frequencey in days\n",
    "# User's last purchase\n",
    "df['timestamp_freqLast'] = (df['timestamp'].max() - df['timestamp']).dt.total_seconds()"
   ]
  },
  {
   "cell_type": "code",
   "execution_count": 31,
   "metadata": {
    "id": "2uAXsy538UVk"
   },
   "outputs": [],
   "source": [
    "df['timestamp_freqDays'] = np.ceil(df['timestamp_freqLast']/(60*60*24))\n",
    "df['timestamp_freqDays'] = df['timestamp_freqDays'].apply(lambda x : 1 if x == 0.0 else x)\n",
    "df['timestamp_freqDays'] = np.round(df['timestamp_freqDays'])"
   ]
  },
  {
   "cell_type": "markdown",
   "metadata": {
    "id": "gOS4ii9D8UVk"
   },
   "source": [
    "Users purchasing count in weeks/months interval. 1 month, 2-3 months, 3-6 months, 6-9 months, 6-12 months, 12-15 months, 15-18 months, 18-21 months, 21-24 months, 2-2.5years, more than 2.5 years with an interval of 6 months"
   ]
  },
  {
   "cell_type": "code",
   "execution_count": 32,
   "metadata": {
    "id": "azD0uv8P8UVk"
   },
   "outputs": [
    {
     "data": {
      "text/plain": [
       "purchase_freq\n",
       "6.5-7 years      116949\n",
       "3.5-4 years       42125\n",
       "3-3.5 years       39561\n",
       "4-4.5 years       38444\n",
       "6-6.5 years       37100\n",
       "5.5-6 years       36772\n",
       "5-5.5 years       36605\n",
       "2-2.5 years       33212\n",
       "2.5-3 years       27037\n",
       "21-24 months      16764\n",
       "18-21 months      14067\n",
       "15-18 months      11765\n",
       "12-15 months       9847\n",
       "6-12 months        8768\n",
       "6-9 months         8513\n",
       "3-6 months         7985\n",
       "1-3 months         3959\n",
       "7-7.5 years        2583\n",
       "7.5-8 years        1650\n",
       "<1 month           1334\n",
       "8-8.5 years        1249\n",
       "11.5+ years         492\n",
       "8.5-9 years         379\n",
       "9-9.5 years         360\n",
       "10-10.5 years       216\n",
       "9.5-10 years        209\n",
       "11-11.5 years       147\n",
       "10.5-11 years       132\n",
       "Name: count, dtype: int64"
      ]
     },
     "execution_count": 32,
     "metadata": {},
     "output_type": "execute_result"
    }
   ],
   "source": [
    "#create the buckets of <1 month, 1-3 months, 3-6 months, 6-9 months, 9-12 months, 12-15 months,\n",
    "# 15-18 months, 18-21 months, 21-24 months, 2-2.5years, more than 2.5 years with an interval of 6 months\n",
    "# from timestamp column.\n",
    "df['purchase_freq'] = pd.cut(df.timestamp_freqDays, [0, 30, 90, 180, 272, 365, 450, 540, 630, 720,\n",
    "                                    900, 1080, 1260, 1440, 1620, 1800, 1980, 2160, 3340, 3520, 3700,\n",
    "                                    3880, 4060, 4240, 4420, 4600, 4780, 4960, 9999],\n",
    "        labels=[\"<1 month\", \"1-3 months\", \"3-6 months\", \"6-9 months\", \"6-12 months\",\n",
    "            \"12-15 months\", \"15-18 months\", \"18-21 months\", \"21-24 months\", \"2-2.5 years\", \"2.5-3 years\",\n",
    "            \"3-3.5 years\", \"3.5-4 years\", \"4-4.5 years\", \"5-5.5 years\", \"5.5-6 years\", \"6-6.5 years\",\n",
    "            \"6.5-7 years\", \"7-7.5 years\", \"7.5-8 years\", \"8-8.5 years\", \"8.5-9 years\", \"9-9.5 years\",\n",
    "            \"9.5-10 years\", \"10-10.5 years\", \"10.5-11 years\", \"11-11.5 years\", \"11.5+ years\"])\n",
    "df.purchase_freq.value_counts()"
   ]
  },
  {
   "cell_type": "code",
   "execution_count": 33,
   "metadata": {
    "id": "03QcOfDe8UVk"
   },
   "outputs": [
    {
     "data": {
      "image/png": "[encoded data removed]",
      "text/plain": [
       "<Figure size 1000x400 with 1 Axes>"
      ]
     },
     "metadata": {},
     "output_type": "display_data"
    }
   ],
   "source": [
    "plt.rcdefaults()\n",
    "plt.figure(figsize=[10, 4])\n",
    "df.purchase_freq.value_counts(normalize=True).plot.bar()\n",
    "plt.xlabel(\"Item Purchases in Timeframe\")\n",
    "plt.ylabel(\"Percentage\")\n",
    "plt.show()"
   ]
  },
  {
   "cell_type": "markdown",
   "metadata": {
    "id": "dU0FfYBQ8UVk"
   },
   "source": [
    "User Item purchase distribution across month"
   ]
  },
  {
   "cell_type": "code",
   "execution_count": 34,
   "metadata": {
    "id": "YSithRk78UVk"
   },
   "outputs": [],
   "source": [
    "df['purchase_month'] = df.timestamp.apply(lambda x : x.month)"
   ]
  },
  {
   "cell_type": "code",
   "execution_count": 35,
   "metadata": {
    "id": "Tt6K0nr58UVl"
   },
   "outputs": [],
   "source": [
    "months_map = {1: \"Jan\", 2: \"Feb\", 3: \"Mar\", 4: \"Apr\", 5: \"May\", 6: \"Jun\",\n",
    "              7: \"Jul\", 8: \"Aug\", 9: \"Sep\", 10: \"Oct\", 11: \"Nov\", 12: \"Dec\"}"
   ]
  },
  {
   "cell_type": "code",
   "execution_count": 36,
   "metadata": {
    "id": "GOYw_TPM8UVl"
   },
   "outputs": [],
   "source": [
    "df.purchase_month = df.purchase_month.map(months_map)"
   ]
  },
  {
   "cell_type": "code",
   "execution_count": 37,
   "metadata": {
    "id": "5B4SODzPBe4g"
   },
   "outputs": [
    {
     "data": {
      "text/plain": [
       "purchase_month\n",
       "Jan    0.102460\n",
       "Dec    0.097420\n",
       "Jul    0.089400\n",
       "Aug    0.086495\n",
       "Mar    0.082055\n",
       "Oct    0.081174\n",
       "Jun    0.080948\n",
       "Feb    0.079075\n",
       "May    0.077704\n",
       "Nov    0.076040\n",
       "Sep    0.074129\n",
       "Apr    0.073100\n",
       "Name: proportion, dtype: float64"
      ]
     },
     "execution_count": 37,
     "metadata": {},
     "output_type": "execute_result"
    }
   ],
   "source": [
    "df.purchase_month.value_counts(normalize=True)"
   ]
  },
  {
   "cell_type": "code",
   "execution_count": 38,
   "metadata": {
    "id": "y5-n3mJQ8UVl"
   },
   "outputs": [
    {
     "data": {
      "image/png": "[encoded data removed]",
      "text/plain": [
       "<Figure size 1200x600 with 1 Axes>"
      ]
     },
     "metadata": {},
     "output_type": "display_data"
    }
   ],
   "source": [
    "plt.figure(figsize=[12, 6])\n",
    "df.purchase_month.value_counts(normalize=True).plot.bar()\n",
    "plt.xlabel(\"Month wise Purchase\")\n",
    "plt.ylabel(\"Percentage\")\n",
    "plt.show()"
   ]
  },
  {
   "cell_type": "markdown",
   "metadata": {
    "id": "ssMrDan78UVl"
   },
   "source": [
    "The purchases across the months have been consistent with an average weightage, 7.5% of total purchasings in every month. This is almost equally distributed. Among these, January, December and July are being the top 3 months with maximum purchasings and this shows some seasonality, considering winter and summer peak months."
   ]
  },
  {
   "cell_type": "code",
   "execution_count": 39,
   "metadata": {},
   "outputs": [],
   "source": [
    "df['purchase_year'] = df.timestamp.apply(lambda x : x.year)"
   ]
  },
  {
   "cell_type": "code",
   "execution_count": 40,
   "metadata": {},
   "outputs": [
    {
     "data": {
      "text/plain": [
       "purchase_year\n",
       "2019    0.169723\n",
       "2018    0.152494\n",
       "2017    0.150452\n",
       "2020    0.124763\n",
       "2021    0.122327\n",
       "2016    0.115314\n",
       "2022    0.071572\n",
       "2015    0.048677\n",
       "2014    0.021181\n",
       "2023    0.010010\n",
       "2013    0.008075\n",
       "2012    0.002497\n",
       "2011    0.001052\n",
       "2010    0.000692\n",
       "2009    0.000458\n",
       "2008    0.000345\n",
       "2007    0.000269\n",
       "2006    0.000054\n",
       "2005    0.000022\n",
       "2004    0.000018\n",
       "2003    0.000004\n",
       "2002    0.000002\n",
       "Name: proportion, dtype: float64"
      ]
     },
     "execution_count": 40,
     "metadata": {},
     "output_type": "execute_result"
    }
   ],
   "source": [
    "df.purchase_year.value_counts(normalize=True)"
   ]
  },
  {
   "cell_type": "code",
   "execution_count": 41,
   "metadata": {},
   "outputs": [
    {
     "data": {
      "image/png": "[encoded data removed]",
      "text/plain": [
       "<Figure size 1200x600 with 1 Axes>"
      ]
     },
     "metadata": {},
     "output_type": "display_data"
    }
   ],
   "source": [
    "plt.figure(figsize=[12, 6])\n",
    "df.purchase_year.value_counts(normalize=True).plot.bar()\n",
    "plt.xlabel(\"Year wise Purchase\")\n",
    "plt.ylabel(\"Percentage\")\n",
    "plt.show()"
   ]
  },
  {
   "cell_type": "markdown",
   "metadata": {
    "id": "bN-H5RFt07mi"
   },
   "source": [
    "#### Data Filtraion"
   ]
  },
  {
   "cell_type": "code",
   "execution_count": 42,
   "metadata": {
    "id": "lklSHnBXNGiG"
   },
   "outputs": [
    {
     "name": "stdout",
     "output_type": "stream",
     "text": [
      "Start Data Filtration\n",
      "Dataset shape: (498224, 17) Users count: 342412 Items count: 289229\n"
     ]
    }
   ],
   "source": [
    "print(\"Start Data Filtration\")\n",
    "print_user_items_count(df)"
   ]
  },
  {
   "cell_type": "markdown",
   "metadata": {
    "id": "5vozzWt607mr"
   },
   "source": [
    "Filter the data with historical transactions of past 10 years"
   ]
  },
  {
   "cell_type": "code",
   "execution_count": 43,
   "metadata": {
    "id": "o8MZcg1K07mr"
   },
   "outputs": [],
   "source": [
    "df.timestamp = pd.to_datetime(df.timestamp)\n",
    "# Historical transactions of past 10 years only\n",
    "df['timestamp_seconds'] = (df['timestamp'] - dt.datetime(2021,1,1)).dt.total_seconds()\n",
    "df = df[~(df.timestamp_seconds < 0)]"
   ]
  },
  {
   "cell_type": "code",
   "execution_count": 44,
   "metadata": {
    "id": "nfA-ytnqMnpZ"
   },
   "outputs": [
    {
     "name": "stdout",
     "output_type": "stream",
     "text": [
      "Most Frequent Purchase date -  2023-03-29 03:03:15.139000\n",
      "Most Historic Purchase date -  2021-01-01 00:03:53.570000\n"
     ]
    }
   ],
   "source": [
    "print(\"Most Frequent Purchase date - \", df['timestamp'].max())\n",
    "print(\"Most Historic Purchase date - \", df['timestamp'].min())"
   ]
  },
  {
   "cell_type": "code",
   "execution_count": 45,
   "metadata": {
    "id": "75tzF5mA07mr"
   },
   "outputs": [
    {
     "name": "stdout",
     "output_type": "stream",
     "text": [
      "After filtering with historical transactions of last 10 years\n",
      "Dataset shape: (101592, 18) Users count: 83967 Items count: 72515\n"
     ]
    }
   ],
   "source": [
    "print(\"After filtering with historical transactions of last 10 years\")\n",
    "print_user_items_count(df)"
   ]
  },
  {
   "cell_type": "markdown",
   "metadata": {
    "id": "7Redhjm17Ima"
   },
   "source": [
    "Filter the data with verified purchase as False"
   ]
  },
  {
   "cell_type": "code",
   "execution_count": 46,
   "metadata": {
    "id": "Oz9UTfIe7Imb"
   },
   "outputs": [
    {
     "data": {
      "text/plain": [
       "(15169, 18)"
      ]
     },
     "execution_count": 46,
     "metadata": {},
     "output_type": "execute_result"
    }
   ],
   "source": [
    "df[df.verified_purchase == False].shape"
   ]
  },
  {
   "cell_type": "code",
   "execution_count": 47,
   "metadata": {
    "id": "sPSQc-E67Imb"
   },
   "outputs": [],
   "source": [
    "df = df[~(df.verified_purchase == False)]"
   ]
  },
  {
   "cell_type": "code",
   "execution_count": 48,
   "metadata": {
    "id": "NnUpk8tR7Imc"
   },
   "outputs": [
    {
     "name": "stdout",
     "output_type": "stream",
     "text": [
      "After filtering with verified_purchase = True\n",
      "Dataset shape: (86423, 18) Users count: 76484 Items count: 62036\n"
     ]
    }
   ],
   "source": [
    "print(\"After filtering with verified_purchase = True\")\n",
    "print_user_items_count(df)"
   ]
  },
  {
   "cell_type": "markdown",
   "metadata": {
    "id": "rQcPat-t07ms"
   },
   "source": [
    "Filter the data with rating less than 3 as these will not be potential items for next purchasings"
   ]
  },
  {
   "cell_type": "code",
   "execution_count": 49,
   "metadata": {
    "id": "n4VjWOxA07ms"
   },
   "outputs": [],
   "source": [
    "MIN_RATING = 3\n",
    "df = df[~(df.rating < MIN_RATING)]"
   ]
  },
  {
   "cell_type": "code",
   "execution_count": 50,
   "metadata": {
    "id": "EL_sseRm07ms"
   },
   "outputs": [
    {
     "name": "stdout",
     "output_type": "stream",
     "text": [
      "After filtering with min rating of 3\n",
      "Dataset shape: (68467, 18) Users count: 61434 Items count: 49239\n"
     ]
    }
   ],
   "source": [
    "print(\"After filtering with min rating of 3\")\n",
    "print_user_items_count(df)"
   ]
  },
  {
   "cell_type": "markdown",
   "metadata": {
    "id": "FF20_kjt68pw"
   },
   "source": [
    "Drop extra columns"
   ]
  },
  {
   "cell_type": "code",
   "execution_count": 51,
   "metadata": {
    "id": "v2vh56ER07mt"
   },
   "outputs": [],
   "source": [
    "df.drop(columns=['timestamp_seconds', 'timestamp_freqLast', 'timestamp_freqDays', 'purchase_month',\n",
    "                 'purchase_freq', 'helpful_vote_range', 'helpful_vote_Rel'], axis=1, inplace=True)"
   ]
  },
  {
   "cell_type": "markdown",
   "metadata": {
    "id": "e6JIy9QN0bYK"
   },
   "source": [
    "#### Data Preparation"
   ]
  },
  {
   "cell_type": "markdown",
   "metadata": {
    "id": "8jVOog6r1CNS"
   },
   "source": [
    "Arrange the user items data in a sequential manner based on timestamp in chronological order of purchase. For a user the recent item purchase will be in the last of the item sequence."
   ]
  },
  {
   "cell_type": "code",
   "execution_count": 52,
   "metadata": {
    "id": "8vS5vbxP8UVl"
   },
   "outputs": [
    {
     "name": "stdout",
     "output_type": "stream",
     "text": [
      "Start Data Preparation for Recommendation Model\n"
     ]
    },
    {
     "data": {
      "text/html": [
       "<div>\n",
       "<style scoped>\n",
       "    .dataframe tbody tr th:only-of-type {\n",
       "        vertical-align: middle;\n",
       "    }\n",
       "\n",
       "    .dataframe tbody tr th {\n",
       "        vertical-align: top;\n",
       "    }\n",
       "\n",
       "    .dataframe thead th {\n",
       "        text-align: right;\n",
       "    }\n",
       "</style>\n",
       "<table border=\"1\" class=\"dataframe\">\n",
       "  <thead>\n",
       "    <tr style=\"text-align: right;\">\n",
       "      <th></th>\n",
       "      <th>rating</th>\n",
       "      <th>title</th>\n",
       "      <th>text</th>\n",
       "      <th>asin</th>\n",
       "      <th>parent_asin</th>\n",
       "      <th>user_id</th>\n",
       "      <th>timestamp</th>\n",
       "      <th>helpful_vote</th>\n",
       "      <th>verified_purchase</th>\n",
       "      <th>time_seconds</th>\n",
       "      <th>purchase_year</th>\n",
       "    </tr>\n",
       "  </thead>\n",
       "  <tbody>\n",
       "    <tr>\n",
       "      <th>402155</th>\n",
       "      <td>5</td>\n",
       "      <td>Easiest mitts to get on a toddler EVER.</td>\n",
       "      <td>These are currently really big on my toddler, ...</td>\n",
       "      <td>B01BZPQKRU</td>\n",
       "      <td>B09FFLK4K8</td>\n",
       "      <td>AHC2IHCKPO4FIHIHXJ6DM2P7FXYQ</td>\n",
       "      <td>2021-01-01 00:03:53.570</td>\n",
       "      <td>2</td>\n",
       "      <td>1</td>\n",
       "      <td>1609459433</td>\n",
       "      <td>2021</td>\n",
       "    </tr>\n",
       "    <tr>\n",
       "      <th>52368</th>\n",
       "      <td>5</td>\n",
       "      <td>Peppa socks</td>\n",
       "      <td>My daughter loves peppa pig and she just loves...</td>\n",
       "      <td>B08JVJ3RKP</td>\n",
       "      <td>B08JVJ3RKP</td>\n",
       "      <td>AFMFE56YG75IYMRQAXTJR74E2XZA</td>\n",
       "      <td>2021-01-01 00:45:07.871</td>\n",
       "      <td>0</td>\n",
       "      <td>1</td>\n",
       "      <td>1609461907</td>\n",
       "      <td>2021</td>\n",
       "    </tr>\n",
       "    <tr>\n",
       "      <th>396466</th>\n",
       "      <td>4</td>\n",
       "      <td>NOT BAD BUT IT HAPPENS</td>\n",
       "      <td>It looks great except for that little broken p...</td>\n",
       "      <td>B08BTQCJLX</td>\n",
       "      <td>B08BTQCJLX</td>\n",
       "      <td>AHQ74ZZEAGLNQMRJYZWFHCVOXP6A</td>\n",
       "      <td>2021-01-01 01:05:39.267</td>\n",
       "      <td>1</td>\n",
       "      <td>1</td>\n",
       "      <td>1609463139</td>\n",
       "      <td>2021</td>\n",
       "    </tr>\n",
       "    <tr>\n",
       "      <th>362363</th>\n",
       "      <td>5</td>\n",
       "      <td>Bru</td>\n",
       "      <td>This sweater arrived quickly and is perfect! I...</td>\n",
       "      <td>B00BBWAFAG</td>\n",
       "      <td>B084LJ5ZJ5</td>\n",
       "      <td>AF7NTT44JFMOZKHGQZSF6HPTIOIA</td>\n",
       "      <td>2021-01-01 01:11:42.052</td>\n",
       "      <td>0</td>\n",
       "      <td>1</td>\n",
       "      <td>1609463502</td>\n",
       "      <td>2021</td>\n",
       "    </tr>\n",
       "    <tr>\n",
       "      <th>443491</th>\n",
       "      <td>5</td>\n",
       "      <td>Good quality</td>\n",
       "      <td>It fit nice . It is also a good quality dress .</td>\n",
       "      <td>B08JM3ZQ5R</td>\n",
       "      <td>B08JM3ZQ5R</td>\n",
       "      <td>AGJVCT272HHA3RYRJW2RIGQNO5XA</td>\n",
       "      <td>2021-01-01 01:26:25.996</td>\n",
       "      <td>0</td>\n",
       "      <td>1</td>\n",
       "      <td>1609464385</td>\n",
       "      <td>2021</td>\n",
       "    </tr>\n",
       "  </tbody>\n",
       "</table>\n",
       "</div>"
      ],
      "text/plain": [
       "        rating                                    title  \\\n",
       "402155       5  Easiest mitts to get on a toddler EVER.   \n",
       "52368        5                              Peppa socks   \n",
       "396466       4                   NOT BAD BUT IT HAPPENS   \n",
       "362363       5                                      Bru   \n",
       "443491       5                             Good quality   \n",
       "\n",
       "                                                     text        asin  \\\n",
       "402155  These are currently really big on my toddler, ...  B01BZPQKRU   \n",
       "52368   My daughter loves peppa pig and she just loves...  B08JVJ3RKP   \n",
       "396466  It looks great except for that little broken p...  B08BTQCJLX   \n",
       "362363  This sweater arrived quickly and is perfect! I...  B00BBWAFAG   \n",
       "443491    It fit nice . It is also a good quality dress .  B08JM3ZQ5R   \n",
       "\n",
       "       parent_asin                       user_id               timestamp  \\\n",
       "402155  B09FFLK4K8  AHC2IHCKPO4FIHIHXJ6DM2P7FXYQ 2021-01-01 00:03:53.570   \n",
       "52368   B08JVJ3RKP  AFMFE56YG75IYMRQAXTJR74E2XZA 2021-01-01 00:45:07.871   \n",
       "396466  B08BTQCJLX  AHQ74ZZEAGLNQMRJYZWFHCVOXP6A 2021-01-01 01:05:39.267   \n",
       "362363  B084LJ5ZJ5  AF7NTT44JFMOZKHGQZSF6HPTIOIA 2021-01-01 01:11:42.052   \n",
       "443491  B08JM3ZQ5R  AGJVCT272HHA3RYRJW2RIGQNO5XA 2021-01-01 01:26:25.996   \n",
       "\n",
       "        helpful_vote  verified_purchase  time_seconds  purchase_year  \n",
       "402155             2                  1    1609459433           2021  \n",
       "52368              0                  1    1609461907           2021  \n",
       "396466             1                  1    1609463139           2021  \n",
       "362363             0                  1    1609463502           2021  \n",
       "443491             0                  1    1609464385           2021  "
      ]
     },
     "execution_count": 52,
     "metadata": {},
     "output_type": "execute_result"
    }
   ],
   "source": [
    "print(\"Start Data Preparation for Recommendation Model\")\n",
    "df = df.sort_values('timestamp')\n",
    "df.head()"
   ]
  },
  {
   "cell_type": "code",
   "execution_count": 53,
   "metadata": {
    "id": "o03fc6Rv8UVl"
   },
   "outputs": [
    {
     "data": {
      "text/html": [
       "<div>\n",
       "<style scoped>\n",
       "    .dataframe tbody tr th:only-of-type {\n",
       "        vertical-align: middle;\n",
       "    }\n",
       "\n",
       "    .dataframe tbody tr th {\n",
       "        vertical-align: top;\n",
       "    }\n",
       "\n",
       "    .dataframe thead th {\n",
       "        text-align: right;\n",
       "    }\n",
       "</style>\n",
       "<table border=\"1\" class=\"dataframe\">\n",
       "  <thead>\n",
       "    <tr style=\"text-align: right;\">\n",
       "      <th></th>\n",
       "      <th>parent_asin</th>\n",
       "    </tr>\n",
       "    <tr>\n",
       "      <th>user_id</th>\n",
       "      <th></th>\n",
       "    </tr>\n",
       "  </thead>\n",
       "  <tbody>\n",
       "    <tr>\n",
       "      <th>AE22236AFRRSMQIKGG7TPTB75QEA</th>\n",
       "      <td>1</td>\n",
       "    </tr>\n",
       "    <tr>\n",
       "      <th>AE2235Q53V246ISFXCSESYHAVNUA</th>\n",
       "      <td>1</td>\n",
       "    </tr>\n",
       "    <tr>\n",
       "      <th>AE224MHK2TEDK6MRZZKR7HFGHAJA</th>\n",
       "      <td>1</td>\n",
       "    </tr>\n",
       "    <tr>\n",
       "      <th>AE226DXXSDWPBFTQB3M4VMOVZR2A</th>\n",
       "      <td>1</td>\n",
       "    </tr>\n",
       "    <tr>\n",
       "      <th>AE226IHCMYPYN4AIZKNRVH7ETC4A</th>\n",
       "      <td>2</td>\n",
       "    </tr>\n",
       "    <tr>\n",
       "      <th>...</th>\n",
       "      <td>...</td>\n",
       "    </tr>\n",
       "    <tr>\n",
       "      <th>AHZZVJXUGI72HIC3PZBPJRZ2JRUQ</th>\n",
       "      <td>1</td>\n",
       "    </tr>\n",
       "    <tr>\n",
       "      <th>AHZZXO5WVCFS76PUJ73YY6OFUMKQ</th>\n",
       "      <td>1</td>\n",
       "    </tr>\n",
       "    <tr>\n",
       "      <th>AHZZYZ2ZNIDOJKRXALZBIX7VVKYA</th>\n",
       "      <td>1</td>\n",
       "    </tr>\n",
       "    <tr>\n",
       "      <th>AHZZZ7YUEWES32XGMZR7Z57A7HRQ</th>\n",
       "      <td>2</td>\n",
       "    </tr>\n",
       "    <tr>\n",
       "      <th>AHZZZQ4GNCUPL7IRHVN4WXERTMBA</th>\n",
       "      <td>1</td>\n",
       "    </tr>\n",
       "  </tbody>\n",
       "</table>\n",
       "<p>61434 rows × 1 columns</p>\n",
       "</div>"
      ],
      "text/plain": [
       "                              parent_asin\n",
       "user_id                                  \n",
       "AE22236AFRRSMQIKGG7TPTB75QEA            1\n",
       "AE2235Q53V246ISFXCSESYHAVNUA            1\n",
       "AE224MHK2TEDK6MRZZKR7HFGHAJA            1\n",
       "AE226DXXSDWPBFTQB3M4VMOVZR2A            1\n",
       "AE226IHCMYPYN4AIZKNRVH7ETC4A            2\n",
       "...                                   ...\n",
       "AHZZVJXUGI72HIC3PZBPJRZ2JRUQ            1\n",
       "AHZZXO5WVCFS76PUJ73YY6OFUMKQ            1\n",
       "AHZZYZ2ZNIDOJKRXALZBIX7VVKYA            1\n",
       "AHZZZ7YUEWES32XGMZR7Z57A7HRQ            2\n",
       "AHZZZQ4GNCUPL7IRHVN4WXERTMBA            1\n",
       "\n",
       "[61434 rows x 1 columns]"
      ]
     },
     "execution_count": 53,
     "metadata": {},
     "output_type": "execute_result"
    }
   ],
   "source": [
    "df.pivot_table(index = \"user_id\", values = [\"parent_asin\"], aggfunc='count')"
   ]
  },
  {
   "cell_type": "markdown",
   "metadata": {
    "id": "MORaMeWZ8UVm"
   },
   "source": [
    "##### Filter the users which have atleast 3 historical items data"
   ]
  },
  {
   "cell_type": "code",
   "execution_count": 54,
   "metadata": {
    "id": "ZTyEsCEf8UVm"
   },
   "outputs": [
    {
     "name": "stdout",
     "output_type": "stream",
     "text": [
      "Max Items rated by an user 33\n",
      "Min Items rated by an user 1\n"
     ]
    },
    {
     "data": {
      "text/html": [
       "<div>\n",
       "<style scoped>\n",
       "    .dataframe tbody tr th:only-of-type {\n",
       "        vertical-align: middle;\n",
       "    }\n",
       "\n",
       "    .dataframe tbody tr th {\n",
       "        vertical-align: top;\n",
       "    }\n",
       "\n",
       "    .dataframe thead th {\n",
       "        text-align: right;\n",
       "    }\n",
       "</style>\n",
       "<table border=\"1\" class=\"dataframe\">\n",
       "  <thead>\n",
       "    <tr style=\"text-align: right;\">\n",
       "      <th></th>\n",
       "      <th>items_count</th>\n",
       "    </tr>\n",
       "    <tr>\n",
       "      <th>user_id</th>\n",
       "      <th></th>\n",
       "    </tr>\n",
       "  </thead>\n",
       "  <tbody>\n",
       "    <tr>\n",
       "      <th>AGUTZC4GHLTGYHA3KBEDRF6MHB6A</th>\n",
       "      <td>33</td>\n",
       "    </tr>\n",
       "  </tbody>\n",
       "</table>\n",
       "</div>"
      ],
      "text/plain": [
       "                              items_count\n",
       "user_id                                  \n",
       "AGUTZC4GHLTGYHA3KBEDRF6MHB6A           33"
      ]
     },
     "execution_count": 54,
     "metadata": {},
     "output_type": "execute_result"
    }
   ],
   "source": [
    "df_user_items_count = pd.DataFrame(df.groupby(\"user_id\")[\"parent_asin\"].count())\n",
    "df_user_items_count.columns = [\"items_count\"]\n",
    "print(\"Max Items rated by an user\", df_user_items_count.items_count.max())\n",
    "print(\"Min Items rated by an user\", df_user_items_count.items_count.min())\n",
    "df_user_items_count[df_user_items_count.items_count == df_user_items_count.items_count.max()]"
   ]
  },
  {
   "cell_type": "code",
   "execution_count": 55,
   "metadata": {
    "id": "O0O93nNH8UVm"
   },
   "outputs": [
    {
     "data": {
      "text/html": [
       "<div>\n",
       "<style scoped>\n",
       "    .dataframe tbody tr th:only-of-type {\n",
       "        vertical-align: middle;\n",
       "    }\n",
       "\n",
       "    .dataframe tbody tr th {\n",
       "        vertical-align: top;\n",
       "    }\n",
       "\n",
       "    .dataframe thead th {\n",
       "        text-align: right;\n",
       "    }\n",
       "</style>\n",
       "<table border=\"1\" class=\"dataframe\">\n",
       "  <thead>\n",
       "    <tr style=\"text-align: right;\">\n",
       "      <th></th>\n",
       "      <th>user_id</th>\n",
       "      <th>items_count</th>\n",
       "    </tr>\n",
       "  </thead>\n",
       "  <tbody>\n",
       "    <tr>\n",
       "      <th>0</th>\n",
       "      <td>AE2FAN53WPSSI2FX5FZARVARNW7A</td>\n",
       "      <td>5</td>\n",
       "    </tr>\n",
       "    <tr>\n",
       "      <th>1</th>\n",
       "      <td>AE2HFFCMK35SAAUPF3OQSBD5P44Q</td>\n",
       "      <td>3</td>\n",
       "    </tr>\n",
       "    <tr>\n",
       "      <th>2</th>\n",
       "      <td>AE2HXAF3Y2IA327U36QQKJHCZVMQ</td>\n",
       "      <td>4</td>\n",
       "    </tr>\n",
       "    <tr>\n",
       "      <th>3</th>\n",
       "      <td>AE2ONOMTM7IRFWRULYZA2WIRYFDA</td>\n",
       "      <td>6</td>\n",
       "    </tr>\n",
       "    <tr>\n",
       "      <th>4</th>\n",
       "      <td>AE2VIMKO7UFYDUU4LH46JLON3DMQ</td>\n",
       "      <td>3</td>\n",
       "    </tr>\n",
       "    <tr>\n",
       "      <th>...</th>\n",
       "      <td>...</td>\n",
       "      <td>...</td>\n",
       "    </tr>\n",
       "    <tr>\n",
       "      <th>975</th>\n",
       "      <td>AHYYWLYIEDAYOEL6NI3R5KIDEEUA</td>\n",
       "      <td>3</td>\n",
       "    </tr>\n",
       "    <tr>\n",
       "      <th>976</th>\n",
       "      <td>AHZ2B2EIN7GWE2624T46O3MYR5EA</td>\n",
       "      <td>3</td>\n",
       "    </tr>\n",
       "    <tr>\n",
       "      <th>977</th>\n",
       "      <td>AHZGWIR46O3Q3DFJQWKJCVOGQI4A</td>\n",
       "      <td>4</td>\n",
       "    </tr>\n",
       "    <tr>\n",
       "      <th>978</th>\n",
       "      <td>AHZWXGMYYXL4UYKD5O3GAPLPOT5Q</td>\n",
       "      <td>3</td>\n",
       "    </tr>\n",
       "    <tr>\n",
       "      <th>979</th>\n",
       "      <td>AHZZG6ZJQX7VAOUVTQHUQTFB756Q</td>\n",
       "      <td>3</td>\n",
       "    </tr>\n",
       "  </tbody>\n",
       "</table>\n",
       "<p>980 rows × 2 columns</p>\n",
       "</div>"
      ],
      "text/plain": [
       "                          user_id  items_count\n",
       "0    AE2FAN53WPSSI2FX5FZARVARNW7A            5\n",
       "1    AE2HFFCMK35SAAUPF3OQSBD5P44Q            3\n",
       "2    AE2HXAF3Y2IA327U36QQKJHCZVMQ            4\n",
       "3    AE2ONOMTM7IRFWRULYZA2WIRYFDA            6\n",
       "4    AE2VIMKO7UFYDUU4LH46JLON3DMQ            3\n",
       "..                            ...          ...\n",
       "975  AHYYWLYIEDAYOEL6NI3R5KIDEEUA            3\n",
       "976  AHZ2B2EIN7GWE2624T46O3MYR5EA            3\n",
       "977  AHZGWIR46O3Q3DFJQWKJCVOGQI4A            4\n",
       "978  AHZWXGMYYXL4UYKD5O3GAPLPOT5Q            3\n",
       "979  AHZZG6ZJQX7VAOUVTQHUQTFB756Q            3\n",
       "\n",
       "[980 rows x 2 columns]"
      ]
     },
     "execution_count": 55,
     "metadata": {},
     "output_type": "execute_result"
    }
   ],
   "source": [
    "MIN_NO_OF_ITEMS = 3\n",
    "user_items_count = df_user_items_count[df_user_items_count.items_count >= MIN_NO_OF_ITEMS]\n",
    "user_items_count = user_items_count.reset_index()\n",
    "user_items_count"
   ]
  },
  {
   "cell_type": "code",
   "execution_count": 56,
   "metadata": {
    "id": "vazKTn5P8UVm"
   },
   "outputs": [
    {
     "data": {
      "text/plain": [
       "3547"
      ]
     },
     "execution_count": 56,
     "metadata": {},
     "output_type": "execute_result"
    }
   ],
   "source": [
    "user_items_count.items_count.sum()"
   ]
  },
  {
   "cell_type": "code",
   "execution_count": 57,
   "metadata": {
    "id": "QRf3AFFs8UVm"
   },
   "outputs": [
    {
     "data": {
      "text/html": [
       "<div>\n",
       "<style scoped>\n",
       "    .dataframe tbody tr th:only-of-type {\n",
       "        vertical-align: middle;\n",
       "    }\n",
       "\n",
       "    .dataframe tbody tr th {\n",
       "        vertical-align: top;\n",
       "    }\n",
       "\n",
       "    .dataframe thead th {\n",
       "        text-align: right;\n",
       "    }\n",
       "</style>\n",
       "<table border=\"1\" class=\"dataframe\">\n",
       "  <thead>\n",
       "    <tr style=\"text-align: right;\">\n",
       "      <th></th>\n",
       "      <th>user_id</th>\n",
       "      <th>rating</th>\n",
       "      <th>parent_asin</th>\n",
       "      <th>time_seconds</th>\n",
       "    </tr>\n",
       "  </thead>\n",
       "  <tbody>\n",
       "    <tr>\n",
       "      <th>181428</th>\n",
       "      <td>AE2FAN53WPSSI2FX5FZARVARNW7A</td>\n",
       "      <td>5</td>\n",
       "      <td>B08WCS16V5</td>\n",
       "      <td>1621937843</td>\n",
       "    </tr>\n",
       "    <tr>\n",
       "      <th>181429</th>\n",
       "      <td>AE2FAN53WPSSI2FX5FZARVARNW7A</td>\n",
       "      <td>4</td>\n",
       "      <td>B089YMMZGC</td>\n",
       "      <td>1614760740</td>\n",
       "    </tr>\n",
       "    <tr>\n",
       "      <th>181430</th>\n",
       "      <td>AE2FAN53WPSSI2FX5FZARVARNW7A</td>\n",
       "      <td>5</td>\n",
       "      <td>B085MDJ59W</td>\n",
       "      <td>1614760704</td>\n",
       "    </tr>\n",
       "    <tr>\n",
       "      <th>181431</th>\n",
       "      <td>AE2FAN53WPSSI2FX5FZARVARNW7A</td>\n",
       "      <td>5</td>\n",
       "      <td>B017RZE222</td>\n",
       "      <td>1614759417</td>\n",
       "    </tr>\n",
       "    <tr>\n",
       "      <th>181432</th>\n",
       "      <td>AE2FAN53WPSSI2FX5FZARVARNW7A</td>\n",
       "      <td>5</td>\n",
       "      <td>B081LKZRR9</td>\n",
       "      <td>1609867522</td>\n",
       "    </tr>\n",
       "  </tbody>\n",
       "</table>\n",
       "</div>"
      ],
      "text/plain": [
       "                             user_id  rating parent_asin  time_seconds\n",
       "181428  AE2FAN53WPSSI2FX5FZARVARNW7A       5  B08WCS16V5    1621937843\n",
       "181429  AE2FAN53WPSSI2FX5FZARVARNW7A       4  B089YMMZGC    1614760740\n",
       "181430  AE2FAN53WPSSI2FX5FZARVARNW7A       5  B085MDJ59W    1614760704\n",
       "181431  AE2FAN53WPSSI2FX5FZARVARNW7A       5  B017RZE222    1614759417\n",
       "181432  AE2FAN53WPSSI2FX5FZARVARNW7A       5  B081LKZRR9    1609867522"
      ]
     },
     "execution_count": 57,
     "metadata": {},
     "output_type": "execute_result"
    }
   ],
   "source": [
    "users = np.array(user_items_count.user_id)\n",
    "user_items_count = None\n",
    "df_user_items = df[df.user_id.isin(users)].sort_values([\"user_id\", \"time_seconds\"], ascending=[True, False])[[\"user_id\", \"rating\", \"parent_asin\", \"time_seconds\"]]\n",
    "df_user_items.head()"
   ]
  },
  {
   "cell_type": "code",
   "execution_count": 58,
   "metadata": {
    "id": "jj3p4qQr8UVm"
   },
   "outputs": [
    {
     "name": "stdout",
     "output_type": "stream",
     "text": [
      "Filtering the users which have atleast 5 historical items data\n",
      "Dataset shape: (3547, 4) Users count: 980 Items count: 3422\n"
     ]
    }
   ],
   "source": [
    "print(\"Filtering the users which have atleast 5 historical items data\")\n",
    "print_user_items_count(df_user_items)"
   ]
  },
  {
   "cell_type": "code",
   "execution_count": 59,
   "metadata": {
    "id": "yGVP5jVl8UVm"
   },
   "outputs": [],
   "source": [
    "# Importing application modules\n",
    "from tokenization.simple_tokenizer import *"
   ]
  },
  {
   "cell_type": "code",
   "execution_count": 60,
   "metadata": {},
   "outputs": [],
   "source": [
    "MODE_USER_ITEM='user_item'\n",
    "MODE_ITEM_USER='item_user'"
   ]
  },
  {
   "cell_type": "code",
   "execution_count": 61,
   "metadata": {},
   "outputs": [],
   "source": [
    "def createTokenizedFile(data, filename, mode, ncf=False):\n",
    "    print(\"Creating tokeinzed file for mode:\", mode, \"Filename:\", filename)\n",
    "    user_tokenizer = SimpleTokenizer()\n",
    "    item_tokenizer = SimpleTokenizer()\n",
    "    with open(filename, \"wb\") as file:\n",
    "        if mode == 'user_item':\n",
    "            for rec in data.itertuples():\n",
    "                user_token = user_tokenizer.tokenize(rec.user_id)\n",
    "                item_token = item_tokenizer.tokenize(rec.parent_asin)\n",
    "                if ncf:\n",
    "                    user_item_token = str(user_token) + \"::\" + str(item_token) + \"::\" + str(rec.rating) + \"::\" + str(rec.time_seconds)\n",
    "                else:\n",
    "                    user_item_token = str(user_token) + \" \" + str(item_token)\n",
    "                if (user_token < 5):\n",
    "                    print(user_item_token)\n",
    "                line = user_item_token + os.linesep\n",
    "                line = bytes(line, \"utf-8\")\n",
    "                file.write(line)\n",
    "        elif mode == 'item_user':\n",
    "            for rec in data.itertuples():\n",
    "                item_token = item_tokenizer.tokenize(rec.parent_asin)\n",
    "                user_token = user_tokenizer.tokenize(rec.user_id)\n",
    "                if ncf:\n",
    "                    item_user_token = str(item_token) + \"::\" + str(user_token) + \"::\" + str(rec.rating) + \"::\" + str(rec.time_seconds)\n",
    "                else:\n",
    "                    item_user_token = str(item_token) + \" \" + str(user_token)\n",
    "                if (item_token < 5):\n",
    "                    print(item_user_token)\n",
    "                line = item_user_token + os.linesep\n",
    "                line = bytes(line, \"utf-8\")\n",
    "                file.write(line)\n",
    "        else:\n",
    "            print(\"Invalid mode, it should be either 'user_item' or 'item_user'\")\n",
    "        file.close()"
   ]
  },
  {
   "cell_type": "code",
   "execution_count": 62,
   "metadata": {},
   "outputs": [
    {
     "name": "stdout",
     "output_type": "stream",
     "text": [
      "Creating tokeinzed file for mode: user_item Filename: user_item.txt\n",
      "1 1\n",
      "1 2\n",
      "1 3\n",
      "1 4\n",
      "1 5\n",
      "2 6\n",
      "2 7\n",
      "2 8\n",
      "3 9\n",
      "3 10\n",
      "3 11\n",
      "3 12\n",
      "4 13\n",
      "4 14\n",
      "4 15\n",
      "4 16\n",
      "4 17\n",
      "4 18\n"
     ]
    }
   ],
   "source": [
    "createTokenizedFile(data=df_user_items, filename='user_item.txt', mode=MODE_USER_ITEM)"
   ]
  },
  {
   "cell_type": "markdown",
   "metadata": {
    "id": "B2pCRcnM8UVn"
   },
   "source": [
    "##### Filter Items which have been rated by atleast 5 users"
   ]
  },
  {
   "cell_type": "code",
   "execution_count": 63,
   "metadata": {
    "id": "v6NFPPov8UVn"
   },
   "outputs": [
    {
     "name": "stdout",
     "output_type": "stream",
     "text": [
      "Max Users rating an item 623\n",
      "Min Users rating an item 1\n"
     ]
    },
    {
     "data": {
      "text/html": [
       "<div>\n",
       "<style scoped>\n",
       "    .dataframe tbody tr th:only-of-type {\n",
       "        vertical-align: middle;\n",
       "    }\n",
       "\n",
       "    .dataframe tbody tr th {\n",
       "        vertical-align: top;\n",
       "    }\n",
       "\n",
       "    .dataframe thead th {\n",
       "        text-align: right;\n",
       "    }\n",
       "</style>\n",
       "<table border=\"1\" class=\"dataframe\">\n",
       "  <thead>\n",
       "    <tr style=\"text-align: right;\">\n",
       "      <th></th>\n",
       "      <th>user_count</th>\n",
       "    </tr>\n",
       "    <tr>\n",
       "      <th>parent_asin</th>\n",
       "      <th></th>\n",
       "    </tr>\n",
       "  </thead>\n",
       "  <tbody>\n",
       "    <tr>\n",
       "      <th>B09KHSM7BB</th>\n",
       "      <td>623</td>\n",
       "    </tr>\n",
       "  </tbody>\n",
       "</table>\n",
       "</div>"
      ],
      "text/plain": [
       "             user_count\n",
       "parent_asin            \n",
       "B09KHSM7BB          623"
      ]
     },
     "execution_count": 63,
     "metadata": {},
     "output_type": "execute_result"
    }
   ],
   "source": [
    "df_items_user_count = pd.DataFrame(df.groupby(\"parent_asin\")[\"user_id\"].count())\n",
    "df_items_user_count.columns = [\"user_count\"]\n",
    "print(\"Max Users rating an item\", df_items_user_count.user_count.max())\n",
    "print(\"Min Users rating an item\", df_items_user_count.user_count.min())\n",
    "df_items_user_count[df_items_user_count.user_count == df_items_user_count.user_count.max()]"
   ]
  },
  {
   "cell_type": "code",
   "execution_count": 64,
   "metadata": {},
   "outputs": [
    {
     "data": {
      "text/plain": [
       "count    49239.000000\n",
       "mean         1.390503\n",
       "std          4.394572\n",
       "min          1.000000\n",
       "25%          1.000000\n",
       "50%          1.000000\n",
       "75%          1.000000\n",
       "max        623.000000\n",
       "Name: user_count, dtype: float64"
      ]
     },
     "execution_count": 64,
     "metadata": {},
     "output_type": "execute_result"
    }
   ],
   "source": [
    "df_items_user_count.user_count.describe()"
   ]
  },
  {
   "cell_type": "code",
   "execution_count": 65,
   "metadata": {},
   "outputs": [
    {
     "data": {
      "text/plain": [
       "0.5000      1.0000\n",
       "0.7000      1.0000\n",
       "0.9000      2.0000\n",
       "0.9500      2.0000\n",
       "0.9900      7.0000\n",
       "0.9950     13.0000\n",
       "0.9995     58.3810\n",
       "0.9999    156.3434\n",
       "1.0000    623.0000\n",
       "Name: user_count, dtype: float64"
      ]
     },
     "execution_count": 65,
     "metadata": {},
     "output_type": "execute_result"
    }
   ],
   "source": [
    "df_items_user_count.user_count.quantile([0.5,0.7, 0.9, 0.95, 0.99, 0.995, 0.9995, 0.9999, 1])"
   ]
  },
  {
   "cell_type": "code",
   "execution_count": 66,
   "metadata": {},
   "outputs": [
    {
     "data": {
      "text/plain": [
       "<AxesSubplot: xlabel='user_count'>"
      ]
     },
     "execution_count": 66,
     "metadata": {},
     "output_type": "execute_result"
    },
    {
     "data": {
      "image/png": "[encoded data removed]",
      "text/plain": [
       "<Figure size 640x480 with 1 Axes>"
      ]
     },
     "metadata": {},
     "output_type": "display_data"
    }
   ],
   "source": [
    "sns.boxplot(x=\"user_count\", data=df_items_user_count, palette=\"Set2\")"
   ]
  },
  {
   "cell_type": "code",
   "execution_count": 67,
   "metadata": {},
   "outputs": [
    {
     "data": {
      "text/plain": [
       "10"
      ]
     },
     "execution_count": 67,
     "metadata": {},
     "output_type": "execute_result"
    }
   ],
   "source": [
    "len(df_items_user_count[df_items_user_count.user_count >= 100])"
   ]
  },
  {
   "cell_type": "code",
   "execution_count": 68,
   "metadata": {},
   "outputs": [
    {
     "data": {
      "text/plain": [
       "(923, 1)"
      ]
     },
     "execution_count": 68,
     "metadata": {},
     "output_type": "execute_result"
    }
   ],
   "source": [
    "df_temp4 = df_items_user_count[(df_items_user_count.user_count >= 5) & (df_items_user_count.user_count <= 100)]\n",
    "df_temp4.shape"
   ]
  },
  {
   "cell_type": "code",
   "execution_count": 69,
   "metadata": {},
   "outputs": [],
   "source": [
    "df_temp = df_items_user_count[df_items_user_count.user_count >= 100]\n",
    "df_temp.reset_index(inplace=True)\n",
    "#df_temp"
   ]
  },
  {
   "cell_type": "code",
   "execution_count": 70,
   "metadata": {},
   "outputs": [
    {
     "data": {
      "text/plain": [
       "<AxesSubplot: xlabel='user_count'>"
      ]
     },
     "execution_count": 70,
     "metadata": {},
     "output_type": "execute_result"
    },
    {
     "data": {
      "image/png": "[encoded data removed]",
      "text/plain": [
       "<Figure size 640x480 with 1 Axes>"
      ]
     },
     "metadata": {},
     "output_type": "display_data"
    }
   ],
   "source": [
    "sns.boxplot(x=\"user_count\", data=df_temp, palette=\"Set2\")"
   ]
  },
  {
   "cell_type": "code",
   "execution_count": 71,
   "metadata": {},
   "outputs": [
    {
     "data": {
      "text/html": [
       "<div>\n",
       "<style scoped>\n",
       "    .dataframe tbody tr th:only-of-type {\n",
       "        vertical-align: middle;\n",
       "    }\n",
       "\n",
       "    .dataframe tbody tr th {\n",
       "        vertical-align: top;\n",
       "    }\n",
       "\n",
       "    .dataframe thead th {\n",
       "        text-align: right;\n",
       "    }\n",
       "</style>\n",
       "<table border=\"1\" class=\"dataframe\">\n",
       "  <thead>\n",
       "    <tr style=\"text-align: right;\">\n",
       "      <th></th>\n",
       "      <th>user_id</th>\n",
       "      <th>rating</th>\n",
       "      <th>parent_asin</th>\n",
       "      <th>time_seconds</th>\n",
       "    </tr>\n",
       "  </thead>\n",
       "  <tbody>\n",
       "    <tr>\n",
       "      <th>0</th>\n",
       "      <td>AE22MNQ5AUUQDKLYUQJLBQVB4HYQ</td>\n",
       "      <td>5</td>\n",
       "      <td>B09KHSM7BB</td>\n",
       "      <td>1667701444</td>\n",
       "    </tr>\n",
       "    <tr>\n",
       "      <th>1</th>\n",
       "      <td>AE22XFHINBB7BMI4QM6WW77JTFBA</td>\n",
       "      <td>5</td>\n",
       "      <td>B0B16Q1854</td>\n",
       "      <td>1617576025</td>\n",
       "    </tr>\n",
       "    <tr>\n",
       "      <th>2</th>\n",
       "      <td>AE242ZZNGN76NJGBHE5ATA73NBTQ</td>\n",
       "      <td>5</td>\n",
       "      <td>B09H6MXJ71</td>\n",
       "      <td>1630783787</td>\n",
       "    </tr>\n",
       "    <tr>\n",
       "      <th>3</th>\n",
       "      <td>AE27DWV4V56WFNBRVMX27EEQWSQA</td>\n",
       "      <td>5</td>\n",
       "      <td>B0B16Q1854</td>\n",
       "      <td>1618060642</td>\n",
       "    </tr>\n",
       "    <tr>\n",
       "      <th>4</th>\n",
       "      <td>AE2A226FHJWOHSF2ISASG3O52LRQ</td>\n",
       "      <td>3</td>\n",
       "      <td>B09KHSM7BB</td>\n",
       "      <td>1653681345</td>\n",
       "    </tr>\n",
       "    <tr>\n",
       "      <th>...</th>\n",
       "      <td>...</td>\n",
       "      <td>...</td>\n",
       "      <td>...</td>\n",
       "      <td>...</td>\n",
       "    </tr>\n",
       "    <tr>\n",
       "      <th>2277</th>\n",
       "      <td>AHZRDCXJKRECA3CDZEIEXZ44C2OA</td>\n",
       "      <td>5</td>\n",
       "      <td>B09TXZHKLG</td>\n",
       "      <td>1629313507</td>\n",
       "    </tr>\n",
       "    <tr>\n",
       "      <th>2278</th>\n",
       "      <td>AHZT47GFOBYXAEUYMPZJFFVEE7DA</td>\n",
       "      <td>5</td>\n",
       "      <td>B09KHSM7BB</td>\n",
       "      <td>1668723292</td>\n",
       "    </tr>\n",
       "    <tr>\n",
       "      <th>2279</th>\n",
       "      <td>AHZU4DCNUOOHVOZBLVDQFBJC6ISQ</td>\n",
       "      <td>5</td>\n",
       "      <td>B09TXZHKLG</td>\n",
       "      <td>1625965453</td>\n",
       "    </tr>\n",
       "    <tr>\n",
       "      <th>2280</th>\n",
       "      <td>AHZUDWHX5OG36RCHUQJUMR5YKT2A</td>\n",
       "      <td>5</td>\n",
       "      <td>B09TXZHKLG</td>\n",
       "      <td>1641529807</td>\n",
       "    </tr>\n",
       "    <tr>\n",
       "      <th>2281</th>\n",
       "      <td>AHZYMZPIMR42JGXHAR3OOA2LD6SA</td>\n",
       "      <td>5</td>\n",
       "      <td>B09M6X79V9</td>\n",
       "      <td>1626961563</td>\n",
       "    </tr>\n",
       "  </tbody>\n",
       "</table>\n",
       "<p>2282 rows × 4 columns</p>\n",
       "</div>"
      ],
      "text/plain": [
       "                           user_id  rating parent_asin  time_seconds\n",
       "0     AE22MNQ5AUUQDKLYUQJLBQVB4HYQ       5  B09KHSM7BB    1667701444\n",
       "1     AE22XFHINBB7BMI4QM6WW77JTFBA       5  B0B16Q1854    1617576025\n",
       "2     AE242ZZNGN76NJGBHE5ATA73NBTQ       5  B09H6MXJ71    1630783787\n",
       "3     AE27DWV4V56WFNBRVMX27EEQWSQA       5  B0B16Q1854    1618060642\n",
       "4     AE2A226FHJWOHSF2ISASG3O52LRQ       3  B09KHSM7BB    1653681345\n",
       "...                            ...     ...         ...           ...\n",
       "2277  AHZRDCXJKRECA3CDZEIEXZ44C2OA       5  B09TXZHKLG    1629313507\n",
       "2278  AHZT47GFOBYXAEUYMPZJFFVEE7DA       5  B09KHSM7BB    1668723292\n",
       "2279  AHZU4DCNUOOHVOZBLVDQFBJC6ISQ       5  B09TXZHKLG    1625965453\n",
       "2280  AHZUDWHX5OG36RCHUQJUMR5YKT2A       5  B09TXZHKLG    1641529807\n",
       "2281  AHZYMZPIMR42JGXHAR3OOA2LD6SA       5  B09M6X79V9    1626961563\n",
       "\n",
       "[2282 rows x 4 columns]"
      ]
     },
     "execution_count": 71,
     "metadata": {},
     "output_type": "execute_result"
    }
   ],
   "source": [
    "df_temp1 = df[df.parent_asin.isin(df_temp.parent_asin)].sort_values(['user_id', 'time_seconds'], ascending=[True, False])[[\"user_id\", \"rating\", \"parent_asin\", \"time_seconds\"]]\n",
    "df_temp1.reset_index(inplace=True, drop=True)\n",
    "df_temp1"
   ]
  },
  {
   "cell_type": "code",
   "execution_count": 72,
   "metadata": {},
   "outputs": [
    {
     "data": {
      "text/html": [
       "<div>\n",
       "<style scoped>\n",
       "    .dataframe tbody tr th:only-of-type {\n",
       "        vertical-align: middle;\n",
       "    }\n",
       "\n",
       "    .dataframe tbody tr th {\n",
       "        vertical-align: top;\n",
       "    }\n",
       "\n",
       "    .dataframe thead th {\n",
       "        text-align: right;\n",
       "    }\n",
       "</style>\n",
       "<table border=\"1\" class=\"dataframe\">\n",
       "  <thead>\n",
       "    <tr style=\"text-align: right;\">\n",
       "      <th></th>\n",
       "      <th>rank</th>\n",
       "    </tr>\n",
       "  </thead>\n",
       "  <tbody>\n",
       "    <tr>\n",
       "      <th>0</th>\n",
       "      <td>142.0</td>\n",
       "    </tr>\n",
       "    <tr>\n",
       "      <th>1</th>\n",
       "      <td>111.0</td>\n",
       "    </tr>\n",
       "    <tr>\n",
       "      <th>2</th>\n",
       "      <td>85.0</td>\n",
       "    </tr>\n",
       "    <tr>\n",
       "      <th>3</th>\n",
       "      <td>107.0</td>\n",
       "    </tr>\n",
       "    <tr>\n",
       "      <th>4</th>\n",
       "      <td>173.0</td>\n",
       "    </tr>\n",
       "    <tr>\n",
       "      <th>...</th>\n",
       "      <td>...</td>\n",
       "    </tr>\n",
       "    <tr>\n",
       "      <th>2277</th>\n",
       "      <td>127.0</td>\n",
       "    </tr>\n",
       "    <tr>\n",
       "      <th>2278</th>\n",
       "      <td>130.0</td>\n",
       "    </tr>\n",
       "    <tr>\n",
       "      <th>2279</th>\n",
       "      <td>139.0</td>\n",
       "    </tr>\n",
       "    <tr>\n",
       "      <th>2280</th>\n",
       "      <td>104.0</td>\n",
       "    </tr>\n",
       "    <tr>\n",
       "      <th>2281</th>\n",
       "      <td>134.0</td>\n",
       "    </tr>\n",
       "  </tbody>\n",
       "</table>\n",
       "<p>2282 rows × 1 columns</p>\n",
       "</div>"
      ],
      "text/plain": [
       "       rank\n",
       "0     142.0\n",
       "1     111.0\n",
       "2      85.0\n",
       "3     107.0\n",
       "4     173.0\n",
       "...     ...\n",
       "2277  127.0\n",
       "2278  130.0\n",
       "2279  139.0\n",
       "2280  104.0\n",
       "2281  134.0\n",
       "\n",
       "[2282 rows x 1 columns]"
      ]
     },
     "execution_count": 72,
     "metadata": {},
     "output_type": "execute_result"
    }
   ],
   "source": [
    "df_temp2 = pd.DataFrame(df_temp1.groupby('parent_asin')['time_seconds'].rank(method='first', ascending=False))\n",
    "df_temp2.columns = ['rank']\n",
    "df_temp2"
   ]
  },
  {
   "cell_type": "code",
   "execution_count": 73,
   "metadata": {},
   "outputs": [
    {
     "data": {
      "text/plain": [
       "count    2282.000000\n",
       "mean      157.724803\n",
       "std       144.308700\n",
       "min         1.000000\n",
       "25%        58.000000\n",
       "50%       115.000000\n",
       "75%       201.000000\n",
       "max       623.000000\n",
       "Name: rank, dtype: float64"
      ]
     },
     "execution_count": 73,
     "metadata": {},
     "output_type": "execute_result"
    }
   ],
   "source": [
    "df_temp2['rank'].describe()"
   ]
  },
  {
   "cell_type": "code",
   "execution_count": 74,
   "metadata": {},
   "outputs": [
    {
     "data": {
      "text/html": [
       "<div>\n",
       "<style scoped>\n",
       "    .dataframe tbody tr th:only-of-type {\n",
       "        vertical-align: middle;\n",
       "    }\n",
       "\n",
       "    .dataframe tbody tr th {\n",
       "        vertical-align: top;\n",
       "    }\n",
       "\n",
       "    .dataframe thead th {\n",
       "        text-align: right;\n",
       "    }\n",
       "</style>\n",
       "<table border=\"1\" class=\"dataframe\">\n",
       "  <thead>\n",
       "    <tr style=\"text-align: right;\">\n",
       "      <th></th>\n",
       "      <th>user_id</th>\n",
       "      <th>rating</th>\n",
       "      <th>parent_asin</th>\n",
       "      <th>time_seconds</th>\n",
       "      <th>rank</th>\n",
       "    </tr>\n",
       "  </thead>\n",
       "  <tbody>\n",
       "    <tr>\n",
       "      <th>0</th>\n",
       "      <td>AE22MNQ5AUUQDKLYUQJLBQVB4HYQ</td>\n",
       "      <td>5</td>\n",
       "      <td>B09KHSM7BB</td>\n",
       "      <td>1667701444</td>\n",
       "      <td>142.0</td>\n",
       "    </tr>\n",
       "    <tr>\n",
       "      <th>1</th>\n",
       "      <td>AE22XFHINBB7BMI4QM6WW77JTFBA</td>\n",
       "      <td>5</td>\n",
       "      <td>B0B16Q1854</td>\n",
       "      <td>1617576025</td>\n",
       "      <td>111.0</td>\n",
       "    </tr>\n",
       "    <tr>\n",
       "      <th>2</th>\n",
       "      <td>AE242ZZNGN76NJGBHE5ATA73NBTQ</td>\n",
       "      <td>5</td>\n",
       "      <td>B09H6MXJ71</td>\n",
       "      <td>1630783787</td>\n",
       "      <td>85.0</td>\n",
       "    </tr>\n",
       "    <tr>\n",
       "      <th>3</th>\n",
       "      <td>AE27DWV4V56WFNBRVMX27EEQWSQA</td>\n",
       "      <td>5</td>\n",
       "      <td>B0B16Q1854</td>\n",
       "      <td>1618060642</td>\n",
       "      <td>107.0</td>\n",
       "    </tr>\n",
       "    <tr>\n",
       "      <th>4</th>\n",
       "      <td>AE2A226FHJWOHSF2ISASG3O52LRQ</td>\n",
       "      <td>3</td>\n",
       "      <td>B09KHSM7BB</td>\n",
       "      <td>1653681345</td>\n",
       "      <td>173.0</td>\n",
       "    </tr>\n",
       "    <tr>\n",
       "      <th>...</th>\n",
       "      <td>...</td>\n",
       "      <td>...</td>\n",
       "      <td>...</td>\n",
       "      <td>...</td>\n",
       "      <td>...</td>\n",
       "    </tr>\n",
       "    <tr>\n",
       "      <th>2277</th>\n",
       "      <td>AHZRDCXJKRECA3CDZEIEXZ44C2OA</td>\n",
       "      <td>5</td>\n",
       "      <td>B09TXZHKLG</td>\n",
       "      <td>1629313507</td>\n",
       "      <td>127.0</td>\n",
       "    </tr>\n",
       "    <tr>\n",
       "      <th>2278</th>\n",
       "      <td>AHZT47GFOBYXAEUYMPZJFFVEE7DA</td>\n",
       "      <td>5</td>\n",
       "      <td>B09KHSM7BB</td>\n",
       "      <td>1668723292</td>\n",
       "      <td>130.0</td>\n",
       "    </tr>\n",
       "    <tr>\n",
       "      <th>2279</th>\n",
       "      <td>AHZU4DCNUOOHVOZBLVDQFBJC6ISQ</td>\n",
       "      <td>5</td>\n",
       "      <td>B09TXZHKLG</td>\n",
       "      <td>1625965453</td>\n",
       "      <td>139.0</td>\n",
       "    </tr>\n",
       "    <tr>\n",
       "      <th>2280</th>\n",
       "      <td>AHZUDWHX5OG36RCHUQJUMR5YKT2A</td>\n",
       "      <td>5</td>\n",
       "      <td>B09TXZHKLG</td>\n",
       "      <td>1641529807</td>\n",
       "      <td>104.0</td>\n",
       "    </tr>\n",
       "    <tr>\n",
       "      <th>2281</th>\n",
       "      <td>AHZYMZPIMR42JGXHAR3OOA2LD6SA</td>\n",
       "      <td>5</td>\n",
       "      <td>B09M6X79V9</td>\n",
       "      <td>1626961563</td>\n",
       "      <td>134.0</td>\n",
       "    </tr>\n",
       "  </tbody>\n",
       "</table>\n",
       "<p>2282 rows × 5 columns</p>\n",
       "</div>"
      ],
      "text/plain": [
       "                           user_id  rating parent_asin  time_seconds   rank\n",
       "0     AE22MNQ5AUUQDKLYUQJLBQVB4HYQ       5  B09KHSM7BB    1667701444  142.0\n",
       "1     AE22XFHINBB7BMI4QM6WW77JTFBA       5  B0B16Q1854    1617576025  111.0\n",
       "2     AE242ZZNGN76NJGBHE5ATA73NBTQ       5  B09H6MXJ71    1630783787   85.0\n",
       "3     AE27DWV4V56WFNBRVMX27EEQWSQA       5  B0B16Q1854    1618060642  107.0\n",
       "4     AE2A226FHJWOHSF2ISASG3O52LRQ       3  B09KHSM7BB    1653681345  173.0\n",
       "...                            ...     ...         ...           ...    ...\n",
       "2277  AHZRDCXJKRECA3CDZEIEXZ44C2OA       5  B09TXZHKLG    1629313507  127.0\n",
       "2278  AHZT47GFOBYXAEUYMPZJFFVEE7DA       5  B09KHSM7BB    1668723292  130.0\n",
       "2279  AHZU4DCNUOOHVOZBLVDQFBJC6ISQ       5  B09TXZHKLG    1625965453  139.0\n",
       "2280  AHZUDWHX5OG36RCHUQJUMR5YKT2A       5  B09TXZHKLG    1641529807  104.0\n",
       "2281  AHZYMZPIMR42JGXHAR3OOA2LD6SA       5  B09M6X79V9    1626961563  134.0\n",
       "\n",
       "[2282 rows x 5 columns]"
      ]
     },
     "execution_count": 74,
     "metadata": {},
     "output_type": "execute_result"
    }
   ],
   "source": [
    "df_temp3 = pd.merge(df_temp1, df_temp2, left_index=True, right_index=True, how='left')\n",
    "df_temp3"
   ]
  },
  {
   "cell_type": "code",
   "execution_count": 75,
   "metadata": {},
   "outputs": [
    {
     "data": {
      "text/plain": [
       "count    623.000000\n",
       "mean     312.000000\n",
       "std      179.988889\n",
       "min        1.000000\n",
       "25%      156.500000\n",
       "50%      312.000000\n",
       "75%      467.500000\n",
       "max      623.000000\n",
       "Name: rank, dtype: float64"
      ]
     },
     "execution_count": 75,
     "metadata": {},
     "output_type": "execute_result"
    }
   ],
   "source": [
    "df_temp3[df_temp3.parent_asin == 'B09KHSM7BB']['rank'].describe()"
   ]
  },
  {
   "cell_type": "code",
   "execution_count": 76,
   "metadata": {},
   "outputs": [],
   "source": [
    "df_2 = df[['user_id', \"rating\", \"parent_asin\", \"time_seconds\"]]"
   ]
  },
  {
   "cell_type": "code",
   "execution_count": 77,
   "metadata": {},
   "outputs": [
    {
     "data": {
      "text/html": [
       "<div>\n",
       "<style scoped>\n",
       "    .dataframe tbody tr th:only-of-type {\n",
       "        vertical-align: middle;\n",
       "    }\n",
       "\n",
       "    .dataframe tbody tr th {\n",
       "        vertical-align: top;\n",
       "    }\n",
       "\n",
       "    .dataframe thead th {\n",
       "        text-align: right;\n",
       "    }\n",
       "</style>\n",
       "<table border=\"1\" class=\"dataframe\">\n",
       "  <thead>\n",
       "    <tr style=\"text-align: right;\">\n",
       "      <th></th>\n",
       "      <th>rank</th>\n",
       "    </tr>\n",
       "  </thead>\n",
       "  <tbody>\n",
       "    <tr>\n",
       "      <th>402155</th>\n",
       "      <td>1.0</td>\n",
       "    </tr>\n",
       "    <tr>\n",
       "      <th>52368</th>\n",
       "      <td>1.0</td>\n",
       "    </tr>\n",
       "    <tr>\n",
       "      <th>396466</th>\n",
       "      <td>1.0</td>\n",
       "    </tr>\n",
       "    <tr>\n",
       "      <th>362363</th>\n",
       "      <td>22.0</td>\n",
       "    </tr>\n",
       "    <tr>\n",
       "      <th>443491</th>\n",
       "      <td>1.0</td>\n",
       "    </tr>\n",
       "    <tr>\n",
       "      <th>...</th>\n",
       "      <td>...</td>\n",
       "    </tr>\n",
       "    <tr>\n",
       "      <th>497857</th>\n",
       "      <td>1.0</td>\n",
       "    </tr>\n",
       "    <tr>\n",
       "      <th>485084</th>\n",
       "      <td>1.0</td>\n",
       "    </tr>\n",
       "    <tr>\n",
       "      <th>487209</th>\n",
       "      <td>1.0</td>\n",
       "    </tr>\n",
       "    <tr>\n",
       "      <th>492292</th>\n",
       "      <td>1.0</td>\n",
       "    </tr>\n",
       "    <tr>\n",
       "      <th>482094</th>\n",
       "      <td>1.0</td>\n",
       "    </tr>\n",
       "  </tbody>\n",
       "</table>\n",
       "<p>68467 rows × 1 columns</p>\n",
       "</div>"
      ],
      "text/plain": [
       "        rank\n",
       "402155   1.0\n",
       "52368    1.0\n",
       "396466   1.0\n",
       "362363  22.0\n",
       "443491   1.0\n",
       "...      ...\n",
       "497857   1.0\n",
       "485084   1.0\n",
       "487209   1.0\n",
       "492292   1.0\n",
       "482094   1.0\n",
       "\n",
       "[68467 rows x 1 columns]"
      ]
     },
     "execution_count": 77,
     "metadata": {},
     "output_type": "execute_result"
    }
   ],
   "source": [
    "df_temp5 = pd.DataFrame(df_2.groupby('parent_asin')['time_seconds'].rank(method='first', ascending=False))\n",
    "df_temp5.columns = ['rank']\n",
    "df_temp5"
   ]
  },
  {
   "cell_type": "code",
   "execution_count": 78,
   "metadata": {},
   "outputs": [
    {
     "data": {
      "text/plain": [
       "count    68467.000000\n",
       "mean         8.139454\n",
       "std         38.854141\n",
       "min          1.000000\n",
       "25%          1.000000\n",
       "50%          1.000000\n",
       "75%          2.000000\n",
       "max        623.000000\n",
       "Name: rank, dtype: float64"
      ]
     },
     "execution_count": 78,
     "metadata": {},
     "output_type": "execute_result"
    }
   ],
   "source": [
    "df_temp5['rank'].describe()"
   ]
  },
  {
   "cell_type": "code",
   "execution_count": 79,
   "metadata": {},
   "outputs": [
    {
     "data": {
      "text/html": [
       "<div>\n",
       "<style scoped>\n",
       "    .dataframe tbody tr th:only-of-type {\n",
       "        vertical-align: middle;\n",
       "    }\n",
       "\n",
       "    .dataframe tbody tr th {\n",
       "        vertical-align: top;\n",
       "    }\n",
       "\n",
       "    .dataframe thead th {\n",
       "        text-align: right;\n",
       "    }\n",
       "</style>\n",
       "<table border=\"1\" class=\"dataframe\">\n",
       "  <thead>\n",
       "    <tr style=\"text-align: right;\">\n",
       "      <th></th>\n",
       "      <th>user_id</th>\n",
       "      <th>rating</th>\n",
       "      <th>parent_asin</th>\n",
       "      <th>time_seconds</th>\n",
       "      <th>rank</th>\n",
       "    </tr>\n",
       "  </thead>\n",
       "  <tbody>\n",
       "    <tr>\n",
       "      <th>402155</th>\n",
       "      <td>AHC2IHCKPO4FIHIHXJ6DM2P7FXYQ</td>\n",
       "      <td>5</td>\n",
       "      <td>B09FFLK4K8</td>\n",
       "      <td>1609459433</td>\n",
       "      <td>1.0</td>\n",
       "    </tr>\n",
       "    <tr>\n",
       "      <th>52368</th>\n",
       "      <td>AFMFE56YG75IYMRQAXTJR74E2XZA</td>\n",
       "      <td>5</td>\n",
       "      <td>B08JVJ3RKP</td>\n",
       "      <td>1609461907</td>\n",
       "      <td>1.0</td>\n",
       "    </tr>\n",
       "    <tr>\n",
       "      <th>396466</th>\n",
       "      <td>AHQ74ZZEAGLNQMRJYZWFHCVOXP6A</td>\n",
       "      <td>4</td>\n",
       "      <td>B08BTQCJLX</td>\n",
       "      <td>1609463139</td>\n",
       "      <td>1.0</td>\n",
       "    </tr>\n",
       "    <tr>\n",
       "      <th>362363</th>\n",
       "      <td>AF7NTT44JFMOZKHGQZSF6HPTIOIA</td>\n",
       "      <td>5</td>\n",
       "      <td>B084LJ5ZJ5</td>\n",
       "      <td>1609463502</td>\n",
       "      <td>22.0</td>\n",
       "    </tr>\n",
       "    <tr>\n",
       "      <th>443491</th>\n",
       "      <td>AGJVCT272HHA3RYRJW2RIGQNO5XA</td>\n",
       "      <td>5</td>\n",
       "      <td>B08JM3ZQ5R</td>\n",
       "      <td>1609464385</td>\n",
       "      <td>1.0</td>\n",
       "    </tr>\n",
       "    <tr>\n",
       "      <th>...</th>\n",
       "      <td>...</td>\n",
       "      <td>...</td>\n",
       "      <td>...</td>\n",
       "      <td>...</td>\n",
       "      <td>...</td>\n",
       "    </tr>\n",
       "    <tr>\n",
       "      <th>497857</th>\n",
       "      <td>AFGVGVCE4SSBAD66FJBOP6X5ZMQQ</td>\n",
       "      <td>5</td>\n",
       "      <td>B09PGRT6YZ</td>\n",
       "      <td>1680013579</td>\n",
       "      <td>1.0</td>\n",
       "    </tr>\n",
       "    <tr>\n",
       "      <th>485084</th>\n",
       "      <td>AG7URIUQCKBS7TJDMEWLK7AF273A</td>\n",
       "      <td>3</td>\n",
       "      <td>B08XYJ9MXB</td>\n",
       "      <td>1680019004</td>\n",
       "      <td>1.0</td>\n",
       "    </tr>\n",
       "    <tr>\n",
       "      <th>487209</th>\n",
       "      <td>AGB2XU355LZ5CHXQHJVI5LIIASCQ</td>\n",
       "      <td>4</td>\n",
       "      <td>B09LCLHGQ2</td>\n",
       "      <td>1680028486</td>\n",
       "      <td>1.0</td>\n",
       "    </tr>\n",
       "    <tr>\n",
       "      <th>492292</th>\n",
       "      <td>AESDQ236C3ENV7U7A3TQQAXGCZTQ</td>\n",
       "      <td>5</td>\n",
       "      <td>B07Y727W2F</td>\n",
       "      <td>1680041428</td>\n",
       "      <td>1.0</td>\n",
       "    </tr>\n",
       "    <tr>\n",
       "      <th>482094</th>\n",
       "      <td>AFSFEPURN6F756ZS7GG3KIJC2TAQ</td>\n",
       "      <td>3</td>\n",
       "      <td>B09JGBTW19</td>\n",
       "      <td>1680058995</td>\n",
       "      <td>1.0</td>\n",
       "    </tr>\n",
       "  </tbody>\n",
       "</table>\n",
       "<p>68467 rows × 5 columns</p>\n",
       "</div>"
      ],
      "text/plain": [
       "                             user_id  rating parent_asin  time_seconds  rank\n",
       "402155  AHC2IHCKPO4FIHIHXJ6DM2P7FXYQ       5  B09FFLK4K8    1609459433   1.0\n",
       "52368   AFMFE56YG75IYMRQAXTJR74E2XZA       5  B08JVJ3RKP    1609461907   1.0\n",
       "396466  AHQ74ZZEAGLNQMRJYZWFHCVOXP6A       4  B08BTQCJLX    1609463139   1.0\n",
       "362363  AF7NTT44JFMOZKHGQZSF6HPTIOIA       5  B084LJ5ZJ5    1609463502  22.0\n",
       "443491  AGJVCT272HHA3RYRJW2RIGQNO5XA       5  B08JM3ZQ5R    1609464385   1.0\n",
       "...                              ...     ...         ...           ...   ...\n",
       "497857  AFGVGVCE4SSBAD66FJBOP6X5ZMQQ       5  B09PGRT6YZ    1680013579   1.0\n",
       "485084  AG7URIUQCKBS7TJDMEWLK7AF273A       3  B08XYJ9MXB    1680019004   1.0\n",
       "487209  AGB2XU355LZ5CHXQHJVI5LIIASCQ       4  B09LCLHGQ2    1680028486   1.0\n",
       "492292  AESDQ236C3ENV7U7A3TQQAXGCZTQ       5  B07Y727W2F    1680041428   1.0\n",
       "482094  AFSFEPURN6F756ZS7GG3KIJC2TAQ       3  B09JGBTW19    1680058995   1.0\n",
       "\n",
       "[68467 rows x 5 columns]"
      ]
     },
     "execution_count": 79,
     "metadata": {},
     "output_type": "execute_result"
    }
   ],
   "source": [
    "df_item_users = pd.merge(df_2, df_temp5, left_index=True, right_index=True, how='left')\n",
    "df_item_users"
   ]
  },
  {
   "cell_type": "code",
   "execution_count": 80,
   "metadata": {},
   "outputs": [
    {
     "data": {
      "text/html": [
       "<div>\n",
       "<style scoped>\n",
       "    .dataframe tbody tr th:only-of-type {\n",
       "        vertical-align: middle;\n",
       "    }\n",
       "\n",
       "    .dataframe tbody tr th {\n",
       "        vertical-align: top;\n",
       "    }\n",
       "\n",
       "    .dataframe thead th {\n",
       "        text-align: right;\n",
       "    }\n",
       "</style>\n",
       "<table border=\"1\" class=\"dataframe\">\n",
       "  <thead>\n",
       "    <tr style=\"text-align: right;\">\n",
       "      <th></th>\n",
       "      <th>user_id</th>\n",
       "      <th>rating</th>\n",
       "      <th>parent_asin</th>\n",
       "      <th>time_seconds</th>\n",
       "      <th>rank</th>\n",
       "    </tr>\n",
       "  </thead>\n",
       "  <tbody>\n",
       "    <tr>\n",
       "      <th>432201</th>\n",
       "      <td>AFO5TDVOQNVMGPZTFBFG2RUXZ4MQ</td>\n",
       "      <td>3</td>\n",
       "      <td>B0041IC244</td>\n",
       "      <td>1635353621</td>\n",
       "      <td>1.0</td>\n",
       "    </tr>\n",
       "  </tbody>\n",
       "</table>\n",
       "</div>"
      ],
      "text/plain": [
       "                             user_id  rating parent_asin  time_seconds  rank\n",
       "432201  AFO5TDVOQNVMGPZTFBFG2RUXZ4MQ       3  B0041IC244    1635353621   1.0"
      ]
     },
     "execution_count": 80,
     "metadata": {},
     "output_type": "execute_result"
    }
   ],
   "source": [
    "df_item_users[df_item_users.parent_asin == 'B0041IC244']"
   ]
  },
  {
   "cell_type": "code",
   "execution_count": 81,
   "metadata": {},
   "outputs": [
    {
     "name": "stdout",
     "output_type": "stream",
     "text": [
      "<class 'pandas.core.frame.DataFrame'>\n",
      "Index: 68467 entries, 402155 to 482094\n",
      "Data columns (total 5 columns):\n",
      " #   Column        Non-Null Count  Dtype  \n",
      "---  ------        --------------  -----  \n",
      " 0   user_id       68467 non-null  object \n",
      " 1   rating        68467 non-null  int64  \n",
      " 2   parent_asin   68467 non-null  object \n",
      " 3   time_seconds  68467 non-null  int64  \n",
      " 4   rank          68467 non-null  float64\n",
      "dtypes: float64(1), int64(2), object(2)\n",
      "memory usage: 5.1+ MB\n"
     ]
    }
   ],
   "source": [
    "df_item_users.info()"
   ]
  },
  {
   "cell_type": "code",
   "execution_count": 82,
   "metadata": {},
   "outputs": [
    {
     "data": {
      "text/html": [
       "<div>\n",
       "<style scoped>\n",
       "    .dataframe tbody tr th:only-of-type {\n",
       "        vertical-align: middle;\n",
       "    }\n",
       "\n",
       "    .dataframe tbody tr th {\n",
       "        vertical-align: top;\n",
       "    }\n",
       "\n",
       "    .dataframe thead th {\n",
       "        text-align: right;\n",
       "    }\n",
       "</style>\n",
       "<table border=\"1\" class=\"dataframe\">\n",
       "  <thead>\n",
       "    <tr style=\"text-align: right;\">\n",
       "      <th></th>\n",
       "      <th>parent_asin</th>\n",
       "      <th>user_count</th>\n",
       "    </tr>\n",
       "  </thead>\n",
       "  <tbody>\n",
       "    <tr>\n",
       "      <th>0</th>\n",
       "      <td>B003P8QPIA</td>\n",
       "      <td>10</td>\n",
       "    </tr>\n",
       "    <tr>\n",
       "      <th>1</th>\n",
       "      <td>B003WJZDQW</td>\n",
       "      <td>5</td>\n",
       "    </tr>\n",
       "    <tr>\n",
       "      <th>2</th>\n",
       "      <td>B003YD92JU</td>\n",
       "      <td>19</td>\n",
       "    </tr>\n",
       "    <tr>\n",
       "      <th>3</th>\n",
       "      <td>B004FUV0EQ</td>\n",
       "      <td>12</td>\n",
       "    </tr>\n",
       "    <tr>\n",
       "      <th>4</th>\n",
       "      <td>B004H2RD4I</td>\n",
       "      <td>6</td>\n",
       "    </tr>\n",
       "    <tr>\n",
       "      <th>...</th>\n",
       "      <td>...</td>\n",
       "      <td>...</td>\n",
       "    </tr>\n",
       "    <tr>\n",
       "      <th>928</th>\n",
       "      <td>B0C7GFPT42</td>\n",
       "      <td>7</td>\n",
       "    </tr>\n",
       "    <tr>\n",
       "      <th>929</th>\n",
       "      <td>B0C7PYGJJQ</td>\n",
       "      <td>6</td>\n",
       "    </tr>\n",
       "    <tr>\n",
       "      <th>930</th>\n",
       "      <td>B0C8YZKZ7G</td>\n",
       "      <td>7</td>\n",
       "    </tr>\n",
       "    <tr>\n",
       "      <th>931</th>\n",
       "      <td>B0CBMHPJRQ</td>\n",
       "      <td>9</td>\n",
       "    </tr>\n",
       "    <tr>\n",
       "      <th>932</th>\n",
       "      <td>B0CCDK26CK</td>\n",
       "      <td>32</td>\n",
       "    </tr>\n",
       "  </tbody>\n",
       "</table>\n",
       "<p>933 rows × 2 columns</p>\n",
       "</div>"
      ],
      "text/plain": [
       "    parent_asin  user_count\n",
       "0    B003P8QPIA          10\n",
       "1    B003WJZDQW           5\n",
       "2    B003YD92JU          19\n",
       "3    B004FUV0EQ          12\n",
       "4    B004H2RD4I           6\n",
       "..          ...         ...\n",
       "928  B0C7GFPT42           7\n",
       "929  B0C7PYGJJQ           6\n",
       "930  B0C8YZKZ7G           7\n",
       "931  B0CBMHPJRQ           9\n",
       "932  B0CCDK26CK          32\n",
       "\n",
       "[933 rows x 2 columns]"
      ]
     },
     "execution_count": 82,
     "metadata": {},
     "output_type": "execute_result"
    }
   ],
   "source": [
    "MIN_NO_OF_USERS = 5\n",
    "items_user_count = df_items_user_count[(df_items_user_count.user_count >= MIN_NO_OF_USERS)]\n",
    "items_user_count = items_user_count.reset_index()\n",
    "items_user_count"
   ]
  },
  {
   "cell_type": "code",
   "execution_count": 83,
   "metadata": {},
   "outputs": [
    {
     "data": {
      "text/plain": [
       "13316"
      ]
     },
     "execution_count": 83,
     "metadata": {},
     "output_type": "execute_result"
    }
   ],
   "source": [
    "items_user_count.user_count.sum()"
   ]
  },
  {
   "cell_type": "code",
   "execution_count": 84,
   "metadata": {},
   "outputs": [
    {
     "data": {
      "text/html": [
       "<div>\n",
       "<style scoped>\n",
       "    .dataframe tbody tr th:only-of-type {\n",
       "        vertical-align: middle;\n",
       "    }\n",
       "\n",
       "    .dataframe tbody tr th {\n",
       "        vertical-align: top;\n",
       "    }\n",
       "\n",
       "    .dataframe thead th {\n",
       "        text-align: right;\n",
       "    }\n",
       "</style>\n",
       "<table border=\"1\" class=\"dataframe\">\n",
       "  <thead>\n",
       "    <tr style=\"text-align: right;\">\n",
       "      <th></th>\n",
       "      <th>user_id</th>\n",
       "      <th>rating</th>\n",
       "      <th>parent_asin</th>\n",
       "      <th>time_seconds</th>\n",
       "      <th>rank</th>\n",
       "    </tr>\n",
       "  </thead>\n",
       "  <tbody>\n",
       "    <tr>\n",
       "      <th>369815</th>\n",
       "      <td>AHQYNLW7ARVF5LFY5USF2RFNIM6Q</td>\n",
       "      <td>4</td>\n",
       "      <td>B003P8QPIA</td>\n",
       "      <td>1622318431</td>\n",
       "      <td>10.0</td>\n",
       "    </tr>\n",
       "    <tr>\n",
       "      <th>26974</th>\n",
       "      <td>AFKQY6KICWHZATHUQ63KSWLFUZAA</td>\n",
       "      <td>5</td>\n",
       "      <td>B003P8QPIA</td>\n",
       "      <td>1623987224</td>\n",
       "      <td>9.0</td>\n",
       "    </tr>\n",
       "    <tr>\n",
       "      <th>363340</th>\n",
       "      <td>AE5CIPFDGNBDELBBK7VOJZ43UGEA</td>\n",
       "      <td>4</td>\n",
       "      <td>B003P8QPIA</td>\n",
       "      <td>1624508891</td>\n",
       "      <td>8.0</td>\n",
       "    </tr>\n",
       "    <tr>\n",
       "      <th>92527</th>\n",
       "      <td>AH7IT66UQ2STXJGOVUOX2SUPVBWQ</td>\n",
       "      <td>5</td>\n",
       "      <td>B003P8QPIA</td>\n",
       "      <td>1627318757</td>\n",
       "      <td>7.0</td>\n",
       "    </tr>\n",
       "    <tr>\n",
       "      <th>453601</th>\n",
       "      <td>AGUTZUT3ZSMAOAKEU2F6B2AKMJBA</td>\n",
       "      <td>4</td>\n",
       "      <td>B003P8QPIA</td>\n",
       "      <td>1649267330</td>\n",
       "      <td>6.0</td>\n",
       "    </tr>\n",
       "  </tbody>\n",
       "</table>\n",
       "</div>"
      ],
      "text/plain": [
       "                             user_id  rating parent_asin  time_seconds  rank\n",
       "369815  AHQYNLW7ARVF5LFY5USF2RFNIM6Q       4  B003P8QPIA    1622318431  10.0\n",
       "26974   AFKQY6KICWHZATHUQ63KSWLFUZAA       5  B003P8QPIA    1623987224   9.0\n",
       "363340  AE5CIPFDGNBDELBBK7VOJZ43UGEA       4  B003P8QPIA    1624508891   8.0\n",
       "92527   AH7IT66UQ2STXJGOVUOX2SUPVBWQ       5  B003P8QPIA    1627318757   7.0\n",
       "453601  AGUTZUT3ZSMAOAKEU2F6B2AKMJBA       4  B003P8QPIA    1649267330   6.0"
      ]
     },
     "execution_count": 84,
     "metadata": {},
     "output_type": "execute_result"
    }
   ],
   "source": [
    "items = np.array(items_user_count.parent_asin)\n",
    "df_item_users = df_item_users[df_item_users.parent_asin.isin(items) & (df_item_users['rank'] <= 100)].sort_values([\"parent_asin\", \"time_seconds\"])[[\"user_id\", \"rating\", \"parent_asin\", \"time_seconds\", \"rank\"]]\n",
    "df_item_users.head()"
   ]
  },
  {
   "cell_type": "code",
   "execution_count": 85,
   "metadata": {},
   "outputs": [
    {
     "name": "stdout",
     "output_type": "stream",
     "text": [
      "Dataset shape: (12034, 5) Users count: 11796 Items count: 933\n"
     ]
    }
   ],
   "source": [
    "print_user_items_count(df_item_users)"
   ]
  },
  {
   "cell_type": "code",
   "execution_count": 86,
   "metadata": {
    "id": "kiNX9LmX8UVn"
   },
   "outputs": [
    {
     "data": {
      "text/html": [
       "<div>\n",
       "<style scoped>\n",
       "    .dataframe tbody tr th:only-of-type {\n",
       "        vertical-align: middle;\n",
       "    }\n",
       "\n",
       "    .dataframe tbody tr th {\n",
       "        vertical-align: top;\n",
       "    }\n",
       "\n",
       "    .dataframe thead th {\n",
       "        text-align: right;\n",
       "    }\n",
       "</style>\n",
       "<table border=\"1\" class=\"dataframe\">\n",
       "  <thead>\n",
       "    <tr style=\"text-align: right;\">\n",
       "      <th></th>\n",
       "      <th>parent_asin</th>\n",
       "      <th>user_count</th>\n",
       "    </tr>\n",
       "  </thead>\n",
       "  <tbody>\n",
       "    <tr>\n",
       "      <th>0</th>\n",
       "      <td>B003P8QPIA</td>\n",
       "      <td>10</td>\n",
       "    </tr>\n",
       "    <tr>\n",
       "      <th>1</th>\n",
       "      <td>B003WJZDQW</td>\n",
       "      <td>5</td>\n",
       "    </tr>\n",
       "    <tr>\n",
       "      <th>2</th>\n",
       "      <td>B003YD92JU</td>\n",
       "      <td>19</td>\n",
       "    </tr>\n",
       "    <tr>\n",
       "      <th>3</th>\n",
       "      <td>B004FUV0EQ</td>\n",
       "      <td>12</td>\n",
       "    </tr>\n",
       "    <tr>\n",
       "      <th>4</th>\n",
       "      <td>B004H2RD4I</td>\n",
       "      <td>6</td>\n",
       "    </tr>\n",
       "    <tr>\n",
       "      <th>...</th>\n",
       "      <td>...</td>\n",
       "      <td>...</td>\n",
       "    </tr>\n",
       "    <tr>\n",
       "      <th>918</th>\n",
       "      <td>B0C7GFPT42</td>\n",
       "      <td>7</td>\n",
       "    </tr>\n",
       "    <tr>\n",
       "      <th>919</th>\n",
       "      <td>B0C7PYGJJQ</td>\n",
       "      <td>6</td>\n",
       "    </tr>\n",
       "    <tr>\n",
       "      <th>920</th>\n",
       "      <td>B0C8YZKZ7G</td>\n",
       "      <td>7</td>\n",
       "    </tr>\n",
       "    <tr>\n",
       "      <th>921</th>\n",
       "      <td>B0CBMHPJRQ</td>\n",
       "      <td>9</td>\n",
       "    </tr>\n",
       "    <tr>\n",
       "      <th>922</th>\n",
       "      <td>B0CCDK26CK</td>\n",
       "      <td>32</td>\n",
       "    </tr>\n",
       "  </tbody>\n",
       "</table>\n",
       "<p>923 rows × 2 columns</p>\n",
       "</div>"
      ],
      "text/plain": [
       "    parent_asin  user_count\n",
       "0    B003P8QPIA          10\n",
       "1    B003WJZDQW           5\n",
       "2    B003YD92JU          19\n",
       "3    B004FUV0EQ          12\n",
       "4    B004H2RD4I           6\n",
       "..          ...         ...\n",
       "918  B0C7GFPT42           7\n",
       "919  B0C7PYGJJQ           6\n",
       "920  B0C8YZKZ7G           7\n",
       "921  B0CBMHPJRQ           9\n",
       "922  B0CCDK26CK          32\n",
       "\n",
       "[923 rows x 2 columns]"
      ]
     },
     "execution_count": 86,
     "metadata": {},
     "output_type": "execute_result"
    }
   ],
   "source": [
    "MIN_NO_OF_USERS = 5\n",
    "MAX_NO_OF_USERS = 100\n",
    "items_user_count = df_items_user_count[(df_items_user_count.user_count >= MIN_NO_OF_USERS) & (df_items_user_count.user_count <= MAX_NO_OF_USERS)]\n",
    "items_user_count = items_user_count.reset_index()\n",
    "items_user_count"
   ]
  },
  {
   "cell_type": "code",
   "execution_count": 87,
   "metadata": {
    "id": "2OfKInzx8UVn"
   },
   "outputs": [
    {
     "data": {
      "text/plain": [
       "11034"
      ]
     },
     "execution_count": 87,
     "metadata": {},
     "output_type": "execute_result"
    }
   ],
   "source": [
    "items_user_count.user_count.sum()"
   ]
  },
  {
   "cell_type": "code",
   "execution_count": 88,
   "metadata": {
    "id": "Bowkh1u48UVo"
   },
   "outputs": [
    {
     "data": {
      "text/html": [
       "<div>\n",
       "<style scoped>\n",
       "    .dataframe tbody tr th:only-of-type {\n",
       "        vertical-align: middle;\n",
       "    }\n",
       "\n",
       "    .dataframe tbody tr th {\n",
       "        vertical-align: top;\n",
       "    }\n",
       "\n",
       "    .dataframe thead th {\n",
       "        text-align: right;\n",
       "    }\n",
       "</style>\n",
       "<table border=\"1\" class=\"dataframe\">\n",
       "  <thead>\n",
       "    <tr style=\"text-align: right;\">\n",
       "      <th></th>\n",
       "      <th>user_id</th>\n",
       "      <th>rating</th>\n",
       "      <th>parent_asin</th>\n",
       "      <th>time_seconds</th>\n",
       "    </tr>\n",
       "  </thead>\n",
       "  <tbody>\n",
       "    <tr>\n",
       "      <th>369815</th>\n",
       "      <td>AHQYNLW7ARVF5LFY5USF2RFNIM6Q</td>\n",
       "      <td>4</td>\n",
       "      <td>B003P8QPIA</td>\n",
       "      <td>1622318431</td>\n",
       "    </tr>\n",
       "    <tr>\n",
       "      <th>26974</th>\n",
       "      <td>AFKQY6KICWHZATHUQ63KSWLFUZAA</td>\n",
       "      <td>5</td>\n",
       "      <td>B003P8QPIA</td>\n",
       "      <td>1623987224</td>\n",
       "    </tr>\n",
       "    <tr>\n",
       "      <th>363340</th>\n",
       "      <td>AE5CIPFDGNBDELBBK7VOJZ43UGEA</td>\n",
       "      <td>4</td>\n",
       "      <td>B003P8QPIA</td>\n",
       "      <td>1624508891</td>\n",
       "    </tr>\n",
       "    <tr>\n",
       "      <th>92527</th>\n",
       "      <td>AH7IT66UQ2STXJGOVUOX2SUPVBWQ</td>\n",
       "      <td>5</td>\n",
       "      <td>B003P8QPIA</td>\n",
       "      <td>1627318757</td>\n",
       "    </tr>\n",
       "    <tr>\n",
       "      <th>453601</th>\n",
       "      <td>AGUTZUT3ZSMAOAKEU2F6B2AKMJBA</td>\n",
       "      <td>4</td>\n",
       "      <td>B003P8QPIA</td>\n",
       "      <td>1649267330</td>\n",
       "    </tr>\n",
       "  </tbody>\n",
       "</table>\n",
       "</div>"
      ],
      "text/plain": [
       "                             user_id  rating parent_asin  time_seconds\n",
       "369815  AHQYNLW7ARVF5LFY5USF2RFNIM6Q       4  B003P8QPIA    1622318431\n",
       "26974   AFKQY6KICWHZATHUQ63KSWLFUZAA       5  B003P8QPIA    1623987224\n",
       "363340  AE5CIPFDGNBDELBBK7VOJZ43UGEA       4  B003P8QPIA    1624508891\n",
       "92527   AH7IT66UQ2STXJGOVUOX2SUPVBWQ       5  B003P8QPIA    1627318757\n",
       "453601  AGUTZUT3ZSMAOAKEU2F6B2AKMJBA       4  B003P8QPIA    1649267330"
      ]
     },
     "execution_count": 88,
     "metadata": {},
     "output_type": "execute_result"
    }
   ],
   "source": [
    "items = np.array(items_user_count.parent_asin)\n",
    "items_user_count = None\n",
    "df_item_users = df[df.parent_asin.isin(items)].sort_values([\"parent_asin\", \"time_seconds\"])[[\"user_id\", \"rating\", \"parent_asin\", \"time_seconds\"]]\n",
    "df_item_users.head()"
   ]
  },
  {
   "cell_type": "code",
   "execution_count": 89,
   "metadata": {
    "id": "4XCPhWwi8UVo"
   },
   "outputs": [
    {
     "name": "stdout",
     "output_type": "stream",
     "text": [
      "Filtering Items which have been rated by atleast 5 users\n",
      "Dataset shape: (11034, 4) Users count: 10831 Items count: 923\n"
     ]
    }
   ],
   "source": [
    "print(\"Filtering Items which have been rated by atleast 5 users\")\n",
    "print_user_items_count(df_item_users)"
   ]
  },
  {
   "cell_type": "code",
   "execution_count": 90,
   "metadata": {
    "id": "bDVj1ofx8UVo"
   },
   "outputs": [
    {
     "name": "stdout",
     "output_type": "stream",
     "text": [
      "Creating tokeinzed file for mode: item_user Filename: item_user.txt\n",
      "1 1\n",
      "1 2\n",
      "1 3\n",
      "1 4\n",
      "1 5\n",
      "1 6\n",
      "1 7\n",
      "1 8\n",
      "1 9\n",
      "1 10\n",
      "2 11\n",
      "2 12\n",
      "2 13\n",
      "2 14\n",
      "2 15\n",
      "3 16\n",
      "3 17\n",
      "3 18\n",
      "3 19\n",
      "3 20\n",
      "3 21\n",
      "3 22\n",
      "3 23\n",
      "3 24\n",
      "3 25\n",
      "3 26\n",
      "3 27\n",
      "3 28\n",
      "3 29\n",
      "3 30\n",
      "3 31\n",
      "3 32\n",
      "3 33\n",
      "3 34\n",
      "4 35\n",
      "4 36\n",
      "4 37\n",
      "4 38\n",
      "4 39\n",
      "4 40\n",
      "4 41\n",
      "4 42\n",
      "4 43\n",
      "4 44\n",
      "4 45\n",
      "4 46\n"
     ]
    }
   ],
   "source": [
    "createTokenizedFile(data=df_item_users, filename='item_user.txt', mode=MODE_ITEM_USER)"
   ]
  },
  {
   "cell_type": "code",
   "execution_count": 91,
   "metadata": {
    "id": "SEsZ4n9-8UVo"
   },
   "outputs": [
    {
     "data": {
      "text/html": [
       "<div>\n",
       "<style scoped>\n",
       "    .dataframe tbody tr th:only-of-type {\n",
       "        vertical-align: middle;\n",
       "    }\n",
       "\n",
       "    .dataframe tbody tr th {\n",
       "        vertical-align: top;\n",
       "    }\n",
       "\n",
       "    .dataframe thead th {\n",
       "        text-align: right;\n",
       "    }\n",
       "</style>\n",
       "<table border=\"1\" class=\"dataframe\">\n",
       "  <thead>\n",
       "    <tr style=\"text-align: right;\">\n",
       "      <th></th>\n",
       "      <th>user_id</th>\n",
       "      <th>rating</th>\n",
       "      <th>parent_asin</th>\n",
       "      <th>time_seconds</th>\n",
       "    </tr>\n",
       "  </thead>\n",
       "  <tbody>\n",
       "    <tr>\n",
       "      <th>269835</th>\n",
       "      <td>AE2VIMKO7UFYDUU4LH46JLON3DMQ</td>\n",
       "      <td>5</td>\n",
       "      <td>B09L8B5CJL</td>\n",
       "      <td>1646986451</td>\n",
       "    </tr>\n",
       "    <tr>\n",
       "      <th>10196</th>\n",
       "      <td>AE3RXOZQ6OBTBWRG6C3N5ZYC4NWQ</td>\n",
       "      <td>4</td>\n",
       "      <td>B08THC47S1</td>\n",
       "      <td>1659295282</td>\n",
       "    </tr>\n",
       "    <tr>\n",
       "      <th>291036</th>\n",
       "      <td>AE5IQA2MU4A55EYTPK4MY5R62R2A</td>\n",
       "      <td>4</td>\n",
       "      <td>B08R73KWRM</td>\n",
       "      <td>1614277770</td>\n",
       "    </tr>\n",
       "    <tr>\n",
       "      <th>103553</th>\n",
       "      <td>AE6BOFNBB4PIQIPQFVZPVYR2ZQHA</td>\n",
       "      <td>5</td>\n",
       "      <td>B0886B2NJ3</td>\n",
       "      <td>1662767238</td>\n",
       "    </tr>\n",
       "    <tr>\n",
       "      <th>328769</th>\n",
       "      <td>AE6BPIGX3OPIREID6EN6XMZUA5PQ</td>\n",
       "      <td>3</td>\n",
       "      <td>B07YCGPP4N</td>\n",
       "      <td>1623614127</td>\n",
       "    </tr>\n",
       "  </tbody>\n",
       "</table>\n",
       "</div>"
      ],
      "text/plain": [
       "                             user_id  rating parent_asin  time_seconds\n",
       "269835  AE2VIMKO7UFYDUU4LH46JLON3DMQ       5  B09L8B5CJL    1646986451\n",
       "10196   AE3RXOZQ6OBTBWRG6C3N5ZYC4NWQ       4  B08THC47S1    1659295282\n",
       "291036  AE5IQA2MU4A55EYTPK4MY5R62R2A       4  B08R73KWRM    1614277770\n",
       "103553  AE6BOFNBB4PIQIPQFVZPVYR2ZQHA       5  B0886B2NJ3    1662767238\n",
       "328769  AE6BPIGX3OPIREID6EN6XMZUA5PQ       3  B07YCGPP4N    1623614127"
      ]
     },
     "execution_count": 91,
     "metadata": {},
     "output_type": "execute_result"
    }
   ],
   "source": [
    "user_items = df[(df.user_id.isin(users)) & (df.parent_asin.isin(items))].sort_values([\"user_id\", \"time_seconds\"])[[\"user_id\", \"rating\", \"parent_asin\", \"time_seconds\"]]\n",
    "user_items.head()"
   ]
  },
  {
   "cell_type": "code",
   "execution_count": 92,
   "metadata": {
    "id": "VegI06Ap8UVo"
   },
   "outputs": [
    {
     "name": "stdout",
     "output_type": "stream",
     "text": [
      "Filtering common Users-Items and Items-Users\n",
      "Dataset shape: (291, 4) Users count: 223 Items count: 213\n"
     ]
    }
   ],
   "source": [
    "print(\"Filtering common Users-Items and Items-Users\")\n",
    "print_user_items_count(user_items)"
   ]
  },
  {
   "cell_type": "code",
   "execution_count": 93,
   "metadata": {
    "id": "s8jVUehD8UVo"
   },
   "outputs": [
    {
     "data": {
      "text/plain": [
       "(291, 4)"
      ]
     },
     "execution_count": 93,
     "metadata": {},
     "output_type": "execute_result"
    }
   ],
   "source": [
    "user_items.shape"
   ]
  },
  {
   "cell_type": "code",
   "execution_count": 94,
   "metadata": {
    "id": "tX8srqsZ8UVo"
   },
   "outputs": [
    {
     "data": {
      "text/html": [
       "<div>\n",
       "<style scoped>\n",
       "    .dataframe tbody tr th:only-of-type {\n",
       "        vertical-align: middle;\n",
       "    }\n",
       "\n",
       "    .dataframe tbody tr th {\n",
       "        vertical-align: top;\n",
       "    }\n",
       "\n",
       "    .dataframe thead th {\n",
       "        text-align: right;\n",
       "    }\n",
       "</style>\n",
       "<table border=\"1\" class=\"dataframe\">\n",
       "  <thead>\n",
       "    <tr style=\"text-align: right;\">\n",
       "      <th></th>\n",
       "      <th>user_id</th>\n",
       "      <th>rating</th>\n",
       "      <th>text</th>\n",
       "      <th>parent_asin</th>\n",
       "      <th>time_seconds</th>\n",
       "    </tr>\n",
       "  </thead>\n",
       "  <tbody>\n",
       "    <tr>\n",
       "      <th>269836</th>\n",
       "      <td>AE2VIMKO7UFYDUU4LH46JLON3DMQ</td>\n",
       "      <td>5</td>\n",
       "      <td>Very well made and comfortable to wear</td>\n",
       "      <td>B0881NRVNM</td>\n",
       "      <td>1625726088</td>\n",
       "    </tr>\n",
       "    <tr>\n",
       "      <th>269835</th>\n",
       "      <td>AE2VIMKO7UFYDUU4LH46JLON3DMQ</td>\n",
       "      <td>5</td>\n",
       "      <td>Keeps your hands warm</td>\n",
       "      <td>B09L8B5CJL</td>\n",
       "      <td>1646986451</td>\n",
       "    </tr>\n",
       "    <tr>\n",
       "      <th>269834</th>\n",
       "      <td>AE2VIMKO7UFYDUU4LH46JLON3DMQ</td>\n",
       "      <td>4</td>\n",
       "      <td>They will be great to cover my silver platters...</td>\n",
       "      <td>B0BKZNWSFN</td>\n",
       "      <td>1679208965</td>\n",
       "    </tr>\n",
       "    <tr>\n",
       "      <th>10199</th>\n",
       "      <td>AE3RXOZQ6OBTBWRG6C3N5ZYC4NWQ</td>\n",
       "      <td>5</td>\n",
       "      <td>The price was my only issue. Otherwise I LOVE ...</td>\n",
       "      <td>B08K8CV3GT</td>\n",
       "      <td>1642948885</td>\n",
       "    </tr>\n",
       "    <tr>\n",
       "      <th>10197</th>\n",
       "      <td>AE3RXOZQ6OBTBWRG6C3N5ZYC4NWQ</td>\n",
       "      <td>4</td>\n",
       "      <td>Wish they had more variety on colors. Also tir...</td>\n",
       "      <td>B08K8DB14M</td>\n",
       "      <td>1659295230</td>\n",
       "    </tr>\n",
       "  </tbody>\n",
       "</table>\n",
       "</div>"
      ],
      "text/plain": [
       "                             user_id  rating  \\\n",
       "269836  AE2VIMKO7UFYDUU4LH46JLON3DMQ       5   \n",
       "269835  AE2VIMKO7UFYDUU4LH46JLON3DMQ       5   \n",
       "269834  AE2VIMKO7UFYDUU4LH46JLON3DMQ       4   \n",
       "10199   AE3RXOZQ6OBTBWRG6C3N5ZYC4NWQ       5   \n",
       "10197   AE3RXOZQ6OBTBWRG6C3N5ZYC4NWQ       4   \n",
       "\n",
       "                                                     text parent_asin  \\\n",
       "269836             Very well made and comfortable to wear  B0881NRVNM   \n",
       "269835                              Keeps your hands warm  B09L8B5CJL   \n",
       "269834  They will be great to cover my silver platters...  B0BKZNWSFN   \n",
       "10199   The price was my only issue. Otherwise I LOVE ...  B08K8CV3GT   \n",
       "10197   Wish they had more variety on colors. Also tir...  B08K8DB14M   \n",
       "\n",
       "        time_seconds  \n",
       "269836    1625726088  \n",
       "269835    1646986451  \n",
       "269834    1679208965  \n",
       "10199     1642948885  \n",
       "10197     1659295230  "
      ]
     },
     "execution_count": 94,
     "metadata": {},
     "output_type": "execute_result"
    }
   ],
   "source": [
    "final_users = np.array(user_items.user_id)\n",
    "final_user_items = df[df.user_id.isin(final_users)].sort_values([\"user_id\", \"time_seconds\"])[[\"user_id\", \"rating\", \"text\", \"parent_asin\", \"time_seconds\"]]\n",
    "final_user_items.head()"
   ]
  },
  {
   "cell_type": "code",
   "execution_count": 95,
   "metadata": {
    "id": "tkZNLUTd8UVp"
   },
   "outputs": [
    {
     "name": "stdout",
     "output_type": "stream",
     "text": [
      "Filtered Users and Items for the Sentiment task model\n",
      "Dataset shape: (847, 5) Users count: 223 Items count: 765\n"
     ]
    }
   ],
   "source": [
    "print(\"Filtered Users and Items for the Sentiment task model\")\n",
    "print_user_items_count(final_user_items)"
   ]
  },
  {
   "cell_type": "code",
   "execution_count": 96,
   "metadata": {
    "id": "cy7nj3208UVp"
   },
   "outputs": [
    {
     "data": {
      "text/plain": [
       "(847, 5)"
      ]
     },
     "execution_count": 96,
     "metadata": {},
     "output_type": "execute_result"
    }
   ],
   "source": [
    "final_user_items.shape"
   ]
  },
  {
   "cell_type": "code",
   "execution_count": 97,
   "metadata": {
    "id": "145rOD7L8UVp"
   },
   "outputs": [
    {
     "name": "stdout",
     "output_type": "stream",
     "text": [
      "Creating tokeinzed file for mode: user_item Filename: fashion.txt\n",
      "1 1\n",
      "1 2\n",
      "1 3\n",
      "2 4\n",
      "2 5\n",
      "2 6\n",
      "3 7\n",
      "3 8\n",
      "3 9\n",
      "4 10\n",
      "4 11\n",
      "4 12\n"
     ]
    }
   ],
   "source": [
    "createTokenizedFile(data=final_user_items, filename='fashion.txt', mode=MODE_USER_ITEM)"
   ]
  },
  {
   "cell_type": "code",
   "execution_count": 98,
   "metadata": {},
   "outputs": [
    {
     "ename": "NameError",
     "evalue": "name 'check' is not defined",
     "output_type": "error",
     "traceback": [
      "\u001b[1;31m---------------------------------------------------------------------------\u001b[0m",
      "\u001b[1;31mNameError\u001b[0m                                 Traceback (most recent call last)",
      "Cell \u001b[1;32mIn[98], line 1\u001b[0m\n\u001b[1;32m----> 1\u001b[0m \u001b[43mcheck\u001b[49m\n",
      "\u001b[1;31mNameError\u001b[0m: name 'check' is not defined"
     ]
    }
   ],
   "source": [
    "check"
   ]
  },
  {
   "cell_type": "markdown",
   "metadata": {
    "id": "yRUfdaVl8UVp"
   },
   "source": [
    "##### Define sentiment label column\n",
    "This will be used to capture user sentiment. 1=Positive, 0=Negative"
   ]
  },
  {
   "cell_type": "code",
   "execution_count": null,
   "metadata": {
    "id": "4uukbGi68UVp"
   },
   "outputs": [],
   "source": [
    "final_user_items.text[:5]"
   ]
  },
  {
   "cell_type": "markdown",
   "metadata": {
    "id": "JtOkZ3TM8UVp"
   },
   "source": [
    "Standardise the text for processing"
   ]
  },
  {
   "cell_type": "code",
   "execution_count": null,
   "metadata": {
    "id": "bvNGfmMR8UVp"
   },
   "outputs": [],
   "source": [
    "def text_standardization(input):\n",
    "    punctuations = r\"\"\"!\"#$%&'()*+,-/:;<=>?@[\\]^_`{|}~\"\"\"\n",
    "    lowercase = tf.strings.lower(input)\n",
    "    stripped_html = tf.strings.regex_replace(lowercase, '<br />', ' ')\n",
    "    text = tf.strings.regex_replace(stripped_html, '[%s]' % re.escape(punctuations), '')\n",
    "    text = str(text)[12:-26][:500] # consider text max 500 words\n",
    "    return text.strip()"
   ]
  },
  {
   "cell_type": "code",
   "execution_count": null,
   "metadata": {
    "id": "PI9LjjWU8UVp"
   },
   "outputs": [],
   "source": [
    "final_user_items['text'] = final_user_items.text.apply(lambda x : text_standardization(x))"
   ]
  },
  {
   "cell_type": "code",
   "execution_count": null,
   "metadata": {
    "id": "s4l1Hb628UVq"
   },
   "outputs": [],
   "source": [
    "final_user_items.reset_index(drop=True, inplace=True)"
   ]
  },
  {
   "cell_type": "code",
   "execution_count": null,
   "metadata": {
    "id": "rRRbOaMC8UVq"
   },
   "outputs": [],
   "source": [
    "final_user_items.head()"
   ]
  },
  {
   "cell_type": "code",
   "execution_count": null,
   "metadata": {},
   "outputs": [],
   "source": [
    "check"
   ]
  },
  {
   "cell_type": "markdown",
   "metadata": {
    "id": "8vBAbDuy8UVq"
   },
   "source": [
    "##### Sentiment Labeling based on review text"
   ]
  },
  {
   "cell_type": "code",
   "execution_count": null,
   "metadata": {
    "id": "XQSuHMSB8UVq"
   },
   "outputs": [],
   "source": [
    "print(\"Sentiment Label task modeling\", len(list(final_user_items['text'][:5])), \"\\n\", final_user_items['text'][:5])"
   ]
  },
  {
   "cell_type": "code",
   "execution_count": null,
   "metadata": {
    "id": "OVbA__XB8UVq"
   },
   "outputs": [],
   "source": [
    "from sentiment_classification import *"
   ]
  },
  {
   "cell_type": "code",
   "execution_count": null,
   "metadata": {
    "id": "ttVIsXi78UVq"
   },
   "outputs": [],
   "source": [
    "sentimentClassifier = SentimentClassification()"
   ]
  },
  {
   "cell_type": "code",
   "execution_count": null,
   "metadata": {
    "id": "bl3JBun68UVq"
   },
   "outputs": [],
   "source": [
    "BATCH_SIZE = 6\n",
    "sentiment_labels = sentimentClassifier.get_sentiment_labels(final_user_items, \"text\", BATCH_SIZE)"
   ]
  },
  {
   "cell_type": "code",
   "execution_count": null,
   "metadata": {
    "id": "t-T5c2uh8UVq"
   },
   "outputs": [],
   "source": [
    "sentiment_labels[:10]"
   ]
  },
  {
   "cell_type": "code",
   "execution_count": null,
   "metadata": {
    "id": "hSJpFRpB8UVr"
   },
   "outputs": [],
   "source": [
    "sentiment_labels = pd.DataFrame(sentiment_labels)\n",
    "sentiment_labels.columns = [\"sentiment_label\"]\n",
    "sentiment_labels.head()"
   ]
  },
  {
   "cell_type": "code",
   "execution_count": null,
   "metadata": {
    "id": "AE2rjVPX8UVr"
   },
   "outputs": [],
   "source": [
    "df = pd.concat([final_user_items, sentiment_labels], axis = 1)\n",
    "df.head()"
   ]
  },
  {
   "cell_type": "code",
   "execution_count": null,
   "metadata": {
    "id": "tqqaBSwP8UVr"
   },
   "outputs": [],
   "source": [
    "df.sentiment_label.value_counts(normalize=True)"
   ]
  },
  {
   "cell_type": "markdown",
   "metadata": {
    "id": "FOK9T0l18UVr"
   },
   "source": [
    "Filter the Items with negative sentiments, i.e sentiment_label as 0"
   ]
  },
  {
   "cell_type": "code",
   "execution_count": null,
   "metadata": {
    "id": "LVGvjSyJ8UVr"
   },
   "outputs": [],
   "source": [
    "df = df[~(df.sentiment_label == 0)]\n",
    "df.reset_index(drop=True, inplace=True)"
   ]
  },
  {
   "cell_type": "code",
   "execution_count": null,
   "metadata": {
    "id": "BMCsLpE48UVr"
   },
   "outputs": [],
   "source": [
    "print(\"Filtering positive sentiment labelled data\")\n",
    "print_user_items_count(df)"
   ]
  },
  {
   "cell_type": "markdown",
   "metadata": {
    "id": "lkhNa7mt0OOo"
   },
   "source": [
    "### Model Building: Recommendation Model\n",
    "\n",
    "We will build User-User and item-item collaborative filtering recommendation System and use it for recommending products. Later we will combine the selected recommendation filter and user the sentiment to filter the products with positive reviews<br>\n",
    "\n",
    "- User-User: Find similar users first and then recommend products to users which would have been rated high by the similar group of users<br>\n",
    "- Item-Item: Find similar items based on ratings and use that to recommend the top rated products to users"
   ]
  },
  {
   "cell_type": "markdown",
   "metadata": {
    "id": "J18WLm7u0OOo"
   },
   "source": [
    "Build the dataset needed for Recommendation Engine<br>\n",
    "Earlier we had kept the dataset df intact for classification and recommendation"
   ]
  },
  {
   "cell_type": "code",
   "execution_count": 113,
   "metadata": {
    "id": "4Z3fy5bz0OOo"
   },
   "outputs": [
    {
     "name": "stdout",
     "output_type": "stream",
     "text": [
      "(847, 3)\n"
     ]
    },
    {
     "data": {
      "text/html": [
       "<div>\n",
       "<style scoped>\n",
       "    .dataframe tbody tr th:only-of-type {\n",
       "        vertical-align: middle;\n",
       "    }\n",
       "\n",
       "    .dataframe tbody tr th {\n",
       "        vertical-align: top;\n",
       "    }\n",
       "\n",
       "    .dataframe thead th {\n",
       "        text-align: right;\n",
       "    }\n",
       "</style>\n",
       "<table border=\"1\" class=\"dataframe\">\n",
       "  <thead>\n",
       "    <tr style=\"text-align: right;\">\n",
       "      <th></th>\n",
       "      <th>user_id</th>\n",
       "      <th>rating</th>\n",
       "      <th>parent_asin</th>\n",
       "    </tr>\n",
       "  </thead>\n",
       "  <tbody>\n",
       "    <tr>\n",
       "      <th>0</th>\n",
       "      <td>AE2VIMKO7UFYDUU4LH46JLON3DMQ</td>\n",
       "      <td>5</td>\n",
       "      <td>B0881NRVNM</td>\n",
       "    </tr>\n",
       "    <tr>\n",
       "      <th>1</th>\n",
       "      <td>AE2VIMKO7UFYDUU4LH46JLON3DMQ</td>\n",
       "      <td>5</td>\n",
       "      <td>B09L8B5CJL</td>\n",
       "    </tr>\n",
       "    <tr>\n",
       "      <th>2</th>\n",
       "      <td>AE2VIMKO7UFYDUU4LH46JLON3DMQ</td>\n",
       "      <td>4</td>\n",
       "      <td>B0BKZNWSFN</td>\n",
       "    </tr>\n",
       "    <tr>\n",
       "      <th>3</th>\n",
       "      <td>AE3RXOZQ6OBTBWRG6C3N5ZYC4NWQ</td>\n",
       "      <td>5</td>\n",
       "      <td>B08K8CV3GT</td>\n",
       "    </tr>\n",
       "    <tr>\n",
       "      <th>4</th>\n",
       "      <td>AE3RXOZQ6OBTBWRG6C3N5ZYC4NWQ</td>\n",
       "      <td>4</td>\n",
       "      <td>B08K8DB14M</td>\n",
       "    </tr>\n",
       "  </tbody>\n",
       "</table>\n",
       "</div>"
      ],
      "text/plain": [
       "                        user_id  rating parent_asin\n",
       "0  AE2VIMKO7UFYDUU4LH46JLON3DMQ       5  B0881NRVNM\n",
       "1  AE2VIMKO7UFYDUU4LH46JLON3DMQ       5  B09L8B5CJL\n",
       "2  AE2VIMKO7UFYDUU4LH46JLON3DMQ       4  B0BKZNWSFN\n",
       "3  AE3RXOZQ6OBTBWRG6C3N5ZYC4NWQ       5  B08K8CV3GT\n",
       "4  AE3RXOZQ6OBTBWRG6C3N5ZYC4NWQ       4  B08K8DB14M"
      ]
     },
     "execution_count": 113,
     "metadata": {},
     "output_type": "execute_result"
    }
   ],
   "source": [
    "# Verify df has no missing data\n",
    "df = final_user_items.copy()\n",
    "df.reset_index(drop=True, inplace=True)\n",
    "MissingData(df)\n",
    "df_recommendation = df[[\"user_id\", \"rating\", \"parent_asin\"]]\n",
    "print(df_recommendation.shape)\n",
    "df_recommendation.head(5)"
   ]
  },
  {
   "cell_type": "markdown",
   "metadata": {
    "id": "eAbrUvRD0OOo"
   },
   "source": [
    "Split the recommendation dataset into train and test"
   ]
  },
  {
   "cell_type": "code",
   "execution_count": 114,
   "metadata": {
    "id": "HfzdFfmCO11g"
   },
   "outputs": [
    {
     "name": "stdout",
     "output_type": "stream",
     "text": [
      "Train test data split ration 80:20\n"
     ]
    }
   ],
   "source": [
    "print(\"Train test data split ration 80:20\")"
   ]
  },
  {
   "cell_type": "code",
   "execution_count": 115,
   "metadata": {
    "id": "cMOhvmVU0OOp"
   },
   "outputs": [],
   "source": [
    "train, test = train_test_split(df_recommendation, test_size=0.20, random_state=42)"
   ]
  },
  {
   "cell_type": "code",
   "execution_count": 116,
   "metadata": {},
   "outputs": [
    {
     "data": {
      "text/html": [
       "<div>\n",
       "<style scoped>\n",
       "    .dataframe tbody tr th:only-of-type {\n",
       "        vertical-align: middle;\n",
       "    }\n",
       "\n",
       "    .dataframe tbody tr th {\n",
       "        vertical-align: top;\n",
       "    }\n",
       "\n",
       "    .dataframe thead th {\n",
       "        text-align: right;\n",
       "    }\n",
       "</style>\n",
       "<table border=\"1\" class=\"dataframe\">\n",
       "  <thead>\n",
       "    <tr style=\"text-align: right;\">\n",
       "      <th></th>\n",
       "      <th>user_id</th>\n",
       "      <th>rating</th>\n",
       "      <th>parent_asin</th>\n",
       "    </tr>\n",
       "  </thead>\n",
       "  <tbody>\n",
       "    <tr>\n",
       "      <th>0</th>\n",
       "      <td>AE2VIMKO7UFYDUU4LH46JLON3DMQ</td>\n",
       "      <td>5</td>\n",
       "      <td>B0881NRVNM</td>\n",
       "    </tr>\n",
       "    <tr>\n",
       "      <th>1</th>\n",
       "      <td>AE2VIMKO7UFYDUU4LH46JLON3DMQ</td>\n",
       "      <td>5</td>\n",
       "      <td>B09L8B5CJL</td>\n",
       "    </tr>\n",
       "    <tr>\n",
       "      <th>2</th>\n",
       "      <td>AE2VIMKO7UFYDUU4LH46JLON3DMQ</td>\n",
       "      <td>4</td>\n",
       "      <td>B0BKZNWSFN</td>\n",
       "    </tr>\n",
       "    <tr>\n",
       "      <th>3</th>\n",
       "      <td>AE3RXOZQ6OBTBWRG6C3N5ZYC4NWQ</td>\n",
       "      <td>5</td>\n",
       "      <td>B08K8CV3GT</td>\n",
       "    </tr>\n",
       "    <tr>\n",
       "      <th>4</th>\n",
       "      <td>AE3RXOZQ6OBTBWRG6C3N5ZYC4NWQ</td>\n",
       "      <td>4</td>\n",
       "      <td>B08K8DB14M</td>\n",
       "    </tr>\n",
       "    <tr>\n",
       "      <th>...</th>\n",
       "      <td>...</td>\n",
       "      <td>...</td>\n",
       "      <td>...</td>\n",
       "    </tr>\n",
       "    <tr>\n",
       "      <th>842</th>\n",
       "      <td>AHYIGWZI55BCZNQU3P5TYANO2K5Q</td>\n",
       "      <td>5</td>\n",
       "      <td>B07BTLBSMD</td>\n",
       "    </tr>\n",
       "    <tr>\n",
       "      <th>843</th>\n",
       "      <td>AHYIGWZI55BCZNQU3P5TYANO2K5Q</td>\n",
       "      <td>5</td>\n",
       "      <td>B09DYG2ZCH</td>\n",
       "    </tr>\n",
       "    <tr>\n",
       "      <th>844</th>\n",
       "      <td>AHZ2B2EIN7GWE2624T46O3MYR5EA</td>\n",
       "      <td>5</td>\n",
       "      <td>B08DJ9NL6Y</td>\n",
       "    </tr>\n",
       "    <tr>\n",
       "      <th>845</th>\n",
       "      <td>AHZ2B2EIN7GWE2624T46O3MYR5EA</td>\n",
       "      <td>5</td>\n",
       "      <td>B07ZHXWQZV</td>\n",
       "    </tr>\n",
       "    <tr>\n",
       "      <th>846</th>\n",
       "      <td>AHZ2B2EIN7GWE2624T46O3MYR5EA</td>\n",
       "      <td>5</td>\n",
       "      <td>B08GLLJZL4</td>\n",
       "    </tr>\n",
       "  </tbody>\n",
       "</table>\n",
       "<p>847 rows × 3 columns</p>\n",
       "</div>"
      ],
      "text/plain": [
       "                          user_id  rating parent_asin\n",
       "0    AE2VIMKO7UFYDUU4LH46JLON3DMQ       5  B0881NRVNM\n",
       "1    AE2VIMKO7UFYDUU4LH46JLON3DMQ       5  B09L8B5CJL\n",
       "2    AE2VIMKO7UFYDUU4LH46JLON3DMQ       4  B0BKZNWSFN\n",
       "3    AE3RXOZQ6OBTBWRG6C3N5ZYC4NWQ       5  B08K8CV3GT\n",
       "4    AE3RXOZQ6OBTBWRG6C3N5ZYC4NWQ       4  B08K8DB14M\n",
       "..                            ...     ...         ...\n",
       "842  AHYIGWZI55BCZNQU3P5TYANO2K5Q       5  B07BTLBSMD\n",
       "843  AHYIGWZI55BCZNQU3P5TYANO2K5Q       5  B09DYG2ZCH\n",
       "844  AHZ2B2EIN7GWE2624T46O3MYR5EA       5  B08DJ9NL6Y\n",
       "845  AHZ2B2EIN7GWE2624T46O3MYR5EA       5  B07ZHXWQZV\n",
       "846  AHZ2B2EIN7GWE2624T46O3MYR5EA       5  B08GLLJZL4\n",
       "\n",
       "[847 rows x 3 columns]"
      ]
     },
     "execution_count": 116,
     "metadata": {},
     "output_type": "execute_result"
    }
   ],
   "source": [
    "df_recommendation"
   ]
  },
  {
   "cell_type": "markdown",
   "metadata": {
    "id": "_6J0-BB60OOp"
   },
   "source": [
    "Name columns for the recommendation dataset"
   ]
  },
  {
   "cell_type": "code",
   "execution_count": 117,
   "metadata": {
    "id": "wYPwMHol0OOp"
   },
   "outputs": [],
   "source": [
    "product_column = \"parent_asin\" #id\n",
    "user_column = \"user_id\" #reviews_username\n",
    "value_column = \"rating\""
   ]
  },
  {
   "cell_type": "markdown",
   "metadata": {
    "id": "n6BgQBWH0OOp"
   },
   "source": [
    "Create Pivot dataset in matrix format with columns as product IDs and rows as user names so we get a view of whch user has rated which product and what value"
   ]
  },
  {
   "cell_type": "code",
   "execution_count": 147,
   "metadata": {
    "id": "olLyBIdB0OOp"
   },
   "outputs": [
    {
     "data": {
      "text/html": [
       "<div>\n",
       "<style scoped>\n",
       "    .dataframe tbody tr th:only-of-type {\n",
       "        vertical-align: middle;\n",
       "    }\n",
       "\n",
       "    .dataframe tbody tr th {\n",
       "        vertical-align: top;\n",
       "    }\n",
       "\n",
       "    .dataframe thead th {\n",
       "        text-align: right;\n",
       "    }\n",
       "</style>\n",
       "<table border=\"1\" class=\"dataframe\">\n",
       "  <thead>\n",
       "    <tr style=\"text-align: right;\">\n",
       "      <th>parent_asin</th>\n",
       "      <th>B009R09Z8W</th>\n",
       "      <th>B00C6GC9VO</th>\n",
       "      <th>B00CE4B8LU</th>\n",
       "      <th>B00CLKYSIC</th>\n",
       "      <th>B00DEZ4O9Q</th>\n",
       "      <th>B00H4DL9II</th>\n",
       "      <th>B00HR53DUK</th>\n",
       "      <th>B00HXD0R2S</th>\n",
       "      <th>B00LPRHHY4</th>\n",
       "      <th>B00O972MCO</th>\n",
       "      <th>...</th>\n",
       "      <th>B0BX4BVC5J</th>\n",
       "      <th>B0BYCZ2W78</th>\n",
       "      <th>B0BYH37QQK</th>\n",
       "      <th>B0BZRRTDZH</th>\n",
       "      <th>B0C1H4ZJ11</th>\n",
       "      <th>B0C1NKM232</th>\n",
       "      <th>B0C3R8G4N8</th>\n",
       "      <th>B0C5D72QHD</th>\n",
       "      <th>B0C7CGGN6L</th>\n",
       "      <th>B0CBMHPJRQ</th>\n",
       "    </tr>\n",
       "    <tr>\n",
       "      <th>user_id</th>\n",
       "      <th></th>\n",
       "      <th></th>\n",
       "      <th></th>\n",
       "      <th></th>\n",
       "      <th></th>\n",
       "      <th></th>\n",
       "      <th></th>\n",
       "      <th></th>\n",
       "      <th></th>\n",
       "      <th></th>\n",
       "      <th></th>\n",
       "      <th></th>\n",
       "      <th></th>\n",
       "      <th></th>\n",
       "      <th></th>\n",
       "      <th></th>\n",
       "      <th></th>\n",
       "      <th></th>\n",
       "      <th></th>\n",
       "      <th></th>\n",
       "      <th></th>\n",
       "    </tr>\n",
       "  </thead>\n",
       "  <tbody>\n",
       "    <tr>\n",
       "      <th>AE2VIMKO7UFYDUU4LH46JLON3DMQ</th>\n",
       "      <td>0.0</td>\n",
       "      <td>0.0</td>\n",
       "      <td>0.0</td>\n",
       "      <td>0.0</td>\n",
       "      <td>0.0</td>\n",
       "      <td>0.0</td>\n",
       "      <td>0.0</td>\n",
       "      <td>0.0</td>\n",
       "      <td>0.0</td>\n",
       "      <td>0.0</td>\n",
       "      <td>...</td>\n",
       "      <td>0.0</td>\n",
       "      <td>0.0</td>\n",
       "      <td>0.0</td>\n",
       "      <td>0.0</td>\n",
       "      <td>0.0</td>\n",
       "      <td>0.0</td>\n",
       "      <td>0.0</td>\n",
       "      <td>0.0</td>\n",
       "      <td>0.0</td>\n",
       "      <td>0.0</td>\n",
       "    </tr>\n",
       "    <tr>\n",
       "      <th>AE3RXOZQ6OBTBWRG6C3N5ZYC4NWQ</th>\n",
       "      <td>0.0</td>\n",
       "      <td>0.0</td>\n",
       "      <td>0.0</td>\n",
       "      <td>0.0</td>\n",
       "      <td>0.0</td>\n",
       "      <td>0.0</td>\n",
       "      <td>0.0</td>\n",
       "      <td>0.0</td>\n",
       "      <td>0.0</td>\n",
       "      <td>0.0</td>\n",
       "      <td>...</td>\n",
       "      <td>0.0</td>\n",
       "      <td>0.0</td>\n",
       "      <td>0.0</td>\n",
       "      <td>0.0</td>\n",
       "      <td>0.0</td>\n",
       "      <td>0.0</td>\n",
       "      <td>0.0</td>\n",
       "      <td>0.0</td>\n",
       "      <td>0.0</td>\n",
       "      <td>0.0</td>\n",
       "    </tr>\n",
       "    <tr>\n",
       "      <th>AE5IQA2MU4A55EYTPK4MY5R62R2A</th>\n",
       "      <td>0.0</td>\n",
       "      <td>0.0</td>\n",
       "      <td>0.0</td>\n",
       "      <td>0.0</td>\n",
       "      <td>0.0</td>\n",
       "      <td>0.0</td>\n",
       "      <td>0.0</td>\n",
       "      <td>0.0</td>\n",
       "      <td>0.0</td>\n",
       "      <td>0.0</td>\n",
       "      <td>...</td>\n",
       "      <td>0.0</td>\n",
       "      <td>0.0</td>\n",
       "      <td>0.0</td>\n",
       "      <td>0.0</td>\n",
       "      <td>0.0</td>\n",
       "      <td>0.0</td>\n",
       "      <td>0.0</td>\n",
       "      <td>0.0</td>\n",
       "      <td>0.0</td>\n",
       "      <td>0.0</td>\n",
       "    </tr>\n",
       "    <tr>\n",
       "      <th>AE6BOFNBB4PIQIPQFVZPVYR2ZQHA</th>\n",
       "      <td>0.0</td>\n",
       "      <td>0.0</td>\n",
       "      <td>0.0</td>\n",
       "      <td>0.0</td>\n",
       "      <td>0.0</td>\n",
       "      <td>0.0</td>\n",
       "      <td>0.0</td>\n",
       "      <td>0.0</td>\n",
       "      <td>0.0</td>\n",
       "      <td>0.0</td>\n",
       "      <td>...</td>\n",
       "      <td>0.0</td>\n",
       "      <td>0.0</td>\n",
       "      <td>0.0</td>\n",
       "      <td>0.0</td>\n",
       "      <td>0.0</td>\n",
       "      <td>0.0</td>\n",
       "      <td>0.0</td>\n",
       "      <td>0.0</td>\n",
       "      <td>0.0</td>\n",
       "      <td>0.0</td>\n",
       "    </tr>\n",
       "    <tr>\n",
       "      <th>AE6BPIGX3OPIREID6EN6XMZUA5PQ</th>\n",
       "      <td>0.0</td>\n",
       "      <td>0.0</td>\n",
       "      <td>0.0</td>\n",
       "      <td>0.0</td>\n",
       "      <td>0.0</td>\n",
       "      <td>0.0</td>\n",
       "      <td>5.0</td>\n",
       "      <td>0.0</td>\n",
       "      <td>0.0</td>\n",
       "      <td>0.0</td>\n",
       "      <td>...</td>\n",
       "      <td>0.0</td>\n",
       "      <td>0.0</td>\n",
       "      <td>0.0</td>\n",
       "      <td>0.0</td>\n",
       "      <td>0.0</td>\n",
       "      <td>0.0</td>\n",
       "      <td>0.0</td>\n",
       "      <td>0.0</td>\n",
       "      <td>0.0</td>\n",
       "      <td>0.0</td>\n",
       "    </tr>\n",
       "    <tr>\n",
       "      <th>AE6LT7RKZ2T4NJ7NJAHLMHSKVXHA</th>\n",
       "      <td>0.0</td>\n",
       "      <td>0.0</td>\n",
       "      <td>0.0</td>\n",
       "      <td>0.0</td>\n",
       "      <td>0.0</td>\n",
       "      <td>0.0</td>\n",
       "      <td>0.0</td>\n",
       "      <td>0.0</td>\n",
       "      <td>0.0</td>\n",
       "      <td>0.0</td>\n",
       "      <td>...</td>\n",
       "      <td>0.0</td>\n",
       "      <td>0.0</td>\n",
       "      <td>0.0</td>\n",
       "      <td>0.0</td>\n",
       "      <td>0.0</td>\n",
       "      <td>0.0</td>\n",
       "      <td>0.0</td>\n",
       "      <td>0.0</td>\n",
       "      <td>0.0</td>\n",
       "      <td>0.0</td>\n",
       "    </tr>\n",
       "    <tr>\n",
       "      <th>AE73ZWLPQHFFF6NQQAJXSZBRYVKA</th>\n",
       "      <td>0.0</td>\n",
       "      <td>0.0</td>\n",
       "      <td>0.0</td>\n",
       "      <td>0.0</td>\n",
       "      <td>0.0</td>\n",
       "      <td>0.0</td>\n",
       "      <td>0.0</td>\n",
       "      <td>0.0</td>\n",
       "      <td>0.0</td>\n",
       "      <td>0.0</td>\n",
       "      <td>...</td>\n",
       "      <td>0.0</td>\n",
       "      <td>0.0</td>\n",
       "      <td>0.0</td>\n",
       "      <td>0.0</td>\n",
       "      <td>0.0</td>\n",
       "      <td>0.0</td>\n",
       "      <td>0.0</td>\n",
       "      <td>0.0</td>\n",
       "      <td>0.0</td>\n",
       "      <td>0.0</td>\n",
       "    </tr>\n",
       "    <tr>\n",
       "      <th>AE7KIPZOIJBM34G7XULNLK675JXA</th>\n",
       "      <td>0.0</td>\n",
       "      <td>0.0</td>\n",
       "      <td>0.0</td>\n",
       "      <td>0.0</td>\n",
       "      <td>0.0</td>\n",
       "      <td>0.0</td>\n",
       "      <td>0.0</td>\n",
       "      <td>0.0</td>\n",
       "      <td>0.0</td>\n",
       "      <td>0.0</td>\n",
       "      <td>...</td>\n",
       "      <td>0.0</td>\n",
       "      <td>0.0</td>\n",
       "      <td>0.0</td>\n",
       "      <td>0.0</td>\n",
       "      <td>0.0</td>\n",
       "      <td>0.0</td>\n",
       "      <td>0.0</td>\n",
       "      <td>0.0</td>\n",
       "      <td>0.0</td>\n",
       "      <td>0.0</td>\n",
       "    </tr>\n",
       "    <tr>\n",
       "      <th>AE7Q25GSRLHTETTDP46MZ5N2S3LA</th>\n",
       "      <td>0.0</td>\n",
       "      <td>0.0</td>\n",
       "      <td>0.0</td>\n",
       "      <td>0.0</td>\n",
       "      <td>0.0</td>\n",
       "      <td>0.0</td>\n",
       "      <td>0.0</td>\n",
       "      <td>0.0</td>\n",
       "      <td>0.0</td>\n",
       "      <td>0.0</td>\n",
       "      <td>...</td>\n",
       "      <td>0.0</td>\n",
       "      <td>0.0</td>\n",
       "      <td>0.0</td>\n",
       "      <td>0.0</td>\n",
       "      <td>0.0</td>\n",
       "      <td>0.0</td>\n",
       "      <td>0.0</td>\n",
       "      <td>0.0</td>\n",
       "      <td>0.0</td>\n",
       "      <td>0.0</td>\n",
       "    </tr>\n",
       "    <tr>\n",
       "      <th>AEAJ4VVMLVSZ26FS4TOEJVJDHVHA</th>\n",
       "      <td>0.0</td>\n",
       "      <td>0.0</td>\n",
       "      <td>0.0</td>\n",
       "      <td>0.0</td>\n",
       "      <td>0.0</td>\n",
       "      <td>0.0</td>\n",
       "      <td>0.0</td>\n",
       "      <td>0.0</td>\n",
       "      <td>0.0</td>\n",
       "      <td>0.0</td>\n",
       "      <td>...</td>\n",
       "      <td>0.0</td>\n",
       "      <td>0.0</td>\n",
       "      <td>0.0</td>\n",
       "      <td>0.0</td>\n",
       "      <td>0.0</td>\n",
       "      <td>0.0</td>\n",
       "      <td>0.0</td>\n",
       "      <td>0.0</td>\n",
       "      <td>0.0</td>\n",
       "      <td>0.0</td>\n",
       "    </tr>\n",
       "  </tbody>\n",
       "</table>\n",
       "<p>10 rows × 623 columns</p>\n",
       "</div>"
      ],
      "text/plain": [
       "parent_asin                   B009R09Z8W  B00C6GC9VO  B00CE4B8LU  B00CLKYSIC  \\\n",
       "user_id                                                                        \n",
       "AE2VIMKO7UFYDUU4LH46JLON3DMQ         0.0         0.0         0.0         0.0   \n",
       "AE3RXOZQ6OBTBWRG6C3N5ZYC4NWQ         0.0         0.0         0.0         0.0   \n",
       "AE5IQA2MU4A55EYTPK4MY5R62R2A         0.0         0.0         0.0         0.0   \n",
       "AE6BOFNBB4PIQIPQFVZPVYR2ZQHA         0.0         0.0         0.0         0.0   \n",
       "AE6BPIGX3OPIREID6EN6XMZUA5PQ         0.0         0.0         0.0         0.0   \n",
       "AE6LT7RKZ2T4NJ7NJAHLMHSKVXHA         0.0         0.0         0.0         0.0   \n",
       "AE73ZWLPQHFFF6NQQAJXSZBRYVKA         0.0         0.0         0.0         0.0   \n",
       "AE7KIPZOIJBM34G7XULNLK675JXA         0.0         0.0         0.0         0.0   \n",
       "AE7Q25GSRLHTETTDP46MZ5N2S3LA         0.0         0.0         0.0         0.0   \n",
       "AEAJ4VVMLVSZ26FS4TOEJVJDHVHA         0.0         0.0         0.0         0.0   \n",
       "\n",
       "parent_asin                   B00DEZ4O9Q  B00H4DL9II  B00HR53DUK  B00HXD0R2S  \\\n",
       "user_id                                                                        \n",
       "AE2VIMKO7UFYDUU4LH46JLON3DMQ         0.0         0.0         0.0         0.0   \n",
       "AE3RXOZQ6OBTBWRG6C3N5ZYC4NWQ         0.0         0.0         0.0         0.0   \n",
       "AE5IQA2MU4A55EYTPK4MY5R62R2A         0.0         0.0         0.0         0.0   \n",
       "AE6BOFNBB4PIQIPQFVZPVYR2ZQHA         0.0         0.0         0.0         0.0   \n",
       "AE6BPIGX3OPIREID6EN6XMZUA5PQ         0.0         0.0         5.0         0.0   \n",
       "AE6LT7RKZ2T4NJ7NJAHLMHSKVXHA         0.0         0.0         0.0         0.0   \n",
       "AE73ZWLPQHFFF6NQQAJXSZBRYVKA         0.0         0.0         0.0         0.0   \n",
       "AE7KIPZOIJBM34G7XULNLK675JXA         0.0         0.0         0.0         0.0   \n",
       "AE7Q25GSRLHTETTDP46MZ5N2S3LA         0.0         0.0         0.0         0.0   \n",
       "AEAJ4VVMLVSZ26FS4TOEJVJDHVHA         0.0         0.0         0.0         0.0   \n",
       "\n",
       "parent_asin                   B00LPRHHY4  B00O972MCO  ...  B0BX4BVC5J  \\\n",
       "user_id                                               ...               \n",
       "AE2VIMKO7UFYDUU4LH46JLON3DMQ         0.0         0.0  ...         0.0   \n",
       "AE3RXOZQ6OBTBWRG6C3N5ZYC4NWQ         0.0         0.0  ...         0.0   \n",
       "AE5IQA2MU4A55EYTPK4MY5R62R2A         0.0         0.0  ...         0.0   \n",
       "AE6BOFNBB4PIQIPQFVZPVYR2ZQHA         0.0         0.0  ...         0.0   \n",
       "AE6BPIGX3OPIREID6EN6XMZUA5PQ         0.0         0.0  ...         0.0   \n",
       "AE6LT7RKZ2T4NJ7NJAHLMHSKVXHA         0.0         0.0  ...         0.0   \n",
       "AE73ZWLPQHFFF6NQQAJXSZBRYVKA         0.0         0.0  ...         0.0   \n",
       "AE7KIPZOIJBM34G7XULNLK675JXA         0.0         0.0  ...         0.0   \n",
       "AE7Q25GSRLHTETTDP46MZ5N2S3LA         0.0         0.0  ...         0.0   \n",
       "AEAJ4VVMLVSZ26FS4TOEJVJDHVHA         0.0         0.0  ...         0.0   \n",
       "\n",
       "parent_asin                   B0BYCZ2W78  B0BYH37QQK  B0BZRRTDZH  B0C1H4ZJ11  \\\n",
       "user_id                                                                        \n",
       "AE2VIMKO7UFYDUU4LH46JLON3DMQ         0.0         0.0         0.0         0.0   \n",
       "AE3RXOZQ6OBTBWRG6C3N5ZYC4NWQ         0.0         0.0         0.0         0.0   \n",
       "AE5IQA2MU4A55EYTPK4MY5R62R2A         0.0         0.0         0.0         0.0   \n",
       "AE6BOFNBB4PIQIPQFVZPVYR2ZQHA         0.0         0.0         0.0         0.0   \n",
       "AE6BPIGX3OPIREID6EN6XMZUA5PQ         0.0         0.0         0.0         0.0   \n",
       "AE6LT7RKZ2T4NJ7NJAHLMHSKVXHA         0.0         0.0         0.0         0.0   \n",
       "AE73ZWLPQHFFF6NQQAJXSZBRYVKA         0.0         0.0         0.0         0.0   \n",
       "AE7KIPZOIJBM34G7XULNLK675JXA         0.0         0.0         0.0         0.0   \n",
       "AE7Q25GSRLHTETTDP46MZ5N2S3LA         0.0         0.0         0.0         0.0   \n",
       "AEAJ4VVMLVSZ26FS4TOEJVJDHVHA         0.0         0.0         0.0         0.0   \n",
       "\n",
       "parent_asin                   B0C1NKM232  B0C3R8G4N8  B0C5D72QHD  B0C7CGGN6L  \\\n",
       "user_id                                                                        \n",
       "AE2VIMKO7UFYDUU4LH46JLON3DMQ         0.0         0.0         0.0         0.0   \n",
       "AE3RXOZQ6OBTBWRG6C3N5ZYC4NWQ         0.0         0.0         0.0         0.0   \n",
       "AE5IQA2MU4A55EYTPK4MY5R62R2A         0.0         0.0         0.0         0.0   \n",
       "AE6BOFNBB4PIQIPQFVZPVYR2ZQHA         0.0         0.0         0.0         0.0   \n",
       "AE6BPIGX3OPIREID6EN6XMZUA5PQ         0.0         0.0         0.0         0.0   \n",
       "AE6LT7RKZ2T4NJ7NJAHLMHSKVXHA         0.0         0.0         0.0         0.0   \n",
       "AE73ZWLPQHFFF6NQQAJXSZBRYVKA         0.0         0.0         0.0         0.0   \n",
       "AE7KIPZOIJBM34G7XULNLK675JXA         0.0         0.0         0.0         0.0   \n",
       "AE7Q25GSRLHTETTDP46MZ5N2S3LA         0.0         0.0         0.0         0.0   \n",
       "AEAJ4VVMLVSZ26FS4TOEJVJDHVHA         0.0         0.0         0.0         0.0   \n",
       "\n",
       "parent_asin                   B0CBMHPJRQ  \n",
       "user_id                                   \n",
       "AE2VIMKO7UFYDUU4LH46JLON3DMQ         0.0  \n",
       "AE3RXOZQ6OBTBWRG6C3N5ZYC4NWQ         0.0  \n",
       "AE5IQA2MU4A55EYTPK4MY5R62R2A         0.0  \n",
       "AE6BOFNBB4PIQIPQFVZPVYR2ZQHA         0.0  \n",
       "AE6BPIGX3OPIREID6EN6XMZUA5PQ         0.0  \n",
       "AE6LT7RKZ2T4NJ7NJAHLMHSKVXHA         0.0  \n",
       "AE73ZWLPQHFFF6NQQAJXSZBRYVKA         0.0  \n",
       "AE7KIPZOIJBM34G7XULNLK675JXA         0.0  \n",
       "AE7Q25GSRLHTETTDP46MZ5N2S3LA         0.0  \n",
       "AEAJ4VVMLVSZ26FS4TOEJVJDHVHA         0.0  \n",
       "\n",
       "[10 rows x 623 columns]"
      ]
     },
     "execution_count": 147,
     "metadata": {},
     "output_type": "execute_result"
    }
   ],
   "source": [
    "df_user_recommendation_pivot = pd.pivot_table(\n",
    "    train, index=user_column, columns=product_column, values=value_column\n",
    ").fillna(0)\n",
    "df_user_recommendation_pivot.head(10)"
   ]
  },
  {
   "cell_type": "code",
   "execution_count": 148,
   "metadata": {
    "id": "Z3upGcC58UVt"
   },
   "outputs": [
    {
     "data": {
      "text/plain": [
       "(222, 623)"
      ]
     },
     "execution_count": 148,
     "metadata": {},
     "output_type": "execute_result"
    }
   ],
   "source": [
    "df_user_recommendation_pivot.shape"
   ]
  },
  {
   "cell_type": "markdown",
   "metadata": {
    "id": "b_1ZINGw0OOp"
   },
   "source": [
    "##### Dummy train dataset"
   ]
  },
  {
   "cell_type": "markdown",
   "metadata": {
    "id": "hEfveCz_0OOp"
   },
   "source": [
    "We will create dummy train and dummy test dataset to mark the products already rated by the user so that they dont come up during prediction or evaluation\n"
   ]
  },
  {
   "cell_type": "code",
   "execution_count": 149,
   "metadata": {
    "id": "izIc37Io0OOq"
   },
   "outputs": [
    {
     "data": {
      "text/html": [
       "<div>\n",
       "<style scoped>\n",
       "    .dataframe tbody tr th:only-of-type {\n",
       "        vertical-align: middle;\n",
       "    }\n",
       "\n",
       "    .dataframe tbody tr th {\n",
       "        vertical-align: top;\n",
       "    }\n",
       "\n",
       "    .dataframe thead th {\n",
       "        text-align: right;\n",
       "    }\n",
       "</style>\n",
       "<table border=\"1\" class=\"dataframe\">\n",
       "  <thead>\n",
       "    <tr style=\"text-align: right;\">\n",
       "      <th>parent_asin</th>\n",
       "      <th>B009R09Z8W</th>\n",
       "      <th>B00C6GC9VO</th>\n",
       "      <th>B00CE4B8LU</th>\n",
       "      <th>B00CLKYSIC</th>\n",
       "      <th>B00DEZ4O9Q</th>\n",
       "      <th>B00H4DL9II</th>\n",
       "      <th>B00HR53DUK</th>\n",
       "      <th>B00HXD0R2S</th>\n",
       "      <th>B00LPRHHY4</th>\n",
       "      <th>B00O972MCO</th>\n",
       "      <th>...</th>\n",
       "      <th>B0BX4BVC5J</th>\n",
       "      <th>B0BYCZ2W78</th>\n",
       "      <th>B0BYH37QQK</th>\n",
       "      <th>B0BZRRTDZH</th>\n",
       "      <th>B0C1H4ZJ11</th>\n",
       "      <th>B0C1NKM232</th>\n",
       "      <th>B0C3R8G4N8</th>\n",
       "      <th>B0C5D72QHD</th>\n",
       "      <th>B0C7CGGN6L</th>\n",
       "      <th>B0CBMHPJRQ</th>\n",
       "    </tr>\n",
       "    <tr>\n",
       "      <th>user_id</th>\n",
       "      <th></th>\n",
       "      <th></th>\n",
       "      <th></th>\n",
       "      <th></th>\n",
       "      <th></th>\n",
       "      <th></th>\n",
       "      <th></th>\n",
       "      <th></th>\n",
       "      <th></th>\n",
       "      <th></th>\n",
       "      <th></th>\n",
       "      <th></th>\n",
       "      <th></th>\n",
       "      <th></th>\n",
       "      <th></th>\n",
       "      <th></th>\n",
       "      <th></th>\n",
       "      <th></th>\n",
       "      <th></th>\n",
       "      <th></th>\n",
       "      <th></th>\n",
       "    </tr>\n",
       "  </thead>\n",
       "  <tbody>\n",
       "    <tr>\n",
       "      <th>AE2VIMKO7UFYDUU4LH46JLON3DMQ</th>\n",
       "      <td>1.0</td>\n",
       "      <td>1.0</td>\n",
       "      <td>1.0</td>\n",
       "      <td>1.0</td>\n",
       "      <td>1.0</td>\n",
       "      <td>1.0</td>\n",
       "      <td>1.0</td>\n",
       "      <td>1.0</td>\n",
       "      <td>1.0</td>\n",
       "      <td>1.0</td>\n",
       "      <td>...</td>\n",
       "      <td>1.0</td>\n",
       "      <td>1.0</td>\n",
       "      <td>1.0</td>\n",
       "      <td>1.0</td>\n",
       "      <td>1.0</td>\n",
       "      <td>1.0</td>\n",
       "      <td>1.0</td>\n",
       "      <td>1.0</td>\n",
       "      <td>1.0</td>\n",
       "      <td>1.0</td>\n",
       "    </tr>\n",
       "    <tr>\n",
       "      <th>AE3RXOZQ6OBTBWRG6C3N5ZYC4NWQ</th>\n",
       "      <td>1.0</td>\n",
       "      <td>1.0</td>\n",
       "      <td>1.0</td>\n",
       "      <td>1.0</td>\n",
       "      <td>1.0</td>\n",
       "      <td>1.0</td>\n",
       "      <td>1.0</td>\n",
       "      <td>1.0</td>\n",
       "      <td>1.0</td>\n",
       "      <td>1.0</td>\n",
       "      <td>...</td>\n",
       "      <td>1.0</td>\n",
       "      <td>1.0</td>\n",
       "      <td>1.0</td>\n",
       "      <td>1.0</td>\n",
       "      <td>1.0</td>\n",
       "      <td>1.0</td>\n",
       "      <td>1.0</td>\n",
       "      <td>1.0</td>\n",
       "      <td>1.0</td>\n",
       "      <td>1.0</td>\n",
       "    </tr>\n",
       "    <tr>\n",
       "      <th>AE5IQA2MU4A55EYTPK4MY5R62R2A</th>\n",
       "      <td>1.0</td>\n",
       "      <td>1.0</td>\n",
       "      <td>1.0</td>\n",
       "      <td>1.0</td>\n",
       "      <td>1.0</td>\n",
       "      <td>1.0</td>\n",
       "      <td>1.0</td>\n",
       "      <td>1.0</td>\n",
       "      <td>1.0</td>\n",
       "      <td>1.0</td>\n",
       "      <td>...</td>\n",
       "      <td>1.0</td>\n",
       "      <td>1.0</td>\n",
       "      <td>1.0</td>\n",
       "      <td>1.0</td>\n",
       "      <td>1.0</td>\n",
       "      <td>1.0</td>\n",
       "      <td>1.0</td>\n",
       "      <td>1.0</td>\n",
       "      <td>1.0</td>\n",
       "      <td>1.0</td>\n",
       "    </tr>\n",
       "    <tr>\n",
       "      <th>AE6BOFNBB4PIQIPQFVZPVYR2ZQHA</th>\n",
       "      <td>1.0</td>\n",
       "      <td>1.0</td>\n",
       "      <td>1.0</td>\n",
       "      <td>1.0</td>\n",
       "      <td>1.0</td>\n",
       "      <td>1.0</td>\n",
       "      <td>1.0</td>\n",
       "      <td>1.0</td>\n",
       "      <td>1.0</td>\n",
       "      <td>1.0</td>\n",
       "      <td>...</td>\n",
       "      <td>1.0</td>\n",
       "      <td>1.0</td>\n",
       "      <td>1.0</td>\n",
       "      <td>1.0</td>\n",
       "      <td>1.0</td>\n",
       "      <td>1.0</td>\n",
       "      <td>1.0</td>\n",
       "      <td>1.0</td>\n",
       "      <td>1.0</td>\n",
       "      <td>1.0</td>\n",
       "    </tr>\n",
       "    <tr>\n",
       "      <th>AE6BPIGX3OPIREID6EN6XMZUA5PQ</th>\n",
       "      <td>1.0</td>\n",
       "      <td>1.0</td>\n",
       "      <td>1.0</td>\n",
       "      <td>1.0</td>\n",
       "      <td>1.0</td>\n",
       "      <td>1.0</td>\n",
       "      <td>0.0</td>\n",
       "      <td>1.0</td>\n",
       "      <td>1.0</td>\n",
       "      <td>1.0</td>\n",
       "      <td>...</td>\n",
       "      <td>1.0</td>\n",
       "      <td>1.0</td>\n",
       "      <td>1.0</td>\n",
       "      <td>1.0</td>\n",
       "      <td>1.0</td>\n",
       "      <td>1.0</td>\n",
       "      <td>1.0</td>\n",
       "      <td>1.0</td>\n",
       "      <td>1.0</td>\n",
       "      <td>1.0</td>\n",
       "    </tr>\n",
       "    <tr>\n",
       "      <th>AE6LT7RKZ2T4NJ7NJAHLMHSKVXHA</th>\n",
       "      <td>1.0</td>\n",
       "      <td>1.0</td>\n",
       "      <td>1.0</td>\n",
       "      <td>1.0</td>\n",
       "      <td>1.0</td>\n",
       "      <td>1.0</td>\n",
       "      <td>1.0</td>\n",
       "      <td>1.0</td>\n",
       "      <td>1.0</td>\n",
       "      <td>1.0</td>\n",
       "      <td>...</td>\n",
       "      <td>1.0</td>\n",
       "      <td>1.0</td>\n",
       "      <td>1.0</td>\n",
       "      <td>1.0</td>\n",
       "      <td>1.0</td>\n",
       "      <td>1.0</td>\n",
       "      <td>1.0</td>\n",
       "      <td>1.0</td>\n",
       "      <td>1.0</td>\n",
       "      <td>1.0</td>\n",
       "    </tr>\n",
       "    <tr>\n",
       "      <th>AE73ZWLPQHFFF6NQQAJXSZBRYVKA</th>\n",
       "      <td>1.0</td>\n",
       "      <td>1.0</td>\n",
       "      <td>1.0</td>\n",
       "      <td>1.0</td>\n",
       "      <td>1.0</td>\n",
       "      <td>1.0</td>\n",
       "      <td>1.0</td>\n",
       "      <td>1.0</td>\n",
       "      <td>1.0</td>\n",
       "      <td>1.0</td>\n",
       "      <td>...</td>\n",
       "      <td>1.0</td>\n",
       "      <td>1.0</td>\n",
       "      <td>1.0</td>\n",
       "      <td>1.0</td>\n",
       "      <td>1.0</td>\n",
       "      <td>1.0</td>\n",
       "      <td>1.0</td>\n",
       "      <td>1.0</td>\n",
       "      <td>1.0</td>\n",
       "      <td>1.0</td>\n",
       "    </tr>\n",
       "    <tr>\n",
       "      <th>AE7KIPZOIJBM34G7XULNLK675JXA</th>\n",
       "      <td>1.0</td>\n",
       "      <td>1.0</td>\n",
       "      <td>1.0</td>\n",
       "      <td>1.0</td>\n",
       "      <td>1.0</td>\n",
       "      <td>1.0</td>\n",
       "      <td>1.0</td>\n",
       "      <td>1.0</td>\n",
       "      <td>1.0</td>\n",
       "      <td>1.0</td>\n",
       "      <td>...</td>\n",
       "      <td>1.0</td>\n",
       "      <td>1.0</td>\n",
       "      <td>1.0</td>\n",
       "      <td>1.0</td>\n",
       "      <td>1.0</td>\n",
       "      <td>1.0</td>\n",
       "      <td>1.0</td>\n",
       "      <td>1.0</td>\n",
       "      <td>1.0</td>\n",
       "      <td>1.0</td>\n",
       "    </tr>\n",
       "    <tr>\n",
       "      <th>AE7Q25GSRLHTETTDP46MZ5N2S3LA</th>\n",
       "      <td>1.0</td>\n",
       "      <td>1.0</td>\n",
       "      <td>1.0</td>\n",
       "      <td>1.0</td>\n",
       "      <td>1.0</td>\n",
       "      <td>1.0</td>\n",
       "      <td>1.0</td>\n",
       "      <td>1.0</td>\n",
       "      <td>1.0</td>\n",
       "      <td>1.0</td>\n",
       "      <td>...</td>\n",
       "      <td>1.0</td>\n",
       "      <td>1.0</td>\n",
       "      <td>1.0</td>\n",
       "      <td>1.0</td>\n",
       "      <td>1.0</td>\n",
       "      <td>1.0</td>\n",
       "      <td>1.0</td>\n",
       "      <td>1.0</td>\n",
       "      <td>1.0</td>\n",
       "      <td>1.0</td>\n",
       "    </tr>\n",
       "    <tr>\n",
       "      <th>AEAJ4VVMLVSZ26FS4TOEJVJDHVHA</th>\n",
       "      <td>1.0</td>\n",
       "      <td>1.0</td>\n",
       "      <td>1.0</td>\n",
       "      <td>1.0</td>\n",
       "      <td>1.0</td>\n",
       "      <td>1.0</td>\n",
       "      <td>1.0</td>\n",
       "      <td>1.0</td>\n",
       "      <td>1.0</td>\n",
       "      <td>1.0</td>\n",
       "      <td>...</td>\n",
       "      <td>1.0</td>\n",
       "      <td>1.0</td>\n",
       "      <td>1.0</td>\n",
       "      <td>1.0</td>\n",
       "      <td>1.0</td>\n",
       "      <td>1.0</td>\n",
       "      <td>1.0</td>\n",
       "      <td>1.0</td>\n",
       "      <td>1.0</td>\n",
       "      <td>1.0</td>\n",
       "    </tr>\n",
       "  </tbody>\n",
       "</table>\n",
       "<p>10 rows × 623 columns</p>\n",
       "</div>"
      ],
      "text/plain": [
       "parent_asin                   B009R09Z8W  B00C6GC9VO  B00CE4B8LU  B00CLKYSIC  \\\n",
       "user_id                                                                        \n",
       "AE2VIMKO7UFYDUU4LH46JLON3DMQ         1.0         1.0         1.0         1.0   \n",
       "AE3RXOZQ6OBTBWRG6C3N5ZYC4NWQ         1.0         1.0         1.0         1.0   \n",
       "AE5IQA2MU4A55EYTPK4MY5R62R2A         1.0         1.0         1.0         1.0   \n",
       "AE6BOFNBB4PIQIPQFVZPVYR2ZQHA         1.0         1.0         1.0         1.0   \n",
       "AE6BPIGX3OPIREID6EN6XMZUA5PQ         1.0         1.0         1.0         1.0   \n",
       "AE6LT7RKZ2T4NJ7NJAHLMHSKVXHA         1.0         1.0         1.0         1.0   \n",
       "AE73ZWLPQHFFF6NQQAJXSZBRYVKA         1.0         1.0         1.0         1.0   \n",
       "AE7KIPZOIJBM34G7XULNLK675JXA         1.0         1.0         1.0         1.0   \n",
       "AE7Q25GSRLHTETTDP46MZ5N2S3LA         1.0         1.0         1.0         1.0   \n",
       "AEAJ4VVMLVSZ26FS4TOEJVJDHVHA         1.0         1.0         1.0         1.0   \n",
       "\n",
       "parent_asin                   B00DEZ4O9Q  B00H4DL9II  B00HR53DUK  B00HXD0R2S  \\\n",
       "user_id                                                                        \n",
       "AE2VIMKO7UFYDUU4LH46JLON3DMQ         1.0         1.0         1.0         1.0   \n",
       "AE3RXOZQ6OBTBWRG6C3N5ZYC4NWQ         1.0         1.0         1.0         1.0   \n",
       "AE5IQA2MU4A55EYTPK4MY5R62R2A         1.0         1.0         1.0         1.0   \n",
       "AE6BOFNBB4PIQIPQFVZPVYR2ZQHA         1.0         1.0         1.0         1.0   \n",
       "AE6BPIGX3OPIREID6EN6XMZUA5PQ         1.0         1.0         0.0         1.0   \n",
       "AE6LT7RKZ2T4NJ7NJAHLMHSKVXHA         1.0         1.0         1.0         1.0   \n",
       "AE73ZWLPQHFFF6NQQAJXSZBRYVKA         1.0         1.0         1.0         1.0   \n",
       "AE7KIPZOIJBM34G7XULNLK675JXA         1.0         1.0         1.0         1.0   \n",
       "AE7Q25GSRLHTETTDP46MZ5N2S3LA         1.0         1.0         1.0         1.0   \n",
       "AEAJ4VVMLVSZ26FS4TOEJVJDHVHA         1.0         1.0         1.0         1.0   \n",
       "\n",
       "parent_asin                   B00LPRHHY4  B00O972MCO  ...  B0BX4BVC5J  \\\n",
       "user_id                                               ...               \n",
       "AE2VIMKO7UFYDUU4LH46JLON3DMQ         1.0         1.0  ...         1.0   \n",
       "AE3RXOZQ6OBTBWRG6C3N5ZYC4NWQ         1.0         1.0  ...         1.0   \n",
       "AE5IQA2MU4A55EYTPK4MY5R62R2A         1.0         1.0  ...         1.0   \n",
       "AE6BOFNBB4PIQIPQFVZPVYR2ZQHA         1.0         1.0  ...         1.0   \n",
       "AE6BPIGX3OPIREID6EN6XMZUA5PQ         1.0         1.0  ...         1.0   \n",
       "AE6LT7RKZ2T4NJ7NJAHLMHSKVXHA         1.0         1.0  ...         1.0   \n",
       "AE73ZWLPQHFFF6NQQAJXSZBRYVKA         1.0         1.0  ...         1.0   \n",
       "AE7KIPZOIJBM34G7XULNLK675JXA         1.0         1.0  ...         1.0   \n",
       "AE7Q25GSRLHTETTDP46MZ5N2S3LA         1.0         1.0  ...         1.0   \n",
       "AEAJ4VVMLVSZ26FS4TOEJVJDHVHA         1.0         1.0  ...         1.0   \n",
       "\n",
       "parent_asin                   B0BYCZ2W78  B0BYH37QQK  B0BZRRTDZH  B0C1H4ZJ11  \\\n",
       "user_id                                                                        \n",
       "AE2VIMKO7UFYDUU4LH46JLON3DMQ         1.0         1.0         1.0         1.0   \n",
       "AE3RXOZQ6OBTBWRG6C3N5ZYC4NWQ         1.0         1.0         1.0         1.0   \n",
       "AE5IQA2MU4A55EYTPK4MY5R62R2A         1.0         1.0         1.0         1.0   \n",
       "AE6BOFNBB4PIQIPQFVZPVYR2ZQHA         1.0         1.0         1.0         1.0   \n",
       "AE6BPIGX3OPIREID6EN6XMZUA5PQ         1.0         1.0         1.0         1.0   \n",
       "AE6LT7RKZ2T4NJ7NJAHLMHSKVXHA         1.0         1.0         1.0         1.0   \n",
       "AE73ZWLPQHFFF6NQQAJXSZBRYVKA         1.0         1.0         1.0         1.0   \n",
       "AE7KIPZOIJBM34G7XULNLK675JXA         1.0         1.0         1.0         1.0   \n",
       "AE7Q25GSRLHTETTDP46MZ5N2S3LA         1.0         1.0         1.0         1.0   \n",
       "AEAJ4VVMLVSZ26FS4TOEJVJDHVHA         1.0         1.0         1.0         1.0   \n",
       "\n",
       "parent_asin                   B0C1NKM232  B0C3R8G4N8  B0C5D72QHD  B0C7CGGN6L  \\\n",
       "user_id                                                                        \n",
       "AE2VIMKO7UFYDUU4LH46JLON3DMQ         1.0         1.0         1.0         1.0   \n",
       "AE3RXOZQ6OBTBWRG6C3N5ZYC4NWQ         1.0         1.0         1.0         1.0   \n",
       "AE5IQA2MU4A55EYTPK4MY5R62R2A         1.0         1.0         1.0         1.0   \n",
       "AE6BOFNBB4PIQIPQFVZPVYR2ZQHA         1.0         1.0         1.0         1.0   \n",
       "AE6BPIGX3OPIREID6EN6XMZUA5PQ         1.0         1.0         1.0         1.0   \n",
       "AE6LT7RKZ2T4NJ7NJAHLMHSKVXHA         1.0         1.0         1.0         1.0   \n",
       "AE73ZWLPQHFFF6NQQAJXSZBRYVKA         1.0         1.0         1.0         1.0   \n",
       "AE7KIPZOIJBM34G7XULNLK675JXA         1.0         1.0         1.0         1.0   \n",
       "AE7Q25GSRLHTETTDP46MZ5N2S3LA         1.0         1.0         1.0         1.0   \n",
       "AEAJ4VVMLVSZ26FS4TOEJVJDHVHA         1.0         1.0         1.0         1.0   \n",
       "\n",
       "parent_asin                   B0CBMHPJRQ  \n",
       "user_id                                   \n",
       "AE2VIMKO7UFYDUU4LH46JLON3DMQ         1.0  \n",
       "AE3RXOZQ6OBTBWRG6C3N5ZYC4NWQ         1.0  \n",
       "AE5IQA2MU4A55EYTPK4MY5R62R2A         1.0  \n",
       "AE6BOFNBB4PIQIPQFVZPVYR2ZQHA         1.0  \n",
       "AE6BPIGX3OPIREID6EN6XMZUA5PQ         1.0  \n",
       "AE6LT7RKZ2T4NJ7NJAHLMHSKVXHA         1.0  \n",
       "AE73ZWLPQHFFF6NQQAJXSZBRYVKA         1.0  \n",
       "AE7KIPZOIJBM34G7XULNLK675JXA         1.0  \n",
       "AE7Q25GSRLHTETTDP46MZ5N2S3LA         1.0  \n",
       "AEAJ4VVMLVSZ26FS4TOEJVJDHVHA         1.0  \n",
       "\n",
       "[10 rows x 623 columns]"
      ]
     },
     "execution_count": 149,
     "metadata": {},
     "output_type": "execute_result"
    }
   ],
   "source": [
    "# Copy the train dataset into dummy_train\n",
    "dummy_train = train.copy()\n",
    "# The products not rated by a user is marked as 1 for prediction. this matrix form now has 1 and 0 with 1 as products not rated by the user\n",
    "dummy_train[value_column] = dummy_train[value_column].apply(lambda x: 0 if x >= 1 else 1)\n",
    "# Pivot the train ratings' dataset into matrix format in which columns are product names and the rows are user names.\n",
    "dummy_train = pd.pivot_table(\n",
    "    dummy_train, index=user_column, columns=product_column, values=value_column\n",
    ").fillna(1)\n",
    "dummy_train.head(10)"
   ]
  },
  {
   "cell_type": "markdown",
   "metadata": {
    "id": "oCHVLHN10OOr"
   },
   "source": [
    "Adjusted cosine similarity measure will be used now to capture similarities between different users.\n",
    "\n",
    "Adjusted cosine similarity is a modified version of vector-based similarity where we incorporate the fact that different users have different ratings schemes. In other words, some users might rate items highly in general, and others might give items lower ratings as a preference. To handle this nature from rating given by user, we subtract average ratings for each user from each user's rating for different products."
   ]
  },
  {
   "cell_type": "code",
   "execution_count": 150,
   "metadata": {
    "id": "tV1vJvJG0OOr"
   },
   "outputs": [
    {
     "name": "stdout",
     "output_type": "stream",
     "text": [
      "[[1. 0. 0. ... 0. 0. 0.]\n",
      " [0. 1. 0. ... 0. 0. 0.]\n",
      " [0. 0. 1. ... 0. 0. 0.]\n",
      " ...\n",
      " [0. 0. 0. ... 1. 0. 0.]\n",
      " [0. 0. 0. ... 0. 1. 0.]\n",
      " [0. 0. 0. ... 0. 0. 1.]]\n",
      "(222, 222)\n"
     ]
    }
   ],
   "source": [
    "df_user_recommendation_pivot.index.nunique()\n",
    "# using cosine_similarity function to compute the distance.\n",
    "user_correlation = cosine_similarity(df_user_recommendation_pivot)\n",
    "user_correlation[np.isnan(user_correlation)] = 0\n",
    "print(user_correlation)\n",
    "print(user_correlation.shape)"
   ]
  },
  {
   "cell_type": "markdown",
   "metadata": {
    "id": "RKROSJn60OOs"
   },
   "source": [
    "##### User-Based Recommendation Model"
   ]
  },
  {
   "cell_type": "markdown",
   "metadata": {
    "id": "AxebdewI0OOs"
   },
   "source": [
    "User - User similarity predicition with the use of above correlation matrix. no correlation value of 0<br>\n",
    "Making negative correlations to 0"
   ]
  },
  {
   "cell_type": "code",
   "execution_count": 151,
   "metadata": {
    "id": "u8bz9r8K0OOs"
   },
   "outputs": [],
   "source": [
    "user_correlation[user_correlation < 0] = 0"
   ]
  },
  {
   "cell_type": "code",
   "execution_count": 152,
   "metadata": {
    "id": "xM6oVnlg0OOs"
   },
   "outputs": [
    {
     "data": {
      "text/plain": [
       "array([[0., 0., 0., ..., 0., 0., 0.],\n",
       "       [0., 0., 0., ..., 0., 0., 0.],\n",
       "       [0., 0., 0., ..., 0., 0., 0.],\n",
       "       ...,\n",
       "       [0., 0., 0., ..., 0., 0., 0.],\n",
       "       [0., 0., 0., ..., 0., 0., 0.],\n",
       "       [0., 0., 0., ..., 0., 0., 0.]])"
      ]
     },
     "execution_count": 152,
     "metadata": {},
     "output_type": "execute_result"
    }
   ],
   "source": [
    "# taking a dot product of User correlation matrix and the pivot matrix\n",
    "user_predicted_ratings = np.dot(user_correlation, df_user_recommendation_pivot.fillna(0))\n",
    "user_predicted_ratings"
   ]
  },
  {
   "cell_type": "markdown",
   "metadata": {
    "id": "7z7oO5GI0OOt"
   },
   "source": [
    "Multiply the predicted ratings with dummy matrix as we dont want the products which are already rated"
   ]
  },
  {
   "cell_type": "code",
   "execution_count": 153,
   "metadata": {
    "id": "J6xC9zZ-0OOt"
   },
   "outputs": [
    {
     "data": {
      "text/html": [
       "<div>\n",
       "<style scoped>\n",
       "    .dataframe tbody tr th:only-of-type {\n",
       "        vertical-align: middle;\n",
       "    }\n",
       "\n",
       "    .dataframe tbody tr th {\n",
       "        vertical-align: top;\n",
       "    }\n",
       "\n",
       "    .dataframe thead th {\n",
       "        text-align: right;\n",
       "    }\n",
       "</style>\n",
       "<table border=\"1\" class=\"dataframe\">\n",
       "  <thead>\n",
       "    <tr style=\"text-align: right;\">\n",
       "      <th>parent_asin</th>\n",
       "      <th>B009R09Z8W</th>\n",
       "      <th>B00C6GC9VO</th>\n",
       "      <th>B00CE4B8LU</th>\n",
       "      <th>B00CLKYSIC</th>\n",
       "      <th>B00DEZ4O9Q</th>\n",
       "      <th>B00H4DL9II</th>\n",
       "      <th>B00HR53DUK</th>\n",
       "      <th>B00HXD0R2S</th>\n",
       "      <th>B00LPRHHY4</th>\n",
       "      <th>B00O972MCO</th>\n",
       "      <th>...</th>\n",
       "      <th>B0BX4BVC5J</th>\n",
       "      <th>B0BYCZ2W78</th>\n",
       "      <th>B0BYH37QQK</th>\n",
       "      <th>B0BZRRTDZH</th>\n",
       "      <th>B0C1H4ZJ11</th>\n",
       "      <th>B0C1NKM232</th>\n",
       "      <th>B0C3R8G4N8</th>\n",
       "      <th>B0C5D72QHD</th>\n",
       "      <th>B0C7CGGN6L</th>\n",
       "      <th>B0CBMHPJRQ</th>\n",
       "    </tr>\n",
       "    <tr>\n",
       "      <th>user_id</th>\n",
       "      <th></th>\n",
       "      <th></th>\n",
       "      <th></th>\n",
       "      <th></th>\n",
       "      <th></th>\n",
       "      <th></th>\n",
       "      <th></th>\n",
       "      <th></th>\n",
       "      <th></th>\n",
       "      <th></th>\n",
       "      <th></th>\n",
       "      <th></th>\n",
       "      <th></th>\n",
       "      <th></th>\n",
       "      <th></th>\n",
       "      <th></th>\n",
       "      <th></th>\n",
       "      <th></th>\n",
       "      <th></th>\n",
       "      <th></th>\n",
       "      <th></th>\n",
       "    </tr>\n",
       "  </thead>\n",
       "  <tbody>\n",
       "    <tr>\n",
       "      <th>AE2VIMKO7UFYDUU4LH46JLON3DMQ</th>\n",
       "      <td>0.0</td>\n",
       "      <td>0.0</td>\n",
       "      <td>0.0</td>\n",
       "      <td>0.0</td>\n",
       "      <td>0.0</td>\n",
       "      <td>0.0</td>\n",
       "      <td>0.0</td>\n",
       "      <td>0.0</td>\n",
       "      <td>0.0</td>\n",
       "      <td>0.0</td>\n",
       "      <td>...</td>\n",
       "      <td>0.0</td>\n",
       "      <td>0.0</td>\n",
       "      <td>0.0</td>\n",
       "      <td>0.0</td>\n",
       "      <td>0.0</td>\n",
       "      <td>0.0</td>\n",
       "      <td>0.0</td>\n",
       "      <td>0.0</td>\n",
       "      <td>0.0</td>\n",
       "      <td>0.0</td>\n",
       "    </tr>\n",
       "    <tr>\n",
       "      <th>AE3RXOZQ6OBTBWRG6C3N5ZYC4NWQ</th>\n",
       "      <td>0.0</td>\n",
       "      <td>0.0</td>\n",
       "      <td>0.0</td>\n",
       "      <td>0.0</td>\n",
       "      <td>0.0</td>\n",
       "      <td>0.0</td>\n",
       "      <td>0.0</td>\n",
       "      <td>0.0</td>\n",
       "      <td>0.0</td>\n",
       "      <td>0.0</td>\n",
       "      <td>...</td>\n",
       "      <td>0.0</td>\n",
       "      <td>0.0</td>\n",
       "      <td>0.0</td>\n",
       "      <td>0.0</td>\n",
       "      <td>0.0</td>\n",
       "      <td>0.0</td>\n",
       "      <td>0.0</td>\n",
       "      <td>0.0</td>\n",
       "      <td>0.0</td>\n",
       "      <td>0.0</td>\n",
       "    </tr>\n",
       "    <tr>\n",
       "      <th>AE5IQA2MU4A55EYTPK4MY5R62R2A</th>\n",
       "      <td>0.0</td>\n",
       "      <td>0.0</td>\n",
       "      <td>0.0</td>\n",
       "      <td>0.0</td>\n",
       "      <td>0.0</td>\n",
       "      <td>0.0</td>\n",
       "      <td>0.0</td>\n",
       "      <td>0.0</td>\n",
       "      <td>0.0</td>\n",
       "      <td>0.0</td>\n",
       "      <td>...</td>\n",
       "      <td>0.0</td>\n",
       "      <td>0.0</td>\n",
       "      <td>0.0</td>\n",
       "      <td>0.0</td>\n",
       "      <td>0.0</td>\n",
       "      <td>0.0</td>\n",
       "      <td>0.0</td>\n",
       "      <td>0.0</td>\n",
       "      <td>0.0</td>\n",
       "      <td>0.0</td>\n",
       "    </tr>\n",
       "    <tr>\n",
       "      <th>AE6BOFNBB4PIQIPQFVZPVYR2ZQHA</th>\n",
       "      <td>0.0</td>\n",
       "      <td>0.0</td>\n",
       "      <td>0.0</td>\n",
       "      <td>0.0</td>\n",
       "      <td>0.0</td>\n",
       "      <td>0.0</td>\n",
       "      <td>0.0</td>\n",
       "      <td>0.0</td>\n",
       "      <td>0.0</td>\n",
       "      <td>0.0</td>\n",
       "      <td>...</td>\n",
       "      <td>0.0</td>\n",
       "      <td>0.0</td>\n",
       "      <td>0.0</td>\n",
       "      <td>0.0</td>\n",
       "      <td>0.0</td>\n",
       "      <td>0.0</td>\n",
       "      <td>0.0</td>\n",
       "      <td>0.0</td>\n",
       "      <td>0.0</td>\n",
       "      <td>0.0</td>\n",
       "    </tr>\n",
       "    <tr>\n",
       "      <th>AE6BPIGX3OPIREID6EN6XMZUA5PQ</th>\n",
       "      <td>0.0</td>\n",
       "      <td>0.0</td>\n",
       "      <td>0.0</td>\n",
       "      <td>0.0</td>\n",
       "      <td>0.0</td>\n",
       "      <td>0.0</td>\n",
       "      <td>0.0</td>\n",
       "      <td>0.0</td>\n",
       "      <td>0.0</td>\n",
       "      <td>0.0</td>\n",
       "      <td>...</td>\n",
       "      <td>0.0</td>\n",
       "      <td>0.0</td>\n",
       "      <td>0.0</td>\n",
       "      <td>0.0</td>\n",
       "      <td>0.0</td>\n",
       "      <td>0.0</td>\n",
       "      <td>0.0</td>\n",
       "      <td>0.0</td>\n",
       "      <td>0.0</td>\n",
       "      <td>0.0</td>\n",
       "    </tr>\n",
       "  </tbody>\n",
       "</table>\n",
       "<p>5 rows × 623 columns</p>\n",
       "</div>"
      ],
      "text/plain": [
       "parent_asin                   B009R09Z8W  B00C6GC9VO  B00CE4B8LU  B00CLKYSIC  \\\n",
       "user_id                                                                        \n",
       "AE2VIMKO7UFYDUU4LH46JLON3DMQ         0.0         0.0         0.0         0.0   \n",
       "AE3RXOZQ6OBTBWRG6C3N5ZYC4NWQ         0.0         0.0         0.0         0.0   \n",
       "AE5IQA2MU4A55EYTPK4MY5R62R2A         0.0         0.0         0.0         0.0   \n",
       "AE6BOFNBB4PIQIPQFVZPVYR2ZQHA         0.0         0.0         0.0         0.0   \n",
       "AE6BPIGX3OPIREID6EN6XMZUA5PQ         0.0         0.0         0.0         0.0   \n",
       "\n",
       "parent_asin                   B00DEZ4O9Q  B00H4DL9II  B00HR53DUK  B00HXD0R2S  \\\n",
       "user_id                                                                        \n",
       "AE2VIMKO7UFYDUU4LH46JLON3DMQ         0.0         0.0         0.0         0.0   \n",
       "AE3RXOZQ6OBTBWRG6C3N5ZYC4NWQ         0.0         0.0         0.0         0.0   \n",
       "AE5IQA2MU4A55EYTPK4MY5R62R2A         0.0         0.0         0.0         0.0   \n",
       "AE6BOFNBB4PIQIPQFVZPVYR2ZQHA         0.0         0.0         0.0         0.0   \n",
       "AE6BPIGX3OPIREID6EN6XMZUA5PQ         0.0         0.0         0.0         0.0   \n",
       "\n",
       "parent_asin                   B00LPRHHY4  B00O972MCO  ...  B0BX4BVC5J  \\\n",
       "user_id                                               ...               \n",
       "AE2VIMKO7UFYDUU4LH46JLON3DMQ         0.0         0.0  ...         0.0   \n",
       "AE3RXOZQ6OBTBWRG6C3N5ZYC4NWQ         0.0         0.0  ...         0.0   \n",
       "AE5IQA2MU4A55EYTPK4MY5R62R2A         0.0         0.0  ...         0.0   \n",
       "AE6BOFNBB4PIQIPQFVZPVYR2ZQHA         0.0         0.0  ...         0.0   \n",
       "AE6BPIGX3OPIREID6EN6XMZUA5PQ         0.0         0.0  ...         0.0   \n",
       "\n",
       "parent_asin                   B0BYCZ2W78  B0BYH37QQK  B0BZRRTDZH  B0C1H4ZJ11  \\\n",
       "user_id                                                                        \n",
       "AE2VIMKO7UFYDUU4LH46JLON3DMQ         0.0         0.0         0.0         0.0   \n",
       "AE3RXOZQ6OBTBWRG6C3N5ZYC4NWQ         0.0         0.0         0.0         0.0   \n",
       "AE5IQA2MU4A55EYTPK4MY5R62R2A         0.0         0.0         0.0         0.0   \n",
       "AE6BOFNBB4PIQIPQFVZPVYR2ZQHA         0.0         0.0         0.0         0.0   \n",
       "AE6BPIGX3OPIREID6EN6XMZUA5PQ         0.0         0.0         0.0         0.0   \n",
       "\n",
       "parent_asin                   B0C1NKM232  B0C3R8G4N8  B0C5D72QHD  B0C7CGGN6L  \\\n",
       "user_id                                                                        \n",
       "AE2VIMKO7UFYDUU4LH46JLON3DMQ         0.0         0.0         0.0         0.0   \n",
       "AE3RXOZQ6OBTBWRG6C3N5ZYC4NWQ         0.0         0.0         0.0         0.0   \n",
       "AE5IQA2MU4A55EYTPK4MY5R62R2A         0.0         0.0         0.0         0.0   \n",
       "AE6BOFNBB4PIQIPQFVZPVYR2ZQHA         0.0         0.0         0.0         0.0   \n",
       "AE6BPIGX3OPIREID6EN6XMZUA5PQ         0.0         0.0         0.0         0.0   \n",
       "\n",
       "parent_asin                   B0CBMHPJRQ  \n",
       "user_id                                   \n",
       "AE2VIMKO7UFYDUU4LH46JLON3DMQ         0.0  \n",
       "AE3RXOZQ6OBTBWRG6C3N5ZYC4NWQ         0.0  \n",
       "AE5IQA2MU4A55EYTPK4MY5R62R2A         0.0  \n",
       "AE6BOFNBB4PIQIPQFVZPVYR2ZQHA         0.0  \n",
       "AE6BPIGX3OPIREID6EN6XMZUA5PQ         0.0  \n",
       "\n",
       "[5 rows x 623 columns]"
      ]
     },
     "execution_count": 153,
     "metadata": {},
     "output_type": "execute_result"
    }
   ],
   "source": [
    "user_final_rating = np.multiply(user_predicted_ratings, dummy_train)\n",
    "user_final_rating.head()"
   ]
  },
  {
   "cell_type": "markdown",
   "metadata": {
    "id": "ofuwcy2V0OOt"
   },
   "source": [
    "Top 20 recommendations for a sample user"
   ]
  },
  {
   "cell_type": "code",
   "execution_count": 154,
   "metadata": {
    "id": "KnB9Kkj40OOt"
   },
   "outputs": [],
   "source": [
    "user_input = df_recommendation[\"user_id\"][5]\n",
    "recommendations = user_final_rating.loc[user_input].sort_values(ascending=False)[0:20]"
   ]
  },
  {
   "cell_type": "markdown",
   "metadata": {
    "id": "cUxXCiQn0OOu"
   },
   "source": [
    "Show the top 20 recommended products - product id, name and similarity_score"
   ]
  },
  {
   "cell_type": "code",
   "execution_count": 155,
   "metadata": {
    "id": "cYMgmNIC0OOu"
   },
   "outputs": [
    {
     "data": {
      "text/html": [
       "<div>\n",
       "<style scoped>\n",
       "    .dataframe tbody tr th:only-of-type {\n",
       "        vertical-align: middle;\n",
       "    }\n",
       "\n",
       "    .dataframe tbody tr th {\n",
       "        vertical-align: top;\n",
       "    }\n",
       "\n",
       "    .dataframe thead th {\n",
       "        text-align: right;\n",
       "    }\n",
       "</style>\n",
       "<table border=\"1\" class=\"dataframe\">\n",
       "  <thead>\n",
       "    <tr style=\"text-align: right;\">\n",
       "      <th></th>\n",
       "      <th>parent_asin</th>\n",
       "      <th>similarity_score</th>\n",
       "    </tr>\n",
       "  </thead>\n",
       "  <tbody>\n",
       "    <tr>\n",
       "      <th>0</th>\n",
       "      <td>B009R09Z8W</td>\n",
       "      <td>0.0</td>\n",
       "    </tr>\n",
       "    <tr>\n",
       "      <th>1</th>\n",
       "      <td>B093H35R4V</td>\n",
       "      <td>0.0</td>\n",
       "    </tr>\n",
       "    <tr>\n",
       "      <th>2</th>\n",
       "      <td>B092QX7S11</td>\n",
       "      <td>0.0</td>\n",
       "    </tr>\n",
       "    <tr>\n",
       "      <th>3</th>\n",
       "      <td>B092V32LST</td>\n",
       "      <td>0.0</td>\n",
       "    </tr>\n",
       "    <tr>\n",
       "      <th>4</th>\n",
       "      <td>B092V3Z4K3</td>\n",
       "      <td>0.0</td>\n",
       "    </tr>\n",
       "    <tr>\n",
       "      <th>5</th>\n",
       "      <td>B092V7YV18</td>\n",
       "      <td>0.0</td>\n",
       "    </tr>\n",
       "    <tr>\n",
       "      <th>6</th>\n",
       "      <td>B0932VX738</td>\n",
       "      <td>0.0</td>\n",
       "    </tr>\n",
       "    <tr>\n",
       "      <th>7</th>\n",
       "      <td>B0936HG79P</td>\n",
       "      <td>0.0</td>\n",
       "    </tr>\n",
       "    <tr>\n",
       "      <th>8</th>\n",
       "      <td>B093DPD63S</td>\n",
       "      <td>0.0</td>\n",
       "    </tr>\n",
       "    <tr>\n",
       "      <th>9</th>\n",
       "      <td>B093P4LY24</td>\n",
       "      <td>0.0</td>\n",
       "    </tr>\n",
       "    <tr>\n",
       "      <th>10</th>\n",
       "      <td>B094VBSGYD</td>\n",
       "      <td>0.0</td>\n",
       "    </tr>\n",
       "    <tr>\n",
       "      <th>11</th>\n",
       "      <td>B093PHQBKH</td>\n",
       "      <td>0.0</td>\n",
       "    </tr>\n",
       "    <tr>\n",
       "      <th>12</th>\n",
       "      <td>B093STKLKJ</td>\n",
       "      <td>0.0</td>\n",
       "    </tr>\n",
       "    <tr>\n",
       "      <th>13</th>\n",
       "      <td>B093WJHNSJ</td>\n",
       "      <td>0.0</td>\n",
       "    </tr>\n",
       "    <tr>\n",
       "      <th>14</th>\n",
       "      <td>B0948XN6T1</td>\n",
       "      <td>0.0</td>\n",
       "    </tr>\n",
       "    <tr>\n",
       "      <th>15</th>\n",
       "      <td>B094DGG8KB</td>\n",
       "      <td>0.0</td>\n",
       "    </tr>\n",
       "    <tr>\n",
       "      <th>16</th>\n",
       "      <td>B094JR23VJ</td>\n",
       "      <td>0.0</td>\n",
       "    </tr>\n",
       "    <tr>\n",
       "      <th>17</th>\n",
       "      <td>B094NDC3S7</td>\n",
       "      <td>0.0</td>\n",
       "    </tr>\n",
       "    <tr>\n",
       "      <th>18</th>\n",
       "      <td>B092M9MB8L</td>\n",
       "      <td>0.0</td>\n",
       "    </tr>\n",
       "    <tr>\n",
       "      <th>20</th>\n",
       "      <td>B092M437N3</td>\n",
       "      <td>0.0</td>\n",
       "    </tr>\n",
       "  </tbody>\n",
       "</table>\n",
       "</div>"
      ],
      "text/plain": [
       "   parent_asin  similarity_score\n",
       "0   B009R09Z8W               0.0\n",
       "1   B093H35R4V               0.0\n",
       "2   B092QX7S11               0.0\n",
       "3   B092V32LST               0.0\n",
       "4   B092V3Z4K3               0.0\n",
       "5   B092V7YV18               0.0\n",
       "6   B0932VX738               0.0\n",
       "7   B0936HG79P               0.0\n",
       "8   B093DPD63S               0.0\n",
       "9   B093P4LY24               0.0\n",
       "10  B094VBSGYD               0.0\n",
       "11  B093PHQBKH               0.0\n",
       "12  B093STKLKJ               0.0\n",
       "13  B093WJHNSJ               0.0\n",
       "14  B0948XN6T1               0.0\n",
       "15  B094DGG8KB               0.0\n",
       "16  B094JR23VJ               0.0\n",
       "17  B094NDC3S7               0.0\n",
       "18  B092M9MB8L               0.0\n",
       "20  B092M437N3               0.0"
      ]
     },
     "execution_count": 155,
     "metadata": {},
     "output_type": "execute_result"
    }
   ],
   "source": [
    "final_recommendations = pd.DataFrame(\n",
    "    {\"product_id\": recommendations.index, \"similarity_score\": recommendations}\n",
    ")\n",
    "final_recommendations.reset_index(drop=True)\n",
    "pd.merge(final_recommendations, train, on=\"parent_asin\")[\n",
    "    [\"parent_asin\", \"similarity_score\"]\n",
    "].drop_duplicates()"
   ]
  },
  {
   "cell_type": "markdown",
   "metadata": {
    "id": "pc4nNlSc0OOu"
   },
   "source": [
    "Since prediction is now done, we will move to evaluation for User-User Collborative<br>\n",
    "Find out the common users of test and train dataset."
   ]
  },
  {
   "cell_type": "code",
   "execution_count": 156,
   "metadata": {
    "id": "IezZP57h0OOu"
   },
   "outputs": [
    {
     "data": {
      "text/html": [
       "<div>\n",
       "<style scoped>\n",
       "    .dataframe tbody tr th:only-of-type {\n",
       "        vertical-align: middle;\n",
       "    }\n",
       "\n",
       "    .dataframe tbody tr th {\n",
       "        vertical-align: top;\n",
       "    }\n",
       "\n",
       "    .dataframe thead th {\n",
       "        text-align: right;\n",
       "    }\n",
       "</style>\n",
       "<table border=\"1\" class=\"dataframe\">\n",
       "  <thead>\n",
       "    <tr style=\"text-align: right;\">\n",
       "      <th></th>\n",
       "      <th>0</th>\n",
       "      <th>1</th>\n",
       "      <th>2</th>\n",
       "      <th>3</th>\n",
       "      <th>4</th>\n",
       "      <th>5</th>\n",
       "      <th>6</th>\n",
       "      <th>7</th>\n",
       "      <th>8</th>\n",
       "      <th>9</th>\n",
       "      <th>...</th>\n",
       "      <th>212</th>\n",
       "      <th>213</th>\n",
       "      <th>214</th>\n",
       "      <th>215</th>\n",
       "      <th>216</th>\n",
       "      <th>217</th>\n",
       "      <th>218</th>\n",
       "      <th>219</th>\n",
       "      <th>220</th>\n",
       "      <th>221</th>\n",
       "    </tr>\n",
       "    <tr>\n",
       "      <th>user_id</th>\n",
       "      <th></th>\n",
       "      <th></th>\n",
       "      <th></th>\n",
       "      <th></th>\n",
       "      <th></th>\n",
       "      <th></th>\n",
       "      <th></th>\n",
       "      <th></th>\n",
       "      <th></th>\n",
       "      <th></th>\n",
       "      <th></th>\n",
       "      <th></th>\n",
       "      <th></th>\n",
       "      <th></th>\n",
       "      <th></th>\n",
       "      <th></th>\n",
       "      <th></th>\n",
       "      <th></th>\n",
       "      <th></th>\n",
       "      <th></th>\n",
       "      <th></th>\n",
       "    </tr>\n",
       "  </thead>\n",
       "  <tbody>\n",
       "    <tr>\n",
       "      <th>AE2VIMKO7UFYDUU4LH46JLON3DMQ</th>\n",
       "      <td>1.0</td>\n",
       "      <td>0.0</td>\n",
       "      <td>0.0</td>\n",
       "      <td>0.0</td>\n",
       "      <td>0.0</td>\n",
       "      <td>0.0</td>\n",
       "      <td>0.0</td>\n",
       "      <td>0.0</td>\n",
       "      <td>0.0</td>\n",
       "      <td>0.0</td>\n",
       "      <td>...</td>\n",
       "      <td>0.0</td>\n",
       "      <td>0.0</td>\n",
       "      <td>0.0</td>\n",
       "      <td>0.0</td>\n",
       "      <td>0.0</td>\n",
       "      <td>0.0</td>\n",
       "      <td>0.000000</td>\n",
       "      <td>0.0</td>\n",
       "      <td>0.0</td>\n",
       "      <td>0.0</td>\n",
       "    </tr>\n",
       "    <tr>\n",
       "      <th>AE3RXOZQ6OBTBWRG6C3N5ZYC4NWQ</th>\n",
       "      <td>0.0</td>\n",
       "      <td>1.0</td>\n",
       "      <td>0.0</td>\n",
       "      <td>0.0</td>\n",
       "      <td>0.0</td>\n",
       "      <td>0.0</td>\n",
       "      <td>0.0</td>\n",
       "      <td>0.0</td>\n",
       "      <td>0.0</td>\n",
       "      <td>0.0</td>\n",
       "      <td>...</td>\n",
       "      <td>0.0</td>\n",
       "      <td>0.0</td>\n",
       "      <td>0.0</td>\n",
       "      <td>0.0</td>\n",
       "      <td>0.0</td>\n",
       "      <td>0.0</td>\n",
       "      <td>0.000000</td>\n",
       "      <td>0.0</td>\n",
       "      <td>0.0</td>\n",
       "      <td>0.0</td>\n",
       "    </tr>\n",
       "    <tr>\n",
       "      <th>AE5IQA2MU4A55EYTPK4MY5R62R2A</th>\n",
       "      <td>0.0</td>\n",
       "      <td>0.0</td>\n",
       "      <td>1.0</td>\n",
       "      <td>0.0</td>\n",
       "      <td>0.0</td>\n",
       "      <td>0.0</td>\n",
       "      <td>0.0</td>\n",
       "      <td>0.0</td>\n",
       "      <td>0.0</td>\n",
       "      <td>0.0</td>\n",
       "      <td>...</td>\n",
       "      <td>0.0</td>\n",
       "      <td>0.0</td>\n",
       "      <td>0.0</td>\n",
       "      <td>0.0</td>\n",
       "      <td>0.0</td>\n",
       "      <td>0.0</td>\n",
       "      <td>0.000000</td>\n",
       "      <td>0.0</td>\n",
       "      <td>0.0</td>\n",
       "      <td>0.0</td>\n",
       "    </tr>\n",
       "    <tr>\n",
       "      <th>AE6BOFNBB4PIQIPQFVZPVYR2ZQHA</th>\n",
       "      <td>0.0</td>\n",
       "      <td>0.0</td>\n",
       "      <td>0.0</td>\n",
       "      <td>1.0</td>\n",
       "      <td>0.0</td>\n",
       "      <td>0.0</td>\n",
       "      <td>0.0</td>\n",
       "      <td>0.0</td>\n",
       "      <td>0.0</td>\n",
       "      <td>0.0</td>\n",
       "      <td>...</td>\n",
       "      <td>0.0</td>\n",
       "      <td>0.0</td>\n",
       "      <td>0.0</td>\n",
       "      <td>0.0</td>\n",
       "      <td>0.0</td>\n",
       "      <td>0.0</td>\n",
       "      <td>0.000000</td>\n",
       "      <td>0.0</td>\n",
       "      <td>0.0</td>\n",
       "      <td>0.0</td>\n",
       "    </tr>\n",
       "    <tr>\n",
       "      <th>AE6BPIGX3OPIREID6EN6XMZUA5PQ</th>\n",
       "      <td>0.0</td>\n",
       "      <td>0.0</td>\n",
       "      <td>0.0</td>\n",
       "      <td>0.0</td>\n",
       "      <td>1.0</td>\n",
       "      <td>0.0</td>\n",
       "      <td>0.0</td>\n",
       "      <td>0.0</td>\n",
       "      <td>0.0</td>\n",
       "      <td>0.0</td>\n",
       "      <td>...</td>\n",
       "      <td>0.0</td>\n",
       "      <td>0.0</td>\n",
       "      <td>0.0</td>\n",
       "      <td>0.0</td>\n",
       "      <td>0.0</td>\n",
       "      <td>0.0</td>\n",
       "      <td>0.224544</td>\n",
       "      <td>0.0</td>\n",
       "      <td>0.0</td>\n",
       "      <td>0.0</td>\n",
       "    </tr>\n",
       "  </tbody>\n",
       "</table>\n",
       "<p>5 rows × 222 columns</p>\n",
       "</div>"
      ],
      "text/plain": [
       "                              0    1    2    3    4    5    6    7    8    \\\n",
       "user_id                                                                     \n",
       "AE2VIMKO7UFYDUU4LH46JLON3DMQ  1.0  0.0  0.0  0.0  0.0  0.0  0.0  0.0  0.0   \n",
       "AE3RXOZQ6OBTBWRG6C3N5ZYC4NWQ  0.0  1.0  0.0  0.0  0.0  0.0  0.0  0.0  0.0   \n",
       "AE5IQA2MU4A55EYTPK4MY5R62R2A  0.0  0.0  1.0  0.0  0.0  0.0  0.0  0.0  0.0   \n",
       "AE6BOFNBB4PIQIPQFVZPVYR2ZQHA  0.0  0.0  0.0  1.0  0.0  0.0  0.0  0.0  0.0   \n",
       "AE6BPIGX3OPIREID6EN6XMZUA5PQ  0.0  0.0  0.0  0.0  1.0  0.0  0.0  0.0  0.0   \n",
       "\n",
       "                              9    ...  212  213  214  215  216  217  \\\n",
       "user_id                            ...                                 \n",
       "AE2VIMKO7UFYDUU4LH46JLON3DMQ  0.0  ...  0.0  0.0  0.0  0.0  0.0  0.0   \n",
       "AE3RXOZQ6OBTBWRG6C3N5ZYC4NWQ  0.0  ...  0.0  0.0  0.0  0.0  0.0  0.0   \n",
       "AE5IQA2MU4A55EYTPK4MY5R62R2A  0.0  ...  0.0  0.0  0.0  0.0  0.0  0.0   \n",
       "AE6BOFNBB4PIQIPQFVZPVYR2ZQHA  0.0  ...  0.0  0.0  0.0  0.0  0.0  0.0   \n",
       "AE6BPIGX3OPIREID6EN6XMZUA5PQ  0.0  ...  0.0  0.0  0.0  0.0  0.0  0.0   \n",
       "\n",
       "                                   218  219  220  221  \n",
       "user_id                                                \n",
       "AE2VIMKO7UFYDUU4LH46JLON3DMQ  0.000000  0.0  0.0  0.0  \n",
       "AE3RXOZQ6OBTBWRG6C3N5ZYC4NWQ  0.000000  0.0  0.0  0.0  \n",
       "AE5IQA2MU4A55EYTPK4MY5R62R2A  0.000000  0.0  0.0  0.0  \n",
       "AE6BOFNBB4PIQIPQFVZPVYR2ZQHA  0.000000  0.0  0.0  0.0  \n",
       "AE6BPIGX3OPIREID6EN6XMZUA5PQ  0.224544  0.0  0.0  0.0  \n",
       "\n",
       "[5 rows x 222 columns]"
      ]
     },
     "execution_count": 156,
     "metadata": {},
     "output_type": "execute_result"
    }
   ],
   "source": [
    "common = test[test.user_id.isin(train.user_id)]\n",
    "common.shape\n",
    "# Convert into the user-product matrix.\n",
    "common_user_based_matrix = pd.pivot_table(\n",
    "    common, index=user_column, columns=product_column, values=value_column\n",
    ")\n",
    "common_user_based_matrix.head()\n",
    "# Convert the user_correlation matrix into dataframe.\n",
    "user_correlation_df = pd.DataFrame(user_correlation)\n",
    "user_correlation_df.head()\n",
    "user_correlation_df[user_column] = df_user_recommendation_pivot.index\n",
    "user_correlation_df.set_index(user_column, inplace=True)\n",
    "user_correlation_df.head()"
   ]
  },
  {
   "cell_type": "markdown",
   "metadata": {
    "id": "r0hbyaEz0OOu"
   },
   "source": [
    "Get the list of users from the common dataset from train and test"
   ]
  },
  {
   "cell_type": "code",
   "execution_count": 157,
   "metadata": {
    "id": "G_KKoaSh0OOu"
   },
   "outputs": [],
   "source": [
    "list_name = common.user_id.tolist()"
   ]
  },
  {
   "cell_type": "markdown",
   "metadata": {
    "id": "DtB78NDs0OOu"
   },
   "source": [
    "Create a user correlation matrix with the list of common users in train and test by aligning the pivot matrix index"
   ]
  },
  {
   "cell_type": "code",
   "execution_count": 158,
   "metadata": {
    "id": "1BlKMro40OOu"
   },
   "outputs": [
    {
     "data": {
      "text/plain": [
       "array([[0., 0., 0., ..., 0., 0., 0.],\n",
       "       [0., 0., 0., ..., 0., 0., 0.],\n",
       "       [0., 0., 0., ..., 0., 0., 0.],\n",
       "       ...,\n",
       "       [0., 0., 0., ..., 0., 0., 0.],\n",
       "       [0., 0., 0., ..., 0., 0., 0.],\n",
       "       [0., 0., 0., ..., 0., 0., 0.]])"
      ]
     },
     "execution_count": 158,
     "metadata": {},
     "output_type": "execute_result"
    }
   ],
   "source": [
    "user_correlation_df.columns = df_user_recommendation_pivot.index.tolist()\n",
    "user_correlation_df_1 = user_correlation_df[user_correlation_df.index.isin(list_name)]\n",
    "user_correlation_df_1.shape\n",
    "# create user correlation matrix 2 with a transpose of matrix 1 with the list of common users\n",
    "user_correlation_df_2 = user_correlation_df_1.T[user_correlation_df_1.T.index.isin(list_name)]\n",
    "# create user correlation matrix 2 with a transpose of matrix 2\n",
    "user_correlation_df_3 = user_correlation_df_2.T\n",
    "# Mark the correlattion value with 0 for the negative correlations\n",
    "user_correlation_df_3[user_correlation_df_3 < 0] = 0\n",
    "# get the recommendations by doing a dot product of correlations and ratings\n",
    "common_user_predicted_ratings = np.dot(user_correlation_df_3, common_user_based_matrix.fillna(0))\n",
    "common_user_predicted_ratings"
   ]
  },
  {
   "cell_type": "markdown",
   "metadata": {
    "id": "Ns-cSYtJ0OOv"
   },
   "source": [
    "Create a dummy test dataset with the common users and create a pivot matrix of the same"
   ]
  },
  {
   "cell_type": "code",
   "execution_count": 159,
   "metadata": {
    "id": "hRx_rQlQ0OOv"
   },
   "outputs": [
    {
     "name": "stdout",
     "output_type": "stream",
     "text": [
      "parent_asin                   B00DEZ4O9Q  B00J7S0SQW  B00O972MCO  B01DV8BVWS  \\\n",
      "user_id                                                                        \n",
      "AE3RXOZQ6OBTBWRG6C3N5ZYC4NWQ         0.0         0.0         0.0         0.0   \n",
      "AE5IQA2MU4A55EYTPK4MY5R62R2A         0.0         0.0         0.0         0.0   \n",
      "AE6BOFNBB4PIQIPQFVZPVYR2ZQHA         0.0         0.0         0.0         0.0   \n",
      "AE7KIPZOIJBM34G7XULNLK675JXA         0.0         0.0         0.0         0.0   \n",
      "AEAJ4VVMLVSZ26FS4TOEJVJDHVHA         0.0         0.0         0.0         0.0   \n",
      "\n",
      "parent_asin                   B01E58TWQA  B01M72IYBS  B01N55PHLH  B074FGK626  \\\n",
      "user_id                                                                        \n",
      "AE3RXOZQ6OBTBWRG6C3N5ZYC4NWQ         0.0         0.0         0.0         0.0   \n",
      "AE5IQA2MU4A55EYTPK4MY5R62R2A         0.0         0.0         0.0         0.0   \n",
      "AE6BOFNBB4PIQIPQFVZPVYR2ZQHA         0.0         0.0         0.0         0.0   \n",
      "AE7KIPZOIJBM34G7XULNLK675JXA         0.0         0.0         0.0         0.0   \n",
      "AEAJ4VVMLVSZ26FS4TOEJVJDHVHA         0.0         0.0         0.0         0.0   \n",
      "\n",
      "parent_asin                   B074RZ49WG  B07587VFCR  ...  B0B1CRR9Y7  \\\n",
      "user_id                                               ...               \n",
      "AE3RXOZQ6OBTBWRG6C3N5ZYC4NWQ         0.0         0.0  ...         0.0   \n",
      "AE5IQA2MU4A55EYTPK4MY5R62R2A         0.0         0.0  ...         0.0   \n",
      "AE6BOFNBB4PIQIPQFVZPVYR2ZQHA         0.0         0.0  ...         0.0   \n",
      "AE7KIPZOIJBM34G7XULNLK675JXA         0.0         0.0  ...         0.0   \n",
      "AEAJ4VVMLVSZ26FS4TOEJVJDHVHA         0.0         0.0  ...         0.0   \n",
      "\n",
      "parent_asin                   B0B2KL8C8Q  B0B2PDNK5Q  B0B3DJBN32  B0B5RFDF8W  \\\n",
      "user_id                                                                        \n",
      "AE3RXOZQ6OBTBWRG6C3N5ZYC4NWQ         0.0         0.0         0.0         0.0   \n",
      "AE5IQA2MU4A55EYTPK4MY5R62R2A         0.0         0.0         0.0         0.0   \n",
      "AE6BOFNBB4PIQIPQFVZPVYR2ZQHA         0.0         5.0         0.0         0.0   \n",
      "AE7KIPZOIJBM34G7XULNLK675JXA         0.0         0.0         0.0         0.0   \n",
      "AEAJ4VVMLVSZ26FS4TOEJVJDHVHA         0.0         0.0         0.0         0.0   \n",
      "\n",
      "parent_asin                   B0B87QVWYB  B0BBCMKGXR  B0BCG5FM9B  B0BT14XDBZ  \\\n",
      "user_id                                                                        \n",
      "AE3RXOZQ6OBTBWRG6C3N5ZYC4NWQ         0.0         0.0         0.0         0.0   \n",
      "AE5IQA2MU4A55EYTPK4MY5R62R2A         0.0         0.0         0.0         0.0   \n",
      "AE6BOFNBB4PIQIPQFVZPVYR2ZQHA         0.0         0.0         0.0         0.0   \n",
      "AE7KIPZOIJBM34G7XULNLK675JXA         0.0         0.0         0.0         0.0   \n",
      "AEAJ4VVMLVSZ26FS4TOEJVJDHVHA         0.0         0.0         0.0         0.0   \n",
      "\n",
      "parent_asin                   B0BY2Q8TN8  \n",
      "user_id                                   \n",
      "AE3RXOZQ6OBTBWRG6C3N5ZYC4NWQ         0.0  \n",
      "AE5IQA2MU4A55EYTPK4MY5R62R2A         0.0  \n",
      "AE6BOFNBB4PIQIPQFVZPVYR2ZQHA         0.0  \n",
      "AE7KIPZOIJBM34G7XULNLK675JXA         0.0  \n",
      "AEAJ4VVMLVSZ26FS4TOEJVJDHVHA         0.0  \n",
      "\n",
      "[5 rows x 154 columns]\n"
     ]
    }
   ],
   "source": [
    "dummy_recommendation_test = common.copy()\n",
    "dummy_recommendation_test[value_column] = dummy_recommendation_test[value_column].apply(\n",
    "    lambda x: 1 if x >= 1 else 0\n",
    ")\n",
    "dummy_recommendation_test = pd.pivot_table(\n",
    "    dummy_recommendation_test, index=user_column, columns=product_column, values=value_column\n",
    ").fillna(0)\n",
    "dummy_recommendation_test.shape\n",
    "# print both the matrix which has users and the evaluation test recommendations\n",
    "common_user_based_matrix.head()\n",
    "dummy_recommendation_test.head()\n",
    "# get the final evaluation for the products not rated by the users in the test set\n",
    "common_user_predicted_ratings = np.multiply(\n",
    "    common_user_predicted_ratings, dummy_recommendation_test\n",
    ")\n",
    "print(common_user_predicted_ratings.head())"
   ]
  },
  {
   "cell_type": "markdown",
   "metadata": {
    "id": "MiZPv0AI0OOv"
   },
   "source": [
    "Calculate RMSE from the user-user evaluation"
   ]
  },
  {
   "cell_type": "code",
   "execution_count": null,
   "metadata": {
    "id": "Lb7FLN7N0OOv"
   },
   "outputs": [
    {
     "name": "stdout",
     "output_type": "stream",
     "text": [
      "Common predictions parent_asin                   B00DEZ4O9Q  B00J7S0SQW  B00O972MCO  B01DV8BVWS  \\\n",
      "user_id                                                                        \n",
      "AE3RXOZQ6OBTBWRG6C3N5ZYC4NWQ         NaN         NaN         NaN         NaN   \n",
      "AE5IQA2MU4A55EYTPK4MY5R62R2A         NaN         NaN         NaN         NaN   \n",
      "AE6BOFNBB4PIQIPQFVZPVYR2ZQHA         NaN         NaN         NaN         NaN   \n",
      "AE7KIPZOIJBM34G7XULNLK675JXA         NaN         NaN         NaN         NaN   \n",
      "AEAJ4VVMLVSZ26FS4TOEJVJDHVHA         NaN         NaN         NaN         NaN   \n",
      "\n",
      "parent_asin                   B01E58TWQA  B01M72IYBS  B01N55PHLH  B074FGK626  \\\n",
      "user_id                                                                        \n",
      "AE3RXOZQ6OBTBWRG6C3N5ZYC4NWQ         NaN         NaN         NaN         NaN   \n",
      "AE5IQA2MU4A55EYTPK4MY5R62R2A         NaN         NaN         NaN         NaN   \n",
      "AE6BOFNBB4PIQIPQFVZPVYR2ZQHA         NaN         NaN         NaN         NaN   \n",
      "AE7KIPZOIJBM34G7XULNLK675JXA         NaN         NaN         NaN         NaN   \n",
      "AEAJ4VVMLVSZ26FS4TOEJVJDHVHA         NaN         NaN         NaN         NaN   \n",
      "\n",
      "parent_asin                   B074RZ49WG  B07587VFCR  ...  B0B1CRR9Y7  \\\n",
      "user_id                                               ...               \n",
      "AE3RXOZQ6OBTBWRG6C3N5ZYC4NWQ         NaN         NaN  ...         NaN   \n",
      "AE5IQA2MU4A55EYTPK4MY5R62R2A         NaN         NaN  ...         NaN   \n",
      "AE6BOFNBB4PIQIPQFVZPVYR2ZQHA         NaN         NaN  ...         NaN   \n",
      "AE7KIPZOIJBM34G7XULNLK675JXA         NaN         NaN  ...         NaN   \n",
      "AEAJ4VVMLVSZ26FS4TOEJVJDHVHA         NaN         NaN  ...         NaN   \n",
      "\n",
      "parent_asin                   B0B2KL8C8Q  B0B2PDNK5Q  B0B3DJBN32  B0B5RFDF8W  \\\n",
      "user_id                                                                        \n",
      "AE3RXOZQ6OBTBWRG6C3N5ZYC4NWQ         NaN         NaN         NaN         NaN   \n",
      "AE5IQA2MU4A55EYTPK4MY5R62R2A         NaN         NaN         NaN         NaN   \n",
      "AE6BOFNBB4PIQIPQFVZPVYR2ZQHA         NaN         5.0         NaN         NaN   \n",
      "AE7KIPZOIJBM34G7XULNLK675JXA         NaN         NaN         NaN         NaN   \n",
      "AEAJ4VVMLVSZ26FS4TOEJVJDHVHA         NaN         NaN         NaN         NaN   \n",
      "\n",
      "parent_asin                   B0B87QVWYB  B0BBCMKGXR  B0BCG5FM9B  B0BT14XDBZ  \\\n",
      "user_id                                                                        \n",
      "AE3RXOZQ6OBTBWRG6C3N5ZYC4NWQ         NaN         NaN         NaN         NaN   \n",
      "AE5IQA2MU4A55EYTPK4MY5R62R2A         NaN         NaN         NaN         NaN   \n",
      "AE6BOFNBB4PIQIPQFVZPVYR2ZQHA         NaN         NaN         NaN         NaN   \n",
      "AE7KIPZOIJBM34G7XULNLK675JXA         NaN         NaN         NaN         NaN   \n",
      "AEAJ4VVMLVSZ26FS4TOEJVJDHVHA         NaN         NaN         NaN         NaN   \n",
      "\n",
      "parent_asin                   B0BY2Q8TN8  \n",
      "user_id                                   \n",
      "AE3RXOZQ6OBTBWRG6C3N5ZYC4NWQ         NaN  \n",
      "AE5IQA2MU4A55EYTPK4MY5R62R2A         NaN  \n",
      "AE6BOFNBB4PIQIPQFVZPVYR2ZQHA         NaN  \n",
      "AE7KIPZOIJBM34G7XULNLK675JXA         NaN  \n",
      "AEAJ4VVMLVSZ26FS4TOEJVJDHVHA         NaN  \n",
      "\n",
      "[5 rows x 154 columns]\n",
      "total_non_nan 167\n",
      "y_predicted [[nan nan nan ... nan nan nan]\n",
      " [nan nan nan ... nan nan nan]\n",
      " [nan nan nan ... nan nan nan]\n",
      " ...\n",
      " [nan nan nan ... nan nan nan]\n",
      " [nan nan nan ... nan nan nan]\n",
      " [nan nan nan ... nan nan nan]]\n",
      "User-based RMSE 3.55116578648671\n"
     ]
    }
   ],
   "source": [
    "X = common_user_predicted_ratings.copy()\n",
    "X = X[X > 0]\n",
    "scaler = MinMaxScaler(feature_range=(1, 5))\n",
    "scaler.fit(X)\n",
    "y = (scaler.transform(X))\n",
    "common_ = pd.pivot_table(common, index=user_column, columns=product_column, values=value_column)\n",
    "print(\"Common predictions\", common_.head())\n",
    "#Finding total non-NaN value\n",
    "total_non_nan = np.count_nonzero(~np.isnan(y))\n",
    "print(\"total_non_nan\", total_non_nan)\n",
    "print(\"y_predicted\", y)\n",
    "user_rmse = (sum(sum((common_ - y) ** 2)) / total_non_nan) ** 0.5\n",
    "# print the final RMSE\n",
    "print(\"User-based RMSE\", user_rmse)"
   ]
  },
  {
   "cell_type": "markdown",
   "metadata": {
    "id": "kPoWgkGA0OOv"
   },
   "source": [
    "##### Item-Based Recommendation Model"
   ]
  },
  {
   "cell_type": "code",
   "execution_count": 134,
   "metadata": {
    "id": "Id43J_LP0OOv"
   },
   "outputs": [
    {
     "data": {
      "text/html": [
       "<div>\n",
       "<style scoped>\n",
       "    .dataframe tbody tr th:only-of-type {\n",
       "        vertical-align: middle;\n",
       "    }\n",
       "\n",
       "    .dataframe tbody tr th {\n",
       "        vertical-align: top;\n",
       "    }\n",
       "\n",
       "    .dataframe thead th {\n",
       "        text-align: right;\n",
       "    }\n",
       "</style>\n",
       "<table border=\"1\" class=\"dataframe\">\n",
       "  <thead>\n",
       "    <tr style=\"text-align: right;\">\n",
       "      <th>user_id</th>\n",
       "      <th>AE2VIMKO7UFYDUU4LH46JLON3DMQ</th>\n",
       "      <th>AE3RXOZQ6OBTBWRG6C3N5ZYC4NWQ</th>\n",
       "      <th>AE5IQA2MU4A55EYTPK4MY5R62R2A</th>\n",
       "      <th>AE6BOFNBB4PIQIPQFVZPVYR2ZQHA</th>\n",
       "      <th>AE6BPIGX3OPIREID6EN6XMZUA5PQ</th>\n",
       "      <th>AE6LT7RKZ2T4NJ7NJAHLMHSKVXHA</th>\n",
       "      <th>AE73ZWLPQHFFF6NQQAJXSZBRYVKA</th>\n",
       "      <th>AE7KIPZOIJBM34G7XULNLK675JXA</th>\n",
       "      <th>AE7Q25GSRLHTETTDP46MZ5N2S3LA</th>\n",
       "      <th>AEAJ4VVMLVSZ26FS4TOEJVJDHVHA</th>\n",
       "      <th>...</th>\n",
       "      <th>AHVI7N6YSQH7IMMXLMO2FCEMLMNA</th>\n",
       "      <th>AHVPCLHSCEUSA4MF2QU7JHL2NTUA</th>\n",
       "      <th>AHW5ZTDAGECVI5OQGHKRC5VAGG4A</th>\n",
       "      <th>AHWGPCCFFOHQLMGEHHFUQJPMG77A</th>\n",
       "      <th>AHX5VKX55PILNNCSUZFRHLH7FLIA</th>\n",
       "      <th>AHX7GH4OTFLIAAPK4F2CPPQJOCUQ</th>\n",
       "      <th>AHXZWTZ2JMSDZ6QNQBD35GZS4VIA</th>\n",
       "      <th>AHY75QEHC3DLIZOOYW2KNDAQ4EIQ</th>\n",
       "      <th>AHYIGWZI55BCZNQU3P5TYANO2K5Q</th>\n",
       "      <th>AHZ2B2EIN7GWE2624T46O3MYR5EA</th>\n",
       "    </tr>\n",
       "    <tr>\n",
       "      <th>parent_asin</th>\n",
       "      <th></th>\n",
       "      <th></th>\n",
       "      <th></th>\n",
       "      <th></th>\n",
       "      <th></th>\n",
       "      <th></th>\n",
       "      <th></th>\n",
       "      <th></th>\n",
       "      <th></th>\n",
       "      <th></th>\n",
       "      <th></th>\n",
       "      <th></th>\n",
       "      <th></th>\n",
       "      <th></th>\n",
       "      <th></th>\n",
       "      <th></th>\n",
       "      <th></th>\n",
       "      <th></th>\n",
       "      <th></th>\n",
       "      <th></th>\n",
       "      <th></th>\n",
       "    </tr>\n",
       "  </thead>\n",
       "  <tbody>\n",
       "    <tr>\n",
       "      <th>B009R09Z8W</th>\n",
       "      <td>NaN</td>\n",
       "      <td>NaN</td>\n",
       "      <td>NaN</td>\n",
       "      <td>NaN</td>\n",
       "      <td>NaN</td>\n",
       "      <td>NaN</td>\n",
       "      <td>NaN</td>\n",
       "      <td>NaN</td>\n",
       "      <td>NaN</td>\n",
       "      <td>NaN</td>\n",
       "      <td>...</td>\n",
       "      <td>NaN</td>\n",
       "      <td>NaN</td>\n",
       "      <td>NaN</td>\n",
       "      <td>NaN</td>\n",
       "      <td>NaN</td>\n",
       "      <td>NaN</td>\n",
       "      <td>NaN</td>\n",
       "      <td>NaN</td>\n",
       "      <td>NaN</td>\n",
       "      <td>NaN</td>\n",
       "    </tr>\n",
       "    <tr>\n",
       "      <th>B00C6GC9VO</th>\n",
       "      <td>NaN</td>\n",
       "      <td>NaN</td>\n",
       "      <td>NaN</td>\n",
       "      <td>NaN</td>\n",
       "      <td>NaN</td>\n",
       "      <td>NaN</td>\n",
       "      <td>NaN</td>\n",
       "      <td>NaN</td>\n",
       "      <td>NaN</td>\n",
       "      <td>NaN</td>\n",
       "      <td>...</td>\n",
       "      <td>NaN</td>\n",
       "      <td>NaN</td>\n",
       "      <td>NaN</td>\n",
       "      <td>NaN</td>\n",
       "      <td>NaN</td>\n",
       "      <td>NaN</td>\n",
       "      <td>NaN</td>\n",
       "      <td>NaN</td>\n",
       "      <td>NaN</td>\n",
       "      <td>NaN</td>\n",
       "    </tr>\n",
       "    <tr>\n",
       "      <th>B00CE4B8LU</th>\n",
       "      <td>NaN</td>\n",
       "      <td>NaN</td>\n",
       "      <td>NaN</td>\n",
       "      <td>NaN</td>\n",
       "      <td>NaN</td>\n",
       "      <td>NaN</td>\n",
       "      <td>NaN</td>\n",
       "      <td>NaN</td>\n",
       "      <td>NaN</td>\n",
       "      <td>NaN</td>\n",
       "      <td>...</td>\n",
       "      <td>NaN</td>\n",
       "      <td>NaN</td>\n",
       "      <td>NaN</td>\n",
       "      <td>NaN</td>\n",
       "      <td>NaN</td>\n",
       "      <td>NaN</td>\n",
       "      <td>NaN</td>\n",
       "      <td>NaN</td>\n",
       "      <td>NaN</td>\n",
       "      <td>NaN</td>\n",
       "    </tr>\n",
       "    <tr>\n",
       "      <th>B00CLKYSIC</th>\n",
       "      <td>NaN</td>\n",
       "      <td>NaN</td>\n",
       "      <td>NaN</td>\n",
       "      <td>NaN</td>\n",
       "      <td>NaN</td>\n",
       "      <td>NaN</td>\n",
       "      <td>NaN</td>\n",
       "      <td>NaN</td>\n",
       "      <td>NaN</td>\n",
       "      <td>NaN</td>\n",
       "      <td>...</td>\n",
       "      <td>NaN</td>\n",
       "      <td>NaN</td>\n",
       "      <td>NaN</td>\n",
       "      <td>NaN</td>\n",
       "      <td>NaN</td>\n",
       "      <td>NaN</td>\n",
       "      <td>NaN</td>\n",
       "      <td>NaN</td>\n",
       "      <td>NaN</td>\n",
       "      <td>NaN</td>\n",
       "    </tr>\n",
       "    <tr>\n",
       "      <th>B00DEZ4O9Q</th>\n",
       "      <td>NaN</td>\n",
       "      <td>NaN</td>\n",
       "      <td>NaN</td>\n",
       "      <td>NaN</td>\n",
       "      <td>NaN</td>\n",
       "      <td>NaN</td>\n",
       "      <td>NaN</td>\n",
       "      <td>NaN</td>\n",
       "      <td>NaN</td>\n",
       "      <td>NaN</td>\n",
       "      <td>...</td>\n",
       "      <td>NaN</td>\n",
       "      <td>NaN</td>\n",
       "      <td>NaN</td>\n",
       "      <td>NaN</td>\n",
       "      <td>NaN</td>\n",
       "      <td>NaN</td>\n",
       "      <td>NaN</td>\n",
       "      <td>NaN</td>\n",
       "      <td>NaN</td>\n",
       "      <td>NaN</td>\n",
       "    </tr>\n",
       "  </tbody>\n",
       "</table>\n",
       "<p>5 rows × 222 columns</p>\n",
       "</div>"
      ],
      "text/plain": [
       "user_id      AE2VIMKO7UFYDUU4LH46JLON3DMQ  AE3RXOZQ6OBTBWRG6C3N5ZYC4NWQ  \\\n",
       "parent_asin                                                               \n",
       "B009R09Z8W                            NaN                           NaN   \n",
       "B00C6GC9VO                            NaN                           NaN   \n",
       "B00CE4B8LU                            NaN                           NaN   \n",
       "B00CLKYSIC                            NaN                           NaN   \n",
       "B00DEZ4O9Q                            NaN                           NaN   \n",
       "\n",
       "user_id      AE5IQA2MU4A55EYTPK4MY5R62R2A  AE6BOFNBB4PIQIPQFVZPVYR2ZQHA  \\\n",
       "parent_asin                                                               \n",
       "B009R09Z8W                            NaN                           NaN   \n",
       "B00C6GC9VO                            NaN                           NaN   \n",
       "B00CE4B8LU                            NaN                           NaN   \n",
       "B00CLKYSIC                            NaN                           NaN   \n",
       "B00DEZ4O9Q                            NaN                           NaN   \n",
       "\n",
       "user_id      AE6BPIGX3OPIREID6EN6XMZUA5PQ  AE6LT7RKZ2T4NJ7NJAHLMHSKVXHA  \\\n",
       "parent_asin                                                               \n",
       "B009R09Z8W                            NaN                           NaN   \n",
       "B00C6GC9VO                            NaN                           NaN   \n",
       "B00CE4B8LU                            NaN                           NaN   \n",
       "B00CLKYSIC                            NaN                           NaN   \n",
       "B00DEZ4O9Q                            NaN                           NaN   \n",
       "\n",
       "user_id      AE73ZWLPQHFFF6NQQAJXSZBRYVKA  AE7KIPZOIJBM34G7XULNLK675JXA  \\\n",
       "parent_asin                                                               \n",
       "B009R09Z8W                            NaN                           NaN   \n",
       "B00C6GC9VO                            NaN                           NaN   \n",
       "B00CE4B8LU                            NaN                           NaN   \n",
       "B00CLKYSIC                            NaN                           NaN   \n",
       "B00DEZ4O9Q                            NaN                           NaN   \n",
       "\n",
       "user_id      AE7Q25GSRLHTETTDP46MZ5N2S3LA  AEAJ4VVMLVSZ26FS4TOEJVJDHVHA  ...  \\\n",
       "parent_asin                                                              ...   \n",
       "B009R09Z8W                            NaN                           NaN  ...   \n",
       "B00C6GC9VO                            NaN                           NaN  ...   \n",
       "B00CE4B8LU                            NaN                           NaN  ...   \n",
       "B00CLKYSIC                            NaN                           NaN  ...   \n",
       "B00DEZ4O9Q                            NaN                           NaN  ...   \n",
       "\n",
       "user_id      AHVI7N6YSQH7IMMXLMO2FCEMLMNA  AHVPCLHSCEUSA4MF2QU7JHL2NTUA  \\\n",
       "parent_asin                                                               \n",
       "B009R09Z8W                            NaN                           NaN   \n",
       "B00C6GC9VO                            NaN                           NaN   \n",
       "B00CE4B8LU                            NaN                           NaN   \n",
       "B00CLKYSIC                            NaN                           NaN   \n",
       "B00DEZ4O9Q                            NaN                           NaN   \n",
       "\n",
       "user_id      AHW5ZTDAGECVI5OQGHKRC5VAGG4A  AHWGPCCFFOHQLMGEHHFUQJPMG77A  \\\n",
       "parent_asin                                                               \n",
       "B009R09Z8W                            NaN                           NaN   \n",
       "B00C6GC9VO                            NaN                           NaN   \n",
       "B00CE4B8LU                            NaN                           NaN   \n",
       "B00CLKYSIC                            NaN                           NaN   \n",
       "B00DEZ4O9Q                            NaN                           NaN   \n",
       "\n",
       "user_id      AHX5VKX55PILNNCSUZFRHLH7FLIA  AHX7GH4OTFLIAAPK4F2CPPQJOCUQ  \\\n",
       "parent_asin                                                               \n",
       "B009R09Z8W                            NaN                           NaN   \n",
       "B00C6GC9VO                            NaN                           NaN   \n",
       "B00CE4B8LU                            NaN                           NaN   \n",
       "B00CLKYSIC                            NaN                           NaN   \n",
       "B00DEZ4O9Q                            NaN                           NaN   \n",
       "\n",
       "user_id      AHXZWTZ2JMSDZ6QNQBD35GZS4VIA  AHY75QEHC3DLIZOOYW2KNDAQ4EIQ  \\\n",
       "parent_asin                                                               \n",
       "B009R09Z8W                            NaN                           NaN   \n",
       "B00C6GC9VO                            NaN                           NaN   \n",
       "B00CE4B8LU                            NaN                           NaN   \n",
       "B00CLKYSIC                            NaN                           NaN   \n",
       "B00DEZ4O9Q                            NaN                           NaN   \n",
       "\n",
       "user_id      AHYIGWZI55BCZNQU3P5TYANO2K5Q  AHZ2B2EIN7GWE2624T46O3MYR5EA  \n",
       "parent_asin                                                              \n",
       "B009R09Z8W                            NaN                           NaN  \n",
       "B00C6GC9VO                            NaN                           NaN  \n",
       "B00CE4B8LU                            NaN                           NaN  \n",
       "B00CLKYSIC                            NaN                           NaN  \n",
       "B00DEZ4O9Q                            NaN                           NaN  \n",
       "\n",
       "[5 rows x 222 columns]"
      ]
     },
     "execution_count": 134,
     "metadata": {},
     "output_type": "execute_result"
    }
   ],
   "source": [
    "# Item-Item Based Recommendation\n",
    "df_item_recommendation_pivot = pd.pivot_table(\n",
    "    train, index=product_column, columns=user_column, values=value_column\n",
    ")\n",
    "df_item_recommendation_pivot.head()"
   ]
  },
  {
   "cell_type": "code",
   "execution_count": 135,
   "metadata": {
    "id": "bodFsP0g0OOw"
   },
   "outputs": [
    {
     "data": {
      "text/html": [
       "<div>\n",
       "<style scoped>\n",
       "    .dataframe tbody tr th:only-of-type {\n",
       "        vertical-align: middle;\n",
       "    }\n",
       "\n",
       "    .dataframe tbody tr th {\n",
       "        vertical-align: top;\n",
       "    }\n",
       "\n",
       "    .dataframe thead th {\n",
       "        text-align: right;\n",
       "    }\n",
       "</style>\n",
       "<table border=\"1\" class=\"dataframe\">\n",
       "  <thead>\n",
       "    <tr style=\"text-align: right;\">\n",
       "      <th>user_id</th>\n",
       "      <th>AE2VIMKO7UFYDUU4LH46JLON3DMQ</th>\n",
       "      <th>AE3RXOZQ6OBTBWRG6C3N5ZYC4NWQ</th>\n",
       "      <th>AE5IQA2MU4A55EYTPK4MY5R62R2A</th>\n",
       "      <th>AE6BOFNBB4PIQIPQFVZPVYR2ZQHA</th>\n",
       "      <th>AE6BPIGX3OPIREID6EN6XMZUA5PQ</th>\n",
       "      <th>AE6LT7RKZ2T4NJ7NJAHLMHSKVXHA</th>\n",
       "      <th>AE73ZWLPQHFFF6NQQAJXSZBRYVKA</th>\n",
       "      <th>AE7KIPZOIJBM34G7XULNLK675JXA</th>\n",
       "      <th>AE7Q25GSRLHTETTDP46MZ5N2S3LA</th>\n",
       "      <th>AEAJ4VVMLVSZ26FS4TOEJVJDHVHA</th>\n",
       "      <th>...</th>\n",
       "      <th>AHVI7N6YSQH7IMMXLMO2FCEMLMNA</th>\n",
       "      <th>AHVPCLHSCEUSA4MF2QU7JHL2NTUA</th>\n",
       "      <th>AHW5ZTDAGECVI5OQGHKRC5VAGG4A</th>\n",
       "      <th>AHWGPCCFFOHQLMGEHHFUQJPMG77A</th>\n",
       "      <th>AHX5VKX55PILNNCSUZFRHLH7FLIA</th>\n",
       "      <th>AHX7GH4OTFLIAAPK4F2CPPQJOCUQ</th>\n",
       "      <th>AHXZWTZ2JMSDZ6QNQBD35GZS4VIA</th>\n",
       "      <th>AHY75QEHC3DLIZOOYW2KNDAQ4EIQ</th>\n",
       "      <th>AHYIGWZI55BCZNQU3P5TYANO2K5Q</th>\n",
       "      <th>AHZ2B2EIN7GWE2624T46O3MYR5EA</th>\n",
       "    </tr>\n",
       "    <tr>\n",
       "      <th>parent_asin</th>\n",
       "      <th></th>\n",
       "      <th></th>\n",
       "      <th></th>\n",
       "      <th></th>\n",
       "      <th></th>\n",
       "      <th></th>\n",
       "      <th></th>\n",
       "      <th></th>\n",
       "      <th></th>\n",
       "      <th></th>\n",
       "      <th></th>\n",
       "      <th></th>\n",
       "      <th></th>\n",
       "      <th></th>\n",
       "      <th></th>\n",
       "      <th></th>\n",
       "      <th></th>\n",
       "      <th></th>\n",
       "      <th></th>\n",
       "      <th></th>\n",
       "      <th></th>\n",
       "    </tr>\n",
       "  </thead>\n",
       "  <tbody>\n",
       "    <tr>\n",
       "      <th>B009R09Z8W</th>\n",
       "      <td>NaN</td>\n",
       "      <td>NaN</td>\n",
       "      <td>NaN</td>\n",
       "      <td>NaN</td>\n",
       "      <td>NaN</td>\n",
       "      <td>NaN</td>\n",
       "      <td>NaN</td>\n",
       "      <td>NaN</td>\n",
       "      <td>NaN</td>\n",
       "      <td>NaN</td>\n",
       "      <td>...</td>\n",
       "      <td>NaN</td>\n",
       "      <td>NaN</td>\n",
       "      <td>NaN</td>\n",
       "      <td>NaN</td>\n",
       "      <td>NaN</td>\n",
       "      <td>NaN</td>\n",
       "      <td>NaN</td>\n",
       "      <td>NaN</td>\n",
       "      <td>NaN</td>\n",
       "      <td>NaN</td>\n",
       "    </tr>\n",
       "    <tr>\n",
       "      <th>B00C6GC9VO</th>\n",
       "      <td>NaN</td>\n",
       "      <td>NaN</td>\n",
       "      <td>NaN</td>\n",
       "      <td>NaN</td>\n",
       "      <td>NaN</td>\n",
       "      <td>NaN</td>\n",
       "      <td>NaN</td>\n",
       "      <td>NaN</td>\n",
       "      <td>NaN</td>\n",
       "      <td>NaN</td>\n",
       "      <td>...</td>\n",
       "      <td>NaN</td>\n",
       "      <td>NaN</td>\n",
       "      <td>NaN</td>\n",
       "      <td>NaN</td>\n",
       "      <td>NaN</td>\n",
       "      <td>NaN</td>\n",
       "      <td>NaN</td>\n",
       "      <td>NaN</td>\n",
       "      <td>NaN</td>\n",
       "      <td>NaN</td>\n",
       "    </tr>\n",
       "    <tr>\n",
       "      <th>B00CE4B8LU</th>\n",
       "      <td>NaN</td>\n",
       "      <td>NaN</td>\n",
       "      <td>NaN</td>\n",
       "      <td>NaN</td>\n",
       "      <td>NaN</td>\n",
       "      <td>NaN</td>\n",
       "      <td>NaN</td>\n",
       "      <td>NaN</td>\n",
       "      <td>NaN</td>\n",
       "      <td>NaN</td>\n",
       "      <td>...</td>\n",
       "      <td>NaN</td>\n",
       "      <td>NaN</td>\n",
       "      <td>NaN</td>\n",
       "      <td>NaN</td>\n",
       "      <td>NaN</td>\n",
       "      <td>NaN</td>\n",
       "      <td>NaN</td>\n",
       "      <td>NaN</td>\n",
       "      <td>NaN</td>\n",
       "      <td>NaN</td>\n",
       "    </tr>\n",
       "    <tr>\n",
       "      <th>B00CLKYSIC</th>\n",
       "      <td>NaN</td>\n",
       "      <td>NaN</td>\n",
       "      <td>NaN</td>\n",
       "      <td>NaN</td>\n",
       "      <td>NaN</td>\n",
       "      <td>NaN</td>\n",
       "      <td>NaN</td>\n",
       "      <td>NaN</td>\n",
       "      <td>NaN</td>\n",
       "      <td>NaN</td>\n",
       "      <td>...</td>\n",
       "      <td>NaN</td>\n",
       "      <td>NaN</td>\n",
       "      <td>NaN</td>\n",
       "      <td>NaN</td>\n",
       "      <td>NaN</td>\n",
       "      <td>NaN</td>\n",
       "      <td>NaN</td>\n",
       "      <td>NaN</td>\n",
       "      <td>NaN</td>\n",
       "      <td>NaN</td>\n",
       "    </tr>\n",
       "    <tr>\n",
       "      <th>B00DEZ4O9Q</th>\n",
       "      <td>NaN</td>\n",
       "      <td>NaN</td>\n",
       "      <td>NaN</td>\n",
       "      <td>NaN</td>\n",
       "      <td>NaN</td>\n",
       "      <td>NaN</td>\n",
       "      <td>NaN</td>\n",
       "      <td>NaN</td>\n",
       "      <td>NaN</td>\n",
       "      <td>NaN</td>\n",
       "      <td>...</td>\n",
       "      <td>NaN</td>\n",
       "      <td>NaN</td>\n",
       "      <td>NaN</td>\n",
       "      <td>NaN</td>\n",
       "      <td>NaN</td>\n",
       "      <td>NaN</td>\n",
       "      <td>NaN</td>\n",
       "      <td>NaN</td>\n",
       "      <td>NaN</td>\n",
       "      <td>NaN</td>\n",
       "    </tr>\n",
       "  </tbody>\n",
       "</table>\n",
       "<p>5 rows × 222 columns</p>\n",
       "</div>"
      ],
      "text/plain": [
       "user_id      AE2VIMKO7UFYDUU4LH46JLON3DMQ  AE3RXOZQ6OBTBWRG6C3N5ZYC4NWQ  \\\n",
       "parent_asin                                                               \n",
       "B009R09Z8W                            NaN                           NaN   \n",
       "B00C6GC9VO                            NaN                           NaN   \n",
       "B00CE4B8LU                            NaN                           NaN   \n",
       "B00CLKYSIC                            NaN                           NaN   \n",
       "B00DEZ4O9Q                            NaN                           NaN   \n",
       "\n",
       "user_id      AE5IQA2MU4A55EYTPK4MY5R62R2A  AE6BOFNBB4PIQIPQFVZPVYR2ZQHA  \\\n",
       "parent_asin                                                               \n",
       "B009R09Z8W                            NaN                           NaN   \n",
       "B00C6GC9VO                            NaN                           NaN   \n",
       "B00CE4B8LU                            NaN                           NaN   \n",
       "B00CLKYSIC                            NaN                           NaN   \n",
       "B00DEZ4O9Q                            NaN                           NaN   \n",
       "\n",
       "user_id      AE6BPIGX3OPIREID6EN6XMZUA5PQ  AE6LT7RKZ2T4NJ7NJAHLMHSKVXHA  \\\n",
       "parent_asin                                                               \n",
       "B009R09Z8W                            NaN                           NaN   \n",
       "B00C6GC9VO                            NaN                           NaN   \n",
       "B00CE4B8LU                            NaN                           NaN   \n",
       "B00CLKYSIC                            NaN                           NaN   \n",
       "B00DEZ4O9Q                            NaN                           NaN   \n",
       "\n",
       "user_id      AE73ZWLPQHFFF6NQQAJXSZBRYVKA  AE7KIPZOIJBM34G7XULNLK675JXA  \\\n",
       "parent_asin                                                               \n",
       "B009R09Z8W                            NaN                           NaN   \n",
       "B00C6GC9VO                            NaN                           NaN   \n",
       "B00CE4B8LU                            NaN                           NaN   \n",
       "B00CLKYSIC                            NaN                           NaN   \n",
       "B00DEZ4O9Q                            NaN                           NaN   \n",
       "\n",
       "user_id      AE7Q25GSRLHTETTDP46MZ5N2S3LA  AEAJ4VVMLVSZ26FS4TOEJVJDHVHA  ...  \\\n",
       "parent_asin                                                              ...   \n",
       "B009R09Z8W                            NaN                           NaN  ...   \n",
       "B00C6GC9VO                            NaN                           NaN  ...   \n",
       "B00CE4B8LU                            NaN                           NaN  ...   \n",
       "B00CLKYSIC                            NaN                           NaN  ...   \n",
       "B00DEZ4O9Q                            NaN                           NaN  ...   \n",
       "\n",
       "user_id      AHVI7N6YSQH7IMMXLMO2FCEMLMNA  AHVPCLHSCEUSA4MF2QU7JHL2NTUA  \\\n",
       "parent_asin                                                               \n",
       "B009R09Z8W                            NaN                           NaN   \n",
       "B00C6GC9VO                            NaN                           NaN   \n",
       "B00CE4B8LU                            NaN                           NaN   \n",
       "B00CLKYSIC                            NaN                           NaN   \n",
       "B00DEZ4O9Q                            NaN                           NaN   \n",
       "\n",
       "user_id      AHW5ZTDAGECVI5OQGHKRC5VAGG4A  AHWGPCCFFOHQLMGEHHFUQJPMG77A  \\\n",
       "parent_asin                                                               \n",
       "B009R09Z8W                            NaN                           NaN   \n",
       "B00C6GC9VO                            NaN                           NaN   \n",
       "B00CE4B8LU                            NaN                           NaN   \n",
       "B00CLKYSIC                            NaN                           NaN   \n",
       "B00DEZ4O9Q                            NaN                           NaN   \n",
       "\n",
       "user_id      AHX5VKX55PILNNCSUZFRHLH7FLIA  AHX7GH4OTFLIAAPK4F2CPPQJOCUQ  \\\n",
       "parent_asin                                                               \n",
       "B009R09Z8W                            NaN                           NaN   \n",
       "B00C6GC9VO                            NaN                           NaN   \n",
       "B00CE4B8LU                            NaN                           NaN   \n",
       "B00CLKYSIC                            NaN                           NaN   \n",
       "B00DEZ4O9Q                            NaN                           NaN   \n",
       "\n",
       "user_id      AHXZWTZ2JMSDZ6QNQBD35GZS4VIA  AHY75QEHC3DLIZOOYW2KNDAQ4EIQ  \\\n",
       "parent_asin                                                               \n",
       "B009R09Z8W                            NaN                           NaN   \n",
       "B00C6GC9VO                            NaN                           NaN   \n",
       "B00CE4B8LU                            NaN                           NaN   \n",
       "B00CLKYSIC                            NaN                           NaN   \n",
       "B00DEZ4O9Q                            NaN                           NaN   \n",
       "\n",
       "user_id      AHYIGWZI55BCZNQU3P5TYANO2K5Q  AHZ2B2EIN7GWE2624T46O3MYR5EA  \n",
       "parent_asin                                                              \n",
       "B009R09Z8W                            NaN                           NaN  \n",
       "B00C6GC9VO                            NaN                           NaN  \n",
       "B00CE4B8LU                            NaN                           NaN  \n",
       "B00CLKYSIC                            NaN                           NaN  \n",
       "B00DEZ4O9Q                            NaN                           NaN  \n",
       "\n",
       "[5 rows x 222 columns]"
      ]
     },
     "execution_count": 135,
     "metadata": {},
     "output_type": "execute_result"
    }
   ],
   "source": [
    "mean = np.nanmean(df_item_recommendation_pivot, axis=1)\n",
    "df_subtracted = (df_item_recommendation_pivot.T - mean).T\n",
    "df_subtracted.head()"
   ]
  },
  {
   "cell_type": "markdown",
   "metadata": {
    "id": "-aq-bFm-0OOx"
   },
   "source": [
    "Create Item similarity matrix using cosine similarity"
   ]
  },
  {
   "cell_type": "code",
   "execution_count": 136,
   "metadata": {
    "id": "4JuRDa4d0OOy"
   },
   "outputs": [],
   "source": [
    "item_correlation = 1 - pairwise_distances(df_subtracted.fillna(0), metric=\"cosine\")\n",
    "item_correlation[np.isnan(item_correlation)] = 0"
   ]
  },
  {
   "cell_type": "code",
   "execution_count": 137,
   "metadata": {
    "id": "U5rMC_gx0OOy"
   },
   "outputs": [
    {
     "data": {
      "text/plain": [
       "array([[0., 0., 0., ..., 0., 0., 0.],\n",
       "       [0., 0., 0., ..., 0., 0., 0.],\n",
       "       [0., 0., 0., ..., 0., 0., 0.],\n",
       "       ...,\n",
       "       [0., 0., 0., ..., 0., 0., 0.],\n",
       "       [0., 0., 0., ..., 0., 1., 0.],\n",
       "       [0., 0., 0., ..., 0., 0., 0.]])"
      ]
     },
     "execution_count": 137,
     "metadata": {},
     "output_type": "execute_result"
    }
   ],
   "source": [
    "item_correlation[item_correlation < 0] = 0\n",
    "item_correlation"
   ]
  },
  {
   "cell_type": "markdown",
   "metadata": {
    "id": "TUobpStI0OOy"
   },
   "source": [
    "Prediction Item-Item recommendation"
   ]
  },
  {
   "cell_type": "code",
   "execution_count": 138,
   "metadata": {
    "id": "zXP-u7rG0OOz"
   },
   "outputs": [
    {
     "data": {
      "text/html": [
       "<div>\n",
       "<style scoped>\n",
       "    .dataframe tbody tr th:only-of-type {\n",
       "        vertical-align: middle;\n",
       "    }\n",
       "\n",
       "    .dataframe tbody tr th {\n",
       "        vertical-align: top;\n",
       "    }\n",
       "\n",
       "    .dataframe thead th {\n",
       "        text-align: right;\n",
       "    }\n",
       "</style>\n",
       "<table border=\"1\" class=\"dataframe\">\n",
       "  <thead>\n",
       "    <tr style=\"text-align: right;\">\n",
       "      <th>parent_asin</th>\n",
       "      <th>B009R09Z8W</th>\n",
       "      <th>B00C6GC9VO</th>\n",
       "      <th>B00CE4B8LU</th>\n",
       "      <th>B00CLKYSIC</th>\n",
       "      <th>B00DEZ4O9Q</th>\n",
       "      <th>B00H4DL9II</th>\n",
       "      <th>B00HR53DUK</th>\n",
       "      <th>B00HXD0R2S</th>\n",
       "      <th>B00LPRHHY4</th>\n",
       "      <th>B00O972MCO</th>\n",
       "      <th>...</th>\n",
       "      <th>B0BX4BVC5J</th>\n",
       "      <th>B0BYCZ2W78</th>\n",
       "      <th>B0BYH37QQK</th>\n",
       "      <th>B0BZRRTDZH</th>\n",
       "      <th>B0C1H4ZJ11</th>\n",
       "      <th>B0C1NKM232</th>\n",
       "      <th>B0C3R8G4N8</th>\n",
       "      <th>B0C5D72QHD</th>\n",
       "      <th>B0C7CGGN6L</th>\n",
       "      <th>B0CBMHPJRQ</th>\n",
       "    </tr>\n",
       "    <tr>\n",
       "      <th>user_id</th>\n",
       "      <th></th>\n",
       "      <th></th>\n",
       "      <th></th>\n",
       "      <th></th>\n",
       "      <th></th>\n",
       "      <th></th>\n",
       "      <th></th>\n",
       "      <th></th>\n",
       "      <th></th>\n",
       "      <th></th>\n",
       "      <th></th>\n",
       "      <th></th>\n",
       "      <th></th>\n",
       "      <th></th>\n",
       "      <th></th>\n",
       "      <th></th>\n",
       "      <th></th>\n",
       "      <th></th>\n",
       "      <th></th>\n",
       "      <th></th>\n",
       "      <th></th>\n",
       "    </tr>\n",
       "  </thead>\n",
       "  <tbody>\n",
       "    <tr>\n",
       "      <th>AE2VIMKO7UFYDUU4LH46JLON3DMQ</th>\n",
       "      <td>0.0</td>\n",
       "      <td>0.0</td>\n",
       "      <td>0.0</td>\n",
       "      <td>0.0</td>\n",
       "      <td>0.0</td>\n",
       "      <td>0.0</td>\n",
       "      <td>0.0</td>\n",
       "      <td>0.0</td>\n",
       "      <td>0.0</td>\n",
       "      <td>0.0</td>\n",
       "      <td>...</td>\n",
       "      <td>0.0</td>\n",
       "      <td>0.0</td>\n",
       "      <td>0.0</td>\n",
       "      <td>0.0</td>\n",
       "      <td>0.0</td>\n",
       "      <td>0.0</td>\n",
       "      <td>0.0</td>\n",
       "      <td>0.0</td>\n",
       "      <td>0.0</td>\n",
       "      <td>0.0</td>\n",
       "    </tr>\n",
       "    <tr>\n",
       "      <th>AE3RXOZQ6OBTBWRG6C3N5ZYC4NWQ</th>\n",
       "      <td>0.0</td>\n",
       "      <td>0.0</td>\n",
       "      <td>0.0</td>\n",
       "      <td>0.0</td>\n",
       "      <td>0.0</td>\n",
       "      <td>0.0</td>\n",
       "      <td>0.0</td>\n",
       "      <td>0.0</td>\n",
       "      <td>0.0</td>\n",
       "      <td>0.0</td>\n",
       "      <td>...</td>\n",
       "      <td>0.0</td>\n",
       "      <td>0.0</td>\n",
       "      <td>0.0</td>\n",
       "      <td>0.0</td>\n",
       "      <td>0.0</td>\n",
       "      <td>0.0</td>\n",
       "      <td>0.0</td>\n",
       "      <td>0.0</td>\n",
       "      <td>0.0</td>\n",
       "      <td>0.0</td>\n",
       "    </tr>\n",
       "    <tr>\n",
       "      <th>AE5IQA2MU4A55EYTPK4MY5R62R2A</th>\n",
       "      <td>0.0</td>\n",
       "      <td>0.0</td>\n",
       "      <td>0.0</td>\n",
       "      <td>0.0</td>\n",
       "      <td>0.0</td>\n",
       "      <td>0.0</td>\n",
       "      <td>0.0</td>\n",
       "      <td>0.0</td>\n",
       "      <td>0.0</td>\n",
       "      <td>0.0</td>\n",
       "      <td>...</td>\n",
       "      <td>0.0</td>\n",
       "      <td>0.0</td>\n",
       "      <td>0.0</td>\n",
       "      <td>0.0</td>\n",
       "      <td>0.0</td>\n",
       "      <td>0.0</td>\n",
       "      <td>0.0</td>\n",
       "      <td>0.0</td>\n",
       "      <td>0.0</td>\n",
       "      <td>0.0</td>\n",
       "    </tr>\n",
       "    <tr>\n",
       "      <th>AE6BOFNBB4PIQIPQFVZPVYR2ZQHA</th>\n",
       "      <td>0.0</td>\n",
       "      <td>0.0</td>\n",
       "      <td>0.0</td>\n",
       "      <td>0.0</td>\n",
       "      <td>0.0</td>\n",
       "      <td>0.0</td>\n",
       "      <td>0.0</td>\n",
       "      <td>0.0</td>\n",
       "      <td>0.0</td>\n",
       "      <td>0.0</td>\n",
       "      <td>...</td>\n",
       "      <td>0.0</td>\n",
       "      <td>0.0</td>\n",
       "      <td>0.0</td>\n",
       "      <td>0.0</td>\n",
       "      <td>0.0</td>\n",
       "      <td>0.0</td>\n",
       "      <td>0.0</td>\n",
       "      <td>0.0</td>\n",
       "      <td>0.0</td>\n",
       "      <td>0.0</td>\n",
       "    </tr>\n",
       "    <tr>\n",
       "      <th>AE6BPIGX3OPIREID6EN6XMZUA5PQ</th>\n",
       "      <td>0.0</td>\n",
       "      <td>0.0</td>\n",
       "      <td>0.0</td>\n",
       "      <td>0.0</td>\n",
       "      <td>0.0</td>\n",
       "      <td>0.0</td>\n",
       "      <td>0.0</td>\n",
       "      <td>0.0</td>\n",
       "      <td>0.0</td>\n",
       "      <td>0.0</td>\n",
       "      <td>...</td>\n",
       "      <td>0.0</td>\n",
       "      <td>0.0</td>\n",
       "      <td>0.0</td>\n",
       "      <td>0.0</td>\n",
       "      <td>0.0</td>\n",
       "      <td>0.0</td>\n",
       "      <td>0.0</td>\n",
       "      <td>0.0</td>\n",
       "      <td>0.0</td>\n",
       "      <td>0.0</td>\n",
       "    </tr>\n",
       "  </tbody>\n",
       "</table>\n",
       "<p>5 rows × 623 columns</p>\n",
       "</div>"
      ],
      "text/plain": [
       "parent_asin                   B009R09Z8W  B00C6GC9VO  B00CE4B8LU  B00CLKYSIC  \\\n",
       "user_id                                                                        \n",
       "AE2VIMKO7UFYDUU4LH46JLON3DMQ         0.0         0.0         0.0         0.0   \n",
       "AE3RXOZQ6OBTBWRG6C3N5ZYC4NWQ         0.0         0.0         0.0         0.0   \n",
       "AE5IQA2MU4A55EYTPK4MY5R62R2A         0.0         0.0         0.0         0.0   \n",
       "AE6BOFNBB4PIQIPQFVZPVYR2ZQHA         0.0         0.0         0.0         0.0   \n",
       "AE6BPIGX3OPIREID6EN6XMZUA5PQ         0.0         0.0         0.0         0.0   \n",
       "\n",
       "parent_asin                   B00DEZ4O9Q  B00H4DL9II  B00HR53DUK  B00HXD0R2S  \\\n",
       "user_id                                                                        \n",
       "AE2VIMKO7UFYDUU4LH46JLON3DMQ         0.0         0.0         0.0         0.0   \n",
       "AE3RXOZQ6OBTBWRG6C3N5ZYC4NWQ         0.0         0.0         0.0         0.0   \n",
       "AE5IQA2MU4A55EYTPK4MY5R62R2A         0.0         0.0         0.0         0.0   \n",
       "AE6BOFNBB4PIQIPQFVZPVYR2ZQHA         0.0         0.0         0.0         0.0   \n",
       "AE6BPIGX3OPIREID6EN6XMZUA5PQ         0.0         0.0         0.0         0.0   \n",
       "\n",
       "parent_asin                   B00LPRHHY4  B00O972MCO  ...  B0BX4BVC5J  \\\n",
       "user_id                                               ...               \n",
       "AE2VIMKO7UFYDUU4LH46JLON3DMQ         0.0         0.0  ...         0.0   \n",
       "AE3RXOZQ6OBTBWRG6C3N5ZYC4NWQ         0.0         0.0  ...         0.0   \n",
       "AE5IQA2MU4A55EYTPK4MY5R62R2A         0.0         0.0  ...         0.0   \n",
       "AE6BOFNBB4PIQIPQFVZPVYR2ZQHA         0.0         0.0  ...         0.0   \n",
       "AE6BPIGX3OPIREID6EN6XMZUA5PQ         0.0         0.0  ...         0.0   \n",
       "\n",
       "parent_asin                   B0BYCZ2W78  B0BYH37QQK  B0BZRRTDZH  B0C1H4ZJ11  \\\n",
       "user_id                                                                        \n",
       "AE2VIMKO7UFYDUU4LH46JLON3DMQ         0.0         0.0         0.0         0.0   \n",
       "AE3RXOZQ6OBTBWRG6C3N5ZYC4NWQ         0.0         0.0         0.0         0.0   \n",
       "AE5IQA2MU4A55EYTPK4MY5R62R2A         0.0         0.0         0.0         0.0   \n",
       "AE6BOFNBB4PIQIPQFVZPVYR2ZQHA         0.0         0.0         0.0         0.0   \n",
       "AE6BPIGX3OPIREID6EN6XMZUA5PQ         0.0         0.0         0.0         0.0   \n",
       "\n",
       "parent_asin                   B0C1NKM232  B0C3R8G4N8  B0C5D72QHD  B0C7CGGN6L  \\\n",
       "user_id                                                                        \n",
       "AE2VIMKO7UFYDUU4LH46JLON3DMQ         0.0         0.0         0.0         0.0   \n",
       "AE3RXOZQ6OBTBWRG6C3N5ZYC4NWQ         0.0         0.0         0.0         0.0   \n",
       "AE5IQA2MU4A55EYTPK4MY5R62R2A         0.0         0.0         0.0         0.0   \n",
       "AE6BOFNBB4PIQIPQFVZPVYR2ZQHA         0.0         0.0         0.0         0.0   \n",
       "AE6BPIGX3OPIREID6EN6XMZUA5PQ         0.0         0.0         0.0         0.0   \n",
       "\n",
       "parent_asin                   B0CBMHPJRQ  \n",
       "user_id                                   \n",
       "AE2VIMKO7UFYDUU4LH46JLON3DMQ         0.0  \n",
       "AE3RXOZQ6OBTBWRG6C3N5ZYC4NWQ         0.0  \n",
       "AE5IQA2MU4A55EYTPK4MY5R62R2A         0.0  \n",
       "AE6BOFNBB4PIQIPQFVZPVYR2ZQHA         0.0  \n",
       "AE6BPIGX3OPIREID6EN6XMZUA5PQ         0.0  \n",
       "\n",
       "[5 rows x 623 columns]"
      ]
     },
     "execution_count": 138,
     "metadata": {},
     "output_type": "execute_result"
    }
   ],
   "source": [
    "item_predicted_ratings = np.dot((df_item_recommendation_pivot.fillna(0).T), item_correlation)\n",
    "item_predicted_ratings\n",
    "# filtering for the products not rated by the users\n",
    "item_final_rating = np.multiply(item_predicted_ratings, dummy_train)\n",
    "item_final_rating.head()"
   ]
  },
  {
   "cell_type": "markdown",
   "metadata": {
    "id": "rlyFWGua0OOz"
   },
   "source": [
    "Top 20 recommendations for a sample user"
   ]
  },
  {
   "cell_type": "code",
   "execution_count": 139,
   "metadata": {
    "id": "lRJwqw-j8UVy"
   },
   "outputs": [],
   "source": [
    "user_input = df_recommendation[\"user_id\"][5]\n",
    "item_recommendations = item_final_rating.loc[user_input].sort_values(ascending=False)[0:20]"
   ]
  },
  {
   "cell_type": "code",
   "execution_count": 140,
   "metadata": {
    "id": "PGkIO43Z0OO0"
   },
   "outputs": [
    {
     "data": {
      "text/html": [
       "<div>\n",
       "<style scoped>\n",
       "    .dataframe tbody tr th:only-of-type {\n",
       "        vertical-align: middle;\n",
       "    }\n",
       "\n",
       "    .dataframe tbody tr th {\n",
       "        vertical-align: top;\n",
       "    }\n",
       "\n",
       "    .dataframe thead th {\n",
       "        text-align: right;\n",
       "    }\n",
       "</style>\n",
       "<table border=\"1\" class=\"dataframe\">\n",
       "  <thead>\n",
       "    <tr style=\"text-align: right;\">\n",
       "      <th></th>\n",
       "      <th>parent_asin</th>\n",
       "      <th>similarity_score</th>\n",
       "    </tr>\n",
       "  </thead>\n",
       "  <tbody>\n",
       "    <tr>\n",
       "      <th>0</th>\n",
       "      <td>B009R09Z8W</td>\n",
       "      <td>0.0</td>\n",
       "    </tr>\n",
       "    <tr>\n",
       "      <th>1</th>\n",
       "      <td>B093H35R4V</td>\n",
       "      <td>0.0</td>\n",
       "    </tr>\n",
       "    <tr>\n",
       "      <th>2</th>\n",
       "      <td>B092QX7S11</td>\n",
       "      <td>0.0</td>\n",
       "    </tr>\n",
       "    <tr>\n",
       "      <th>3</th>\n",
       "      <td>B092V32LST</td>\n",
       "      <td>0.0</td>\n",
       "    </tr>\n",
       "    <tr>\n",
       "      <th>4</th>\n",
       "      <td>B092V3Z4K3</td>\n",
       "      <td>0.0</td>\n",
       "    </tr>\n",
       "    <tr>\n",
       "      <th>5</th>\n",
       "      <td>B092V7YV18</td>\n",
       "      <td>0.0</td>\n",
       "    </tr>\n",
       "    <tr>\n",
       "      <th>6</th>\n",
       "      <td>B0932VX738</td>\n",
       "      <td>0.0</td>\n",
       "    </tr>\n",
       "    <tr>\n",
       "      <th>7</th>\n",
       "      <td>B0936HG79P</td>\n",
       "      <td>0.0</td>\n",
       "    </tr>\n",
       "    <tr>\n",
       "      <th>8</th>\n",
       "      <td>B093DPD63S</td>\n",
       "      <td>0.0</td>\n",
       "    </tr>\n",
       "    <tr>\n",
       "      <th>9</th>\n",
       "      <td>B093P4LY24</td>\n",
       "      <td>0.0</td>\n",
       "    </tr>\n",
       "    <tr>\n",
       "      <th>10</th>\n",
       "      <td>B094VBSGYD</td>\n",
       "      <td>0.0</td>\n",
       "    </tr>\n",
       "    <tr>\n",
       "      <th>11</th>\n",
       "      <td>B093PHQBKH</td>\n",
       "      <td>0.0</td>\n",
       "    </tr>\n",
       "    <tr>\n",
       "      <th>12</th>\n",
       "      <td>B093STKLKJ</td>\n",
       "      <td>0.0</td>\n",
       "    </tr>\n",
       "    <tr>\n",
       "      <th>13</th>\n",
       "      <td>B093WJHNSJ</td>\n",
       "      <td>0.0</td>\n",
       "    </tr>\n",
       "    <tr>\n",
       "      <th>14</th>\n",
       "      <td>B0948XN6T1</td>\n",
       "      <td>0.0</td>\n",
       "    </tr>\n",
       "    <tr>\n",
       "      <th>15</th>\n",
       "      <td>B094DGG8KB</td>\n",
       "      <td>0.0</td>\n",
       "    </tr>\n",
       "    <tr>\n",
       "      <th>16</th>\n",
       "      <td>B094JR23VJ</td>\n",
       "      <td>0.0</td>\n",
       "    </tr>\n",
       "    <tr>\n",
       "      <th>17</th>\n",
       "      <td>B094NDC3S7</td>\n",
       "      <td>0.0</td>\n",
       "    </tr>\n",
       "    <tr>\n",
       "      <th>18</th>\n",
       "      <td>B092M9MB8L</td>\n",
       "      <td>0.0</td>\n",
       "    </tr>\n",
       "    <tr>\n",
       "      <th>20</th>\n",
       "      <td>B092M437N3</td>\n",
       "      <td>0.0</td>\n",
       "    </tr>\n",
       "  </tbody>\n",
       "</table>\n",
       "</div>"
      ],
      "text/plain": [
       "   parent_asin  similarity_score\n",
       "0   B009R09Z8W               0.0\n",
       "1   B093H35R4V               0.0\n",
       "2   B092QX7S11               0.0\n",
       "3   B092V32LST               0.0\n",
       "4   B092V3Z4K3               0.0\n",
       "5   B092V7YV18               0.0\n",
       "6   B0932VX738               0.0\n",
       "7   B0936HG79P               0.0\n",
       "8   B093DPD63S               0.0\n",
       "9   B093P4LY24               0.0\n",
       "10  B094VBSGYD               0.0\n",
       "11  B093PHQBKH               0.0\n",
       "12  B093STKLKJ               0.0\n",
       "13  B093WJHNSJ               0.0\n",
       "14  B0948XN6T1               0.0\n",
       "15  B094DGG8KB               0.0\n",
       "16  B094JR23VJ               0.0\n",
       "17  B094NDC3S7               0.0\n",
       "18  B092M9MB8L               0.0\n",
       "20  B092M437N3               0.0"
      ]
     },
     "execution_count": 140,
     "metadata": {},
     "output_type": "execute_result"
    }
   ],
   "source": [
    "# Show the top 20 recommended products - product id, name and similarity_score\n",
    "item_final_recommendations = pd.DataFrame(\n",
    "    {\"product_id\": item_recommendations.index, \"similarity_score\": item_recommendations}\n",
    ")\n",
    "item_final_recommendations.reset_index(drop=True)\n",
    "pd.merge(item_final_recommendations, train, on=\"parent_asin\")[\n",
    "    [\"parent_asin\", \"similarity_score\"]\n",
    "].drop_duplicates()"
   ]
  },
  {
   "cell_type": "markdown",
   "metadata": {
    "id": "AkwPdXmA0OO1"
   },
   "source": [
    "Now the prediction is done, let's do the evaluation for item - item recommendation"
   ]
  },
  {
   "cell_type": "code",
   "execution_count": 141,
   "metadata": {
    "id": "yI5d_Cmc0OO1"
   },
   "outputs": [
    {
     "name": "stdout",
     "output_type": "stream",
     "text": [
      "(24, 3)\n"
     ]
    },
    {
     "data": {
      "text/html": [
       "<div>\n",
       "<style scoped>\n",
       "    .dataframe tbody tr th:only-of-type {\n",
       "        vertical-align: middle;\n",
       "    }\n",
       "\n",
       "    .dataframe tbody tr th {\n",
       "        vertical-align: top;\n",
       "    }\n",
       "\n",
       "    .dataframe thead th {\n",
       "        text-align: right;\n",
       "    }\n",
       "</style>\n",
       "<table border=\"1\" class=\"dataframe\">\n",
       "  <thead>\n",
       "    <tr style=\"text-align: right;\">\n",
       "      <th></th>\n",
       "      <th>user_id</th>\n",
       "      <th>rating</th>\n",
       "      <th>parent_asin</th>\n",
       "    </tr>\n",
       "  </thead>\n",
       "  <tbody>\n",
       "    <tr>\n",
       "      <th>655</th>\n",
       "      <td>AH5FXVT7D47KI5FRNYUTMDJRVCVA</td>\n",
       "      <td>5</td>\n",
       "      <td>B07DY3H2XX</td>\n",
       "    </tr>\n",
       "    <tr>\n",
       "      <th>694</th>\n",
       "      <td>AHECDVJJZ7PDO434WFMRKOARM6BA</td>\n",
       "      <td>3</td>\n",
       "      <td>B07DY3H2XX</td>\n",
       "    </tr>\n",
       "    <tr>\n",
       "      <th>542</th>\n",
       "      <td>AGSU4RCPOFE6IOCQ6G4MSVQ6Z2SA</td>\n",
       "      <td>5</td>\n",
       "      <td>B08DDJP75V</td>\n",
       "    </tr>\n",
       "    <tr>\n",
       "      <th>198</th>\n",
       "      <td>AFATCMRRSNTQEQ5RWROIDOQWH2GA</td>\n",
       "      <td>5</td>\n",
       "      <td>B00DEZ4O9Q</td>\n",
       "    </tr>\n",
       "    <tr>\n",
       "      <th>593</th>\n",
       "      <td>AGV5HKOIFCE2IUEODPJOB3A5QY3A</td>\n",
       "      <td>5</td>\n",
       "      <td>B09F98ZDRW</td>\n",
       "    </tr>\n",
       "  </tbody>\n",
       "</table>\n",
       "</div>"
      ],
      "text/plain": [
       "                          user_id  rating parent_asin\n",
       "655  AH5FXVT7D47KI5FRNYUTMDJRVCVA       5  B07DY3H2XX\n",
       "694  AHECDVJJZ7PDO434WFMRKOARM6BA       3  B07DY3H2XX\n",
       "542  AGSU4RCPOFE6IOCQ6G4MSVQ6Z2SA       5  B08DDJP75V\n",
       "198  AFATCMRRSNTQEQ5RWROIDOQWH2GA       5  B00DEZ4O9Q\n",
       "593  AGV5HKOIFCE2IUEODPJOB3A5QY3A       5  B09F98ZDRW"
      ]
     },
     "execution_count": 141,
     "metadata": {},
     "output_type": "execute_result"
    }
   ],
   "source": [
    "common = test[test.parent_asin.isin(train.parent_asin)]\n",
    "print(common.shape)\n",
    "common.head(5)"
   ]
  },
  {
   "cell_type": "code",
   "execution_count": 142,
   "metadata": {
    "id": "HNwD4W690OO1"
   },
   "outputs": [],
   "source": [
    "common_item_based_matrix = common.pivot_table(\n",
    "    index=product_column, columns=user_column, values=value_column\n",
    ")"
   ]
  },
  {
   "cell_type": "code",
   "execution_count": 143,
   "metadata": {
    "id": "I6WSgWj70OO1"
   },
   "outputs": [
    {
     "data": {
      "text/html": [
       "<div>\n",
       "<style scoped>\n",
       "    .dataframe tbody tr th:only-of-type {\n",
       "        vertical-align: middle;\n",
       "    }\n",
       "\n",
       "    .dataframe tbody tr th {\n",
       "        vertical-align: top;\n",
       "    }\n",
       "\n",
       "    .dataframe thead th {\n",
       "        text-align: right;\n",
       "    }\n",
       "</style>\n",
       "<table border=\"1\" class=\"dataframe\">\n",
       "  <thead>\n",
       "    <tr style=\"text-align: right;\">\n",
       "      <th></th>\n",
       "      <th>0</th>\n",
       "      <th>1</th>\n",
       "      <th>2</th>\n",
       "      <th>3</th>\n",
       "      <th>4</th>\n",
       "      <th>5</th>\n",
       "      <th>6</th>\n",
       "      <th>7</th>\n",
       "      <th>8</th>\n",
       "      <th>9</th>\n",
       "      <th>...</th>\n",
       "      <th>613</th>\n",
       "      <th>614</th>\n",
       "      <th>615</th>\n",
       "      <th>616</th>\n",
       "      <th>617</th>\n",
       "      <th>618</th>\n",
       "      <th>619</th>\n",
       "      <th>620</th>\n",
       "      <th>621</th>\n",
       "      <th>622</th>\n",
       "    </tr>\n",
       "  </thead>\n",
       "  <tbody>\n",
       "    <tr>\n",
       "      <th>0</th>\n",
       "      <td>0.0</td>\n",
       "      <td>0.0</td>\n",
       "      <td>0.0</td>\n",
       "      <td>0.0</td>\n",
       "      <td>0.0</td>\n",
       "      <td>0.0</td>\n",
       "      <td>0.0</td>\n",
       "      <td>0.0</td>\n",
       "      <td>0.0</td>\n",
       "      <td>0.0</td>\n",
       "      <td>...</td>\n",
       "      <td>0.0</td>\n",
       "      <td>0.0</td>\n",
       "      <td>0.0</td>\n",
       "      <td>0.0</td>\n",
       "      <td>0.0</td>\n",
       "      <td>0.0</td>\n",
       "      <td>0.0</td>\n",
       "      <td>0.0</td>\n",
       "      <td>0.0</td>\n",
       "      <td>0.0</td>\n",
       "    </tr>\n",
       "  </tbody>\n",
       "</table>\n",
       "<p>1 rows × 623 columns</p>\n",
       "</div>"
      ],
      "text/plain": [
       "   0    1    2    3    4    5    6    7    8    9    ...  613  614  615  616  \\\n",
       "0  0.0  0.0  0.0  0.0  0.0  0.0  0.0  0.0  0.0  0.0  ...  0.0  0.0  0.0  0.0   \n",
       "\n",
       "   617  618  619  620  621  622  \n",
       "0  0.0  0.0  0.0  0.0  0.0  0.0  \n",
       "\n",
       "[1 rows x 623 columns]"
      ]
     },
     "execution_count": 143,
     "metadata": {},
     "output_type": "execute_result"
    }
   ],
   "source": [
    "item_correlation_df = pd.DataFrame(item_correlation)\n",
    "item_correlation_df.head(1)"
   ]
  },
  {
   "cell_type": "code",
   "execution_count": 144,
   "metadata": {
    "id": "cJOQQ3990OO2"
   },
   "outputs": [
    {
     "data": {
      "text/html": [
       "<div>\n",
       "<style scoped>\n",
       "    .dataframe tbody tr th:only-of-type {\n",
       "        vertical-align: middle;\n",
       "    }\n",
       "\n",
       "    .dataframe tbody tr th {\n",
       "        vertical-align: top;\n",
       "    }\n",
       "\n",
       "    .dataframe thead th {\n",
       "        text-align: right;\n",
       "    }\n",
       "</style>\n",
       "<table border=\"1\" class=\"dataframe\">\n",
       "  <thead>\n",
       "    <tr style=\"text-align: right;\">\n",
       "      <th></th>\n",
       "      <th>0</th>\n",
       "      <th>1</th>\n",
       "      <th>2</th>\n",
       "      <th>3</th>\n",
       "      <th>4</th>\n",
       "      <th>5</th>\n",
       "      <th>6</th>\n",
       "      <th>7</th>\n",
       "      <th>8</th>\n",
       "      <th>9</th>\n",
       "      <th>...</th>\n",
       "      <th>613</th>\n",
       "      <th>614</th>\n",
       "      <th>615</th>\n",
       "      <th>616</th>\n",
       "      <th>617</th>\n",
       "      <th>618</th>\n",
       "      <th>619</th>\n",
       "      <th>620</th>\n",
       "      <th>621</th>\n",
       "      <th>622</th>\n",
       "    </tr>\n",
       "    <tr>\n",
       "      <th>parent_asin</th>\n",
       "      <th></th>\n",
       "      <th></th>\n",
       "      <th></th>\n",
       "      <th></th>\n",
       "      <th></th>\n",
       "      <th></th>\n",
       "      <th></th>\n",
       "      <th></th>\n",
       "      <th></th>\n",
       "      <th></th>\n",
       "      <th></th>\n",
       "      <th></th>\n",
       "      <th></th>\n",
       "      <th></th>\n",
       "      <th></th>\n",
       "      <th></th>\n",
       "      <th></th>\n",
       "      <th></th>\n",
       "      <th></th>\n",
       "      <th></th>\n",
       "      <th></th>\n",
       "    </tr>\n",
       "  </thead>\n",
       "  <tbody>\n",
       "    <tr>\n",
       "      <th>B009R09Z8W</th>\n",
       "      <td>0.0</td>\n",
       "      <td>0.0</td>\n",
       "      <td>0.0</td>\n",
       "      <td>0.0</td>\n",
       "      <td>0.0</td>\n",
       "      <td>0.0</td>\n",
       "      <td>0.0</td>\n",
       "      <td>0.0</td>\n",
       "      <td>0.0</td>\n",
       "      <td>0.0</td>\n",
       "      <td>...</td>\n",
       "      <td>0.0</td>\n",
       "      <td>0.0</td>\n",
       "      <td>0.0</td>\n",
       "      <td>0.0</td>\n",
       "      <td>0.0</td>\n",
       "      <td>0.0</td>\n",
       "      <td>0.0</td>\n",
       "      <td>0.0</td>\n",
       "      <td>0.0</td>\n",
       "      <td>0.0</td>\n",
       "    </tr>\n",
       "    <tr>\n",
       "      <th>B00C6GC9VO</th>\n",
       "      <td>0.0</td>\n",
       "      <td>0.0</td>\n",
       "      <td>0.0</td>\n",
       "      <td>0.0</td>\n",
       "      <td>0.0</td>\n",
       "      <td>0.0</td>\n",
       "      <td>0.0</td>\n",
       "      <td>0.0</td>\n",
       "      <td>0.0</td>\n",
       "      <td>0.0</td>\n",
       "      <td>...</td>\n",
       "      <td>0.0</td>\n",
       "      <td>0.0</td>\n",
       "      <td>0.0</td>\n",
       "      <td>0.0</td>\n",
       "      <td>0.0</td>\n",
       "      <td>0.0</td>\n",
       "      <td>0.0</td>\n",
       "      <td>0.0</td>\n",
       "      <td>0.0</td>\n",
       "      <td>0.0</td>\n",
       "    </tr>\n",
       "    <tr>\n",
       "      <th>B00CE4B8LU</th>\n",
       "      <td>0.0</td>\n",
       "      <td>0.0</td>\n",
       "      <td>0.0</td>\n",
       "      <td>0.0</td>\n",
       "      <td>0.0</td>\n",
       "      <td>0.0</td>\n",
       "      <td>0.0</td>\n",
       "      <td>0.0</td>\n",
       "      <td>0.0</td>\n",
       "      <td>0.0</td>\n",
       "      <td>...</td>\n",
       "      <td>0.0</td>\n",
       "      <td>0.0</td>\n",
       "      <td>0.0</td>\n",
       "      <td>0.0</td>\n",
       "      <td>0.0</td>\n",
       "      <td>0.0</td>\n",
       "      <td>0.0</td>\n",
       "      <td>0.0</td>\n",
       "      <td>0.0</td>\n",
       "      <td>0.0</td>\n",
       "    </tr>\n",
       "    <tr>\n",
       "      <th>B00CLKYSIC</th>\n",
       "      <td>0.0</td>\n",
       "      <td>0.0</td>\n",
       "      <td>0.0</td>\n",
       "      <td>0.0</td>\n",
       "      <td>0.0</td>\n",
       "      <td>0.0</td>\n",
       "      <td>0.0</td>\n",
       "      <td>0.0</td>\n",
       "      <td>0.0</td>\n",
       "      <td>0.0</td>\n",
       "      <td>...</td>\n",
       "      <td>0.0</td>\n",
       "      <td>0.0</td>\n",
       "      <td>0.0</td>\n",
       "      <td>0.0</td>\n",
       "      <td>0.0</td>\n",
       "      <td>0.0</td>\n",
       "      <td>0.0</td>\n",
       "      <td>0.0</td>\n",
       "      <td>0.0</td>\n",
       "      <td>0.0</td>\n",
       "    </tr>\n",
       "    <tr>\n",
       "      <th>B00DEZ4O9Q</th>\n",
       "      <td>0.0</td>\n",
       "      <td>0.0</td>\n",
       "      <td>0.0</td>\n",
       "      <td>0.0</td>\n",
       "      <td>0.0</td>\n",
       "      <td>0.0</td>\n",
       "      <td>0.0</td>\n",
       "      <td>0.0</td>\n",
       "      <td>0.0</td>\n",
       "      <td>0.0</td>\n",
       "      <td>...</td>\n",
       "      <td>0.0</td>\n",
       "      <td>0.0</td>\n",
       "      <td>0.0</td>\n",
       "      <td>0.0</td>\n",
       "      <td>0.0</td>\n",
       "      <td>0.0</td>\n",
       "      <td>0.0</td>\n",
       "      <td>0.0</td>\n",
       "      <td>0.0</td>\n",
       "      <td>0.0</td>\n",
       "    </tr>\n",
       "  </tbody>\n",
       "</table>\n",
       "<p>5 rows × 623 columns</p>\n",
       "</div>"
      ],
      "text/plain": [
       "             0    1    2    3    4    5    6    7    8    9    ...  613  614  \\\n",
       "parent_asin                                                    ...             \n",
       "B009R09Z8W   0.0  0.0  0.0  0.0  0.0  0.0  0.0  0.0  0.0  0.0  ...  0.0  0.0   \n",
       "B00C6GC9VO   0.0  0.0  0.0  0.0  0.0  0.0  0.0  0.0  0.0  0.0  ...  0.0  0.0   \n",
       "B00CE4B8LU   0.0  0.0  0.0  0.0  0.0  0.0  0.0  0.0  0.0  0.0  ...  0.0  0.0   \n",
       "B00CLKYSIC   0.0  0.0  0.0  0.0  0.0  0.0  0.0  0.0  0.0  0.0  ...  0.0  0.0   \n",
       "B00DEZ4O9Q   0.0  0.0  0.0  0.0  0.0  0.0  0.0  0.0  0.0  0.0  ...  0.0  0.0   \n",
       "\n",
       "             615  616  617  618  619  620  621  622  \n",
       "parent_asin                                          \n",
       "B009R09Z8W   0.0  0.0  0.0  0.0  0.0  0.0  0.0  0.0  \n",
       "B00C6GC9VO   0.0  0.0  0.0  0.0  0.0  0.0  0.0  0.0  \n",
       "B00CE4B8LU   0.0  0.0  0.0  0.0  0.0  0.0  0.0  0.0  \n",
       "B00CLKYSIC   0.0  0.0  0.0  0.0  0.0  0.0  0.0  0.0  \n",
       "B00DEZ4O9Q   0.0  0.0  0.0  0.0  0.0  0.0  0.0  0.0  \n",
       "\n",
       "[5 rows x 623 columns]"
      ]
     },
     "execution_count": 144,
     "metadata": {},
     "output_type": "execute_result"
    }
   ],
   "source": [
    "item_correlation_df[product_column] = df_subtracted.index\n",
    "item_correlation_df.set_index(product_column, inplace=True)\n",
    "item_correlation_df.head()"
   ]
  },
  {
   "cell_type": "code",
   "execution_count": 145,
   "metadata": {
    "id": "2J3BwbEz0OO2"
   },
   "outputs": [
    {
     "data": {
      "text/html": [
       "<div>\n",
       "<style scoped>\n",
       "    .dataframe tbody tr th:only-of-type {\n",
       "        vertical-align: middle;\n",
       "    }\n",
       "\n",
       "    .dataframe tbody tr th {\n",
       "        vertical-align: top;\n",
       "    }\n",
       "\n",
       "    .dataframe thead th {\n",
       "        text-align: right;\n",
       "    }\n",
       "</style>\n",
       "<table border=\"1\" class=\"dataframe\">\n",
       "  <thead>\n",
       "    <tr style=\"text-align: right;\">\n",
       "      <th>user_id</th>\n",
       "      <th>AE2VIMKO7UFYDUU4LH46JLON3DMQ</th>\n",
       "      <th>AE3RXOZQ6OBTBWRG6C3N5ZYC4NWQ</th>\n",
       "      <th>AE5IQA2MU4A55EYTPK4MY5R62R2A</th>\n",
       "      <th>AE6BOFNBB4PIQIPQFVZPVYR2ZQHA</th>\n",
       "      <th>AE6BPIGX3OPIREID6EN6XMZUA5PQ</th>\n",
       "      <th>AE6LT7RKZ2T4NJ7NJAHLMHSKVXHA</th>\n",
       "      <th>AE73ZWLPQHFFF6NQQAJXSZBRYVKA</th>\n",
       "      <th>AE7KIPZOIJBM34G7XULNLK675JXA</th>\n",
       "      <th>AE7Q25GSRLHTETTDP46MZ5N2S3LA</th>\n",
       "      <th>AEAJ4VVMLVSZ26FS4TOEJVJDHVHA</th>\n",
       "      <th>...</th>\n",
       "      <th>AHVI7N6YSQH7IMMXLMO2FCEMLMNA</th>\n",
       "      <th>AHVPCLHSCEUSA4MF2QU7JHL2NTUA</th>\n",
       "      <th>AHW5ZTDAGECVI5OQGHKRC5VAGG4A</th>\n",
       "      <th>AHWGPCCFFOHQLMGEHHFUQJPMG77A</th>\n",
       "      <th>AHX5VKX55PILNNCSUZFRHLH7FLIA</th>\n",
       "      <th>AHX7GH4OTFLIAAPK4F2CPPQJOCUQ</th>\n",
       "      <th>AHXZWTZ2JMSDZ6QNQBD35GZS4VIA</th>\n",
       "      <th>AHY75QEHC3DLIZOOYW2KNDAQ4EIQ</th>\n",
       "      <th>AHYIGWZI55BCZNQU3P5TYANO2K5Q</th>\n",
       "      <th>AHZ2B2EIN7GWE2624T46O3MYR5EA</th>\n",
       "    </tr>\n",
       "    <tr>\n",
       "      <th>parent_asin</th>\n",
       "      <th></th>\n",
       "      <th></th>\n",
       "      <th></th>\n",
       "      <th></th>\n",
       "      <th></th>\n",
       "      <th></th>\n",
       "      <th></th>\n",
       "      <th></th>\n",
       "      <th></th>\n",
       "      <th></th>\n",
       "      <th></th>\n",
       "      <th></th>\n",
       "      <th></th>\n",
       "      <th></th>\n",
       "      <th></th>\n",
       "      <th></th>\n",
       "      <th></th>\n",
       "      <th></th>\n",
       "      <th></th>\n",
       "      <th></th>\n",
       "      <th></th>\n",
       "    </tr>\n",
       "  </thead>\n",
       "  <tbody>\n",
       "    <tr>\n",
       "      <th>B009R09Z8W</th>\n",
       "      <td>NaN</td>\n",
       "      <td>NaN</td>\n",
       "      <td>NaN</td>\n",
       "      <td>NaN</td>\n",
       "      <td>NaN</td>\n",
       "      <td>NaN</td>\n",
       "      <td>NaN</td>\n",
       "      <td>NaN</td>\n",
       "      <td>NaN</td>\n",
       "      <td>NaN</td>\n",
       "      <td>...</td>\n",
       "      <td>NaN</td>\n",
       "      <td>NaN</td>\n",
       "      <td>NaN</td>\n",
       "      <td>NaN</td>\n",
       "      <td>NaN</td>\n",
       "      <td>NaN</td>\n",
       "      <td>NaN</td>\n",
       "      <td>NaN</td>\n",
       "      <td>NaN</td>\n",
       "      <td>NaN</td>\n",
       "    </tr>\n",
       "    <tr>\n",
       "      <th>B00C6GC9VO</th>\n",
       "      <td>NaN</td>\n",
       "      <td>NaN</td>\n",
       "      <td>NaN</td>\n",
       "      <td>NaN</td>\n",
       "      <td>NaN</td>\n",
       "      <td>NaN</td>\n",
       "      <td>NaN</td>\n",
       "      <td>NaN</td>\n",
       "      <td>NaN</td>\n",
       "      <td>NaN</td>\n",
       "      <td>...</td>\n",
       "      <td>NaN</td>\n",
       "      <td>NaN</td>\n",
       "      <td>NaN</td>\n",
       "      <td>NaN</td>\n",
       "      <td>NaN</td>\n",
       "      <td>NaN</td>\n",
       "      <td>NaN</td>\n",
       "      <td>NaN</td>\n",
       "      <td>NaN</td>\n",
       "      <td>NaN</td>\n",
       "    </tr>\n",
       "    <tr>\n",
       "      <th>B00CE4B8LU</th>\n",
       "      <td>NaN</td>\n",
       "      <td>NaN</td>\n",
       "      <td>NaN</td>\n",
       "      <td>NaN</td>\n",
       "      <td>NaN</td>\n",
       "      <td>NaN</td>\n",
       "      <td>NaN</td>\n",
       "      <td>NaN</td>\n",
       "      <td>NaN</td>\n",
       "      <td>NaN</td>\n",
       "      <td>...</td>\n",
       "      <td>NaN</td>\n",
       "      <td>NaN</td>\n",
       "      <td>NaN</td>\n",
       "      <td>NaN</td>\n",
       "      <td>NaN</td>\n",
       "      <td>NaN</td>\n",
       "      <td>NaN</td>\n",
       "      <td>NaN</td>\n",
       "      <td>NaN</td>\n",
       "      <td>NaN</td>\n",
       "    </tr>\n",
       "    <tr>\n",
       "      <th>B00CLKYSIC</th>\n",
       "      <td>NaN</td>\n",
       "      <td>NaN</td>\n",
       "      <td>NaN</td>\n",
       "      <td>NaN</td>\n",
       "      <td>NaN</td>\n",
       "      <td>NaN</td>\n",
       "      <td>NaN</td>\n",
       "      <td>NaN</td>\n",
       "      <td>NaN</td>\n",
       "      <td>NaN</td>\n",
       "      <td>...</td>\n",
       "      <td>NaN</td>\n",
       "      <td>NaN</td>\n",
       "      <td>NaN</td>\n",
       "      <td>NaN</td>\n",
       "      <td>NaN</td>\n",
       "      <td>NaN</td>\n",
       "      <td>NaN</td>\n",
       "      <td>NaN</td>\n",
       "      <td>NaN</td>\n",
       "      <td>NaN</td>\n",
       "    </tr>\n",
       "    <tr>\n",
       "      <th>B00DEZ4O9Q</th>\n",
       "      <td>NaN</td>\n",
       "      <td>NaN</td>\n",
       "      <td>NaN</td>\n",
       "      <td>NaN</td>\n",
       "      <td>NaN</td>\n",
       "      <td>NaN</td>\n",
       "      <td>NaN</td>\n",
       "      <td>NaN</td>\n",
       "      <td>NaN</td>\n",
       "      <td>NaN</td>\n",
       "      <td>...</td>\n",
       "      <td>NaN</td>\n",
       "      <td>NaN</td>\n",
       "      <td>NaN</td>\n",
       "      <td>NaN</td>\n",
       "      <td>NaN</td>\n",
       "      <td>NaN</td>\n",
       "      <td>NaN</td>\n",
       "      <td>NaN</td>\n",
       "      <td>NaN</td>\n",
       "      <td>NaN</td>\n",
       "    </tr>\n",
       "    <tr>\n",
       "      <th>...</th>\n",
       "      <td>...</td>\n",
       "      <td>...</td>\n",
       "      <td>...</td>\n",
       "      <td>...</td>\n",
       "      <td>...</td>\n",
       "      <td>...</td>\n",
       "      <td>...</td>\n",
       "      <td>...</td>\n",
       "      <td>...</td>\n",
       "      <td>...</td>\n",
       "      <td>...</td>\n",
       "      <td>...</td>\n",
       "      <td>...</td>\n",
       "      <td>...</td>\n",
       "      <td>...</td>\n",
       "      <td>...</td>\n",
       "      <td>...</td>\n",
       "      <td>...</td>\n",
       "      <td>...</td>\n",
       "      <td>...</td>\n",
       "      <td>...</td>\n",
       "    </tr>\n",
       "    <tr>\n",
       "      <th>B0C1NKM232</th>\n",
       "      <td>NaN</td>\n",
       "      <td>NaN</td>\n",
       "      <td>NaN</td>\n",
       "      <td>NaN</td>\n",
       "      <td>NaN</td>\n",
       "      <td>NaN</td>\n",
       "      <td>NaN</td>\n",
       "      <td>NaN</td>\n",
       "      <td>NaN</td>\n",
       "      <td>NaN</td>\n",
       "      <td>...</td>\n",
       "      <td>NaN</td>\n",
       "      <td>NaN</td>\n",
       "      <td>NaN</td>\n",
       "      <td>NaN</td>\n",
       "      <td>NaN</td>\n",
       "      <td>NaN</td>\n",
       "      <td>NaN</td>\n",
       "      <td>NaN</td>\n",
       "      <td>NaN</td>\n",
       "      <td>NaN</td>\n",
       "    </tr>\n",
       "    <tr>\n",
       "      <th>B0C3R8G4N8</th>\n",
       "      <td>NaN</td>\n",
       "      <td>NaN</td>\n",
       "      <td>NaN</td>\n",
       "      <td>NaN</td>\n",
       "      <td>NaN</td>\n",
       "      <td>NaN</td>\n",
       "      <td>NaN</td>\n",
       "      <td>NaN</td>\n",
       "      <td>NaN</td>\n",
       "      <td>NaN</td>\n",
       "      <td>...</td>\n",
       "      <td>NaN</td>\n",
       "      <td>NaN</td>\n",
       "      <td>NaN</td>\n",
       "      <td>NaN</td>\n",
       "      <td>NaN</td>\n",
       "      <td>NaN</td>\n",
       "      <td>NaN</td>\n",
       "      <td>NaN</td>\n",
       "      <td>NaN</td>\n",
       "      <td>NaN</td>\n",
       "    </tr>\n",
       "    <tr>\n",
       "      <th>B0C5D72QHD</th>\n",
       "      <td>NaN</td>\n",
       "      <td>NaN</td>\n",
       "      <td>NaN</td>\n",
       "      <td>NaN</td>\n",
       "      <td>NaN</td>\n",
       "      <td>NaN</td>\n",
       "      <td>NaN</td>\n",
       "      <td>NaN</td>\n",
       "      <td>NaN</td>\n",
       "      <td>NaN</td>\n",
       "      <td>...</td>\n",
       "      <td>NaN</td>\n",
       "      <td>NaN</td>\n",
       "      <td>NaN</td>\n",
       "      <td>NaN</td>\n",
       "      <td>NaN</td>\n",
       "      <td>NaN</td>\n",
       "      <td>NaN</td>\n",
       "      <td>NaN</td>\n",
       "      <td>NaN</td>\n",
       "      <td>NaN</td>\n",
       "    </tr>\n",
       "    <tr>\n",
       "      <th>B0C7CGGN6L</th>\n",
       "      <td>NaN</td>\n",
       "      <td>NaN</td>\n",
       "      <td>NaN</td>\n",
       "      <td>NaN</td>\n",
       "      <td>NaN</td>\n",
       "      <td>NaN</td>\n",
       "      <td>NaN</td>\n",
       "      <td>NaN</td>\n",
       "      <td>NaN</td>\n",
       "      <td>NaN</td>\n",
       "      <td>...</td>\n",
       "      <td>NaN</td>\n",
       "      <td>NaN</td>\n",
       "      <td>NaN</td>\n",
       "      <td>NaN</td>\n",
       "      <td>NaN</td>\n",
       "      <td>NaN</td>\n",
       "      <td>NaN</td>\n",
       "      <td>NaN</td>\n",
       "      <td>NaN</td>\n",
       "      <td>NaN</td>\n",
       "    </tr>\n",
       "    <tr>\n",
       "      <th>B0CBMHPJRQ</th>\n",
       "      <td>NaN</td>\n",
       "      <td>NaN</td>\n",
       "      <td>NaN</td>\n",
       "      <td>NaN</td>\n",
       "      <td>NaN</td>\n",
       "      <td>NaN</td>\n",
       "      <td>NaN</td>\n",
       "      <td>NaN</td>\n",
       "      <td>NaN</td>\n",
       "      <td>NaN</td>\n",
       "      <td>...</td>\n",
       "      <td>NaN</td>\n",
       "      <td>NaN</td>\n",
       "      <td>NaN</td>\n",
       "      <td>NaN</td>\n",
       "      <td>NaN</td>\n",
       "      <td>NaN</td>\n",
       "      <td>NaN</td>\n",
       "      <td>NaN</td>\n",
       "      <td>NaN</td>\n",
       "      <td>NaN</td>\n",
       "    </tr>\n",
       "  </tbody>\n",
       "</table>\n",
       "<p>623 rows × 222 columns</p>\n",
       "</div>"
      ],
      "text/plain": [
       "user_id      AE2VIMKO7UFYDUU4LH46JLON3DMQ  AE3RXOZQ6OBTBWRG6C3N5ZYC4NWQ  \\\n",
       "parent_asin                                                               \n",
       "B009R09Z8W                            NaN                           NaN   \n",
       "B00C6GC9VO                            NaN                           NaN   \n",
       "B00CE4B8LU                            NaN                           NaN   \n",
       "B00CLKYSIC                            NaN                           NaN   \n",
       "B00DEZ4O9Q                            NaN                           NaN   \n",
       "...                                   ...                           ...   \n",
       "B0C1NKM232                            NaN                           NaN   \n",
       "B0C3R8G4N8                            NaN                           NaN   \n",
       "B0C5D72QHD                            NaN                           NaN   \n",
       "B0C7CGGN6L                            NaN                           NaN   \n",
       "B0CBMHPJRQ                            NaN                           NaN   \n",
       "\n",
       "user_id      AE5IQA2MU4A55EYTPK4MY5R62R2A  AE6BOFNBB4PIQIPQFVZPVYR2ZQHA  \\\n",
       "parent_asin                                                               \n",
       "B009R09Z8W                            NaN                           NaN   \n",
       "B00C6GC9VO                            NaN                           NaN   \n",
       "B00CE4B8LU                            NaN                           NaN   \n",
       "B00CLKYSIC                            NaN                           NaN   \n",
       "B00DEZ4O9Q                            NaN                           NaN   \n",
       "...                                   ...                           ...   \n",
       "B0C1NKM232                            NaN                           NaN   \n",
       "B0C3R8G4N8                            NaN                           NaN   \n",
       "B0C5D72QHD                            NaN                           NaN   \n",
       "B0C7CGGN6L                            NaN                           NaN   \n",
       "B0CBMHPJRQ                            NaN                           NaN   \n",
       "\n",
       "user_id      AE6BPIGX3OPIREID6EN6XMZUA5PQ  AE6LT7RKZ2T4NJ7NJAHLMHSKVXHA  \\\n",
       "parent_asin                                                               \n",
       "B009R09Z8W                            NaN                           NaN   \n",
       "B00C6GC9VO                            NaN                           NaN   \n",
       "B00CE4B8LU                            NaN                           NaN   \n",
       "B00CLKYSIC                            NaN                           NaN   \n",
       "B00DEZ4O9Q                            NaN                           NaN   \n",
       "...                                   ...                           ...   \n",
       "B0C1NKM232                            NaN                           NaN   \n",
       "B0C3R8G4N8                            NaN                           NaN   \n",
       "B0C5D72QHD                            NaN                           NaN   \n",
       "B0C7CGGN6L                            NaN                           NaN   \n",
       "B0CBMHPJRQ                            NaN                           NaN   \n",
       "\n",
       "user_id      AE73ZWLPQHFFF6NQQAJXSZBRYVKA  AE7KIPZOIJBM34G7XULNLK675JXA  \\\n",
       "parent_asin                                                               \n",
       "B009R09Z8W                            NaN                           NaN   \n",
       "B00C6GC9VO                            NaN                           NaN   \n",
       "B00CE4B8LU                            NaN                           NaN   \n",
       "B00CLKYSIC                            NaN                           NaN   \n",
       "B00DEZ4O9Q                            NaN                           NaN   \n",
       "...                                   ...                           ...   \n",
       "B0C1NKM232                            NaN                           NaN   \n",
       "B0C3R8G4N8                            NaN                           NaN   \n",
       "B0C5D72QHD                            NaN                           NaN   \n",
       "B0C7CGGN6L                            NaN                           NaN   \n",
       "B0CBMHPJRQ                            NaN                           NaN   \n",
       "\n",
       "user_id      AE7Q25GSRLHTETTDP46MZ5N2S3LA  AEAJ4VVMLVSZ26FS4TOEJVJDHVHA  ...  \\\n",
       "parent_asin                                                              ...   \n",
       "B009R09Z8W                            NaN                           NaN  ...   \n",
       "B00C6GC9VO                            NaN                           NaN  ...   \n",
       "B00CE4B8LU                            NaN                           NaN  ...   \n",
       "B00CLKYSIC                            NaN                           NaN  ...   \n",
       "B00DEZ4O9Q                            NaN                           NaN  ...   \n",
       "...                                   ...                           ...  ...   \n",
       "B0C1NKM232                            NaN                           NaN  ...   \n",
       "B0C3R8G4N8                            NaN                           NaN  ...   \n",
       "B0C5D72QHD                            NaN                           NaN  ...   \n",
       "B0C7CGGN6L                            NaN                           NaN  ...   \n",
       "B0CBMHPJRQ                            NaN                           NaN  ...   \n",
       "\n",
       "user_id      AHVI7N6YSQH7IMMXLMO2FCEMLMNA  AHVPCLHSCEUSA4MF2QU7JHL2NTUA  \\\n",
       "parent_asin                                                               \n",
       "B009R09Z8W                            NaN                           NaN   \n",
       "B00C6GC9VO                            NaN                           NaN   \n",
       "B00CE4B8LU                            NaN                           NaN   \n",
       "B00CLKYSIC                            NaN                           NaN   \n",
       "B00DEZ4O9Q                            NaN                           NaN   \n",
       "...                                   ...                           ...   \n",
       "B0C1NKM232                            NaN                           NaN   \n",
       "B0C3R8G4N8                            NaN                           NaN   \n",
       "B0C5D72QHD                            NaN                           NaN   \n",
       "B0C7CGGN6L                            NaN                           NaN   \n",
       "B0CBMHPJRQ                            NaN                           NaN   \n",
       "\n",
       "user_id      AHW5ZTDAGECVI5OQGHKRC5VAGG4A  AHWGPCCFFOHQLMGEHHFUQJPMG77A  \\\n",
       "parent_asin                                                               \n",
       "B009R09Z8W                            NaN                           NaN   \n",
       "B00C6GC9VO                            NaN                           NaN   \n",
       "B00CE4B8LU                            NaN                           NaN   \n",
       "B00CLKYSIC                            NaN                           NaN   \n",
       "B00DEZ4O9Q                            NaN                           NaN   \n",
       "...                                   ...                           ...   \n",
       "B0C1NKM232                            NaN                           NaN   \n",
       "B0C3R8G4N8                            NaN                           NaN   \n",
       "B0C5D72QHD                            NaN                           NaN   \n",
       "B0C7CGGN6L                            NaN                           NaN   \n",
       "B0CBMHPJRQ                            NaN                           NaN   \n",
       "\n",
       "user_id      AHX5VKX55PILNNCSUZFRHLH7FLIA  AHX7GH4OTFLIAAPK4F2CPPQJOCUQ  \\\n",
       "parent_asin                                                               \n",
       "B009R09Z8W                            NaN                           NaN   \n",
       "B00C6GC9VO                            NaN                           NaN   \n",
       "B00CE4B8LU                            NaN                           NaN   \n",
       "B00CLKYSIC                            NaN                           NaN   \n",
       "B00DEZ4O9Q                            NaN                           NaN   \n",
       "...                                   ...                           ...   \n",
       "B0C1NKM232                            NaN                           NaN   \n",
       "B0C3R8G4N8                            NaN                           NaN   \n",
       "B0C5D72QHD                            NaN                           NaN   \n",
       "B0C7CGGN6L                            NaN                           NaN   \n",
       "B0CBMHPJRQ                            NaN                           NaN   \n",
       "\n",
       "user_id      AHXZWTZ2JMSDZ6QNQBD35GZS4VIA  AHY75QEHC3DLIZOOYW2KNDAQ4EIQ  \\\n",
       "parent_asin                                                               \n",
       "B009R09Z8W                            NaN                           NaN   \n",
       "B00C6GC9VO                            NaN                           NaN   \n",
       "B00CE4B8LU                            NaN                           NaN   \n",
       "B00CLKYSIC                            NaN                           NaN   \n",
       "B00DEZ4O9Q                            NaN                           NaN   \n",
       "...                                   ...                           ...   \n",
       "B0C1NKM232                            NaN                           NaN   \n",
       "B0C3R8G4N8                            NaN                           NaN   \n",
       "B0C5D72QHD                            NaN                           NaN   \n",
       "B0C7CGGN6L                            NaN                           NaN   \n",
       "B0CBMHPJRQ                            NaN                           NaN   \n",
       "\n",
       "user_id      AHYIGWZI55BCZNQU3P5TYANO2K5Q  AHZ2B2EIN7GWE2624T46O3MYR5EA  \n",
       "parent_asin                                                              \n",
       "B009R09Z8W                            NaN                           NaN  \n",
       "B00C6GC9VO                            NaN                           NaN  \n",
       "B00CE4B8LU                            NaN                           NaN  \n",
       "B00CLKYSIC                            NaN                           NaN  \n",
       "B00DEZ4O9Q                            NaN                           NaN  \n",
       "...                                   ...                           ...  \n",
       "B0C1NKM232                            NaN                           NaN  \n",
       "B0C3R8G4N8                            NaN                           NaN  \n",
       "B0C5D72QHD                            NaN                           NaN  \n",
       "B0C7CGGN6L                            NaN                           NaN  \n",
       "B0CBMHPJRQ                            NaN                           NaN  \n",
       "\n",
       "[623 rows x 222 columns]"
      ]
     },
     "execution_count": 145,
     "metadata": {},
     "output_type": "execute_result"
    }
   ],
   "source": [
    "list_name = common.parent_asin.tolist()\n",
    "item_correlation_df.columns = df_subtracted.index.tolist()\n",
    "# create a user correlation matrix with the list of common users in train and test by aligning the pivot matrix index\n",
    "item_correlation_df_1 = item_correlation_df[item_correlation_df.index.isin(list_name)]\n",
    "item_correlation_df_2 = item_correlation_df_1.T[item_correlation_df_1.T.index.isin(list_name)]\n",
    "# create correlations 3 with transpose of 2\n",
    "item_correlation_df_3 = item_correlation_df_2.T\n",
    "df_subtracted"
   ]
  },
  {
   "cell_type": "markdown",
   "metadata": {
    "id": "_GeAET4b0OO2"
   },
   "source": [
    "Mark the correlation value with 0 for the negative correlations"
   ]
  },
  {
   "cell_type": "code",
   "execution_count": null,
   "metadata": {
    "id": "PPJvaO_e0OO2"
   },
   "outputs": [],
   "source": [
    "item_correlation_df_3[item_correlation_df_3 < 0] = 0\n",
    "# get the recommendations by doing a dot product of correlations and ratings\n",
    "common_item_predicted_ratings = np.dot(item_correlation_df_3, common_item_based_matrix.fillna(0))\n",
    "print(common_item_predicted_ratings)"
   ]
  },
  {
   "cell_type": "markdown",
   "metadata": {
    "id": "qjNLlfGG0OO2"
   },
   "source": [
    "Create a dummy test dataset with the common users and create a pivot matrix of the same"
   ]
  },
  {
   "cell_type": "code",
   "execution_count": null,
   "metadata": {
    "id": "QZ0Hkvxk0OO2"
   },
   "outputs": [],
   "source": [
    "dummy_test = common.copy()\n",
    "dummy_test[value_column] = dummy_test[value_column].apply(lambda x: 1 if x >= 1 else 0)\n",
    "dummy_test = pd.pivot_table(\n",
    "    dummy_test, index=product_column, columns=user_column, values=value_column\n",
    ").fillna(0)\n",
    "# get the final evaluation for the products not rated by the users in the test set\n",
    "common_item_predicted_ratings = np.multiply(common_item_predicted_ratings, dummy_test)\n",
    "common_ = pd.pivot_table(common, index=product_column, columns=user_column, values=value_column)"
   ]
  },
  {
   "cell_type": "markdown",
   "metadata": {
    "id": "zAuJkCfn0OO6"
   },
   "source": [
    "Calculate RMSE from the item-item evaluation"
   ]
  },
  {
   "cell_type": "code",
   "execution_count": null,
   "metadata": {
    "id": "kyCoI1180OO7"
   },
   "outputs": [],
   "source": [
    "X = common_item_predicted_ratings.copy()\n",
    "X = X[X > 0]\n",
    "scaler = MinMaxScaler(feature_range=(1, 5))\n",
    "scaler.fit(X)\n",
    "y = (scaler.transform(X))\n",
    "# Finding total non-NaN value\n",
    "total_non_nan = np.count_nonzero(~np.isnan(y))\n",
    "item_rmse = (sum(sum((common_ - y) ** 2)) / total_non_nan) ** 0.5\n",
    "# print the final rmse value\n",
    "print(item_rmse)"
   ]
  },
  {
   "cell_type": "markdown",
   "metadata": {
    "id": "s2Wf_j9H0OO7"
   },
   "source": [
    "##### Recommendation Model selection"
   ]
  },
  {
   "cell_type": "code",
   "execution_count": null,
   "metadata": {
    "id": "GCqfA6FM0OO8"
   },
   "outputs": [],
   "source": [
    "recommendation_results = pd.DataFrame({\"Recommendation Method\": ['User-Based', 'Item-Based'],\n",
    "              \"Evaluation Metric(RMSE)\" : [user_rmse, item_rmse]})\n",
    "print(recommendation_results)"
   ]
  },
  {
   "cell_type": "markdown",
   "metadata": {
    "id": "bD0QCrsQ0OO8"
   },
   "source": [
    "RMSE for User-User based recommendation method is almost equal to Item-Item, hence we will use both the User based and Item based collaborative filtering for building the Hybrid Recommendation model."
   ]
  },
  {
   "cell_type": "markdown",
   "metadata": {
    "id": "Z8X7bvyX8UV1"
   },
   "source": [
    "Saving the model"
   ]
  },
  {
   "cell_type": "code",
   "execution_count": null,
   "metadata": {
    "id": "1MJ_Qnw68UV1"
   },
   "outputs": [],
   "source": [
    "# Pickle saved files directory\n",
    "ML_MODELS_DIRECTORY = \"model_files/\""
   ]
  },
  {
   "cell_type": "code",
   "execution_count": null,
   "metadata": {
    "id": "7rQHY6u-8UV1"
   },
   "outputs": [],
   "source": [
    "def save_model(model, filename):\n",
    "    file_path = ML_MODELS_DIRECTORY + filename\n",
    "    pickle.dump(model, open(file_path, \"wb\"))\n",
    "    print(\"Recommendation model saved,\", file_path)"
   ]
  },
  {
   "cell_type": "code",
   "execution_count": null,
   "metadata": {
    "id": "WfeCof8l0OO8"
   },
   "outputs": [],
   "source": [
    "# save the final user-user based collaborative recommendation model\n",
    "RECOMMENDATION_MODEL = \"user-based-recommendation-model.pkl\"\n",
    "save_model(user_final_rating, RECOMMENDATION_MODEL)"
   ]
  },
  {
   "cell_type": "code",
   "execution_count": null,
   "metadata": {
    "id": "d_SV33bWeOpH"
   },
   "outputs": [],
   "source": [
    "# save the final item-item based collaborative recommendation model\n",
    "RECOMMENDATION_MODEL = \"item-based-recommendation-model.pkl\"\n",
    "save_model(item_final_rating, RECOMMENDATION_MODEL)"
   ]
  },
  {
   "cell_type": "code",
   "execution_count": null,
   "metadata": {
    "id": "-ddF0kh48UV1"
   },
   "outputs": [],
   "source": [
    "print(\"Hybrid Recommendation Model with Sentiment Analysis completed\")"
   ]
  }
 ],
 "metadata": {
  "accelerator": "TPU",
  "colab": {
   "gpuType": "V28",
   "machine_shape": "hm",
   "provenance": [
    {
     "file_id": "1PKw9bJ--A_vBOemKbScgrFG3Re_2nwcV",
     "timestamp": 1707835445852
    }
   ]
  },
  "kernelspec": {
   "display_name": "Python 3",
   "name": "python3"
  },
  "language_info": {
   "codemirror_mode": {
    "name": "ipython",
    "version": 3
   },
   "file_extension": ".py",
   "mimetype": "text/x-python",
   "name": "python",
   "nbconvert_exporter": "python",
   "pygments_lexer": "ipython3",
   "version": "3.11.2"
  }
 },
 "nbformat": 4,
 "nbformat_minor": 0
}
